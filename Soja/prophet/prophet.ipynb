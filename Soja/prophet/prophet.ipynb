{
  "cells": [
    {
      "cell_type": "markdown",
      "metadata": {
        "colab_type": "text",
        "id": "view-in-github"
      },
      "source": [
        "<a href=\"https://colab.research.google.com/github/fAikoH-dot/TCC-v1/blob/main/prophet/prophet.ipynb\" target=\"_parent\"><img src=\"https://colab.research.google.com/assets/colab-badge.svg\" alt=\"Open In Colab\"/></a>"
      ]
    },
    {
      "cell_type": "code",
      "execution_count": 20,
      "metadata": {
        "colab": {
          "base_uri": "https://localhost:8080/"
        },
        "id": "rqQLtK6uHFh-",
        "outputId": "924d102a-e884-4b64-ec82-ed9c50a7827a"
      },
      "outputs": [],
      "source": [
        "# !pip install prophet"
      ]
    },
    {
      "cell_type": "code",
      "execution_count": 21,
      "metadata": {
        "colab": {
          "base_uri": "https://localhost:8080/"
        },
        "id": "rYJ5owzXQ-KO",
        "outputId": "04252f3b-76cb-4bff-9fbb-32f1e8066af2"
      },
      "outputs": [],
      "source": [
        "# %pip install python-bcb"
      ]
    },
    {
      "cell_type": "code",
      "execution_count": 22,
      "metadata": {
        "id": "AGq222POG06e"
      },
      "outputs": [],
      "source": [
        "import pandas as pd\n",
        "from prophet import Prophet\n",
        "import matplotlib.pyplot as plt\n",
        "\n",
        "from sklearn.metrics import r2_score\n",
        "from sklearn.metrics import mean_absolute_error, mean_absolute_percentage_error, root_mean_squared_error"
      ]
    },
    {
      "cell_type": "code",
      "execution_count": 23,
      "metadata": {
        "colab": {
          "base_uri": "https://localhost:8080/",
          "height": 206
        },
        "id": "V6NW13dOG57W",
        "outputId": "9672f481-45c6-4d39-ca0c-3e5d80dabd1f"
      },
      "outputs": [
        {
          "data": {
            "text/html": [
              "<div>\n",
              "<style scoped>\n",
              "    .dataframe tbody tr th:only-of-type {\n",
              "        vertical-align: middle;\n",
              "    }\n",
              "\n",
              "    .dataframe tbody tr th {\n",
              "        vertical-align: top;\n",
              "    }\n",
              "\n",
              "    .dataframe thead th {\n",
              "        text-align: right;\n",
              "    }\n",
              "</style>\n",
              "<table border=\"1\" class=\"dataframe\">\n",
              "  <thead>\n",
              "    <tr style=\"text-align: right;\">\n",
              "      <th></th>\n",
              "      <th>ds</th>\n",
              "      <th>Cultivo</th>\n",
              "      <th>y</th>\n",
              "      <th>País</th>\n",
              "      <th>Id</th>\n",
              "      <th>Último</th>\n",
              "      <th>Abertura</th>\n",
              "      <th>Máxima</th>\n",
              "      <th>Mínima</th>\n",
              "    </tr>\n",
              "  </thead>\n",
              "  <tbody>\n",
              "    <tr>\n",
              "      <th>0</th>\n",
              "      <td>2004-03-01</td>\n",
              "      <td>Soja</td>\n",
              "      <td>45.3777</td>\n",
              "      <td>50.0455</td>\n",
              "      <td>0</td>\n",
              "      <td>1.034</td>\n",
              "      <td>1.000</td>\n",
              "      <td>1.064</td>\n",
              "      <td>92600.0</td>\n",
              "    </tr>\n",
              "    <tr>\n",
              "      <th>1</th>\n",
              "      <td>2004-04-01</td>\n",
              "      <td>Soja</td>\n",
              "      <td>45.9456</td>\n",
              "      <td>48.7279</td>\n",
              "      <td>0</td>\n",
              "      <td>81400.000</td>\n",
              "      <td>1.036</td>\n",
              "      <td>1.063</td>\n",
              "      <td>81200.0</td>\n",
              "    </tr>\n",
              "    <tr>\n",
              "      <th>2</th>\n",
              "      <td>2004-05-01</td>\n",
              "      <td>Soja</td>\n",
              "      <td>44.8723</td>\n",
              "      <td>47.4930</td>\n",
              "      <td>0</td>\n",
              "      <td>89300.000</td>\n",
              "      <td>82800.000</td>\n",
              "      <td>94000.000</td>\n",
              "      <td>0.0</td>\n",
              "    </tr>\n",
              "    <tr>\n",
              "      <th>3</th>\n",
              "      <td>2004-06-01</td>\n",
              "      <td>Soja</td>\n",
              "      <td>38.5913</td>\n",
              "      <td>40.7781</td>\n",
              "      <td>0</td>\n",
              "      <td>59950.000</td>\n",
              "      <td>89200.000</td>\n",
              "      <td>1.035</td>\n",
              "      <td>59900.0</td>\n",
              "    </tr>\n",
              "    <tr>\n",
              "      <th>4</th>\n",
              "      <td>2004-07-01</td>\n",
              "      <td>Soja</td>\n",
              "      <td>34.0818</td>\n",
              "      <td>37.5474</td>\n",
              "      <td>0</td>\n",
              "      <td>62725.000</td>\n",
              "      <td>59100.000</td>\n",
              "      <td>71200.000</td>\n",
              "      <td>56500.0</td>\n",
              "    </tr>\n",
              "  </tbody>\n",
              "</table>\n",
              "</div>"
            ],
            "text/plain": [
              "           ds Cultivo        y     País  Id     Último   Abertura     Máxima  \\\n",
              "0  2004-03-01    Soja  45.3777  50.0455   0      1.034      1.000      1.064   \n",
              "1  2004-04-01    Soja  45.9456  48.7279   0  81400.000      1.036      1.063   \n",
              "2  2004-05-01    Soja  44.8723  47.4930   0  89300.000  82800.000  94000.000   \n",
              "3  2004-06-01    Soja  38.5913  40.7781   0  59950.000  89200.000      1.035   \n",
              "4  2004-07-01    Soja  34.0818  37.5474   0  62725.000  59100.000  71200.000   \n",
              "\n",
              "    Mínima  \n",
              "0  92600.0  \n",
              "1  81200.0  \n",
              "2      0.0  \n",
              "3  59900.0  \n",
              "4  56500.0  "
            ]
          },
          "execution_count": 23,
          "metadata": {},
          "output_type": "execute_result"
        }
      ],
      "source": [
        "df = pd.read_csv('../../data library/Soja_v1.csv', sep=\";\")\n",
        "df = df.sort_values(by='Data').reset_index(drop=True)\n",
        "df.rename(columns={\"Data\":\"ds\", \"Estadual\":\"y\"}, inplace=True)\n",
        "df.head()"
      ]
    },
    {
      "cell_type": "code",
      "execution_count": 24,
      "metadata": {
        "id": "JXhdRNaYRBz1"
      },
      "outputs": [],
      "source": [
        "from bcb import PTAX\n",
        "from bcb import currency\n",
        "\n",
        "ptax = PTAX()\n",
        "\n",
        "df_usd = currency.get(['USD'],\n",
        "                  start='2004-03-01',\n",
        "                  end='2024-09-01',\n",
        "                  side='ask')\n",
        "\n",
        "df_usd[\"Date\"]=df_usd.index\n",
        "df_usd[\"Month\"] = df_usd[\"Date\"].dt.month\n",
        "df_usd[\"Year\"] = df_usd[\"Date\"].dt.year\n",
        "df_usd[\"Day\"] = 1\n",
        "df_usd[\"Aux\"] = df_usd[\"Year\"].astype(str) +\"-\"+ df_usd[\"Month\"].astype(str)\n",
        "df_usd = df_usd.groupby(\"Aux\").agg(\n",
        "    USD = (\"USD\", \"mean\"),\n",
        "    day = (\"Day\", \"first\"),\n",
        "    month = (\"Month\", \"first\"),\n",
        "    year = (\"Year\", \"first\"),\n",
        ").reset_index(drop=True)\n",
        "\n",
        "df_usd[\"Data\"] = pd.to_datetime(df_usd[['year', 'month', 'day']])\n",
        "df_usd = df_usd[[\"Data\", \"USD\"]].sort_values(by=\"Data\").reset_index(drop=True)"
      ]
    },
    {
      "cell_type": "code",
      "execution_count": 25,
      "metadata": {
        "colab": {
          "base_uri": "https://localhost:8080/",
          "height": 206
        },
        "id": "tEjQSX1tRSzj",
        "outputId": "d815b1d4-87b3-4662-a9b5-61f18ebe8452"
      },
      "outputs": [
        {
          "data": {
            "text/html": [
              "<div>\n",
              "<style scoped>\n",
              "    .dataframe tbody tr th:only-of-type {\n",
              "        vertical-align: middle;\n",
              "    }\n",
              "\n",
              "    .dataframe tbody tr th {\n",
              "        vertical-align: top;\n",
              "    }\n",
              "\n",
              "    .dataframe thead th {\n",
              "        text-align: right;\n",
              "    }\n",
              "</style>\n",
              "<table border=\"1\" class=\"dataframe\">\n",
              "  <thead>\n",
              "    <tr style=\"text-align: right;\">\n",
              "      <th></th>\n",
              "      <th>Data Medicao</th>\n",
              "      <th>precipitacao</th>\n",
              "      <th>temperatura</th>\n",
              "    </tr>\n",
              "  </thead>\n",
              "  <tbody>\n",
              "    <tr>\n",
              "      <th>0</th>\n",
              "      <td>31/03/2004</td>\n",
              "      <td>175.4</td>\n",
              "      <td>24.9</td>\n",
              "    </tr>\n",
              "    <tr>\n",
              "      <th>1</th>\n",
              "      <td>30/04/2004</td>\n",
              "      <td>175.4</td>\n",
              "      <td>24.5</td>\n",
              "    </tr>\n",
              "    <tr>\n",
              "      <th>2</th>\n",
              "      <td>31/05/2004</td>\n",
              "      <td>23</td>\n",
              "      <td>21.7</td>\n",
              "    </tr>\n",
              "    <tr>\n",
              "      <th>3</th>\n",
              "      <td>30/06/2004</td>\n",
              "      <td>18.8</td>\n",
              "      <td>22.1</td>\n",
              "    </tr>\n",
              "    <tr>\n",
              "      <th>4</th>\n",
              "      <td>31/07/2004</td>\n",
              "      <td>38</td>\n",
              "      <td>22.2</td>\n",
              "    </tr>\n",
              "  </tbody>\n",
              "</table>\n",
              "</div>"
            ],
            "text/plain": [
              "  Data Medicao precipitacao temperatura\n",
              "0   31/03/2004        175.4        24.9\n",
              "1   30/04/2004        175.4        24.5\n",
              "2   31/05/2004           23        21.7\n",
              "3   30/06/2004         18.8        22.1\n",
              "4   31/07/2004           38        22.2"
            ]
          },
          "execution_count": 25,
          "metadata": {},
          "output_type": "execute_result"
        }
      ],
      "source": [
        "clima = pd.read_csv(\"../../data library/Clima/MT_dados.csv\", sep=';')\n",
        "clima.rename(columns={\"PRECIPITACAO TOTAL\":\"precipitacao\", \"TEMPERATURA MEDIA\":\"temperatura\"}, inplace=True)\n",
        "\n",
        "clima[\"precipitacao\"] = clima.precipitacao.str.replace(',', '.')\n",
        "clima[\"temperatura\"] = clima.temperatura.str.replace(',', '.')\n",
        "\n",
        "clima.bfill(inplace=True)\n",
        "clima.head()"
      ]
    },
    {
      "cell_type": "code",
      "execution_count": 26,
      "metadata": {
        "colab": {
          "base_uri": "https://localhost:8080/",
          "height": 206
        },
        "id": "9hI2swi8RU2l",
        "outputId": "a68625f9-e594-4866-80d6-a97d7c9aac50"
      },
      "outputs": [
        {
          "data": {
            "text/html": [
              "<div>\n",
              "<style scoped>\n",
              "    .dataframe tbody tr th:only-of-type {\n",
              "        vertical-align: middle;\n",
              "    }\n",
              "\n",
              "    .dataframe tbody tr th {\n",
              "        vertical-align: top;\n",
              "    }\n",
              "\n",
              "    .dataframe thead th {\n",
              "        text-align: right;\n",
              "    }\n",
              "</style>\n",
              "<table border=\"1\" class=\"dataframe\">\n",
              "  <thead>\n",
              "    <tr style=\"text-align: right;\">\n",
              "      <th></th>\n",
              "      <th>ds</th>\n",
              "      <th>Cultivo</th>\n",
              "      <th>y</th>\n",
              "      <th>País</th>\n",
              "      <th>Id</th>\n",
              "      <th>Último</th>\n",
              "      <th>Abertura</th>\n",
              "      <th>Máxima</th>\n",
              "      <th>Mínima</th>\n",
              "      <th>USD</th>\n",
              "      <th>Precipitacao</th>\n",
              "      <th>Temperatura</th>\n",
              "      <th>lag_Estadual</th>\n",
              "    </tr>\n",
              "  </thead>\n",
              "  <tbody>\n",
              "    <tr>\n",
              "      <th>0</th>\n",
              "      <td>2004-03-01</td>\n",
              "      <td>Soja</td>\n",
              "      <td>45.3777</td>\n",
              "      <td>50.0455</td>\n",
              "      <td>0</td>\n",
              "      <td>1.034</td>\n",
              "      <td>1.000</td>\n",
              "      <td>1.064</td>\n",
              "      <td>92600.0</td>\n",
              "      <td>2.905457</td>\n",
              "      <td>175.4</td>\n",
              "      <td>24.9</td>\n",
              "      <td>45.3777</td>\n",
              "    </tr>\n",
              "    <tr>\n",
              "      <th>1</th>\n",
              "      <td>2004-04-01</td>\n",
              "      <td>Soja</td>\n",
              "      <td>45.9456</td>\n",
              "      <td>48.7279</td>\n",
              "      <td>0</td>\n",
              "      <td>81400.000</td>\n",
              "      <td>1.036</td>\n",
              "      <td>1.063</td>\n",
              "      <td>81200.0</td>\n",
              "      <td>2.905985</td>\n",
              "      <td>175.4</td>\n",
              "      <td>24.5</td>\n",
              "      <td>45.3777</td>\n",
              "    </tr>\n",
              "    <tr>\n",
              "      <th>2</th>\n",
              "      <td>2004-05-01</td>\n",
              "      <td>Soja</td>\n",
              "      <td>44.8723</td>\n",
              "      <td>47.4930</td>\n",
              "      <td>0</td>\n",
              "      <td>89300.000</td>\n",
              "      <td>82800.000</td>\n",
              "      <td>94000.000</td>\n",
              "      <td>0.0</td>\n",
              "      <td>3.100419</td>\n",
              "      <td>23.0</td>\n",
              "      <td>21.7</td>\n",
              "      <td>45.9456</td>\n",
              "    </tr>\n",
              "    <tr>\n",
              "      <th>3</th>\n",
              "      <td>2004-06-01</td>\n",
              "      <td>Soja</td>\n",
              "      <td>38.5913</td>\n",
              "      <td>40.7781</td>\n",
              "      <td>0</td>\n",
              "      <td>59950.000</td>\n",
              "      <td>89200.000</td>\n",
              "      <td>1.035</td>\n",
              "      <td>59900.0</td>\n",
              "      <td>3.129148</td>\n",
              "      <td>18.8</td>\n",
              "      <td>22.1</td>\n",
              "      <td>44.8723</td>\n",
              "    </tr>\n",
              "    <tr>\n",
              "      <th>4</th>\n",
              "      <td>2004-07-01</td>\n",
              "      <td>Soja</td>\n",
              "      <td>34.0818</td>\n",
              "      <td>37.5474</td>\n",
              "      <td>0</td>\n",
              "      <td>62725.000</td>\n",
              "      <td>59100.000</td>\n",
              "      <td>71200.000</td>\n",
              "      <td>56500.0</td>\n",
              "      <td>3.036777</td>\n",
              "      <td>38.0</td>\n",
              "      <td>22.2</td>\n",
              "      <td>38.5913</td>\n",
              "    </tr>\n",
              "  </tbody>\n",
              "</table>\n",
              "</div>"
            ],
            "text/plain": [
              "           ds Cultivo        y     País  Id     Último   Abertura     Máxima  \\\n",
              "0  2004-03-01    Soja  45.3777  50.0455   0      1.034      1.000      1.064   \n",
              "1  2004-04-01    Soja  45.9456  48.7279   0  81400.000      1.036      1.063   \n",
              "2  2004-05-01    Soja  44.8723  47.4930   0  89300.000  82800.000  94000.000   \n",
              "3  2004-06-01    Soja  38.5913  40.7781   0  59950.000  89200.000      1.035   \n",
              "4  2004-07-01    Soja  34.0818  37.5474   0  62725.000  59100.000  71200.000   \n",
              "\n",
              "    Mínima       USD  Precipitacao  Temperatura  lag_Estadual  \n",
              "0  92600.0  2.905457         175.4         24.9       45.3777  \n",
              "1  81200.0  2.905985         175.4         24.5       45.3777  \n",
              "2      0.0  3.100419          23.0         21.7       45.9456  \n",
              "3  59900.0  3.129148          18.8         22.1       44.8723  \n",
              "4  56500.0  3.036777          38.0         22.2       38.5913  "
            ]
          },
          "execution_count": 26,
          "metadata": {},
          "output_type": "execute_result"
        }
      ],
      "source": [
        "df[\"USD\"] = df_usd[\"USD\"]\n",
        "df[\"Precipitacao\"] = clima[\"precipitacao\"].astype(float)\n",
        "df[\"Temperatura\"] = clima[\"temperatura\"].astype(float)\n",
        "df['lag_Estadual'] = df['y'].shift(1)\n",
        "df['lag_Estadual'] = df['lag_Estadual'].bfill()\n",
        "df.head()"
      ]
    },
    {
      "cell_type": "code",
      "execution_count": 27,
      "metadata": {
        "id": "7S2iqB1-Xvo8"
      },
      "outputs": [],
      "source": [
        "def plot_predictions(testing_dates, y_test, prediction):\n",
        "    df_test = pd.DataFrame({\"date\": testing_dates, \"actual\": y_test, \"prediction\": prediction })\n",
        "    _, ax = plt.subplots(figsize=(10, 5))\n",
        "    df_test.plot(ax=ax, label=\"Actual\", x=\"date\", y=\"actual\")\n",
        "    df_test.plot(ax=ax, label=\"Prediction\", x=\"date\", y=\"prediction\")\n",
        "    plt.legend([\"Actual\", \"Prediction\"])\n",
        "    plt.show()"
      ]
    },
    {
      "cell_type": "code",
      "execution_count": 28,
      "metadata": {
        "id": "qIR1SHLhaNJz"
      },
      "outputs": [],
      "source": [
        "def evaluate_model(y_test, prediction):\n",
        "  print(f\"MAE: {mean_absolute_error(y_test, prediction)}\")\n",
        "  print(f\"RMSE: {root_mean_squared_error(y_test, prediction)}\")\n",
        "  print(f\"MAPE: {mean_absolute_percentage_error(y_test, prediction)}\")\n",
        "  print(f\"R-Squared: {r2_score(y_test, prediction)}\")"
      ]
    },
    {
      "cell_type": "code",
      "execution_count": 29,
      "metadata": {
        "colab": {
          "base_uri": "https://localhost:8080/",
          "height": 447
        },
        "id": "uzoVht05RvsI",
        "outputId": "9613c1c0-d9a9-4e95-f2d4-9c035257bb08"
      },
      "outputs": [
        {
          "data": {
            "text/plain": [
              "[<matplotlib.lines.Line2D at 0x26dc3534cb0>]"
            ]
          },
          "execution_count": 29,
          "metadata": {},
          "output_type": "execute_result"
        },
        {
          "data": {
            "image/png": "[encoded data removed]",
            "text/plain": [
              "<Figure size 640x480 with 1 Axes>"
            ]
          },
          "metadata": {},
          "output_type": "display_data"
        }
      ],
      "source": [
        "train_size = int(len(df) * 0.8)\n",
        "train, test = df[0:train_size], df[train_size:len(df)]\n",
        "\n",
        "test_dates = test.ds\n",
        "\n",
        "plt.plot(train.y)\n",
        "plt.plot(test.y)"
      ]
    },
    {
      "cell_type": "markdown",
      "metadata": {
        "id": "1VDIm552YNPz"
      },
      "source": [
        "# Univariado"
      ]
    },
    {
      "cell_type": "code",
      "execution_count": 30,
      "metadata": {
        "colab": {
          "base_uri": "https://localhost:8080/"
        },
        "id": "7j-ir4wlYSIL",
        "outputId": "8f878836-f98b-40b3-e3ac-8e800b086b26"
      },
      "outputs": [
        {
          "name": "stderr",
          "output_type": "stream",
          "text": [
            "23:37:17 - cmdstanpy - INFO - Chain [1] start processing\n",
            "23:37:17 - cmdstanpy - INFO - Chain [1] done processing\n"
          ]
        },
        {
          "data": {
            "text/plain": [
              "<prophet.forecaster.Prophet at 0x26dc1cbf4a0>"
            ]
          },
          "execution_count": 30,
          "metadata": {},
          "output_type": "execute_result"
        }
      ],
      "source": [
        "m = Prophet()\n",
        "m.fit(train)\n",
        "\n",
        "# m.params"
      ]
    },
    {
      "cell_type": "code",
      "execution_count": 31,
      "metadata": {
        "colab": {
          "base_uri": "https://localhost:8080/",
          "height": 206
        },
        "id": "B7v7S7IqYbv1",
        "outputId": "2878729d-971f-4373-c463-0e07b8ff3dbe"
      },
      "outputs": [
        {
          "data": {
            "text/html": [
              "<div>\n",
              "<style scoped>\n",
              "    .dataframe tbody tr th:only-of-type {\n",
              "        vertical-align: middle;\n",
              "    }\n",
              "\n",
              "    .dataframe tbody tr th {\n",
              "        vertical-align: top;\n",
              "    }\n",
              "\n",
              "    .dataframe thead th {\n",
              "        text-align: right;\n",
              "    }\n",
              "</style>\n",
              "<table border=\"1\" class=\"dataframe\">\n",
              "  <thead>\n",
              "    <tr style=\"text-align: right;\">\n",
              "      <th></th>\n",
              "      <th>ds</th>\n",
              "      <th>yhat</th>\n",
              "      <th>yhat_lower</th>\n",
              "      <th>yhat_upper</th>\n",
              "    </tr>\n",
              "  </thead>\n",
              "  <tbody>\n",
              "    <tr>\n",
              "      <th>0</th>\n",
              "      <td>2020-08-01</td>\n",
              "      <td>76.955598</td>\n",
              "      <td>66.352678</td>\n",
              "      <td>86.986446</td>\n",
              "    </tr>\n",
              "    <tr>\n",
              "      <th>1</th>\n",
              "      <td>2020-09-01</td>\n",
              "      <td>78.499337</td>\n",
              "      <td>68.254871</td>\n",
              "      <td>89.034810</td>\n",
              "    </tr>\n",
              "    <tr>\n",
              "      <th>2</th>\n",
              "      <td>2020-10-01</td>\n",
              "      <td>78.571636</td>\n",
              "      <td>68.677612</td>\n",
              "      <td>88.205359</td>\n",
              "    </tr>\n",
              "    <tr>\n",
              "      <th>3</th>\n",
              "      <td>2020-11-01</td>\n",
              "      <td>78.858561</td>\n",
              "      <td>68.114063</td>\n",
              "      <td>88.497947</td>\n",
              "    </tr>\n",
              "    <tr>\n",
              "      <th>4</th>\n",
              "      <td>2020-12-01</td>\n",
              "      <td>78.266230</td>\n",
              "      <td>67.687820</td>\n",
              "      <td>88.677577</td>\n",
              "    </tr>\n",
              "  </tbody>\n",
              "</table>\n",
              "</div>"
            ],
            "text/plain": [
              "          ds       yhat  yhat_lower  yhat_upper\n",
              "0 2020-08-01  76.955598   66.352678   86.986446\n",
              "1 2020-09-01  78.499337   68.254871   89.034810\n",
              "2 2020-10-01  78.571636   68.677612   88.205359\n",
              "3 2020-11-01  78.858561   68.114063   88.497947\n",
              "4 2020-12-01  78.266230   67.687820   88.677577"
            ]
          },
          "execution_count": 31,
          "metadata": {},
          "output_type": "execute_result"
        }
      ],
      "source": [
        "forecast = m.predict(test)\n",
        "forecast[['ds', 'yhat', 'yhat_lower', 'yhat_upper']].head()"
      ]
    },
    {
      "cell_type": "code",
      "execution_count": 32,
      "metadata": {
        "colab": {
          "base_uri": "https://localhost:8080/",
          "height": 206
        },
        "id": "Tqh0TWeTYdpy",
        "outputId": "5a90fc96-73ab-4ddc-d207-30442e43182c"
      },
      "outputs": [
        {
          "data": {
            "text/html": [
              "<div>\n",
              "<style scoped>\n",
              "    .dataframe tbody tr th:only-of-type {\n",
              "        vertical-align: middle;\n",
              "    }\n",
              "\n",
              "    .dataframe tbody tr th {\n",
              "        vertical-align: top;\n",
              "    }\n",
              "\n",
              "    .dataframe thead th {\n",
              "        text-align: right;\n",
              "    }\n",
              "</style>\n",
              "<table border=\"1\" class=\"dataframe\">\n",
              "  <thead>\n",
              "    <tr style=\"text-align: right;\">\n",
              "      <th></th>\n",
              "      <th>ds</th>\n",
              "      <th>y</th>\n",
              "      <th>yhat</th>\n",
              "    </tr>\n",
              "  </thead>\n",
              "  <tbody>\n",
              "    <tr>\n",
              "      <th>0</th>\n",
              "      <td>2020-08-01</td>\n",
              "      <td>117.0222</td>\n",
              "      <td>76.955598</td>\n",
              "    </tr>\n",
              "    <tr>\n",
              "      <th>1</th>\n",
              "      <td>2020-09-01</td>\n",
              "      <td>130.8449</td>\n",
              "      <td>78.499337</td>\n",
              "    </tr>\n",
              "    <tr>\n",
              "      <th>2</th>\n",
              "      <td>2020-10-01</td>\n",
              "      <td>156.7972</td>\n",
              "      <td>78.571636</td>\n",
              "    </tr>\n",
              "    <tr>\n",
              "      <th>3</th>\n",
              "      <td>2020-11-01</td>\n",
              "      <td>169.1946</td>\n",
              "      <td>78.858561</td>\n",
              "    </tr>\n",
              "    <tr>\n",
              "      <th>4</th>\n",
              "      <td>2020-12-01</td>\n",
              "      <td>147.9145</td>\n",
              "      <td>78.266230</td>\n",
              "    </tr>\n",
              "  </tbody>\n",
              "</table>\n",
              "</div>"
            ],
            "text/plain": [
              "           ds         y       yhat\n",
              "0  2020-08-01  117.0222  76.955598\n",
              "1  2020-09-01  130.8449  78.499337\n",
              "2  2020-10-01  156.7972  78.571636\n",
              "3  2020-11-01  169.1946  78.858561\n",
              "4  2020-12-01  147.9145  78.266230"
            ]
          },
          "execution_count": 32,
          "metadata": {},
          "output_type": "execute_result"
        }
      ],
      "source": [
        "test.reset_index(inplace=True, drop=True)\n",
        "final_df = test[[\"ds\", \"y\"]].copy()\n",
        "final_df['yhat'] = forecast['yhat']\n",
        "final_df.head()"
      ]
    },
    {
      "cell_type": "code",
      "execution_count": 33,
      "metadata": {
        "colab": {
          "base_uri": "https://localhost:8080/",
          "height": 534
        },
        "id": "CkLmGC7mYg4k",
        "outputId": "e92429f4-ff05-4712-ed66-95b5e5f80efd"
      },
      "outputs": [
        {
          "data": {
            "image/png": "[encoded data removed]",
            "text/plain": [
              "<Figure size 1000x500 with 1 Axes>"
            ]
          },
          "metadata": {},
          "output_type": "display_data"
        },
        {
          "name": "stdout",
          "output_type": "stream",
          "text": [
            "MAE: 57.664301804718534\n",
            "RMSE: 63.16513800221519\n",
            "MAPE: 0.38705825933962656\n",
            "R-Squared: -6.768006728293025\n"
          ]
        }
      ],
      "source": [
        "plot_predictions(test_dates, final_df.y, final_df.yhat)\n",
        "evaluate_model(final_df.y, final_df.yhat)"
      ]
    },
    {
      "cell_type": "markdown",
      "metadata": {
        "id": "qP9ihS-HYSdH"
      },
      "source": [
        "# Multivariado"
      ]
    },
    {
      "cell_type": "code",
      "execution_count": 34,
      "metadata": {
        "colab": {
          "base_uri": "https://localhost:8080/"
        },
        "id": "smUT9ZiIG80z",
        "outputId": "92b95283-efe4-47cc-de2d-07109459adca"
      },
      "outputs": [
        {
          "name": "stderr",
          "output_type": "stream",
          "text": [
            "23:37:18 - cmdstanpy - INFO - Chain [1] start processing\n",
            "23:37:18 - cmdstanpy - INFO - Chain [1] done processing\n"
          ]
        },
        {
          "data": {
            "text/plain": [
              "<prophet.forecaster.Prophet at 0x26dc2fe2570>"
            ]
          },
          "execution_count": 34,
          "metadata": {},
          "output_type": "execute_result"
        }
      ],
      "source": [
        "m = Prophet()\n",
        "m.add_regressor('USD')\n",
        "m.add_regressor('País')\n",
        "m.add_regressor('Último')\n",
        "m.add_regressor('Máxima')\n",
        "m.add_regressor('lag_Estadual')\n",
        "m.fit(train)\n",
        "\n",
        "# m.params"
      ]
    },
    {
      "cell_type": "code",
      "execution_count": 35,
      "metadata": {
        "colab": {
          "base_uri": "https://localhost:8080/",
          "height": 206
        },
        "id": "NLrkICXdS-vD",
        "outputId": "5c6e2395-ede6-4124-a260-e26ef89afd21"
      },
      "outputs": [
        {
          "data": {
            "text/html": [
              "<div>\n",
              "<style scoped>\n",
              "    .dataframe tbody tr th:only-of-type {\n",
              "        vertical-align: middle;\n",
              "    }\n",
              "\n",
              "    .dataframe tbody tr th {\n",
              "        vertical-align: top;\n",
              "    }\n",
              "\n",
              "    .dataframe thead th {\n",
              "        text-align: right;\n",
              "    }\n",
              "</style>\n",
              "<table border=\"1\" class=\"dataframe\">\n",
              "  <thead>\n",
              "    <tr style=\"text-align: right;\">\n",
              "      <th></th>\n",
              "      <th>ds</th>\n",
              "      <th>USD</th>\n",
              "      <th>País</th>\n",
              "      <th>Último</th>\n",
              "      <th>Máxima</th>\n",
              "      <th>lag_Estadual</th>\n",
              "    </tr>\n",
              "  </thead>\n",
              "  <tbody>\n",
              "    <tr>\n",
              "      <th>0</th>\n",
              "      <td>2020-08-01</td>\n",
              "      <td>5.280191</td>\n",
              "      <td>113.3375</td>\n",
              "      <td>95250.00000</td>\n",
              "      <td>96688.00000</td>\n",
              "      <td>104.0607</td>\n",
              "    </tr>\n",
              "    <tr>\n",
              "      <th>1</th>\n",
              "      <td>2020-09-01</td>\n",
              "      <td>5.461233</td>\n",
              "      <td>128.3004</td>\n",
              "      <td>1.02175</td>\n",
              "      <td>1.04650</td>\n",
              "      <td>117.0222</td>\n",
              "    </tr>\n",
              "    <tr>\n",
              "      <th>2</th>\n",
              "      <td>2020-10-01</td>\n",
              "      <td>5.399486</td>\n",
              "      <td>147.4121</td>\n",
              "      <td>1.05688</td>\n",
              "      <td>1.09388</td>\n",
              "      <td>130.8449</td>\n",
              "    </tr>\n",
              "    <tr>\n",
              "      <th>3</th>\n",
              "      <td>2020-11-01</td>\n",
              "      <td>5.625790</td>\n",
              "      <td>157.3982</td>\n",
              "      <td>1.16875</td>\n",
              "      <td>1.19962</td>\n",
              "      <td>156.7972</td>\n",
              "    </tr>\n",
              "    <tr>\n",
              "      <th>4</th>\n",
              "      <td>2020-12-01</td>\n",
              "      <td>5.417835</td>\n",
              "      <td>140.9301</td>\n",
              "      <td>1.31025</td>\n",
              "      <td>1.32060</td>\n",
              "      <td>169.1946</td>\n",
              "    </tr>\n",
              "  </tbody>\n",
              "</table>\n",
              "</div>"
            ],
            "text/plain": [
              "           ds       USD      País       Último       Máxima  lag_Estadual\n",
              "0  2020-08-01  5.280191  113.3375  95250.00000  96688.00000      104.0607\n",
              "1  2020-09-01  5.461233  128.3004      1.02175      1.04650      117.0222\n",
              "2  2020-10-01  5.399486  147.4121      1.05688      1.09388      130.8449\n",
              "3  2020-11-01  5.625790  157.3982      1.16875      1.19962      156.7972\n",
              "4  2020-12-01  5.417835  140.9301      1.31025      1.32060      169.1946"
            ]
          },
          "execution_count": 35,
          "metadata": {},
          "output_type": "execute_result"
        }
      ],
      "source": [
        "test_1 = test[['ds', 'USD', 'País', 'Último', 'Máxima', 'lag_Estadual']]\n",
        "test_1.head()"
      ]
    },
    {
      "cell_type": "code",
      "execution_count": 36,
      "metadata": {
        "id": "KFTOaHQ7I20O"
      },
      "outputs": [],
      "source": [
        "# future = m.make_future_dataframe(periods=len(test_1), freq='MS')\n",
        "# future.head()"
      ]
    },
    {
      "cell_type": "code",
      "execution_count": 37,
      "metadata": {
        "colab": {
          "base_uri": "https://localhost:8080/",
          "height": 206
        },
        "id": "8DhLiuhxI5J-",
        "outputId": "5717b5ad-b7b6-4a4c-f6b6-a4f529b15a72"
      },
      "outputs": [
        {
          "data": {
            "text/html": [
              "<div>\n",
              "<style scoped>\n",
              "    .dataframe tbody tr th:only-of-type {\n",
              "        vertical-align: middle;\n",
              "    }\n",
              "\n",
              "    .dataframe tbody tr th {\n",
              "        vertical-align: top;\n",
              "    }\n",
              "\n",
              "    .dataframe thead th {\n",
              "        text-align: right;\n",
              "    }\n",
              "</style>\n",
              "<table border=\"1\" class=\"dataframe\">\n",
              "  <thead>\n",
              "    <tr style=\"text-align: right;\">\n",
              "      <th></th>\n",
              "      <th>ds</th>\n",
              "      <th>yhat</th>\n",
              "      <th>yhat_lower</th>\n",
              "      <th>yhat_upper</th>\n",
              "    </tr>\n",
              "  </thead>\n",
              "  <tbody>\n",
              "    <tr>\n",
              "      <th>0</th>\n",
              "      <td>2020-08-01</td>\n",
              "      <td>111.139290</td>\n",
              "      <td>109.243474</td>\n",
              "      <td>113.151204</td>\n",
              "    </tr>\n",
              "    <tr>\n",
              "      <th>1</th>\n",
              "      <td>2020-09-01</td>\n",
              "      <td>128.175342</td>\n",
              "      <td>126.231634</td>\n",
              "      <td>130.312585</td>\n",
              "    </tr>\n",
              "    <tr>\n",
              "      <th>2</th>\n",
              "      <td>2020-10-01</td>\n",
              "      <td>147.863654</td>\n",
              "      <td>145.880548</td>\n",
              "      <td>149.732979</td>\n",
              "    </tr>\n",
              "    <tr>\n",
              "      <th>3</th>\n",
              "      <td>2020-11-01</td>\n",
              "      <td>160.387330</td>\n",
              "      <td>158.492697</td>\n",
              "      <td>162.282123</td>\n",
              "    </tr>\n",
              "    <tr>\n",
              "      <th>4</th>\n",
              "      <td>2020-12-01</td>\n",
              "      <td>145.899544</td>\n",
              "      <td>144.004150</td>\n",
              "      <td>147.877775</td>\n",
              "    </tr>\n",
              "  </tbody>\n",
              "</table>\n",
              "</div>"
            ],
            "text/plain": [
              "          ds        yhat  yhat_lower  yhat_upper\n",
              "0 2020-08-01  111.139290  109.243474  113.151204\n",
              "1 2020-09-01  128.175342  126.231634  130.312585\n",
              "2 2020-10-01  147.863654  145.880548  149.732979\n",
              "3 2020-11-01  160.387330  158.492697  162.282123\n",
              "4 2020-12-01  145.899544  144.004150  147.877775"
            ]
          },
          "execution_count": 37,
          "metadata": {},
          "output_type": "execute_result"
        }
      ],
      "source": [
        "forecast = m.predict(test_1)\n",
        "forecast[['ds', 'yhat', 'yhat_lower', 'yhat_upper']].head()"
      ]
    },
    {
      "cell_type": "code",
      "execution_count": 38,
      "metadata": {
        "colab": {
          "base_uri": "https://localhost:8080/",
          "height": 206
        },
        "id": "NzGyiMW9W2RW",
        "outputId": "7ee07ed5-edfb-4aa5-c40a-ee251309d8b3"
      },
      "outputs": [
        {
          "data": {
            "text/html": [
              "<div>\n",
              "<style scoped>\n",
              "    .dataframe tbody tr th:only-of-type {\n",
              "        vertical-align: middle;\n",
              "    }\n",
              "\n",
              "    .dataframe tbody tr th {\n",
              "        vertical-align: top;\n",
              "    }\n",
              "\n",
              "    .dataframe thead th {\n",
              "        text-align: right;\n",
              "    }\n",
              "</style>\n",
              "<table border=\"1\" class=\"dataframe\">\n",
              "  <thead>\n",
              "    <tr style=\"text-align: right;\">\n",
              "      <th></th>\n",
              "      <th>ds</th>\n",
              "      <th>y</th>\n",
              "      <th>País</th>\n",
              "      <th>USD</th>\n",
              "      <th>yhat</th>\n",
              "    </tr>\n",
              "  </thead>\n",
              "  <tbody>\n",
              "    <tr>\n",
              "      <th>0</th>\n",
              "      <td>2020-08-01</td>\n",
              "      <td>117.0222</td>\n",
              "      <td>113.3375</td>\n",
              "      <td>5.280191</td>\n",
              "      <td>111.139290</td>\n",
              "    </tr>\n",
              "    <tr>\n",
              "      <th>1</th>\n",
              "      <td>2020-09-01</td>\n",
              "      <td>130.8449</td>\n",
              "      <td>128.3004</td>\n",
              "      <td>5.461233</td>\n",
              "      <td>128.175342</td>\n",
              "    </tr>\n",
              "    <tr>\n",
              "      <th>2</th>\n",
              "      <td>2020-10-01</td>\n",
              "      <td>156.7972</td>\n",
              "      <td>147.4121</td>\n",
              "      <td>5.399486</td>\n",
              "      <td>147.863654</td>\n",
              "    </tr>\n",
              "    <tr>\n",
              "      <th>3</th>\n",
              "      <td>2020-11-01</td>\n",
              "      <td>169.1946</td>\n",
              "      <td>157.3982</td>\n",
              "      <td>5.625790</td>\n",
              "      <td>160.387330</td>\n",
              "    </tr>\n",
              "    <tr>\n",
              "      <th>4</th>\n",
              "      <td>2020-12-01</td>\n",
              "      <td>147.9145</td>\n",
              "      <td>140.9301</td>\n",
              "      <td>5.417835</td>\n",
              "      <td>145.899544</td>\n",
              "    </tr>\n",
              "  </tbody>\n",
              "</table>\n",
              "</div>"
            ],
            "text/plain": [
              "           ds         y      País       USD        yhat\n",
              "0  2020-08-01  117.0222  113.3375  5.280191  111.139290\n",
              "1  2020-09-01  130.8449  128.3004  5.461233  128.175342\n",
              "2  2020-10-01  156.7972  147.4121  5.399486  147.863654\n",
              "3  2020-11-01  169.1946  157.3982  5.625790  160.387330\n",
              "4  2020-12-01  147.9145  140.9301  5.417835  145.899544"
            ]
          },
          "execution_count": 38,
          "metadata": {},
          "output_type": "execute_result"
        }
      ],
      "source": [
        "test.reset_index(inplace=True, drop=True)\n",
        "final_df = test[[\"ds\", \"y\", \"País\", \"USD\"]].copy()\n",
        "final_df['yhat'] = forecast['yhat']\n",
        "final_df.head()"
      ]
    },
    {
      "cell_type": "code",
      "execution_count": 39,
      "metadata": {
        "colab": {
          "base_uri": "https://localhost:8080/",
          "height": 534
        },
        "id": "AyxOktb2XxM4",
        "outputId": "f6076a26-cfb9-4ee4-ce56-647883ab2e1b"
      },
      "outputs": [
        {
          "data": {
            "image/png": "[encoded data removed]",
            "text/plain": [
              "<Figure size 1000x500 with 1 Axes>"
            ]
          },
          "metadata": {},
          "output_type": "display_data"
        },
        {
          "name": "stdout",
          "output_type": "stream",
          "text": [
            "MAE: 7.611000337913269\n",
            "RMSE: 8.693223839572813\n",
            "MAPE: 0.0552276519622423\n",
            "R-Squared: 0.8528648558600913\n"
          ]
        }
      ],
      "source": [
        "plot_predictions(test_dates, final_df.y, final_df.yhat)\n",
        "evaluate_model(final_df.y, final_df.yhat)"
      ]
    },
    {
      "cell_type": "code",
      "execution_count": 40,
      "metadata": {},
      "outputs": [],
      "source": [
        "aux_var = ['USD', 'País', 'Último', 'Máxima', 'lag_Estadual']\n",
        "future_dates = m.make_future_dataframe(periods=((len(test_1))+24), freq=\"MS\")"
      ]
    },
    {
      "cell_type": "code",
      "execution_count": 41,
      "metadata": {},
      "outputs": [
        {
          "name": "stderr",
          "output_type": "stream",
          "text": [
            "23:37:18 - cmdstanpy - INFO - Chain [1] start processing\n",
            "23:37:18 - cmdstanpy - INFO - Chain [1] done processing\n",
            "23:37:18 - cmdstanpy - INFO - Chain [1] start processing\n",
            "23:37:19 - cmdstanpy - INFO - Chain [1] done processing\n",
            "23:37:19 - cmdstanpy - INFO - Chain [1] start processing\n",
            "23:37:19 - cmdstanpy - INFO - Chain [1] done processing\n",
            "23:37:19 - cmdstanpy - INFO - Chain [1] start processing\n",
            "23:37:19 - cmdstanpy - INFO - Chain [1] done processing\n",
            "23:37:19 - cmdstanpy - INFO - Chain [1] start processing\n",
            "23:37:20 - cmdstanpy - INFO - Chain [1] done processing\n"
          ]
        },
        {
          "data": {
            "text/html": [
              "<div>\n",
              "<style scoped>\n",
              "    .dataframe tbody tr th:only-of-type {\n",
              "        vertical-align: middle;\n",
              "    }\n",
              "\n",
              "    .dataframe tbody tr th {\n",
              "        vertical-align: top;\n",
              "    }\n",
              "\n",
              "    .dataframe thead th {\n",
              "        text-align: right;\n",
              "    }\n",
              "</style>\n",
              "<table border=\"1\" class=\"dataframe\">\n",
              "  <thead>\n",
              "    <tr style=\"text-align: right;\">\n",
              "      <th></th>\n",
              "      <th>ds</th>\n",
              "      <th>USD</th>\n",
              "      <th>País</th>\n",
              "      <th>Último</th>\n",
              "      <th>Máxima</th>\n",
              "      <th>lag_Estadual</th>\n",
              "    </tr>\n",
              "  </thead>\n",
              "  <tbody>\n",
              "    <tr>\n",
              "      <th>0</th>\n",
              "      <td>2004-03-01</td>\n",
              "      <td>2.814078</td>\n",
              "      <td>25.581313</td>\n",
              "      <td>35949.356883</td>\n",
              "      <td>29380.735440</td>\n",
              "      <td>20.796011</td>\n",
              "    </tr>\n",
              "    <tr>\n",
              "      <th>1</th>\n",
              "      <td>2004-04-01</td>\n",
              "      <td>2.785586</td>\n",
              "      <td>25.091087</td>\n",
              "      <td>29875.044112</td>\n",
              "      <td>23145.454852</td>\n",
              "      <td>20.960161</td>\n",
              "    </tr>\n",
              "    <tr>\n",
              "      <th>2</th>\n",
              "      <td>2004-05-01</td>\n",
              "      <td>2.809846</td>\n",
              "      <td>26.178504</td>\n",
              "      <td>30261.996334</td>\n",
              "      <td>35065.663843</td>\n",
              "      <td>21.544774</td>\n",
              "    </tr>\n",
              "    <tr>\n",
              "      <th>3</th>\n",
              "      <td>2004-06-01</td>\n",
              "      <td>2.843009</td>\n",
              "      <td>27.206649</td>\n",
              "      <td>28756.628044</td>\n",
              "      <td>24576.524429</td>\n",
              "      <td>24.020413</td>\n",
              "    </tr>\n",
              "    <tr>\n",
              "      <th>4</th>\n",
              "      <td>2004-07-01</td>\n",
              "      <td>2.775656</td>\n",
              "      <td>28.134790</td>\n",
              "      <td>29149.423810</td>\n",
              "      <td>23019.412387</td>\n",
              "      <td>25.589320</td>\n",
              "    </tr>\n",
              "    <tr>\n",
              "      <th>...</th>\n",
              "      <td>...</td>\n",
              "      <td>...</td>\n",
              "      <td>...</td>\n",
              "      <td>...</td>\n",
              "      <td>...</td>\n",
              "      <td>...</td>\n",
              "    </tr>\n",
              "    <tr>\n",
              "      <th>265</th>\n",
              "      <td>2026-05-01</td>\n",
              "      <td>6.227675</td>\n",
              "      <td>100.375367</td>\n",
              "      <td>68582.216507</td>\n",
              "      <td>64435.949794</td>\n",
              "      <td>94.260163</td>\n",
              "    </tr>\n",
              "    <tr>\n",
              "      <th>266</th>\n",
              "      <td>2026-06-01</td>\n",
              "      <td>6.277252</td>\n",
              "      <td>101.594884</td>\n",
              "      <td>66885.153717</td>\n",
              "      <td>53768.473832</td>\n",
              "      <td>96.709218</td>\n",
              "    </tr>\n",
              "    <tr>\n",
              "      <th>267</th>\n",
              "      <td>2026-07-01</td>\n",
              "      <td>6.269313</td>\n",
              "      <td>102.278598</td>\n",
              "      <td>67812.561329</td>\n",
              "      <td>52355.724084</td>\n",
              "      <td>98.135074</td>\n",
              "    </tr>\n",
              "    <tr>\n",
              "      <th>268</th>\n",
              "      <td>2026-08-01</td>\n",
              "      <td>6.228821</td>\n",
              "      <td>101.261075</td>\n",
              "      <td>69331.860623</td>\n",
              "      <td>54414.332975</td>\n",
              "      <td>96.943966</td>\n",
              "    </tr>\n",
              "    <tr>\n",
              "      <th>269</th>\n",
              "      <td>2026-09-01</td>\n",
              "      <td>6.290234</td>\n",
              "      <td>102.697078</td>\n",
              "      <td>82066.815386</td>\n",
              "      <td>58887.490802</td>\n",
              "      <td>97.373442</td>\n",
              "    </tr>\n",
              "  </tbody>\n",
              "</table>\n",
              "<p>270 rows × 6 columns</p>\n",
              "</div>"
            ],
            "text/plain": [
              "            ds       USD        País        Último        Máxima  lag_Estadual\n",
              "0   2004-03-01  2.814078   25.581313  35949.356883  29380.735440     20.796011\n",
              "1   2004-04-01  2.785586   25.091087  29875.044112  23145.454852     20.960161\n",
              "2   2004-05-01  2.809846   26.178504  30261.996334  35065.663843     21.544774\n",
              "3   2004-06-01  2.843009   27.206649  28756.628044  24576.524429     24.020413\n",
              "4   2004-07-01  2.775656   28.134790  29149.423810  23019.412387     25.589320\n",
              "..         ...       ...         ...           ...           ...           ...\n",
              "265 2026-05-01  6.227675  100.375367  68582.216507  64435.949794     94.260163\n",
              "266 2026-06-01  6.277252  101.594884  66885.153717  53768.473832     96.709218\n",
              "267 2026-07-01  6.269313  102.278598  67812.561329  52355.724084     98.135074\n",
              "268 2026-08-01  6.228821  101.261075  69331.860623  54414.332975     96.943966\n",
              "269 2026-09-01  6.290234  102.697078  82066.815386  58887.490802     97.373442\n",
              "\n",
              "[270 rows x 6 columns]"
            ]
          },
          "execution_count": 41,
          "metadata": {},
          "output_type": "execute_result"
        }
      ],
      "source": [
        "extended_df = future_dates.copy()\n",
        "\n",
        "for i in aux_var:\n",
        "    train_aux = train[['ds', i]].copy()\n",
        "    train_aux.rename(columns={i:\"y\"}, inplace=True)\n",
        "\n",
        "    m = Prophet()\n",
        "    m.fit(train_aux)\n",
        "    forecast = m.predict(future_dates)\n",
        "    \n",
        "    extended_df[i] = forecast[\"yhat\"]\n",
        "\n",
        "extended_df"
      ]
    },
    {
      "cell_type": "code",
      "execution_count": 42,
      "metadata": {},
      "outputs": [
        {
          "name": "stderr",
          "output_type": "stream",
          "text": [
            "23:37:20 - cmdstanpy - INFO - Chain [1] start processing\n",
            "23:37:20 - cmdstanpy - INFO - Chain [1] done processing\n"
          ]
        },
        {
          "data": {
            "text/plain": [
              "<prophet.forecaster.Prophet at 0x26dc2fddc10>"
            ]
          },
          "execution_count": 42,
          "metadata": {},
          "output_type": "execute_result"
        }
      ],
      "source": [
        "m = Prophet()\n",
        "m.add_regressor('USD')\n",
        "m.add_regressor('País')\n",
        "m.add_regressor('Último')\n",
        "m.add_regressor('Máxima')\n",
        "m.add_regressor('lag_Estadual')\n",
        "m.fit(train)"
      ]
    },
    {
      "cell_type": "code",
      "execution_count": 43,
      "metadata": {},
      "outputs": [],
      "source": [
        "real_data = df[['ds', 'USD', 'País', 'Último', 'Máxima', 'lag_Estadual']].copy()\n",
        "final_date = df[\"ds\"][-1:]\n",
        "predicted_data = extended_df[['ds', 'USD', 'País', 'Último', 'Máxima', 'lag_Estadual']][len(train)+len(test):]\n",
        "\n",
        "real_data_2 = pd.concat([real_data, predicted_data], ignore_index=True)"
      ]
    },
    {
      "cell_type": "code",
      "execution_count": 44,
      "metadata": {},
      "outputs": [
        {
          "data": {
            "text/html": [
              "<div>\n",
              "<style scoped>\n",
              "    .dataframe tbody tr th:only-of-type {\n",
              "        vertical-align: middle;\n",
              "    }\n",
              "\n",
              "    .dataframe tbody tr th {\n",
              "        vertical-align: top;\n",
              "    }\n",
              "\n",
              "    .dataframe thead th {\n",
              "        text-align: right;\n",
              "    }\n",
              "</style>\n",
              "<table border=\"1\" class=\"dataframe\">\n",
              "  <thead>\n",
              "    <tr style=\"text-align: right;\">\n",
              "      <th></th>\n",
              "      <th>ds</th>\n",
              "      <th>USD</th>\n",
              "      <th>País</th>\n",
              "      <th>Último</th>\n",
              "      <th>Máxima</th>\n",
              "      <th>lag_Estadual</th>\n",
              "    </tr>\n",
              "  </thead>\n",
              "  <tbody>\n",
              "    <tr>\n",
              "      <th>0</th>\n",
              "      <td>2020-08-01</td>\n",
              "      <td>5.280191</td>\n",
              "      <td>113.3375</td>\n",
              "      <td>95250.00000</td>\n",
              "      <td>96688.00000</td>\n",
              "      <td>104.0607</td>\n",
              "    </tr>\n",
              "    <tr>\n",
              "      <th>1</th>\n",
              "      <td>2020-09-01</td>\n",
              "      <td>5.461233</td>\n",
              "      <td>128.3004</td>\n",
              "      <td>1.02175</td>\n",
              "      <td>1.04650</td>\n",
              "      <td>117.0222</td>\n",
              "    </tr>\n",
              "    <tr>\n",
              "      <th>2</th>\n",
              "      <td>2020-10-01</td>\n",
              "      <td>5.399486</td>\n",
              "      <td>147.4121</td>\n",
              "      <td>1.05688</td>\n",
              "      <td>1.09388</td>\n",
              "      <td>130.8449</td>\n",
              "    </tr>\n",
              "    <tr>\n",
              "      <th>3</th>\n",
              "      <td>2020-11-01</td>\n",
              "      <td>5.625790</td>\n",
              "      <td>157.3982</td>\n",
              "      <td>1.16875</td>\n",
              "      <td>1.19962</td>\n",
              "      <td>156.7972</td>\n",
              "    </tr>\n",
              "    <tr>\n",
              "      <th>4</th>\n",
              "      <td>2020-12-01</td>\n",
              "      <td>5.417835</td>\n",
              "      <td>140.9301</td>\n",
              "      <td>1.31025</td>\n",
              "      <td>1.32060</td>\n",
              "      <td>169.1946</td>\n",
              "    </tr>\n",
              "  </tbody>\n",
              "</table>\n",
              "</div>"
            ],
            "text/plain": [
              "           ds       USD      País       Último       Máxima  lag_Estadual\n",
              "0  2020-08-01  5.280191  113.3375  95250.00000  96688.00000      104.0607\n",
              "1  2020-09-01  5.461233  128.3004      1.02175      1.04650      117.0222\n",
              "2  2020-10-01  5.399486  147.4121      1.05688      1.09388      130.8449\n",
              "3  2020-11-01  5.625790  157.3982      1.16875      1.19962      156.7972\n",
              "4  2020-12-01  5.417835  140.9301      1.31025      1.32060      169.1946"
            ]
          },
          "execution_count": 44,
          "metadata": {},
          "output_type": "execute_result"
        }
      ],
      "source": [
        "test_2 = real_data_2[['ds', 'USD', 'País', 'Último', 'Máxima', 'lag_Estadual']][train_size:].reset_index(drop=True)\n",
        "test_2.head()"
      ]
    },
    {
      "cell_type": "code",
      "execution_count": 45,
      "metadata": {},
      "outputs": [
        {
          "data": {
            "text/html": [
              "<div>\n",
              "<style scoped>\n",
              "    .dataframe tbody tr th:only-of-type {\n",
              "        vertical-align: middle;\n",
              "    }\n",
              "\n",
              "    .dataframe tbody tr th {\n",
              "        vertical-align: top;\n",
              "    }\n",
              "\n",
              "    .dataframe thead th {\n",
              "        text-align: right;\n",
              "    }\n",
              "</style>\n",
              "<table border=\"1\" class=\"dataframe\">\n",
              "  <thead>\n",
              "    <tr style=\"text-align: right;\">\n",
              "      <th></th>\n",
              "      <th>ds</th>\n",
              "      <th>yhat</th>\n",
              "      <th>yhat_lower</th>\n",
              "      <th>yhat_upper</th>\n",
              "    </tr>\n",
              "  </thead>\n",
              "  <tbody>\n",
              "    <tr>\n",
              "      <th>0</th>\n",
              "      <td>2020-08-01</td>\n",
              "      <td>111.139290</td>\n",
              "      <td>109.219409</td>\n",
              "      <td>112.979263</td>\n",
              "    </tr>\n",
              "    <tr>\n",
              "      <th>1</th>\n",
              "      <td>2020-09-01</td>\n",
              "      <td>128.175342</td>\n",
              "      <td>126.198898</td>\n",
              "      <td>129.868555</td>\n",
              "    </tr>\n",
              "    <tr>\n",
              "      <th>2</th>\n",
              "      <td>2020-10-01</td>\n",
              "      <td>147.863654</td>\n",
              "      <td>145.961115</td>\n",
              "      <td>149.776830</td>\n",
              "    </tr>\n",
              "    <tr>\n",
              "      <th>3</th>\n",
              "      <td>2020-11-01</td>\n",
              "      <td>160.387330</td>\n",
              "      <td>158.483334</td>\n",
              "      <td>162.308506</td>\n",
              "    </tr>\n",
              "    <tr>\n",
              "      <th>4</th>\n",
              "      <td>2020-12-01</td>\n",
              "      <td>145.899544</td>\n",
              "      <td>144.122765</td>\n",
              "      <td>147.817157</td>\n",
              "    </tr>\n",
              "  </tbody>\n",
              "</table>\n",
              "</div>"
            ],
            "text/plain": [
              "          ds        yhat  yhat_lower  yhat_upper\n",
              "0 2020-08-01  111.139290  109.219409  112.979263\n",
              "1 2020-09-01  128.175342  126.198898  129.868555\n",
              "2 2020-10-01  147.863654  145.961115  149.776830\n",
              "3 2020-11-01  160.387330  158.483334  162.308506\n",
              "4 2020-12-01  145.899544  144.122765  147.817157"
            ]
          },
          "execution_count": 45,
          "metadata": {},
          "output_type": "execute_result"
        }
      ],
      "source": [
        "final_forecast = m.predict(test_2)\n",
        "final_forecast[['ds', 'yhat', 'yhat_lower', 'yhat_upper']].head()"
      ]
    },
    {
      "cell_type": "code",
      "execution_count": 46,
      "metadata": {},
      "outputs": [
        {
          "data": {
            "text/html": [
              "<div>\n",
              "<style scoped>\n",
              "    .dataframe tbody tr th:only-of-type {\n",
              "        vertical-align: middle;\n",
              "    }\n",
              "\n",
              "    .dataframe tbody tr th {\n",
              "        vertical-align: top;\n",
              "    }\n",
              "\n",
              "    .dataframe thead th {\n",
              "        text-align: right;\n",
              "    }\n",
              "</style>\n",
              "<table border=\"1\" class=\"dataframe\">\n",
              "  <thead>\n",
              "    <tr style=\"text-align: right;\">\n",
              "      <th></th>\n",
              "      <th>ds</th>\n",
              "      <th>y</th>\n",
              "      <th>País</th>\n",
              "      <th>USD</th>\n",
              "      <th>yhat</th>\n",
              "    </tr>\n",
              "  </thead>\n",
              "  <tbody>\n",
              "    <tr>\n",
              "      <th>0</th>\n",
              "      <td>2020-08-01</td>\n",
              "      <td>117.0222</td>\n",
              "      <td>113.3375</td>\n",
              "      <td>5.280191</td>\n",
              "      <td>111.139290</td>\n",
              "    </tr>\n",
              "    <tr>\n",
              "      <th>1</th>\n",
              "      <td>2020-09-01</td>\n",
              "      <td>130.8449</td>\n",
              "      <td>128.3004</td>\n",
              "      <td>5.461233</td>\n",
              "      <td>128.175342</td>\n",
              "    </tr>\n",
              "    <tr>\n",
              "      <th>2</th>\n",
              "      <td>2020-10-01</td>\n",
              "      <td>156.7972</td>\n",
              "      <td>147.4121</td>\n",
              "      <td>5.399486</td>\n",
              "      <td>147.863654</td>\n",
              "    </tr>\n",
              "    <tr>\n",
              "      <th>3</th>\n",
              "      <td>2020-11-01</td>\n",
              "      <td>169.1946</td>\n",
              "      <td>157.3982</td>\n",
              "      <td>5.625790</td>\n",
              "      <td>160.387330</td>\n",
              "    </tr>\n",
              "    <tr>\n",
              "      <th>4</th>\n",
              "      <td>2020-12-01</td>\n",
              "      <td>147.9145</td>\n",
              "      <td>140.9301</td>\n",
              "      <td>5.417835</td>\n",
              "      <td>145.899544</td>\n",
              "    </tr>\n",
              "  </tbody>\n",
              "</table>\n",
              "</div>"
            ],
            "text/plain": [
              "           ds         y      País       USD        yhat\n",
              "0  2020-08-01  117.0222  113.3375  5.280191  111.139290\n",
              "1  2020-09-01  130.8449  128.3004  5.461233  128.175342\n",
              "2  2020-10-01  156.7972  147.4121  5.399486  147.863654\n",
              "3  2020-11-01  169.1946  157.3982  5.625790  160.387330\n",
              "4  2020-12-01  147.9145  140.9301  5.417835  145.899544"
            ]
          },
          "execution_count": 46,
          "metadata": {},
          "output_type": "execute_result"
        }
      ],
      "source": [
        "test_2.reset_index(inplace=True, drop=True)\n",
        "test_2['y'] = test['y']\n",
        "test_2.fillna(0, inplace=True)\n",
        "final_df = test_2[[\"ds\", \"y\", \"País\", \"USD\"]].copy()\n",
        "final_df['yhat'] = final_forecast['yhat']\n",
        "final_df.head()"
      ]
    },
    {
      "cell_type": "code",
      "execution_count": 47,
      "metadata": {},
      "outputs": [
        {
          "data": {
            "image/png": "[encoded data removed]",
            "text/plain": [
              "<Figure size 1000x500 with 1 Axes>"
            ]
          },
          "metadata": {},
          "output_type": "display_data"
        },
        {
          "name": "stdout",
          "output_type": "stream",
          "text": [
            "MAE: 37.020466532178055\n",
            "RMSE: 56.45868997547407\n",
            "MAPE: 1.4356529287011328e+17\n",
            "R-Squared: 0.3274720408896755\n"
          ]
        }
      ],
      "source": [
        "plot_predictions(test_dates, final_df.y, final_df.yhat)\n",
        "evaluate_model(final_df.y, final_df.yhat)"
      ]
    },
    {
      "cell_type": "code",
      "execution_count": 48,
      "metadata": {},
      "outputs": [],
      "source": [
        "final_df.to_csv('../../Soja/Soja_Resultados.csv', sep=',', index=False)"
      ]
    }
  ],
  "metadata": {
    "colab": {
      "authorship_tag": "ABX9TyMJ63fOvvsRqdMNudenxD8L",
      "include_colab_link": true,
      "provenance": []
    },
    "kernelspec": {
      "display_name": "Python 3",
      "name": "python3"
    },
    "language_info": {
      "codemirror_mode": {
        "name": "ipython",
        "version": 3
      },
      "file_extension": ".py",
      "mimetype": "text/x-python",
      "name": "python",
      "nbconvert_exporter": "python",
      "pygments_lexer": "ipython3",
      "version": "3.12.5"
    }
  },
  "nbformat": 4,
  "nbformat_minor": 0
}
