{
  "cells": [
    {
      "cell_type": "markdown",
      "metadata": {
        "colab_type": "text",
        "id": "view-in-github"
      },
      "source": [
        "<a href=\"https://colab.research.google.com/github/fAikoH-dot/TCC-v1/blob/main/arima/auto_arima.ipynb\" target=\"_parent\"><img src=\"https://colab.research.google.com/assets/colab-badge.svg\" alt=\"Open In Colab\"/></a>"
      ]
    },
    {
      "cell_type": "code",
      "execution_count": 1,
      "metadata": {
        "id": "MMUbcOM1p9hl"
      },
      "outputs": [],
      "source": [
        "import pandas as pd"
      ]
    },
    {
      "cell_type": "code",
      "execution_count": 2,
      "metadata": {
        "colab": {
          "base_uri": "https://localhost:8080/",
          "height": 206
        },
        "id": "nIRI1gkaqOch",
        "outputId": "4fc5cf44-dcc5-4b46-dea6-3f1558698448"
      },
      "outputs": [
        {
          "data": {
            "text/html": [
              "<div>\n",
              "<style scoped>\n",
              "    .dataframe tbody tr th:only-of-type {\n",
              "        vertical-align: middle;\n",
              "    }\n",
              "\n",
              "    .dataframe tbody tr th {\n",
              "        vertical-align: top;\n",
              "    }\n",
              "\n",
              "    .dataframe thead th {\n",
              "        text-align: right;\n",
              "    }\n",
              "</style>\n",
              "<table border=\"1\" class=\"dataframe\">\n",
              "  <thead>\n",
              "    <tr style=\"text-align: right;\">\n",
              "      <th></th>\n",
              "      <th>Data</th>\n",
              "      <th>Cultivo</th>\n",
              "      <th>Estadual</th>\n",
              "      <th>País</th>\n",
              "      <th>Id</th>\n",
              "      <th>Último</th>\n",
              "      <th>Abertura</th>\n",
              "      <th>Máxima</th>\n",
              "      <th>Mínima</th>\n",
              "    </tr>\n",
              "  </thead>\n",
              "  <tbody>\n",
              "    <tr>\n",
              "      <th>0</th>\n",
              "      <td>2004-03-01</td>\n",
              "      <td>Trigo</td>\n",
              "      <td>25.0014</td>\n",
              "      <td>24.2907</td>\n",
              "      <td>2</td>\n",
              "      <td>38150.0</td>\n",
              "      <td>40825.0</td>\n",
              "      <td>42400.0</td>\n",
              "      <td>36600.0</td>\n",
              "    </tr>\n",
              "    <tr>\n",
              "      <th>1</th>\n",
              "      <td>2004-04-01</td>\n",
              "      <td>Trigo</td>\n",
              "      <td>27.3438</td>\n",
              "      <td>26.4508</td>\n",
              "      <td>2</td>\n",
              "      <td>36200.0</td>\n",
              "      <td>38050.0</td>\n",
              "      <td>40700.0</td>\n",
              "      <td>35400.0</td>\n",
              "    </tr>\n",
              "    <tr>\n",
              "      <th>2</th>\n",
              "      <td>2004-05-01</td>\n",
              "      <td>Trigo</td>\n",
              "      <td>29.6849</td>\n",
              "      <td>28.6268</td>\n",
              "      <td>2</td>\n",
              "      <td>33800.0</td>\n",
              "      <td>36500.0</td>\n",
              "      <td>39100.0</td>\n",
              "      <td>0.0</td>\n",
              "    </tr>\n",
              "    <tr>\n",
              "      <th>3</th>\n",
              "      <td>2004-06-01</td>\n",
              "      <td>Trigo</td>\n",
              "      <td>30.2614</td>\n",
              "      <td>29.9106</td>\n",
              "      <td>2</td>\n",
              "      <td>31225.0</td>\n",
              "      <td>33525.0</td>\n",
              "      <td>34800.0</td>\n",
              "      <td>31000.0</td>\n",
              "    </tr>\n",
              "    <tr>\n",
              "      <th>4</th>\n",
              "      <td>2004-07-01</td>\n",
              "      <td>Trigo</td>\n",
              "      <td>27.5388</td>\n",
              "      <td>27.7931</td>\n",
              "      <td>2</td>\n",
              "      <td>30975.0</td>\n",
              "      <td>31075.0</td>\n",
              "      <td>32400.0</td>\n",
              "      <td>29550.0</td>\n",
              "    </tr>\n",
              "  </tbody>\n",
              "</table>\n",
              "</div>"
            ],
            "text/plain": [
              "         Data Cultivo  Estadual     País  Id   Último  Abertura   Máxima  \\\n",
              "0  2004-03-01   Trigo   25.0014  24.2907   2  38150.0   40825.0  42400.0   \n",
              "1  2004-04-01   Trigo   27.3438  26.4508   2  36200.0   38050.0  40700.0   \n",
              "2  2004-05-01   Trigo   29.6849  28.6268   2  33800.0   36500.0  39100.0   \n",
              "3  2004-06-01   Trigo   30.2614  29.9106   2  31225.0   33525.0  34800.0   \n",
              "4  2004-07-01   Trigo   27.5388  27.7931   2  30975.0   31075.0  32400.0   \n",
              "\n",
              "    Mínima  \n",
              "0  36600.0  \n",
              "1  35400.0  \n",
              "2      0.0  \n",
              "3  31000.0  \n",
              "4  29550.0  "
            ]
          },
          "execution_count": 2,
          "metadata": {},
          "output_type": "execute_result"
        }
      ],
      "source": [
        "# df = pd.read_csv(\"sample_data/Trigo_v1.csv\", sep = \";\")\n",
        "df = pd.read_csv('../../data library/Trigo_v1.csv', sep=\";\")\n",
        "df = df.sort_values(by='Data').reset_index(drop=True)\n",
        "# df.set_index(\"Data\", inplace = True)\n",
        "df.head()"
      ]
    },
    {
      "cell_type": "code",
      "execution_count": 3,
      "metadata": {
        "colab": {
          "base_uri": "https://localhost:8080/"
        },
        "id": "RN1_E2s7s_Zr",
        "outputId": "4c912b96-dbf0-4867-be7f-70e923955fae"
      },
      "outputs": [
        {
          "name": "stdout",
          "output_type": "stream",
          "text": [
            "Defaulting to user installation because normal site-packages is not writeable\n",
            "Requirement already satisfied: python-bcb in c:\\users\\hamatsu\\appdata\\roaming\\python\\python312\\site-packages (0.3.0)\n",
            "Requirement already satisfied: httpx>=0.24.0 in c:\\users\\hamatsu\\appdata\\roaming\\python\\python312\\site-packages (from python-bcb) (0.27.2)\n",
            "Requirement already satisfied: lxml>=4.9.2 in c:\\users\\hamatsu\\appdata\\roaming\\python\\python312\\site-packages (from python-bcb) (5.3.0)\n",
            "Requirement already satisfied: pandas>=2.0.0 in c:\\users\\hamatsu\\appdata\\roaming\\python\\python312\\site-packages (from python-bcb) (2.2.3)\n",
            "Requirement already satisfied: requests>=2.31.0 in c:\\users\\hamatsu\\appdata\\roaming\\python\\python312\\site-packages (from python-bcb) (2.32.3)\n",
            "Requirement already satisfied: anyio in c:\\users\\hamatsu\\appdata\\roaming\\python\\python312\\site-packages (from httpx>=0.24.0->python-bcb) (4.6.2.post1)\n",
            "Requirement already satisfied: certifi in c:\\users\\hamatsu\\appdata\\roaming\\python\\python312\\site-packages (from httpx>=0.24.0->python-bcb) (2024.8.30)\n",
            "Requirement already satisfied: httpcore==1.* in c:\\users\\hamatsu\\appdata\\roaming\\python\\python312\\site-packages (from httpx>=0.24.0->python-bcb) (1.0.6)\n",
            "Requirement already satisfied: idna in c:\\users\\hamatsu\\appdata\\roaming\\python\\python312\\site-packages (from httpx>=0.24.0->python-bcb) (3.10)\n",
            "Requirement already satisfied: sniffio in c:\\users\\hamatsu\\appdata\\roaming\\python\\python312\\site-packages (from httpx>=0.24.0->python-bcb) (1.3.1)\n",
            "Requirement already satisfied: h11<0.15,>=0.13 in c:\\users\\hamatsu\\appdata\\roaming\\python\\python312\\site-packages (from httpcore==1.*->httpx>=0.24.0->python-bcb) (0.14.0)\n",
            "Requirement already satisfied: numpy>=1.26.0 in c:\\users\\hamatsu\\appdata\\roaming\\python\\python312\\site-packages (from pandas>=2.0.0->python-bcb) (1.26.4)\n",
            "Requirement already satisfied: python-dateutil>=2.8.2 in c:\\users\\hamatsu\\appdata\\roaming\\python\\python312\\site-packages (from pandas>=2.0.0->python-bcb) (2.9.0.post0)\n",
            "Requirement already satisfied: pytz>=2020.1 in c:\\users\\hamatsu\\appdata\\roaming\\python\\python312\\site-packages (from pandas>=2.0.0->python-bcb) (2024.2)\n",
            "Requirement already satisfied: tzdata>=2022.7 in c:\\users\\hamatsu\\appdata\\roaming\\python\\python312\\site-packages (from pandas>=2.0.0->python-bcb) (2024.1)\n",
            "Requirement already satisfied: charset-normalizer<4,>=2 in c:\\users\\hamatsu\\appdata\\roaming\\python\\python312\\site-packages (from requests>=2.31.0->python-bcb) (3.3.2)\n",
            "Requirement already satisfied: urllib3<3,>=1.21.1 in c:\\users\\hamatsu\\appdata\\roaming\\python\\python312\\site-packages (from requests>=2.31.0->python-bcb) (2.2.3)\n",
            "Requirement already satisfied: six>=1.5 in c:\\users\\hamatsu\\appdata\\roaming\\python\\python312\\site-packages (from python-dateutil>=2.8.2->pandas>=2.0.0->python-bcb) (1.16.0)\n",
            "Note: you may need to restart the kernel to use updated packages.\n"
          ]
        },
        {
          "name": "stderr",
          "output_type": "stream",
          "text": [
            "\n",
            "[notice] A new release of pip is available: 24.2 -> 25.1.1\n",
            "[notice] To update, run: python.exe -m pip install --upgrade pip\n"
          ]
        }
      ],
      "source": [
        "%pip install python-bcb"
      ]
    },
    {
      "cell_type": "code",
      "execution_count": 4,
      "metadata": {
        "id": "Js1pfZnds71B"
      },
      "outputs": [],
      "source": [
        "from bcb import PTAX\n",
        "from bcb import currency\n",
        "\n",
        "ptax = PTAX()\n",
        "\n",
        "df_usd = currency.get(['USD'],\n",
        "                  start='2004-03-01',\n",
        "                  end='2024-09-01',\n",
        "                  side='ask')\n",
        "\n",
        "df_usd[\"Date\"]=df_usd.index\n",
        "df_usd[\"Month\"] = df_usd[\"Date\"].dt.month\n",
        "df_usd[\"Year\"] = df_usd[\"Date\"].dt.year\n",
        "df_usd[\"Day\"] = 1\n",
        "df_usd[\"Aux\"] = df_usd[\"Year\"].astype(str) +\"-\"+ df_usd[\"Month\"].astype(str)\n",
        "df_usd = df_usd.groupby(\"Aux\").agg(\n",
        "    USD = (\"USD\", \"mean\"),\n",
        "    day = (\"Day\", \"first\"),\n",
        "    month = (\"Month\", \"first\"),\n",
        "    year = (\"Year\", \"first\"),\n",
        ").reset_index(drop=True)\n",
        "\n",
        "df_usd[\"Data\"] = pd.to_datetime(df_usd[['year', 'month', 'day']])\n",
        "df_usd = df_usd[[\"Data\", \"USD\"]].sort_values(by=\"Data\").reset_index(drop=True)"
      ]
    },
    {
      "cell_type": "code",
      "execution_count": 5,
      "metadata": {
        "colab": {
          "base_uri": "https://localhost:8080/",
          "height": 206
        },
        "id": "cspOUl8ohGPE",
        "outputId": "dd793055-5f1c-4c0c-ceb0-3197605809f2"
      },
      "outputs": [
        {
          "data": {
            "text/html": [
              "<div>\n",
              "<style scoped>\n",
              "    .dataframe tbody tr th:only-of-type {\n",
              "        vertical-align: middle;\n",
              "    }\n",
              "\n",
              "    .dataframe tbody tr th {\n",
              "        vertical-align: top;\n",
              "    }\n",
              "\n",
              "    .dataframe thead th {\n",
              "        text-align: right;\n",
              "    }\n",
              "</style>\n",
              "<table border=\"1\" class=\"dataframe\">\n",
              "  <thead>\n",
              "    <tr style=\"text-align: right;\">\n",
              "      <th></th>\n",
              "      <th>Data Medicao</th>\n",
              "      <th>precipitacao</th>\n",
              "      <th>temperatura</th>\n",
              "    </tr>\n",
              "  </thead>\n",
              "  <tbody>\n",
              "    <tr>\n",
              "      <th>0</th>\n",
              "      <td>31/03/2004</td>\n",
              "      <td>175.4</td>\n",
              "      <td>24.9</td>\n",
              "    </tr>\n",
              "    <tr>\n",
              "      <th>1</th>\n",
              "      <td>30/04/2004</td>\n",
              "      <td>175.4</td>\n",
              "      <td>24.5</td>\n",
              "    </tr>\n",
              "    <tr>\n",
              "      <th>2</th>\n",
              "      <td>31/05/2004</td>\n",
              "      <td>23</td>\n",
              "      <td>21.7</td>\n",
              "    </tr>\n",
              "    <tr>\n",
              "      <th>3</th>\n",
              "      <td>30/06/2004</td>\n",
              "      <td>18.8</td>\n",
              "      <td>22.1</td>\n",
              "    </tr>\n",
              "    <tr>\n",
              "      <th>4</th>\n",
              "      <td>31/07/2004</td>\n",
              "      <td>38</td>\n",
              "      <td>22.2</td>\n",
              "    </tr>\n",
              "  </tbody>\n",
              "</table>\n",
              "</div>"
            ],
            "text/plain": [
              "  Data Medicao precipitacao temperatura\n",
              "0   31/03/2004        175.4        24.9\n",
              "1   30/04/2004        175.4        24.5\n",
              "2   31/05/2004           23        21.7\n",
              "3   30/06/2004         18.8        22.1\n",
              "4   31/07/2004           38        22.2"
            ]
          },
          "execution_count": 5,
          "metadata": {},
          "output_type": "execute_result"
        }
      ],
      "source": [
        "# clima = pd.read_csv(\"sample_data/MT_dados.csv\", sep=';')\n",
        "clima = pd.read_csv(\"../../data library/Clima/MT_dados.csv\", sep=';')\n",
        "clima.rename(columns={\"PRECIPITACAO TOTAL\":\"precipitacao\", \"TEMPERATURA MEDIA\":\"temperatura\"}, inplace=True)\n",
        "\n",
        "clima[\"precipitacao\"] = clima.precipitacao.str.replace(',', '.')\n",
        "clima[\"temperatura\"] = clima.temperatura.str.replace(',', '.')\n",
        "\n",
        "clima.bfill(inplace=True)\n",
        "clima.head()"
      ]
    },
    {
      "cell_type": "code",
      "execution_count": 6,
      "metadata": {
        "colab": {
          "base_uri": "https://localhost:8080/",
          "height": 206
        },
        "id": "1QVdVd-YtVDo",
        "outputId": "102ee9ad-6beb-4e0c-c368-2a8a0f5dfcf4"
      },
      "outputs": [
        {
          "data": {
            "text/html": [
              "<div>\n",
              "<style scoped>\n",
              "    .dataframe tbody tr th:only-of-type {\n",
              "        vertical-align: middle;\n",
              "    }\n",
              "\n",
              "    .dataframe tbody tr th {\n",
              "        vertical-align: top;\n",
              "    }\n",
              "\n",
              "    .dataframe thead th {\n",
              "        text-align: right;\n",
              "    }\n",
              "</style>\n",
              "<table border=\"1\" class=\"dataframe\">\n",
              "  <thead>\n",
              "    <tr style=\"text-align: right;\">\n",
              "      <th></th>\n",
              "      <th>Data</th>\n",
              "      <th>Cultivo</th>\n",
              "      <th>Estadual</th>\n",
              "      <th>País</th>\n",
              "      <th>Id</th>\n",
              "      <th>Último</th>\n",
              "      <th>Abertura</th>\n",
              "      <th>Máxima</th>\n",
              "      <th>Mínima</th>\n",
              "      <th>USD</th>\n",
              "      <th>Precipitacao</th>\n",
              "      <th>Temperatura</th>\n",
              "      <th>lag_Estadual</th>\n",
              "    </tr>\n",
              "  </thead>\n",
              "  <tbody>\n",
              "    <tr>\n",
              "      <th>0</th>\n",
              "      <td>2004-03-01</td>\n",
              "      <td>Trigo</td>\n",
              "      <td>25.0014</td>\n",
              "      <td>24.2907</td>\n",
              "      <td>2</td>\n",
              "      <td>38150.0</td>\n",
              "      <td>40825.0</td>\n",
              "      <td>42400.0</td>\n",
              "      <td>36600.0</td>\n",
              "      <td>2.905457</td>\n",
              "      <td>175.4</td>\n",
              "      <td>24.9</td>\n",
              "      <td>25.0014</td>\n",
              "    </tr>\n",
              "    <tr>\n",
              "      <th>1</th>\n",
              "      <td>2004-04-01</td>\n",
              "      <td>Trigo</td>\n",
              "      <td>27.3438</td>\n",
              "      <td>26.4508</td>\n",
              "      <td>2</td>\n",
              "      <td>36200.0</td>\n",
              "      <td>38050.0</td>\n",
              "      <td>40700.0</td>\n",
              "      <td>35400.0</td>\n",
              "      <td>2.905985</td>\n",
              "      <td>175.4</td>\n",
              "      <td>24.5</td>\n",
              "      <td>25.0014</td>\n",
              "    </tr>\n",
              "    <tr>\n",
              "      <th>2</th>\n",
              "      <td>2004-05-01</td>\n",
              "      <td>Trigo</td>\n",
              "      <td>29.6849</td>\n",
              "      <td>28.6268</td>\n",
              "      <td>2</td>\n",
              "      <td>33800.0</td>\n",
              "      <td>36500.0</td>\n",
              "      <td>39100.0</td>\n",
              "      <td>0.0</td>\n",
              "      <td>3.100419</td>\n",
              "      <td>23.0</td>\n",
              "      <td>21.7</td>\n",
              "      <td>27.3438</td>\n",
              "    </tr>\n",
              "    <tr>\n",
              "      <th>3</th>\n",
              "      <td>2004-06-01</td>\n",
              "      <td>Trigo</td>\n",
              "      <td>30.2614</td>\n",
              "      <td>29.9106</td>\n",
              "      <td>2</td>\n",
              "      <td>31225.0</td>\n",
              "      <td>33525.0</td>\n",
              "      <td>34800.0</td>\n",
              "      <td>31000.0</td>\n",
              "      <td>3.129148</td>\n",
              "      <td>18.8</td>\n",
              "      <td>22.1</td>\n",
              "      <td>29.6849</td>\n",
              "    </tr>\n",
              "    <tr>\n",
              "      <th>4</th>\n",
              "      <td>2004-07-01</td>\n",
              "      <td>Trigo</td>\n",
              "      <td>27.5388</td>\n",
              "      <td>27.7931</td>\n",
              "      <td>2</td>\n",
              "      <td>30975.0</td>\n",
              "      <td>31075.0</td>\n",
              "      <td>32400.0</td>\n",
              "      <td>29550.0</td>\n",
              "      <td>3.036777</td>\n",
              "      <td>38.0</td>\n",
              "      <td>22.2</td>\n",
              "      <td>30.2614</td>\n",
              "    </tr>\n",
              "  </tbody>\n",
              "</table>\n",
              "</div>"
            ],
            "text/plain": [
              "         Data Cultivo  Estadual     País  Id   Último  Abertura   Máxima  \\\n",
              "0  2004-03-01   Trigo   25.0014  24.2907   2  38150.0   40825.0  42400.0   \n",
              "1  2004-04-01   Trigo   27.3438  26.4508   2  36200.0   38050.0  40700.0   \n",
              "2  2004-05-01   Trigo   29.6849  28.6268   2  33800.0   36500.0  39100.0   \n",
              "3  2004-06-01   Trigo   30.2614  29.9106   2  31225.0   33525.0  34800.0   \n",
              "4  2004-07-01   Trigo   27.5388  27.7931   2  30975.0   31075.0  32400.0   \n",
              "\n",
              "    Mínima       USD  Precipitacao  Temperatura  lag_Estadual  \n",
              "0  36600.0  2.905457         175.4         24.9       25.0014  \n",
              "1  35400.0  2.905985         175.4         24.5       25.0014  \n",
              "2      0.0  3.100419          23.0         21.7       27.3438  \n",
              "3  31000.0  3.129148          18.8         22.1       29.6849  \n",
              "4  29550.0  3.036777          38.0         22.2       30.2614  "
            ]
          },
          "execution_count": 6,
          "metadata": {},
          "output_type": "execute_result"
        }
      ],
      "source": [
        "df[\"USD\"] = df_usd[\"USD\"]\n",
        "df[\"Precipitacao\"] = clima[\"precipitacao\"].astype(float)\n",
        "df[\"Temperatura\"] = clima[\"temperatura\"].astype(float)\n",
        "df['lag_Estadual'] = df['Estadual'].shift(1)\n",
        "df['lag_Estadual'] = df['lag_Estadual'].bfill()\n",
        "df.head()"
      ]
    },
    {
      "cell_type": "code",
      "execution_count": 7,
      "metadata": {
        "colab": {
          "base_uri": "https://localhost:8080/"
        },
        "id": "8q6ZKy3nqmO6",
        "outputId": "8242d70b-babd-4a16-c440-c7c1864923c8"
      },
      "outputs": [
        {
          "name": "stdout",
          "output_type": "stream",
          "text": [
            "Defaulting to user installation because normal site-packages is not writeableNote: you may need to restart the kernel to use updated packages.\n",
            "\n",
            "Requirement already satisfied: pmdarima in c:\\users\\hamatsu\\appdata\\roaming\\python\\python312\\site-packages (2.0.4)\n",
            "Requirement already satisfied: joblib>=0.11 in c:\\users\\hamatsu\\appdata\\roaming\\python\\python312\\site-packages (from pmdarima) (1.4.2)\n",
            "Requirement already satisfied: Cython!=0.29.18,!=0.29.31,>=0.29 in c:\\users\\hamatsu\\appdata\\roaming\\python\\python312\\site-packages (from pmdarima) (3.0.11)\n",
            "Requirement already satisfied: numpy>=1.21.2 in c:\\users\\hamatsu\\appdata\\roaming\\python\\python312\\site-packages (from pmdarima) (1.26.4)\n",
            "Requirement already satisfied: pandas>=0.19 in c:\\users\\hamatsu\\appdata\\roaming\\python\\python312\\site-packages (from pmdarima) (2.2.3)\n",
            "Requirement already satisfied: scikit-learn>=0.22 in c:\\users\\hamatsu\\appdata\\roaming\\python\\python312\\site-packages (from pmdarima) (1.5.2)\n",
            "Requirement already satisfied: scipy>=1.3.2 in c:\\users\\hamatsu\\appdata\\roaming\\python\\python312\\site-packages (from pmdarima) (1.14.1)\n",
            "Requirement already satisfied: statsmodels>=0.13.2 in c:\\users\\hamatsu\\appdata\\roaming\\python\\python312\\site-packages (from pmdarima) (0.14.3)\n",
            "Requirement already satisfied: urllib3 in c:\\users\\hamatsu\\appdata\\roaming\\python\\python312\\site-packages (from pmdarima) (2.2.3)\n",
            "Requirement already satisfied: setuptools!=50.0.0,>=38.6.0 in c:\\users\\hamatsu\\appdata\\roaming\\python\\python312\\site-packages (from pmdarima) (75.2.0)\n",
            "Requirement already satisfied: packaging>=17.1 in c:\\users\\hamatsu\\appdata\\roaming\\python\\python312\\site-packages (from pmdarima) (24.1)\n",
            "Requirement already satisfied: python-dateutil>=2.8.2 in c:\\users\\hamatsu\\appdata\\roaming\\python\\python312\\site-packages (from pandas>=0.19->pmdarima) (2.9.0.post0)\n",
            "Requirement already satisfied: pytz>=2020.1 in c:\\users\\hamatsu\\appdata\\roaming\\python\\python312\\site-packages (from pandas>=0.19->pmdarima) (2024.2)\n",
            "Requirement already satisfied: tzdata>=2022.7 in c:\\users\\hamatsu\\appdata\\roaming\\python\\python312\\site-packages (from pandas>=0.19->pmdarima) (2024.1)\n",
            "Requirement already satisfied: threadpoolctl>=3.1.0 in c:\\users\\hamatsu\\appdata\\roaming\\python\\python312\\site-packages (from scikit-learn>=0.22->pmdarima) (3.5.0)\n",
            "Requirement already satisfied: patsy>=0.5.6 in c:\\users\\hamatsu\\appdata\\roaming\\python\\python312\\site-packages (from statsmodels>=0.13.2->pmdarima) (0.5.6)\n",
            "Requirement already satisfied: six in c:\\users\\hamatsu\\appdata\\roaming\\python\\python312\\site-packages (from patsy>=0.5.6->statsmodels>=0.13.2->pmdarima) (1.16.0)\n"
          ]
        },
        {
          "name": "stderr",
          "output_type": "stream",
          "text": [
            "\n",
            "[notice] A new release of pip is available: 24.2 -> 25.1.1\n",
            "[notice] To update, run: python.exe -m pip install --upgrade pip\n"
          ]
        }
      ],
      "source": [
        "%pip install pmdarima"
      ]
    },
    {
      "cell_type": "code",
      "execution_count": 7,
      "metadata": {
        "id": "OyDglsyjqd1m"
      },
      "outputs": [],
      "source": [
        "import pandas as pd\n",
        "import numpy as np\n",
        "import seaborn as sns\n",
        "from sklearn.metrics import mean_squared_error, r2_score\n",
        "import matplotlib.pyplot as plt\n",
        "\n",
        "from pmdarima.arima import auto_arima\n",
        "from pmdarima import arima\n",
        "from pmdarima.utils import tsdisplay, autocorr_plot, decomposed_plot, plot_acf, plot_pacf\n",
        "from matplotlib.pyplot import rcParams\n",
        "\n",
        "rcParams['figure.figsize']=15,6\n",
        "\n",
        "from pmdarima.arima import ADFTest\n",
        "from statsmodels.tsa.statespace.sarimax import SARIMAX"
      ]
    },
    {
      "cell_type": "code",
      "execution_count": 8,
      "metadata": {
        "id": "al4hpZ73zsOm"
      },
      "outputs": [],
      "source": [
        "from sklearn.metrics import r2_score\n",
        "from sklearn.metrics import mean_absolute_error, mean_absolute_percentage_error, root_mean_squared_error"
      ]
    },
    {
      "cell_type": "code",
      "execution_count": 9,
      "metadata": {
        "id": "pAjYQHmovO65"
      },
      "outputs": [],
      "source": [
        "from statsmodels.tsa.stattools import adfuller\n",
        "\n",
        "def check_stationarity(series, signif=0.05, name='', verbose=False):\n",
        "\n",
        "\n",
        "    result = adfuller(series.values)\n",
        "    print(f'    Augmented Dickey-Fuller Test on \"{name}\"', \"\\n   \", '-'*47)\n",
        "\n",
        "    print('ADF Statistic: %f' % result[0])\n",
        "    print('p-value: %f' % result[1])\n",
        "    print('Critical Values:')\n",
        "    for key, value in result[4].items():\n",
        "        print('\\t%s: %.3f' % (key, value))\n",
        "\n",
        "    if (result[1] <= 0.05) & (result[4]['5%'] > result[0]):\n",
        "        print(\"\\u001b[32mStationary\\u001b[0m\")\n",
        "    else:\n",
        "        print(\"\\x1b[31mNon-stationary\\x1b[0m\")\n",
        "\n",
        "def plot_predictions(testing_dates, y_test, prediction):\n",
        "    df_test = pd.DataFrame({\"date\": testing_dates, \"actual\": y_test, \"prediction\": prediction })\n",
        "    _, ax = plt.subplots(figsize=(10, 5))\n",
        "    df_test.plot(ax=ax, label=\"Actual\", x=\"date\", y=\"actual\")\n",
        "    df_test.plot(ax=ax, label=\"Prediction\", x=\"date\", y=\"prediction\")\n",
        "    plt.legend([\"Actual\", \"Prediction\"])\n",
        "    plt.show()"
      ]
    },
    {
      "cell_type": "code",
      "execution_count": 10,
      "metadata": {
        "id": "YEFPeyrMOZPI"
      },
      "outputs": [],
      "source": [
        "def evaluate_model(y_test, prediction):\n",
        "  print(f\"MAE: {mean_absolute_error(y_test, prediction)}\")\n",
        "  print(f\"RMSE: {root_mean_squared_error(y_test, prediction)}\")\n",
        "  print(f\"MAPE: {mean_absolute_percentage_error(y_test, prediction)}\")\n",
        "  print(f\"R-Squared: {r2_score(y_test, prediction)}\")"
      ]
    },
    {
      "cell_type": "code",
      "execution_count": 11,
      "metadata": {
        "colab": {
          "base_uri": "https://localhost:8080/"
        },
        "id": "vDL-LSfgvS3E",
        "outputId": "c39697dc-d0d6-45d5-ee8a-fd17d7bedc45"
      },
      "outputs": [
        {
          "name": "stdout",
          "output_type": "stream",
          "text": [
            "    Augmented Dickey-Fuller Test on \"Estadual\" \n",
            "    -----------------------------------------------\n",
            "ADF Statistic: -0.810060\n",
            "p-value: 0.816149\n",
            "Critical Values:\n",
            "\t1%: -3.465\n",
            "\t5%: -2.877\n",
            "\t10%: -2.575\n",
            "\u001b[31mNon-stationary\u001b[0m\n"
          ]
        }
      ],
      "source": [
        "train_size = int(len(df) * 0.8)\n",
        "train, test = df[0:train_size], df[train_size:len(df)]\n",
        "\n",
        "check_stationarity(train[\"Estadual\"], name=train[\"Estadual\"].name)"
      ]
    },
    {
      "cell_type": "code",
      "execution_count": 12,
      "metadata": {
        "colab": {
          "base_uri": "https://localhost:8080/",
          "height": 496
        },
        "id": "AOJSsDr5qtXS",
        "outputId": "4662a85f-d8be-495f-94ed-26f61ebcf1d9"
      },
      "outputs": [
        {
          "data": {
            "text/plain": [
              "[<matplotlib.lines.Line2D at 0x23c6c06bd70>]"
            ]
          },
          "execution_count": 12,
          "metadata": {},
          "output_type": "execute_result"
        },
        {
          "data": {
            "image/png": "[encoded data removed]",
            "text/plain": [
              "<Figure size 1500x600 with 1 Axes>"
            ]
          },
          "metadata": {},
          "output_type": "display_data"
        }
      ],
      "source": [
        "train_size = int(len(df) * 0.8)\n",
        "train, test = df[0:train_size], df[train_size:len(df)]\n",
        "\n",
        "test_dates = test.Data\n",
        "\n",
        "# train = train.Estadual\n",
        "# test = test.Estadual\n",
        "\n",
        "plt.plot(train.Estadual)\n",
        "plt.plot(test.Estadual)"
      ]
    },
    {
      "cell_type": "code",
      "execution_count": 13,
      "metadata": {
        "colab": {
          "base_uri": "https://localhost:8080/"
        },
        "id": "zG5Ibrx5sK7t",
        "outputId": "111fdbeb-8b7e-4161-8604-d1aef33bd3cf"
      },
      "outputs": [
        {
          "data": {
            "text/plain": [
              "(0.36955482090099556, True)"
            ]
          },
          "execution_count": 13,
          "metadata": {},
          "output_type": "execute_result"
        }
      ],
      "source": [
        "from pmdarima.arima import ADFTest\n",
        "\n",
        "adf_test = ADFTest(alpha = 0.05)\n",
        "adf_test.should_diff(df[\"Estadual\"])\n",
        "\n",
        "##Dado Não-Estacionário > I = 0"
      ]
    },
    {
      "cell_type": "code",
      "execution_count": 14,
      "metadata": {
        "colab": {
          "base_uri": "https://localhost:8080/",
          "height": 206
        },
        "id": "Gmwy__ESbm0l",
        "outputId": "2b745005-3318-4a83-c1a0-25be5717b582"
      },
      "outputs": [
        {
          "data": {
            "text/html": [
              "<div>\n",
              "<style scoped>\n",
              "    .dataframe tbody tr th:only-of-type {\n",
              "        vertical-align: middle;\n",
              "    }\n",
              "\n",
              "    .dataframe tbody tr th {\n",
              "        vertical-align: top;\n",
              "    }\n",
              "\n",
              "    .dataframe thead th {\n",
              "        text-align: right;\n",
              "    }\n",
              "</style>\n",
              "<table border=\"1\" class=\"dataframe\">\n",
              "  <thead>\n",
              "    <tr style=\"text-align: right;\">\n",
              "      <th></th>\n",
              "      <th>Data</th>\n",
              "      <th>Cultivo</th>\n",
              "      <th>Estadual</th>\n",
              "      <th>País</th>\n",
              "      <th>Id</th>\n",
              "      <th>Último</th>\n",
              "      <th>Abertura</th>\n",
              "      <th>Máxima</th>\n",
              "      <th>Mínima</th>\n",
              "      <th>USD</th>\n",
              "      <th>Precipitacao</th>\n",
              "      <th>Temperatura</th>\n",
              "      <th>lag_Estadual</th>\n",
              "    </tr>\n",
              "  </thead>\n",
              "  <tbody>\n",
              "    <tr>\n",
              "      <th>0</th>\n",
              "      <td>2004-03-01</td>\n",
              "      <td>Trigo</td>\n",
              "      <td>25.0014</td>\n",
              "      <td>24.2907</td>\n",
              "      <td>2</td>\n",
              "      <td>38150.0</td>\n",
              "      <td>40825.0</td>\n",
              "      <td>42400.0</td>\n",
              "      <td>36600.0</td>\n",
              "      <td>2.905457</td>\n",
              "      <td>175.4</td>\n",
              "      <td>24.9</td>\n",
              "      <td>25.0014</td>\n",
              "    </tr>\n",
              "    <tr>\n",
              "      <th>1</th>\n",
              "      <td>2004-04-01</td>\n",
              "      <td>Trigo</td>\n",
              "      <td>27.3438</td>\n",
              "      <td>26.4508</td>\n",
              "      <td>2</td>\n",
              "      <td>36200.0</td>\n",
              "      <td>38050.0</td>\n",
              "      <td>40700.0</td>\n",
              "      <td>35400.0</td>\n",
              "      <td>2.905985</td>\n",
              "      <td>175.4</td>\n",
              "      <td>24.5</td>\n",
              "      <td>25.0014</td>\n",
              "    </tr>\n",
              "    <tr>\n",
              "      <th>2</th>\n",
              "      <td>2004-05-01</td>\n",
              "      <td>Trigo</td>\n",
              "      <td>29.6849</td>\n",
              "      <td>28.6268</td>\n",
              "      <td>2</td>\n",
              "      <td>33800.0</td>\n",
              "      <td>36500.0</td>\n",
              "      <td>39100.0</td>\n",
              "      <td>0.0</td>\n",
              "      <td>3.100419</td>\n",
              "      <td>23.0</td>\n",
              "      <td>21.7</td>\n",
              "      <td>27.3438</td>\n",
              "    </tr>\n",
              "    <tr>\n",
              "      <th>3</th>\n",
              "      <td>2004-06-01</td>\n",
              "      <td>Trigo</td>\n",
              "      <td>30.2614</td>\n",
              "      <td>29.9106</td>\n",
              "      <td>2</td>\n",
              "      <td>31225.0</td>\n",
              "      <td>33525.0</td>\n",
              "      <td>34800.0</td>\n",
              "      <td>31000.0</td>\n",
              "      <td>3.129148</td>\n",
              "      <td>18.8</td>\n",
              "      <td>22.1</td>\n",
              "      <td>29.6849</td>\n",
              "    </tr>\n",
              "    <tr>\n",
              "      <th>4</th>\n",
              "      <td>2004-07-01</td>\n",
              "      <td>Trigo</td>\n",
              "      <td>27.5388</td>\n",
              "      <td>27.7931</td>\n",
              "      <td>2</td>\n",
              "      <td>30975.0</td>\n",
              "      <td>31075.0</td>\n",
              "      <td>32400.0</td>\n",
              "      <td>29550.0</td>\n",
              "      <td>3.036777</td>\n",
              "      <td>38.0</td>\n",
              "      <td>22.2</td>\n",
              "      <td>30.2614</td>\n",
              "    </tr>\n",
              "  </tbody>\n",
              "</table>\n",
              "</div>"
            ],
            "text/plain": [
              "         Data Cultivo  Estadual     País  Id   Último  Abertura   Máxima  \\\n",
              "0  2004-03-01   Trigo   25.0014  24.2907   2  38150.0   40825.0  42400.0   \n",
              "1  2004-04-01   Trigo   27.3438  26.4508   2  36200.0   38050.0  40700.0   \n",
              "2  2004-05-01   Trigo   29.6849  28.6268   2  33800.0   36500.0  39100.0   \n",
              "3  2004-06-01   Trigo   30.2614  29.9106   2  31225.0   33525.0  34800.0   \n",
              "4  2004-07-01   Trigo   27.5388  27.7931   2  30975.0   31075.0  32400.0   \n",
              "\n",
              "    Mínima       USD  Precipitacao  Temperatura  lag_Estadual  \n",
              "0  36600.0  2.905457         175.4         24.9       25.0014  \n",
              "1  35400.0  2.905985         175.4         24.5       25.0014  \n",
              "2      0.0  3.100419          23.0         21.7       27.3438  \n",
              "3  31000.0  3.129148          18.8         22.1       29.6849  \n",
              "4  29550.0  3.036777          38.0         22.2       30.2614  "
            ]
          },
          "execution_count": 14,
          "metadata": {},
          "output_type": "execute_result"
        }
      ],
      "source": [
        "train.head()"
      ]
    },
    {
      "cell_type": "markdown",
      "metadata": {
        "id": "ATO6pS7BxbXI"
      },
      "source": [
        "# USD"
      ]
    },
    {
      "cell_type": "code",
      "execution_count": 16,
      "metadata": {
        "id": "9hNVoT5RyzlI"
      },
      "outputs": [],
      "source": [
        "train_size = int(len(df) * 0.8)\n",
        "train, test = df[0:train_size], df[train_size:len(df)]\n",
        "\n",
        "test_dates = test.Data"
      ]
    },
    {
      "cell_type": "code",
      "execution_count": 17,
      "metadata": {
        "id": "fuECqklrxbHC"
      },
      "outputs": [],
      "source": [
        "arima_model = auto_arima(train.Estadual, X = train[[\"USD\", \"País\"]],start_p=0, d=0, start_q=0,\n",
        "                         max_p = 5, max_d = 5, max_q = 5,\n",
        "                         start_P = 0, D = 0, start_Q=5,\n",
        "                         max_P=5, max_D=5, max_Q=5,\n",
        "                         m=12, seasonal=True, error_action =\"warn\",\n",
        "                         Trace=True, random_state=20, n_fits=50)"
      ]
    },
    {
      "cell_type": "code",
      "execution_count": 20,
      "metadata": {
        "colab": {
          "base_uri": "https://localhost:8080/",
          "height": 528
        },
        "id": "dcWPAx9VxZSG",
        "outputId": "14dbcb66-0937-4450-b774-b8ffb86a8d1a"
      },
      "outputs": [
        {
          "data": {
            "text/html": [
              "<table class=\"simpletable\">\n",
              "<caption>SARIMAX Results</caption>\n",
              "<tr>\n",
              "  <th>Dep. Variable:</th>           <td>y</td>        <th>  No. Observations:  </th>    <td>202</td>  \n",
              "</tr>\n",
              "<tr>\n",
              "  <th>Model:</th>           <td>SARIMAX(1, 0, 0)</td> <th>  Log Likelihood     </th> <td>-317.335</td>\n",
              "</tr>\n",
              "<tr>\n",
              "  <th>Date:</th>            <td>Mon, 07 Apr 2025</td> <th>  AIC                </th>  <td>644.669</td>\n",
              "</tr>\n",
              "<tr>\n",
              "  <th>Time:</th>                <td>00:23:28</td>     <th>  BIC                </th>  <td>661.211</td>\n",
              "</tr>\n",
              "<tr>\n",
              "  <th>Sample:</th>                  <td>0</td>        <th>  HQIC               </th>  <td>651.362</td>\n",
              "</tr>\n",
              "<tr>\n",
              "  <th></th>                      <td> - 202</td>      <th>                     </th>     <td> </td>   \n",
              "</tr>\n",
              "<tr>\n",
              "  <th>Covariance Type:</th>        <td>opg</td>       <th>                     </th>     <td> </td>   \n",
              "</tr>\n",
              "</table>\n",
              "<table class=\"simpletable\">\n",
              "<tr>\n",
              "      <td></td>         <th>coef</th>     <th>std err</th>      <th>z</th>      <th>P>|z|</th>  <th>[0.025</th>    <th>0.975]</th>  \n",
              "</tr>\n",
              "<tr>\n",
              "  <th>intercept</th> <td>    0.3281</td> <td>    0.159</td> <td>    2.058</td> <td> 0.040</td> <td>    0.016</td> <td>    0.641</td>\n",
              "</tr>\n",
              "<tr>\n",
              "  <th>USD</th>       <td>    2.0775</td> <td>    0.611</td> <td>    3.400</td> <td> 0.001</td> <td>    0.880</td> <td>    3.275</td>\n",
              "</tr>\n",
              "<tr>\n",
              "  <th>País</th>      <td>    0.7635</td> <td>    0.030</td> <td>   25.245</td> <td> 0.000</td> <td>    0.704</td> <td>    0.823</td>\n",
              "</tr>\n",
              "<tr>\n",
              "  <th>ar.L1</th>     <td>    0.9128</td> <td>    0.016</td> <td>   56.534</td> <td> 0.000</td> <td>    0.881</td> <td>    0.944</td>\n",
              "</tr>\n",
              "<tr>\n",
              "  <th>sigma2</th>    <td>    1.3434</td> <td>    0.096</td> <td>   13.990</td> <td> 0.000</td> <td>    1.155</td> <td>    1.532</td>\n",
              "</tr>\n",
              "</table>\n",
              "<table class=\"simpletable\">\n",
              "<tr>\n",
              "  <th>Ljung-Box (L1) (Q):</th>     <td>0.01</td> <th>  Jarque-Bera (JB):  </th> <td>2789.04</td>\n",
              "</tr>\n",
              "<tr>\n",
              "  <th>Prob(Q):</th>                <td>0.92</td> <th>  Prob(JB):          </th>  <td>0.00</td>  \n",
              "</tr>\n",
              "<tr>\n",
              "  <th>Heteroskedasticity (H):</th> <td>0.44</td> <th>  Skew:              </th>  <td>-0.89</td> \n",
              "</tr>\n",
              "<tr>\n",
              "  <th>Prob(H) (two-sided):</th>    <td>0.00</td> <th>  Kurtosis:          </th>  <td>21.12</td> \n",
              "</tr>\n",
              "</table><br/><br/>Warnings:<br/>[1] Covariance matrix calculated using the outer product of gradients (complex-step)."
            ],
            "text/latex": [
              "\\begin{center}\n",
              "\\begin{tabular}{lclc}\n",
              "\\toprule\n",
              "\\textbf{Dep. Variable:}          &        y         & \\textbf{  No. Observations:  } &    202      \\\\\n",
              "\\textbf{Model:}                  & SARIMAX(1, 0, 0) & \\textbf{  Log Likelihood     } &  -317.335   \\\\\n",
              "\\textbf{Date:}                   & Mon, 07 Apr 2025 & \\textbf{  AIC                } &  644.669    \\\\\n",
              "\\textbf{Time:}                   &     00:23:28     & \\textbf{  BIC                } &  661.211    \\\\\n",
              "\\textbf{Sample:}                 &        0         & \\textbf{  HQIC               } &  651.362    \\\\\n",
              "\\textbf{}                        &       - 202      & \\textbf{                     } &             \\\\\n",
              "\\textbf{Covariance Type:}        &       opg        & \\textbf{                     } &             \\\\\n",
              "\\bottomrule\n",
              "\\end{tabular}\n",
              "\\begin{tabular}{lcccccc}\n",
              "                   & \\textbf{coef} & \\textbf{std err} & \\textbf{z} & \\textbf{P$> |$z$|$} & \\textbf{[0.025} & \\textbf{0.975]}  \\\\\n",
              "\\midrule\n",
              "\\textbf{intercept} &       0.3281  &        0.159     &     2.058  &         0.040        &        0.016    &        0.641     \\\\\n",
              "\\textbf{USD}       &       2.0775  &        0.611     &     3.400  &         0.001        &        0.880    &        3.275     \\\\\n",
              "\\textbf{País}      &       0.7635  &        0.030     &    25.245  &         0.000        &        0.704    &        0.823     \\\\\n",
              "\\textbf{ar.L1}     &       0.9128  &        0.016     &    56.534  &         0.000        &        0.881    &        0.944     \\\\\n",
              "\\textbf{sigma2}    &       1.3434  &        0.096     &    13.990  &         0.000        &        1.155    &        1.532     \\\\\n",
              "\\bottomrule\n",
              "\\end{tabular}\n",
              "\\begin{tabular}{lclc}\n",
              "\\textbf{Ljung-Box (L1) (Q):}     & 0.01 & \\textbf{  Jarque-Bera (JB):  } & 2789.04  \\\\\n",
              "\\textbf{Prob(Q):}                & 0.92 & \\textbf{  Prob(JB):          } &   0.00   \\\\\n",
              "\\textbf{Heteroskedasticity (H):} & 0.44 & \\textbf{  Skew:              } &  -0.89   \\\\\n",
              "\\textbf{Prob(H) (two-sided):}    & 0.00 & \\textbf{  Kurtosis:          } &  21.12   \\\\\n",
              "\\bottomrule\n",
              "\\end{tabular}\n",
              "%\\caption{SARIMAX Results}\n",
              "\\end{center}\n",
              "\n",
              "Warnings: \\newline\n",
              " [1] Covariance matrix calculated using the outer product of gradients (complex-step)."
            ],
            "text/plain": [
              "<class 'statsmodels.iolib.summary.Summary'>\n",
              "\"\"\"\n",
              "                               SARIMAX Results                                \n",
              "==============================================================================\n",
              "Dep. Variable:                      y   No. Observations:                  202\n",
              "Model:               SARIMAX(1, 0, 0)   Log Likelihood                -317.335\n",
              "Date:                Mon, 07 Apr 2025   AIC                            644.669\n",
              "Time:                        00:23:28   BIC                            661.211\n",
              "Sample:                             0   HQIC                           651.362\n",
              "                                - 202                                         \n",
              "Covariance Type:                  opg                                         \n",
              "==============================================================================\n",
              "                 coef    std err          z      P>|z|      [0.025      0.975]\n",
              "------------------------------------------------------------------------------\n",
              "intercept      0.3281      0.159      2.058      0.040       0.016       0.641\n",
              "USD            2.0775      0.611      3.400      0.001       0.880       3.275\n",
              "País           0.7635      0.030     25.245      0.000       0.704       0.823\n",
              "ar.L1          0.9128      0.016     56.534      0.000       0.881       0.944\n",
              "sigma2         1.3434      0.096     13.990      0.000       1.155       1.532\n",
              "===================================================================================\n",
              "Ljung-Box (L1) (Q):                   0.01   Jarque-Bera (JB):              2789.04\n",
              "Prob(Q):                              0.92   Prob(JB):                         0.00\n",
              "Heteroskedasticity (H):               0.44   Skew:                            -0.89\n",
              "Prob(H) (two-sided):                  0.00   Kurtosis:                        21.12\n",
              "===================================================================================\n",
              "\n",
              "Warnings:\n",
              "[1] Covariance matrix calculated using the outer product of gradients (complex-step).\n",
              "\"\"\""
            ]
          },
          "execution_count": 20,
          "metadata": {},
          "output_type": "execute_result"
        }
      ],
      "source": [
        "arima_model.summary()"
      ]
    },
    {
      "cell_type": "code",
      "execution_count": 21,
      "metadata": {
        "id": "SwR5gZ2oxkbL"
      },
      "outputs": [
        {
          "ename": "ValueError",
          "evalue": "Found non-finite values in dataframe",
          "output_type": "error",
          "traceback": [
            "\u001b[1;31m---------------------------------------------------------------------------\u001b[0m",
            "\u001b[1;31mValueError\u001b[0m                                Traceback (most recent call last)",
            "Cell \u001b[1;32mIn[21], line 1\u001b[0m\n\u001b[1;32m----> 1\u001b[0m prediction \u001b[38;5;241m=\u001b[39m pd\u001b[38;5;241m.\u001b[39mDataFrame(\u001b[43marima_model\u001b[49m\u001b[38;5;241;43m.\u001b[39;49m\u001b[43mpredict\u001b[49m\u001b[43m(\u001b[49m\u001b[43mn_periods\u001b[49m\u001b[38;5;241;43m=\u001b[39;49m\u001b[38;5;28;43mlen\u001b[39;49m\u001b[43m(\u001b[49m\u001b[43mtest\u001b[49m\u001b[43m)\u001b[49m\u001b[43m,\u001b[49m\u001b[43m \u001b[49m\u001b[43mX\u001b[49m\u001b[38;5;241;43m=\u001b[39;49m\u001b[43mtest\u001b[49m\u001b[43m[\u001b[49m\u001b[43m[\u001b[49m\u001b[38;5;124;43m\"\u001b[39;49m\u001b[38;5;124;43mUSD\u001b[39;49m\u001b[38;5;124;43m\"\u001b[39;49m\u001b[43m,\u001b[49m\u001b[43m \u001b[49m\u001b[38;5;124;43m\"\u001b[39;49m\u001b[38;5;124;43mPaís\u001b[39;49m\u001b[38;5;124;43m\"\u001b[39;49m\u001b[43m]\u001b[49m\u001b[43m]\u001b[49m\u001b[43m)\u001b[49m,\n\u001b[0;32m      2\u001b[0m                           \u001b[38;5;66;03m# index=test.index\u001b[39;00m\n\u001b[0;32m      3\u001b[0m                           )\n\u001b[0;32m      4\u001b[0m prediction\u001b[38;5;241m.\u001b[39mcolumns \u001b[38;5;241m=\u001b[39m [\u001b[38;5;124m\"\u001b[39m\u001b[38;5;124mpredicted_Estadual\u001b[39m\u001b[38;5;124m\"\u001b[39m]\n\u001b[0;32m      5\u001b[0m prediction\u001b[38;5;241m.\u001b[39mindex \u001b[38;5;241m=\u001b[39m test\u001b[38;5;241m.\u001b[39mindex\n",
            "File \u001b[1;32m~\\AppData\\Roaming\\Python\\Python312\\site-packages\\pmdarima\\arima\\arima.py:785\u001b[0m, in \u001b[0;36mARIMA.predict\u001b[1;34m(self, n_periods, X, return_conf_int, alpha, **kwargs)\u001b[0m\n\u001b[0;32m    782\u001b[0m     \u001b[38;5;28;01mraise\u001b[39;00m \u001b[38;5;167;01mTypeError\u001b[39;00m(\u001b[38;5;124m\"\u001b[39m\u001b[38;5;124mn_periods must be an int\u001b[39m\u001b[38;5;124m\"\u001b[39m)\n\u001b[0;32m    784\u001b[0m \u001b[38;5;66;03m# if we fit with exog, make sure one was passed:\u001b[39;00m\n\u001b[1;32m--> 785\u001b[0m X \u001b[38;5;241m=\u001b[39m \u001b[38;5;28;43mself\u001b[39;49m\u001b[38;5;241;43m.\u001b[39;49m\u001b[43m_check_exog\u001b[49m\u001b[43m(\u001b[49m\u001b[43mX\u001b[49m\u001b[43m)\u001b[49m  \u001b[38;5;66;03m# type: np.ndarray\u001b[39;00m\n\u001b[0;32m    786\u001b[0m \u001b[38;5;28;01mif\u001b[39;00m X \u001b[38;5;129;01mis\u001b[39;00m \u001b[38;5;129;01mnot\u001b[39;00m \u001b[38;5;28;01mNone\u001b[39;00m \u001b[38;5;129;01mand\u001b[39;00m X\u001b[38;5;241m.\u001b[39mshape[\u001b[38;5;241m0\u001b[39m] \u001b[38;5;241m!=\u001b[39m n_periods:\n\u001b[0;32m    787\u001b[0m     \u001b[38;5;28;01mraise\u001b[39;00m \u001b[38;5;167;01mValueError\u001b[39;00m(\n\u001b[0;32m    788\u001b[0m         \u001b[38;5;124mf\u001b[39m\u001b[38;5;124m'\u001b[39m\u001b[38;5;124mX array dims (n_rows) != n_periods. Received \u001b[39m\u001b[38;5;124m'\u001b[39m\n\u001b[0;32m    789\u001b[0m         \u001b[38;5;124mf\u001b[39m\u001b[38;5;124m'\u001b[39m\u001b[38;5;124mn_rows=\u001b[39m\u001b[38;5;132;01m{\u001b[39;00mX\u001b[38;5;241m.\u001b[39mshape[\u001b[38;5;241m0\u001b[39m]\u001b[38;5;132;01m}\u001b[39;00m\u001b[38;5;124m and n_periods=\u001b[39m\u001b[38;5;132;01m{\u001b[39;00mn_periods\u001b[38;5;132;01m}\u001b[39;00m\u001b[38;5;124m'\u001b[39m\n\u001b[0;32m    790\u001b[0m     )\n",
            "File \u001b[1;32m~\\AppData\\Roaming\\Python\\Python312\\site-packages\\pmdarima\\arima\\arima.py:633\u001b[0m, in \u001b[0;36mARIMA._check_exog\u001b[1;34m(self, X)\u001b[0m\n\u001b[0;32m    629\u001b[0m         \u001b[38;5;28;01mraise\u001b[39;00m \u001b[38;5;167;01mValueError\u001b[39;00m(\u001b[38;5;124m'\u001b[39m\u001b[38;5;124mWhen an ARIMA is fit with an X \u001b[39m\u001b[38;5;124m'\u001b[39m\n\u001b[0;32m    630\u001b[0m                          \u001b[38;5;124m'\u001b[39m\u001b[38;5;124marray, it must also be provided one for \u001b[39m\u001b[38;5;124m'\u001b[39m\n\u001b[0;32m    631\u001b[0m                          \u001b[38;5;124m'\u001b[39m\u001b[38;5;124mpredicting or updating observations.\u001b[39m\u001b[38;5;124m'\u001b[39m)\n\u001b[0;32m    632\u001b[0m     \u001b[38;5;28;01melse\u001b[39;00m:\n\u001b[1;32m--> 633\u001b[0m         \u001b[38;5;28;01mreturn\u001b[39;00m \u001b[43mcheck_exog\u001b[49m\u001b[43m(\u001b[49m\u001b[43mX\u001b[49m\u001b[43m,\u001b[49m\u001b[43m \u001b[49m\u001b[43mforce_all_finite\u001b[49m\u001b[38;5;241;43m=\u001b[39;49m\u001b[38;5;28;43;01mTrue\u001b[39;49;00m\u001b[43m,\u001b[49m\u001b[43m \u001b[49m\u001b[43mdtype\u001b[49m\u001b[38;5;241;43m=\u001b[39;49m\u001b[43mDTYPE\u001b[49m\u001b[43m)\u001b[49m\n\u001b[0;32m    634\u001b[0m \u001b[38;5;28;01mreturn\u001b[39;00m \u001b[38;5;28;01mNone\u001b[39;00m\n",
            "File \u001b[1;32m~\\AppData\\Roaming\\Python\\Python312\\site-packages\\pmdarima\\utils\\array.py:238\u001b[0m, in \u001b[0;36mcheck_exog\u001b[1;34m(X, dtype, copy, force_all_finite)\u001b[0m\n\u001b[0;32m    236\u001b[0m         X \u001b[38;5;241m=\u001b[39m X\u001b[38;5;241m.\u001b[39mastype(dtype)  \u001b[38;5;66;03m# tantamount to copy\u001b[39;00m\n\u001b[0;32m    237\u001b[0m     \u001b[38;5;28;01mif\u001b[39;00m force_all_finite \u001b[38;5;129;01mand\u001b[39;00m (\u001b[38;5;241m~\u001b[39mX\u001b[38;5;241m.\u001b[39mapply(np\u001b[38;5;241m.\u001b[39misfinite))\u001b[38;5;241m.\u001b[39many()\u001b[38;5;241m.\u001b[39many():\n\u001b[1;32m--> 238\u001b[0m         \u001b[38;5;28;01mraise\u001b[39;00m \u001b[38;5;167;01mValueError\u001b[39;00m(\u001b[38;5;124m\"\u001b[39m\u001b[38;5;124mFound non-finite values in dataframe\u001b[39m\u001b[38;5;124m\"\u001b[39m)\n\u001b[0;32m    239\u001b[0m     \u001b[38;5;28;01mreturn\u001b[39;00m X\n\u001b[0;32m    241\u001b[0m \u001b[38;5;66;03m# otherwise just a pass-through to the scikit-learn method\u001b[39;00m\n",
            "\u001b[1;31mValueError\u001b[0m: Found non-finite values in dataframe"
          ]
        }
      ],
      "source": [
        "prediction = pd.DataFrame(arima_model.predict(n_periods=len(test), X=test[[\"USD\", \"País\"]]),\n",
        "                          # index=test.index\n",
        "                          )\n",
        "prediction.columns = [\"predicted_Estadual\"]\n",
        "prediction.index = test.index"
      ]
    },
    {
      "cell_type": "code",
      "execution_count": null,
      "metadata": {
        "colab": {
          "base_uri": "https://localhost:8080/",
          "height": 569
        },
        "id": "FVTcDApMxpJ0",
        "outputId": "52c77099-2965-48b4-fd7c-005c1dc28a0b"
      },
      "outputs": [
        {
          "name": "stderr",
          "output_type": "stream",
          "text": [
            "<ipython-input-23-c44d8dde0550>:1: SettingWithCopyWarning: \n",
            "A value is trying to be set on a copy of a slice from a DataFrame.\n",
            "Try using .loc[row_indexer,col_indexer] = value instead\n",
            "\n",
            "See the caveats in the documentation: https://pandas.pydata.org/pandas-docs/stable/user_guide/indexing.html#returning-a-view-versus-a-copy\n",
            "  test[\"Data\"] = test.index\n"
          ]
        },
        {
          "data": {
            "image/png": "[encoded data removed]",
            "text/plain": [
              "<Figure size 1000x500 with 1 Axes>"
            ]
          },
          "metadata": {},
          "output_type": "display_data"
        }
      ],
      "source": [
        "test[\"Data\"] = test.index\n",
        "testing_dates = test_dates\n",
        "\n",
        "plot_predictions(testing_dates, test.Estadual, prediction.predicted_Estadual)"
      ]
    },
    {
      "cell_type": "code",
      "execution_count": null,
      "metadata": {
        "colab": {
          "base_uri": "https://localhost:8080/",
          "height": 226
        },
        "id": "3oFKr4oeyoop",
        "outputId": "858e97b2-4f37-4bac-f8c9-670d8c15a915"
      },
      "outputs": [
        {
          "data": {
            "application/vnd.google.colaboratory.intrinsic+json": {
              "summary": "{\n  \"name\": \"test\",\n  \"rows\": 50,\n  \"fields\": [\n    {\n      \"column\": \"Data\",\n      \"properties\": {\n        \"dtype\": \"number\",\n        \"std\": 14,\n        \"min\": 196,\n        \"max\": 245,\n        \"num_unique_values\": 50,\n        \"samples\": [\n          209,\n          235,\n          226\n        ],\n        \"semantic_type\": \"\",\n        \"description\": \"\"\n      }\n    },\n    {\n      \"column\": \"Cultivo\",\n      \"properties\": {\n        \"dtype\": \"category\",\n        \"num_unique_values\": 1,\n        \"samples\": [\n          \"Soja\"\n        ],\n        \"semantic_type\": \"\",\n        \"description\": \"\"\n      }\n    },\n    {\n      \"column\": \"Estadual\",\n      \"properties\": {\n        \"dtype\": \"number\",\n        \"std\": 22.893364074398487,\n        \"min\": 97.6436,\n        \"max\": 179.2949,\n        \"num_unique_values\": 50,\n        \"samples\": [\n          163.2808\n        ],\n        \"semantic_type\": \"\",\n        \"description\": \"\"\n      }\n    },\n    {\n      \"column\": \"Pa\\u00eds\",\n      \"properties\": {\n        \"dtype\": \"number\",\n        \"std\": 22.831761955000587,\n        \"min\": 105.3475,\n        \"max\": 191.9989,\n        \"num_unique_values\": 50,\n        \"samples\": [\n          159.3011\n        ],\n        \"semantic_type\": \"\",\n        \"description\": \"\"\n      }\n    },\n    {\n      \"column\": \"Id\",\n      \"properties\": {\n        \"dtype\": \"number\",\n        \"std\": 0,\n        \"min\": 0,\n        \"max\": 0,\n        \"num_unique_values\": 1,\n        \"samples\": [\n          0\n        ],\n        \"semantic_type\": \"\",\n        \"description\": \"\"\n      }\n    },\n    {\n      \"column\": \"\\u00daltimo\",\n      \"properties\": {\n        \"dtype\": \"number\",\n        \"std\": 19148.63512517087,\n        \"min\": 1.02175,\n        \"max\": 98200.0,\n        \"num_unique_values\": 49,\n        \"samples\": [\n          1.257\n        ],\n        \"semantic_type\": \"\",\n        \"description\": \"\"\n      }\n    },\n    {\n      \"column\": \"Abertura\",\n      \"properties\": {\n        \"dtype\": \"number\",\n        \"std\": 18244.160452049542,\n        \"min\": 1.00012,\n        \"max\": 95062.0,\n        \"num_unique_values\": 50,\n        \"samples\": [\n          1.294\n        ],\n        \"semantic_type\": \"\",\n        \"description\": \"\"\n      }\n    },\n    {\n      \"column\": \"M\\u00e1xima\",\n      \"properties\": {\n        \"dtype\": \"number\",\n        \"std\": 13673.54798767716,\n        \"min\": 1.045,\n        \"max\": 96688.0,\n        \"num_unique_values\": 50,\n        \"samples\": [\n          1.308\n        ],\n        \"semantic_type\": \"\",\n        \"description\": \"\"\n      }\n    },\n    {\n      \"column\": \"M\\u00ednima\",\n      \"properties\": {\n        \"dtype\": \"number\",\n        \"std\": 25653.602909716497,\n        \"min\": 1.013,\n        \"max\": 99500.0,\n        \"num_unique_values\": 50,\n        \"samples\": [\n          1.24912\n        ],\n        \"semantic_type\": \"\",\n        \"description\": \"\"\n      }\n    },\n    {\n      \"column\": \"USD\",\n      \"properties\": {\n        \"dtype\": \"number\",\n        \"std\": 0.24378729307521507,\n        \"min\": 4.758015789473684,\n        \"max\": 5.651391304347826,\n        \"num_unique_values\": 50,\n        \"samples\": [\n          5.251718181818182\n        ],\n        \"semantic_type\": \"\",\n        \"description\": \"\"\n      }\n    },\n    {\n      \"column\": \"Precipitacao\",\n      \"properties\": {\n        \"dtype\": \"number\",\n        \"std\": 61.33327471228361,\n        \"min\": 0.0,\n        \"max\": 297.6,\n        \"num_unique_values\": 11,\n        \"samples\": [\n          144.2\n        ],\n        \"semantic_type\": \"\",\n        \"description\": \"\"\n      }\n    },\n    {\n      \"column\": \"Temperatura\",\n      \"properties\": {\n        \"dtype\": \"number\",\n        \"std\": 1.2687046428780477,\n        \"min\": 22.6,\n        \"max\": 27.3,\n        \"num_unique_values\": 22,\n        \"samples\": [\n          26.7\n        ],\n        \"semantic_type\": \"\",\n        \"description\": \"\"\n      }\n    },\n    {\n      \"column\": \"lag_Estadual\",\n      \"properties\": {\n        \"dtype\": \"number\",\n        \"std\": 23.370163705726263,\n        \"min\": 97.6436,\n        \"max\": 179.2949,\n        \"num_unique_values\": 50,\n        \"samples\": [\n          164.3178\n        ],\n        \"semantic_type\": \"\",\n        \"description\": \"\"\n      }\n    },\n    {\n      \"column\": \"predict_Estadual\",\n      \"properties\": {\n        \"dtype\": \"number\",\n        \"std\": 23.674385343081678,\n        \"min\": 102.49630835910102,\n        \"max\": 192.87755258980746,\n        \"num_unique_values\": 50,\n        \"samples\": [\n          160.09014960933172\n        ],\n        \"semantic_type\": \"\",\n        \"description\": \"\"\n      }\n    }\n  ]\n}",
              "type": "dataframe",
              "variable_name": "test"
            },
            "text/html": [
              "\n",
              "  <div id=\"df-53dee6b0-059a-4922-a46b-36f957cdecb9\" class=\"colab-df-container\">\n",
              "    <div>\n",
              "<style scoped>\n",
              "    .dataframe tbody tr th:only-of-type {\n",
              "        vertical-align: middle;\n",
              "    }\n",
              "\n",
              "    .dataframe tbody tr th {\n",
              "        vertical-align: top;\n",
              "    }\n",
              "\n",
              "    .dataframe thead th {\n",
              "        text-align: right;\n",
              "    }\n",
              "</style>\n",
              "<table border=\"1\" class=\"dataframe\">\n",
              "  <thead>\n",
              "    <tr style=\"text-align: right;\">\n",
              "      <th></th>\n",
              "      <th>Data</th>\n",
              "      <th>Cultivo</th>\n",
              "      <th>Estadual</th>\n",
              "      <th>País</th>\n",
              "      <th>Id</th>\n",
              "      <th>Último</th>\n",
              "      <th>Abertura</th>\n",
              "      <th>Máxima</th>\n",
              "      <th>Mínima</th>\n",
              "      <th>USD</th>\n",
              "      <th>Precipitacao</th>\n",
              "      <th>Temperatura</th>\n",
              "      <th>lag_Estadual</th>\n",
              "      <th>predict_Estadual</th>\n",
              "    </tr>\n",
              "  </thead>\n",
              "  <tbody>\n",
              "    <tr>\n",
              "      <th>196</th>\n",
              "      <td>196</td>\n",
              "      <td>Soja</td>\n",
              "      <td>117.0222</td>\n",
              "      <td>113.3375</td>\n",
              "      <td>0</td>\n",
              "      <td>95250.00000</td>\n",
              "      <td>89175.00000</td>\n",
              "      <td>96688.00000</td>\n",
              "      <td>86538.00000</td>\n",
              "      <td>5.280191</td>\n",
              "      <td>33.0</td>\n",
              "      <td>26.7</td>\n",
              "      <td>104.0607</td>\n",
              "      <td>114.511640</td>\n",
              "    </tr>\n",
              "    <tr>\n",
              "      <th>197</th>\n",
              "      <td>197</td>\n",
              "      <td>Soja</td>\n",
              "      <td>130.8449</td>\n",
              "      <td>128.3004</td>\n",
              "      <td>0</td>\n",
              "      <td>1.02175</td>\n",
              "      <td>95062.00000</td>\n",
              "      <td>1.04650</td>\n",
              "      <td>94288.00000</td>\n",
              "      <td>5.461233</td>\n",
              "      <td>33.0</td>\n",
              "      <td>26.7</td>\n",
              "      <td>117.0222</td>\n",
              "      <td>129.417034</td>\n",
              "    </tr>\n",
              "    <tr>\n",
              "      <th>198</th>\n",
              "      <td>198</td>\n",
              "      <td>Soja</td>\n",
              "      <td>156.7972</td>\n",
              "      <td>147.4121</td>\n",
              "      <td>0</td>\n",
              "      <td>1.05688</td>\n",
              "      <td>1.02338</td>\n",
              "      <td>1.09388</td>\n",
              "      <td>1.01300</td>\n",
              "      <td>5.399486</td>\n",
              "      <td>33.0</td>\n",
              "      <td>26.7</td>\n",
              "      <td>130.8449</td>\n",
              "      <td>148.846007</td>\n",
              "    </tr>\n",
              "    <tr>\n",
              "      <th>199</th>\n",
              "      <td>199</td>\n",
              "      <td>Soja</td>\n",
              "      <td>169.1946</td>\n",
              "      <td>157.3982</td>\n",
              "      <td>0</td>\n",
              "      <td>1.16875</td>\n",
              "      <td>1.06025</td>\n",
              "      <td>1.19962</td>\n",
              "      <td>1.04162</td>\n",
              "      <td>5.625790</td>\n",
              "      <td>33.0</td>\n",
              "      <td>26.7</td>\n",
              "      <td>156.7972</td>\n",
              "      <td>158.592977</td>\n",
              "    </tr>\n",
              "    <tr>\n",
              "      <th>200</th>\n",
              "      <td>200</td>\n",
              "      <td>Soja</td>\n",
              "      <td>147.9145</td>\n",
              "      <td>140.9301</td>\n",
              "      <td>0</td>\n",
              "      <td>1.31025</td>\n",
              "      <td>1.16962</td>\n",
              "      <td>1.32060</td>\n",
              "      <td>1.14262</td>\n",
              "      <td>5.417835</td>\n",
              "      <td>33.0</td>\n",
              "      <td>26.7</td>\n",
              "      <td>169.1946</td>\n",
              "      <td>140.897886</td>\n",
              "    </tr>\n",
              "  </tbody>\n",
              "</table>\n",
              "</div>\n",
              "    <div class=\"colab-df-buttons\">\n",
              "\n",
              "  <div class=\"colab-df-container\">\n",
              "    <button class=\"colab-df-convert\" onclick=\"convertToInteractive('df-53dee6b0-059a-4922-a46b-36f957cdecb9')\"\n",
              "            title=\"Convert this dataframe to an interactive table.\"\n",
              "            style=\"display:none;\">\n",
              "\n",
              "  <svg xmlns=\"http://www.w3.org/2000/svg\" height=\"24px\" viewBox=\"0 -960 960 960\">\n",
              "    <path d=\"M120-120v-720h720v720H120Zm60-500h600v-160H180v160Zm220 220h160v-160H400v160Zm0 220h160v-160H400v160ZM180-400h160v-160H180v160Zm440 0h160v-160H620v160ZM180-180h160v-160H180v160Zm440 0h160v-160H620v160Z\"/>\n",
              "  </svg>\n",
              "    </button>\n",
              "\n",
              "  <style>\n",
              "    .colab-df-container {\n",
              "      display:flex;\n",
              "      gap: 12px;\n",
              "    }\n",
              "\n",
              "    .colab-df-convert {\n",
              "      background-color: #E8F0FE;\n",
              "      border: none;\n",
              "      border-radius: 50%;\n",
              "      cursor: pointer;\n",
              "      display: none;\n",
              "      fill: #1967D2;\n",
              "      height: 32px;\n",
              "      padding: 0 0 0 0;\n",
              "      width: 32px;\n",
              "    }\n",
              "\n",
              "    .colab-df-convert:hover {\n",
              "      background-color: #E2EBFA;\n",
              "      box-shadow: 0px 1px 2px rgba(60, 64, 67, 0.3), 0px 1px 3px 1px rgba(60, 64, 67, 0.15);\n",
              "      fill: #174EA6;\n",
              "    }\n",
              "\n",
              "    .colab-df-buttons div {\n",
              "      margin-bottom: 4px;\n",
              "    }\n",
              "\n",
              "    [theme=dark] .colab-df-convert {\n",
              "      background-color: #3B4455;\n",
              "      fill: #D2E3FC;\n",
              "    }\n",
              "\n",
              "    [theme=dark] .colab-df-convert:hover {\n",
              "      background-color: #434B5C;\n",
              "      box-shadow: 0px 1px 3px 1px rgba(0, 0, 0, 0.15);\n",
              "      filter: drop-shadow(0px 1px 2px rgba(0, 0, 0, 0.3));\n",
              "      fill: #FFFFFF;\n",
              "    }\n",
              "  </style>\n",
              "\n",
              "    <script>\n",
              "      const buttonEl =\n",
              "        document.querySelector('#df-53dee6b0-059a-4922-a46b-36f957cdecb9 button.colab-df-convert');\n",
              "      buttonEl.style.display =\n",
              "        google.colab.kernel.accessAllowed ? 'block' : 'none';\n",
              "\n",
              "      async function convertToInteractive(key) {\n",
              "        const element = document.querySelector('#df-53dee6b0-059a-4922-a46b-36f957cdecb9');\n",
              "        const dataTable =\n",
              "          await google.colab.kernel.invokeFunction('convertToInteractive',\n",
              "                                                    [key], {});\n",
              "        if (!dataTable) return;\n",
              "\n",
              "        const docLinkHtml = 'Like what you see? Visit the ' +\n",
              "          '<a target=\"_blank\" href=https://colab.research.google.com/notebooks/data_table.ipynb>data table notebook</a>'\n",
              "          + ' to learn more about interactive tables.';\n",
              "        element.innerHTML = '';\n",
              "        dataTable['output_type'] = 'display_data';\n",
              "        await google.colab.output.renderOutput(dataTable, element);\n",
              "        const docLink = document.createElement('div');\n",
              "        docLink.innerHTML = docLinkHtml;\n",
              "        element.appendChild(docLink);\n",
              "      }\n",
              "    </script>\n",
              "  </div>\n",
              "\n",
              "\n",
              "<div id=\"df-aea45d61-d966-46d5-afef-2abe48605801\">\n",
              "  <button class=\"colab-df-quickchart\" onclick=\"quickchart('df-aea45d61-d966-46d5-afef-2abe48605801')\"\n",
              "            title=\"Suggest charts\"\n",
              "            style=\"display:none;\">\n",
              "\n",
              "<svg xmlns=\"http://www.w3.org/2000/svg\" height=\"24px\"viewBox=\"0 0 24 24\"\n",
              "     width=\"24px\">\n",
              "    <g>\n",
              "        <path d=\"M19 3H5c-1.1 0-2 .9-2 2v14c0 1.1.9 2 2 2h14c1.1 0 2-.9 2-2V5c0-1.1-.9-2-2-2zM9 17H7v-7h2v7zm4 0h-2V7h2v10zm4 0h-2v-4h2v4z\"/>\n",
              "    </g>\n",
              "</svg>\n",
              "  </button>\n",
              "\n",
              "<style>\n",
              "  .colab-df-quickchart {\n",
              "      --bg-color: #E8F0FE;\n",
              "      --fill-color: #1967D2;\n",
              "      --hover-bg-color: #E2EBFA;\n",
              "      --hover-fill-color: #174EA6;\n",
              "      --disabled-fill-color: #AAA;\n",
              "      --disabled-bg-color: #DDD;\n",
              "  }\n",
              "\n",
              "  [theme=dark] .colab-df-quickchart {\n",
              "      --bg-color: #3B4455;\n",
              "      --fill-color: #D2E3FC;\n",
              "      --hover-bg-color: #434B5C;\n",
              "      --hover-fill-color: #FFFFFF;\n",
              "      --disabled-bg-color: #3B4455;\n",
              "      --disabled-fill-color: #666;\n",
              "  }\n",
              "\n",
              "  .colab-df-quickchart {\n",
              "    background-color: var(--bg-color);\n",
              "    border: none;\n",
              "    border-radius: 50%;\n",
              "    cursor: pointer;\n",
              "    display: none;\n",
              "    fill: var(--fill-color);\n",
              "    height: 32px;\n",
              "    padding: 0;\n",
              "    width: 32px;\n",
              "  }\n",
              "\n",
              "  .colab-df-quickchart:hover {\n",
              "    background-color: var(--hover-bg-color);\n",
              "    box-shadow: 0 1px 2px rgba(60, 64, 67, 0.3), 0 1px 3px 1px rgba(60, 64, 67, 0.15);\n",
              "    fill: var(--button-hover-fill-color);\n",
              "  }\n",
              "\n",
              "  .colab-df-quickchart-complete:disabled,\n",
              "  .colab-df-quickchart-complete:disabled:hover {\n",
              "    background-color: var(--disabled-bg-color);\n",
              "    fill: var(--disabled-fill-color);\n",
              "    box-shadow: none;\n",
              "  }\n",
              "\n",
              "  .colab-df-spinner {\n",
              "    border: 2px solid var(--fill-color);\n",
              "    border-color: transparent;\n",
              "    border-bottom-color: var(--fill-color);\n",
              "    animation:\n",
              "      spin 1s steps(1) infinite;\n",
              "  }\n",
              "\n",
              "  @keyframes spin {\n",
              "    0% {\n",
              "      border-color: transparent;\n",
              "      border-bottom-color: var(--fill-color);\n",
              "      border-left-color: var(--fill-color);\n",
              "    }\n",
              "    20% {\n",
              "      border-color: transparent;\n",
              "      border-left-color: var(--fill-color);\n",
              "      border-top-color: var(--fill-color);\n",
              "    }\n",
              "    30% {\n",
              "      border-color: transparent;\n",
              "      border-left-color: var(--fill-color);\n",
              "      border-top-color: var(--fill-color);\n",
              "      border-right-color: var(--fill-color);\n",
              "    }\n",
              "    40% {\n",
              "      border-color: transparent;\n",
              "      border-right-color: var(--fill-color);\n",
              "      border-top-color: var(--fill-color);\n",
              "    }\n",
              "    60% {\n",
              "      border-color: transparent;\n",
              "      border-right-color: var(--fill-color);\n",
              "    }\n",
              "    80% {\n",
              "      border-color: transparent;\n",
              "      border-right-color: var(--fill-color);\n",
              "      border-bottom-color: var(--fill-color);\n",
              "    }\n",
              "    90% {\n",
              "      border-color: transparent;\n",
              "      border-bottom-color: var(--fill-color);\n",
              "    }\n",
              "  }\n",
              "</style>\n",
              "\n",
              "  <script>\n",
              "    async function quickchart(key) {\n",
              "      const quickchartButtonEl =\n",
              "        document.querySelector('#' + key + ' button');\n",
              "      quickchartButtonEl.disabled = true;  // To prevent multiple clicks.\n",
              "      quickchartButtonEl.classList.add('colab-df-spinner');\n",
              "      try {\n",
              "        const charts = await google.colab.kernel.invokeFunction(\n",
              "            'suggestCharts', [key], {});\n",
              "      } catch (error) {\n",
              "        console.error('Error during call to suggestCharts:', error);\n",
              "      }\n",
              "      quickchartButtonEl.classList.remove('colab-df-spinner');\n",
              "      quickchartButtonEl.classList.add('colab-df-quickchart-complete');\n",
              "    }\n",
              "    (() => {\n",
              "      let quickchartButtonEl =\n",
              "        document.querySelector('#df-aea45d61-d966-46d5-afef-2abe48605801 button');\n",
              "      quickchartButtonEl.style.display =\n",
              "        google.colab.kernel.accessAllowed ? 'block' : 'none';\n",
              "    })();\n",
              "  </script>\n",
              "</div>\n",
              "\n",
              "    </div>\n",
              "  </div>\n"
            ],
            "text/plain": [
              "     Data Cultivo  Estadual      País  Id       Último     Abertura  \\\n",
              "196   196    Soja  117.0222  113.3375   0  95250.00000  89175.00000   \n",
              "197   197    Soja  130.8449  128.3004   0      1.02175  95062.00000   \n",
              "198   198    Soja  156.7972  147.4121   0      1.05688      1.02338   \n",
              "199   199    Soja  169.1946  157.3982   0      1.16875      1.06025   \n",
              "200   200    Soja  147.9145  140.9301   0      1.31025      1.16962   \n",
              "\n",
              "          Máxima       Mínima       USD  Precipitacao  Temperatura  \\\n",
              "196  96688.00000  86538.00000  5.280191          33.0         26.7   \n",
              "197      1.04650  94288.00000  5.461233          33.0         26.7   \n",
              "198      1.09388      1.01300  5.399486          33.0         26.7   \n",
              "199      1.19962      1.04162  5.625790          33.0         26.7   \n",
              "200      1.32060      1.14262  5.417835          33.0         26.7   \n",
              "\n",
              "     lag_Estadual  predict_Estadual  \n",
              "196      104.0607        114.511640  \n",
              "197      117.0222        129.417034  \n",
              "198      130.8449        148.846007  \n",
              "199      156.7972        158.592977  \n",
              "200      169.1946        140.897886  "
            ]
          },
          "execution_count": 24,
          "metadata": {},
          "output_type": "execute_result"
        }
      ],
      "source": [
        "test = pd.DataFrame(test)\n",
        "test[\"predict_Estadual\"] = prediction['predicted_Estadual']\n",
        "test.head()"
      ]
    },
    {
      "cell_type": "code",
      "execution_count": null,
      "metadata": {
        "colab": {
          "base_uri": "https://localhost:8080/"
        },
        "id": "7GZzjNz_ytKW",
        "outputId": "1b1c4822-cfa9-410f-8c27-e25a260438b6"
      },
      "outputs": [
        {
          "name": "stdout",
          "output_type": "stream",
          "text": [
            "MAE: 6.839740734014266\n",
            "RMSE: 8.079860711872838\n",
            "MAPE: 0.048617990048654025\n",
            "R-Squared: 0.8728950563109299\n"
          ]
        }
      ],
      "source": [
        "evaluate_model(test[\"Estadual\"], test[\"predict_Estadual\"])"
      ]
    },
    {
      "cell_type": "markdown",
      "metadata": {
        "id": "UacNK30qxUck"
      },
      "source": [
        "# Multiple Variables"
      ]
    },
    {
      "cell_type": "code",
      "execution_count": 18,
      "metadata": {
        "id": "O-SMhmcCy10s"
      },
      "outputs": [],
      "source": [
        "train_size = int(len(df) * 0.8)\n",
        "train, test = df[0:train_size], df[train_size:len(df)]\n",
        "\n",
        "test_dates = test.Data"
      ]
    },
    {
      "cell_type": "code",
      "execution_count": 19,
      "metadata": {
        "colab": {
          "base_uri": "https://localhost:8080/"
        },
        "id": "8zCiXfaBtlu0",
        "outputId": "fe4d16e2-70cb-4cb7-db03-2e980aaa2100"
      },
      "outputs": [
        {
          "name": "stderr",
          "output_type": "stream",
          "text": [
            "C:\\Users\\hamatsu\\AppData\\Roaming\\Python\\Python312\\site-packages\\statsmodels\\tsa\\statespace\\sarimax.py:1908: RuntimeWarning: divide by zero encountered in reciprocal\n",
            "  return np.roots(self.polynomial_reduced_ma)**-1\n"
          ]
        }
      ],
      "source": [
        "arima_model = auto_arima(train.Estadual, X = train[[\"USD\", \"País\", \"Último\", \"Máxima\", \"Precipitacao\", \"lag_Estadual\"]],start_p=0, d=0, start_q=0,\n",
        "                         max_p = 5, max_d = 5, max_q = 5,\n",
        "                         start_P = 0, D = 0, start_Q=5,\n",
        "                         max_P=5, max_D=5, max_Q=5,\n",
        "                         m=12, seasonal=True, error_action =\"warn\",\n",
        "                         Trace=True, random_state=20, n_fits=50)"
      ]
    },
    {
      "cell_type": "code",
      "execution_count": 20,
      "metadata": {
        "colab": {
          "base_uri": "https://localhost:8080/",
          "height": 528
        },
        "id": "PYeWGWWPvWjy",
        "outputId": "7f682c9b-0875-496e-aece-6379bcf01f77"
      },
      "outputs": [
        {
          "data": {
            "text/html": [
              "<table class=\"simpletable\">\n",
              "<caption>SARIMAX Results</caption>\n",
              "<tr>\n",
              "  <th>Dep. Variable:</th>           <td>y</td>        <th>  No. Observations:  </th>    <td>196</td>  \n",
              "</tr>\n",
              "<tr>\n",
              "  <th>Model:</th>           <td>SARIMAX(1, 0, 0)</td> <th>  Log Likelihood     </th> <td>-295.416</td>\n",
              "</tr>\n",
              "<tr>\n",
              "  <th>Date:</th>            <td>Thu, 10 Apr 2025</td> <th>  AIC                </th>  <td>606.831</td>\n",
              "</tr>\n",
              "<tr>\n",
              "  <th>Time:</th>                <td>11:44:57</td>     <th>  BIC                </th>  <td>633.056</td>\n",
              "</tr>\n",
              "<tr>\n",
              "  <th>Sample:</th>                  <td>0</td>        <th>  HQIC               </th>  <td>617.448</td>\n",
              "</tr>\n",
              "<tr>\n",
              "  <th></th>                      <td> - 196</td>      <th>                     </th>     <td> </td>   \n",
              "</tr>\n",
              "<tr>\n",
              "  <th>Covariance Type:</th>        <td>opg</td>       <th>                     </th>     <td> </td>   \n",
              "</tr>\n",
              "</table>\n",
              "<table class=\"simpletable\">\n",
              "<tr>\n",
              "        <td></td>          <th>coef</th>     <th>std err</th>      <th>z</th>      <th>P>|z|</th>  <th>[0.025</th>    <th>0.975]</th>  \n",
              "</tr>\n",
              "<tr>\n",
              "  <th>USD</th>          <td>   -0.5127</td> <td>    0.362</td> <td>   -1.417</td> <td> 0.157</td> <td>   -1.222</td> <td>    0.197</td>\n",
              "</tr>\n",
              "<tr>\n",
              "  <th>País</th>         <td>    0.6595</td> <td>    0.040</td> <td>   16.427</td> <td> 0.000</td> <td>    0.581</td> <td>    0.738</td>\n",
              "</tr>\n",
              "<tr>\n",
              "  <th>Último</th>       <td>-3.341e-06</td> <td> 1.31e-05</td> <td>   -0.256</td> <td> 0.798</td> <td>-2.89e-05</td> <td> 2.22e-05</td>\n",
              "</tr>\n",
              "<tr>\n",
              "  <th>Máxima</th>       <td> -1.06e-05</td> <td> 7.11e-06</td> <td>   -1.491</td> <td> 0.136</td> <td>-2.45e-05</td> <td> 3.33e-06</td>\n",
              "</tr>\n",
              "<tr>\n",
              "  <th>Precipitacao</th> <td>   -0.0004</td> <td>    0.001</td> <td>   -0.311</td> <td> 0.756</td> <td>   -0.003</td> <td>    0.002</td>\n",
              "</tr>\n",
              "<tr>\n",
              "  <th>lag_Estadual</th> <td>    0.4576</td> <td>    0.028</td> <td>   16.171</td> <td> 0.000</td> <td>    0.402</td> <td>    0.513</td>\n",
              "</tr>\n",
              "<tr>\n",
              "  <th>ar.L1</th>        <td>    0.5674</td> <td>    0.047</td> <td>   11.991</td> <td> 0.000</td> <td>    0.475</td> <td>    0.660</td>\n",
              "</tr>\n",
              "<tr>\n",
              "  <th>sigma2</th>       <td>    1.1965</td> <td>    0.105</td> <td>   11.411</td> <td> 0.000</td> <td>    0.991</td> <td>    1.402</td>\n",
              "</tr>\n",
              "</table>\n",
              "<table class=\"simpletable\">\n",
              "<tr>\n",
              "  <th>Ljung-Box (L1) (Q):</th>     <td>0.56</td> <th>  Jarque-Bera (JB):  </th> <td>1035.00</td>\n",
              "</tr>\n",
              "<tr>\n",
              "  <th>Prob(Q):</th>                <td>0.45</td> <th>  Prob(JB):          </th>  <td>0.00</td>  \n",
              "</tr>\n",
              "<tr>\n",
              "  <th>Heteroskedasticity (H):</th> <td>0.57</td> <th>  Skew:              </th>  <td>-1.55</td> \n",
              "</tr>\n",
              "<tr>\n",
              "  <th>Prob(H) (two-sided):</th>    <td>0.02</td> <th>  Kurtosis:          </th>  <td>13.82</td> \n",
              "</tr>\n",
              "</table><br/><br/>Warnings:<br/>[1] Covariance matrix calculated using the outer product of gradients (complex-step)."
            ],
            "text/latex": [
              "\\begin{center}\n",
              "\\begin{tabular}{lclc}\n",
              "\\toprule\n",
              "\\textbf{Dep. Variable:}          &        y         & \\textbf{  No. Observations:  } &    196      \\\\\n",
              "\\textbf{Model:}                  & SARIMAX(1, 0, 0) & \\textbf{  Log Likelihood     } &  -295.416   \\\\\n",
              "\\textbf{Date:}                   & Thu, 10 Apr 2025 & \\textbf{  AIC                } &  606.831    \\\\\n",
              "\\textbf{Time:}                   &     11:44:57     & \\textbf{  BIC                } &  633.056    \\\\\n",
              "\\textbf{Sample:}                 &        0         & \\textbf{  HQIC               } &  617.448    \\\\\n",
              "\\textbf{}                        &       - 196      & \\textbf{                     } &             \\\\\n",
              "\\textbf{Covariance Type:}        &       opg        & \\textbf{                     } &             \\\\\n",
              "\\bottomrule\n",
              "\\end{tabular}\n",
              "\\begin{tabular}{lcccccc}\n",
              "                       & \\textbf{coef} & \\textbf{std err} & \\textbf{z} & \\textbf{P$> |$z$|$} & \\textbf{[0.025} & \\textbf{0.975]}  \\\\\n",
              "\\midrule\n",
              "\\textbf{USD}           &      -0.5127  &        0.362     &    -1.417  &         0.157        &       -1.222    &        0.197     \\\\\n",
              "\\textbf{País}          &       0.6595  &        0.040     &    16.427  &         0.000        &        0.581    &        0.738     \\\\\n",
              "\\textbf{Último}        &   -3.341e-06  &     1.31e-05     &    -0.256  &         0.798        &    -2.89e-05    &     2.22e-05     \\\\\n",
              "\\textbf{Máxima}        &    -1.06e-05  &     7.11e-06     &    -1.491  &         0.136        &    -2.45e-05    &     3.33e-06     \\\\\n",
              "\\textbf{Precipitacao}  &      -0.0004  &        0.001     &    -0.311  &         0.756        &       -0.003    &        0.002     \\\\\n",
              "\\textbf{lag\\_Estadual} &       0.4576  &        0.028     &    16.171  &         0.000        &        0.402    &        0.513     \\\\\n",
              "\\textbf{ar.L1}         &       0.5674  &        0.047     &    11.991  &         0.000        &        0.475    &        0.660     \\\\\n",
              "\\textbf{sigma2}        &       1.1965  &        0.105     &    11.411  &         0.000        &        0.991    &        1.402     \\\\\n",
              "\\bottomrule\n",
              "\\end{tabular}\n",
              "\\begin{tabular}{lclc}\n",
              "\\textbf{Ljung-Box (L1) (Q):}     & 0.56 & \\textbf{  Jarque-Bera (JB):  } & 1035.00  \\\\\n",
              "\\textbf{Prob(Q):}                & 0.45 & \\textbf{  Prob(JB):          } &   0.00   \\\\\n",
              "\\textbf{Heteroskedasticity (H):} & 0.57 & \\textbf{  Skew:              } &  -1.55   \\\\\n",
              "\\textbf{Prob(H) (two-sided):}    & 0.02 & \\textbf{  Kurtosis:          } &  13.82   \\\\\n",
              "\\bottomrule\n",
              "\\end{tabular}\n",
              "%\\caption{SARIMAX Results}\n",
              "\\end{center}\n",
              "\n",
              "Warnings: \\newline\n",
              " [1] Covariance matrix calculated using the outer product of gradients (complex-step)."
            ],
            "text/plain": [
              "<class 'statsmodels.iolib.summary.Summary'>\n",
              "\"\"\"\n",
              "                               SARIMAX Results                                \n",
              "==============================================================================\n",
              "Dep. Variable:                      y   No. Observations:                  196\n",
              "Model:               SARIMAX(1, 0, 0)   Log Likelihood                -295.416\n",
              "Date:                Thu, 10 Apr 2025   AIC                            606.831\n",
              "Time:                        11:44:57   BIC                            633.056\n",
              "Sample:                             0   HQIC                           617.448\n",
              "                                - 196                                         \n",
              "Covariance Type:                  opg                                         \n",
              "================================================================================\n",
              "                   coef    std err          z      P>|z|      [0.025      0.975]\n",
              "--------------------------------------------------------------------------------\n",
              "USD             -0.5127      0.362     -1.417      0.157      -1.222       0.197\n",
              "País             0.6595      0.040     16.427      0.000       0.581       0.738\n",
              "Último       -3.341e-06   1.31e-05     -0.256      0.798   -2.89e-05    2.22e-05\n",
              "Máxima        -1.06e-05   7.11e-06     -1.491      0.136   -2.45e-05    3.33e-06\n",
              "Precipitacao    -0.0004      0.001     -0.311      0.756      -0.003       0.002\n",
              "lag_Estadual     0.4576      0.028     16.171      0.000       0.402       0.513\n",
              "ar.L1            0.5674      0.047     11.991      0.000       0.475       0.660\n",
              "sigma2           1.1965      0.105     11.411      0.000       0.991       1.402\n",
              "===================================================================================\n",
              "Ljung-Box (L1) (Q):                   0.56   Jarque-Bera (JB):              1035.00\n",
              "Prob(Q):                              0.45   Prob(JB):                         0.00\n",
              "Heteroskedasticity (H):               0.57   Skew:                            -1.55\n",
              "Prob(H) (two-sided):                  0.02   Kurtosis:                        13.82\n",
              "===================================================================================\n",
              "\n",
              "Warnings:\n",
              "[1] Covariance matrix calculated using the outer product of gradients (complex-step).\n",
              "\"\"\""
            ]
          },
          "execution_count": 20,
          "metadata": {},
          "output_type": "execute_result"
        }
      ],
      "source": [
        "arima_model.summary()"
      ]
    },
    {
      "cell_type": "code",
      "execution_count": 21,
      "metadata": {
        "id": "eA9LKS_yrtJb"
      },
      "outputs": [],
      "source": [
        "# Import required libraries\n",
        "\n",
        "import pandas as pd\n",
        "import numpy as np\n",
        "\n",
        "# Create dataframe using dictionary\n",
        "data_aux = test.copy()\n",
        "\n",
        "df_aux = pd.DataFrame(data_aux)\n",
        "\n",
        "# Replace infinite updated data with nan\n",
        "df_aux.replace([np.inf, -np.inf], np.nan, inplace=True)\n",
        "\n",
        "df_aux.ffill(inplace=True)\n",
        "\n",
        "test = df_aux.copy()"
      ]
    },
    {
      "cell_type": "code",
      "execution_count": 22,
      "metadata": {
        "id": "HZ_0olcox5dq"
      },
      "outputs": [],
      "source": [
        "prediction = pd.DataFrame(arima_model.predict(n_periods=len(test), X=test[[\"USD\", \"País\", \"Último\", \"Máxima\", \"Precipitacao\", \"lag_Estadual\"]]),\n",
        "                          # index=test.index\n",
        "                          )\n",
        "prediction.columns = [\"predicted_Estadual\"]\n",
        "prediction.index = test.index"
      ]
    },
    {
      "cell_type": "code",
      "execution_count": 23,
      "metadata": {
        "colab": {
          "base_uri": "https://localhost:8080/",
          "height": 465
        },
        "id": "2r0OYlGdoRUX",
        "outputId": "b2d626da-e032-47c1-b890-154976885d96"
      },
      "outputs": [
        {
          "data": {
            "image/png": "[encoded data removed]",
            "text/plain": [
              "<Figure size 1000x500 with 1 Axes>"
            ]
          },
          "metadata": {},
          "output_type": "display_data"
        }
      ],
      "source": [
        "test[\"Data\"] = test.index\n",
        "testing_dates = test_dates\n",
        "\n",
        "plot_predictions(testing_dates, test.Estadual, prediction.predicted_Estadual)"
      ]
    },
    {
      "cell_type": "code",
      "execution_count": 41,
      "metadata": {
        "colab": {
          "base_uri": "https://localhost:8080/",
          "height": 445
        },
        "id": "cHVdqokizNiE",
        "outputId": "d5152ad1-3d6e-40fc-9f64-ae2d2053a77e"
      },
      "outputs": [
        {
          "data": {
            "image/png": "[encoded data removed]",
            "text/plain": [
              "<Figure size 800x500 with 1 Axes>"
            ]
          },
          "metadata": {},
          "output_type": "display_data"
        }
      ],
      "source": [
        "plt.figure(figsize=(8,5))\n",
        "plt.plot(train.Estadual, label = \"Train\")\n",
        "plt.plot(test.Estadual, label = \"Test\")\n",
        "plt.plot(prediction, label = \"Predicted\")\n",
        "plt.legend(loc='upper left')\n",
        "plt.show()"
      ]
    },
    {
      "cell_type": "code",
      "execution_count": 24,
      "metadata": {
        "colab": {
          "base_uri": "https://localhost:8080/",
          "height": 226
        },
        "id": "3IcOA6Zv1pDg",
        "outputId": "337cc647-63f0-472a-de38-b2a40779e526"
      },
      "outputs": [
        {
          "data": {
            "text/html": [
              "<div>\n",
              "<style scoped>\n",
              "    .dataframe tbody tr th:only-of-type {\n",
              "        vertical-align: middle;\n",
              "    }\n",
              "\n",
              "    .dataframe tbody tr th {\n",
              "        vertical-align: top;\n",
              "    }\n",
              "\n",
              "    .dataframe thead th {\n",
              "        text-align: right;\n",
              "    }\n",
              "</style>\n",
              "<table border=\"1\" class=\"dataframe\">\n",
              "  <thead>\n",
              "    <tr style=\"text-align: right;\">\n",
              "      <th></th>\n",
              "      <th>Data</th>\n",
              "      <th>Cultivo</th>\n",
              "      <th>Estadual</th>\n",
              "      <th>País</th>\n",
              "      <th>Id</th>\n",
              "      <th>Último</th>\n",
              "      <th>Abertura</th>\n",
              "      <th>Máxima</th>\n",
              "      <th>Mínima</th>\n",
              "      <th>USD</th>\n",
              "      <th>Precipitacao</th>\n",
              "      <th>Temperatura</th>\n",
              "      <th>lag_Estadual</th>\n",
              "      <th>predict_Estadual</th>\n",
              "    </tr>\n",
              "  </thead>\n",
              "  <tbody>\n",
              "    <tr>\n",
              "      <th>196</th>\n",
              "      <td>196</td>\n",
              "      <td>Trigo</td>\n",
              "      <td>56.9863</td>\n",
              "      <td>56.1960</td>\n",
              "      <td>2</td>\n",
              "      <td>54650.0</td>\n",
              "      <td>52612.0</td>\n",
              "      <td>55175.0</td>\n",
              "      <td>48812.0</td>\n",
              "      <td>5.280191</td>\n",
              "      <td>33.0</td>\n",
              "      <td>26.7</td>\n",
              "      <td>56.9056</td>\n",
              "      <td>57.970228</td>\n",
              "    </tr>\n",
              "    <tr>\n",
              "      <th>197</th>\n",
              "      <td>197</td>\n",
              "      <td>Trigo</td>\n",
              "      <td>59.8474</td>\n",
              "      <td>58.5133</td>\n",
              "      <td>2</td>\n",
              "      <td>57812.0</td>\n",
              "      <td>54188.0</td>\n",
              "      <td>58662.0</td>\n",
              "      <td>53338.0</td>\n",
              "      <td>5.461233</td>\n",
              "      <td>33.0</td>\n",
              "      <td>26.7</td>\n",
              "      <td>56.9863</td>\n",
              "      <td>60.104380</td>\n",
              "    </tr>\n",
              "    <tr>\n",
              "      <th>198</th>\n",
              "      <td>198</td>\n",
              "      <td>Trigo</td>\n",
              "      <td>65.6995</td>\n",
              "      <td>66.6685</td>\n",
              "      <td>2</td>\n",
              "      <td>59850.0</td>\n",
              "      <td>57512.0</td>\n",
              "      <td>63762.0</td>\n",
              "      <td>56138.0</td>\n",
              "      <td>5.399486</td>\n",
              "      <td>33.0</td>\n",
              "      <td>26.7</td>\n",
              "      <td>59.8474</td>\n",
              "      <td>67.165086</td>\n",
              "    </tr>\n",
              "    <tr>\n",
              "      <th>199</th>\n",
              "      <td>199</td>\n",
              "      <td>Trigo</td>\n",
              "      <td>75.3144</td>\n",
              "      <td>77.1260</td>\n",
              "      <td>2</td>\n",
              "      <td>58100.0</td>\n",
              "      <td>59675.0</td>\n",
              "      <td>62588.0</td>\n",
              "      <td>57950.0</td>\n",
              "      <td>5.625790</td>\n",
              "      <td>33.0</td>\n",
              "      <td>26.7</td>\n",
              "      <td>65.6995</td>\n",
              "      <td>76.870027</td>\n",
              "    </tr>\n",
              "    <tr>\n",
              "      <th>200</th>\n",
              "      <td>200</td>\n",
              "      <td>Trigo</td>\n",
              "      <td>69.5309</td>\n",
              "      <td>70.0093</td>\n",
              "      <td>2</td>\n",
              "      <td>64175.0</td>\n",
              "      <td>57938.0</td>\n",
              "      <td>64438.0</td>\n",
              "      <td>56350.0</td>\n",
              "      <td>5.417835</td>\n",
              "      <td>33.0</td>\n",
              "      <td>26.7</td>\n",
              "      <td>75.3144</td>\n",
              "      <td>76.772363</td>\n",
              "    </tr>\n",
              "  </tbody>\n",
              "</table>\n",
              "</div>"
            ],
            "text/plain": [
              "     Data Cultivo  Estadual     País  Id   Último  Abertura   Máxima   Mínima  \\\n",
              "196   196   Trigo   56.9863  56.1960   2  54650.0   52612.0  55175.0  48812.0   \n",
              "197   197   Trigo   59.8474  58.5133   2  57812.0   54188.0  58662.0  53338.0   \n",
              "198   198   Trigo   65.6995  66.6685   2  59850.0   57512.0  63762.0  56138.0   \n",
              "199   199   Trigo   75.3144  77.1260   2  58100.0   59675.0  62588.0  57950.0   \n",
              "200   200   Trigo   69.5309  70.0093   2  64175.0   57938.0  64438.0  56350.0   \n",
              "\n",
              "          USD  Precipitacao  Temperatura  lag_Estadual  predict_Estadual  \n",
              "196  5.280191          33.0         26.7       56.9056         57.970228  \n",
              "197  5.461233          33.0         26.7       56.9863         60.104380  \n",
              "198  5.399486          33.0         26.7       59.8474         67.165086  \n",
              "199  5.625790          33.0         26.7       65.6995         76.870027  \n",
              "200  5.417835          33.0         26.7       75.3144         76.772363  "
            ]
          },
          "execution_count": 24,
          "metadata": {},
          "output_type": "execute_result"
        }
      ],
      "source": [
        "test = pd.DataFrame(test)\n",
        "test[\"predict_Estadual\"] = prediction['predicted_Estadual']\n",
        "test.head()"
      ]
    },
    {
      "cell_type": "code",
      "execution_count": 25,
      "metadata": {},
      "outputs": [],
      "source": [
        "output_arima = pd.concat([train, test], ignore_index=True)\n",
        "output_arima[\"model\"] = \"ARIMA\"\n",
        "output_arima.to_csv(\"Trigo_Resultados_ARIMA.csv\", index=False, sep=',')"
      ]
    },
    {
      "cell_type": "code",
      "execution_count": 43,
      "metadata": {
        "colab": {
          "base_uri": "https://localhost:8080/"
        },
        "id": "_sYUvxyiOZzD",
        "outputId": "470d6e93-7b8a-45cb-df74-f45b7a2f7ad6"
      },
      "outputs": [
        {
          "name": "stdout",
          "output_type": "stream",
          "text": [
            "MAE: 4.424606110083662\n",
            "RMSE: 5.47067492606383\n",
            "MAPE: 0.03210967260751286\n",
            "R-Squared: 0.9417311411382636\n"
          ]
        }
      ],
      "source": [
        "evaluate_model(test[\"Estadual\"], test[\"predict_Estadual\"])"
      ]
    },
    {
      "cell_type": "markdown",
      "metadata": {
        "id": "qWx9LJyA5oNL"
      },
      "source": [
        "Não-estacionário para Estacionário\n"
      ]
    },
    {
      "cell_type": "code",
      "execution_count": 15,
      "metadata": {
        "colab": {
          "base_uri": "https://localhost:8080/",
          "height": 335
        },
        "id": "RawJii8JBRkC",
        "outputId": "26a1adf0-c951-419a-bb1e-ce979737585b"
      },
      "outputs": [
        {
          "data": {
            "text/plain": [
              "count    246.000000\n",
              "mean      41.939987\n",
              "std       21.574414\n",
              "min       18.379500\n",
              "25%       25.688300\n",
              "50%       34.122250\n",
              "75%       47.626150\n",
              "max      109.498000\n",
              "Name: Estadual, dtype: float64"
            ]
          },
          "execution_count": 15,
          "metadata": {},
          "output_type": "execute_result"
        }
      ],
      "source": [
        "teste = pd.Series(df[\"Estadual\"], name=\"Estadual\")\n",
        "teste.describe()"
      ]
    },
    {
      "cell_type": "code",
      "execution_count": 16,
      "metadata": {
        "colab": {
          "base_uri": "https://localhost:8080/",
          "height": 206
        },
        "id": "CtVrZmd9CeS4",
        "outputId": "187656ea-9518-457b-b322-70f9a260c3d8"
      },
      "outputs": [
        {
          "data": {
            "text/html": [
              "<div>\n",
              "<style scoped>\n",
              "    .dataframe tbody tr th:only-of-type {\n",
              "        vertical-align: middle;\n",
              "    }\n",
              "\n",
              "    .dataframe tbody tr th {\n",
              "        vertical-align: top;\n",
              "    }\n",
              "\n",
              "    .dataframe thead th {\n",
              "        text-align: right;\n",
              "    }\n",
              "</style>\n",
              "<table border=\"1\" class=\"dataframe\">\n",
              "  <thead>\n",
              "    <tr style=\"text-align: right;\">\n",
              "      <th></th>\n",
              "      <th>Data</th>\n",
              "      <th>Cultivo</th>\n",
              "      <th>Estadual</th>\n",
              "      <th>País</th>\n",
              "      <th>Id</th>\n",
              "      <th>Último</th>\n",
              "      <th>Abertura</th>\n",
              "      <th>Máxima</th>\n",
              "      <th>Mínima</th>\n",
              "    </tr>\n",
              "  </thead>\n",
              "  <tbody>\n",
              "    <tr>\n",
              "      <th>0</th>\n",
              "      <td>2004-03-01</td>\n",
              "      <td>Trigo</td>\n",
              "      <td>25.0014</td>\n",
              "      <td>24.2907</td>\n",
              "      <td>2</td>\n",
              "      <td>38150.0</td>\n",
              "      <td>40825.0</td>\n",
              "      <td>42400.0</td>\n",
              "      <td>36600.0</td>\n",
              "    </tr>\n",
              "    <tr>\n",
              "      <th>1</th>\n",
              "      <td>2004-04-01</td>\n",
              "      <td>Trigo</td>\n",
              "      <td>27.3438</td>\n",
              "      <td>26.4508</td>\n",
              "      <td>2</td>\n",
              "      <td>36200.0</td>\n",
              "      <td>38050.0</td>\n",
              "      <td>40700.0</td>\n",
              "      <td>35400.0</td>\n",
              "    </tr>\n",
              "    <tr>\n",
              "      <th>2</th>\n",
              "      <td>2004-05-01</td>\n",
              "      <td>Trigo</td>\n",
              "      <td>29.6849</td>\n",
              "      <td>28.6268</td>\n",
              "      <td>2</td>\n",
              "      <td>33800.0</td>\n",
              "      <td>36500.0</td>\n",
              "      <td>39100.0</td>\n",
              "      <td>0.0</td>\n",
              "    </tr>\n",
              "    <tr>\n",
              "      <th>3</th>\n",
              "      <td>2004-06-01</td>\n",
              "      <td>Trigo</td>\n",
              "      <td>30.2614</td>\n",
              "      <td>29.9106</td>\n",
              "      <td>2</td>\n",
              "      <td>31225.0</td>\n",
              "      <td>33525.0</td>\n",
              "      <td>34800.0</td>\n",
              "      <td>31000.0</td>\n",
              "    </tr>\n",
              "    <tr>\n",
              "      <th>4</th>\n",
              "      <td>2004-07-01</td>\n",
              "      <td>Trigo</td>\n",
              "      <td>27.5388</td>\n",
              "      <td>27.7931</td>\n",
              "      <td>2</td>\n",
              "      <td>30975.0</td>\n",
              "      <td>31075.0</td>\n",
              "      <td>32400.0</td>\n",
              "      <td>29550.0</td>\n",
              "    </tr>\n",
              "  </tbody>\n",
              "</table>\n",
              "</div>"
            ],
            "text/plain": [
              "         Data Cultivo  Estadual     País  Id   Último  Abertura   Máxima  \\\n",
              "0  2004-03-01   Trigo   25.0014  24.2907   2  38150.0   40825.0  42400.0   \n",
              "1  2004-04-01   Trigo   27.3438  26.4508   2  36200.0   38050.0  40700.0   \n",
              "2  2004-05-01   Trigo   29.6849  28.6268   2  33800.0   36500.0  39100.0   \n",
              "3  2004-06-01   Trigo   30.2614  29.9106   2  31225.0   33525.0  34800.0   \n",
              "4  2004-07-01   Trigo   27.5388  27.7931   2  30975.0   31075.0  32400.0   \n",
              "\n",
              "    Mínima  \n",
              "0  36600.0  \n",
              "1  35400.0  \n",
              "2      0.0  \n",
              "3  31000.0  \n",
              "4  29550.0  "
            ]
          },
          "execution_count": 16,
          "metadata": {},
          "output_type": "execute_result"
        }
      ],
      "source": [
        "df = pd.read_csv(\"../../data library/Trigo_v1.csv\", sep = \";\")\n",
        "df = df.sort_values(by='Data').reset_index(drop=True)\n",
        "# df.set_index(\"Data\", inplace = True)\n",
        "df.head()"
      ]
    },
    {
      "cell_type": "code",
      "execution_count": 17,
      "metadata": {
        "id": "HBdHZ2BoCwQO"
      },
      "outputs": [],
      "source": [
        "df['Data'] = pd.to_datetime(df['Data'])\n",
        "df[\"USD\"] = df_usd[\"USD\"]\n",
        "df = df.set_index('Data')\n",
        "monthly_summary = df.Estadual.resample('ME').mean().ffill()"
      ]
    },
    {
      "cell_type": "code",
      "execution_count": 18,
      "metadata": {
        "colab": {
          "base_uri": "https://localhost:8080/",
          "height": 458
        },
        "id": "MZwqXYGRBg2F",
        "outputId": "ad7ef59e-ea4e-487c-b83a-2e66704e0346"
      },
      "outputs": [
        {
          "data": {
            "image/png": "[encoded data removed]",
            "text/plain": [
              "<Figure size 1500x600 with 4 Axes>"
            ]
          },
          "metadata": {},
          "output_type": "display_data"
        }
      ],
      "source": [
        "from statsmodels.tsa.seasonal import STL\n",
        "\n",
        "stl = STL(monthly_summary, seasonal=13)\n",
        "res = stl.fit()\n",
        "fig = res.plot()"
      ]
    },
    {
      "cell_type": "code",
      "execution_count": 19,
      "metadata": {
        "id": "OFfzGywV_juZ"
      },
      "outputs": [],
      "source": [
        "#Aplicanto a função Log para converter os dados para estacionários\n",
        "\n",
        "df_log=np.sqrt(df['Estadual'])\n",
        "df_diff=df_log.diff().dropna()"
      ]
    },
    {
      "cell_type": "code",
      "execution_count": 20,
      "metadata": {
        "colab": {
          "base_uri": "https://localhost:8080/"
        },
        "id": "QvcGTAwC_u8Y",
        "outputId": "2a356327-c74f-4a59-96ec-2e1bc4f2197d"
      },
      "outputs": [
        {
          "name": "stdout",
          "output_type": "stream",
          "text": [
            "    Augmented Dickey-Fuller Test on \"Estadual\" \n",
            "    -----------------------------------------------\n",
            "ADF Statistic: -4.628476\n",
            "p-value: 0.000114\n",
            "Critical Values:\n",
            "\t1%: -3.459\n",
            "\t5%: -2.874\n",
            "\t10%: -2.573\n",
            "\u001b[32mStationary\u001b[0m\n"
          ]
        }
      ],
      "source": [
        "# from pmdarima.arima import ADFTest\n",
        "\n",
        "# adf_test = ADFTest(alpha = 0.05)\n",
        "# adf_test.should_diff(df_diff)\n",
        "\n",
        "##Dado Estacionário > I = 1\n",
        "\n",
        "check_stationarity(df_diff, name=df_diff.name)"
      ]
    },
    {
      "cell_type": "code",
      "execution_count": 21,
      "metadata": {
        "colab": {
          "base_uri": "https://localhost:8080/",
          "height": 237
        },
        "id": "vL5LK4Gahzy6",
        "outputId": "549490d6-a934-49dc-c647-a2ab9098cc7d"
      },
      "outputs": [
        {
          "data": {
            "text/html": [
              "<div>\n",
              "<style scoped>\n",
              "    .dataframe tbody tr th:only-of-type {\n",
              "        vertical-align: middle;\n",
              "    }\n",
              "\n",
              "    .dataframe tbody tr th {\n",
              "        vertical-align: top;\n",
              "    }\n",
              "\n",
              "    .dataframe thead th {\n",
              "        text-align: right;\n",
              "    }\n",
              "</style>\n",
              "<table border=\"1\" class=\"dataframe\">\n",
              "  <thead>\n",
              "    <tr style=\"text-align: right;\">\n",
              "      <th></th>\n",
              "      <th>Cultivo</th>\n",
              "      <th>Estadual</th>\n",
              "      <th>País</th>\n",
              "      <th>Id</th>\n",
              "      <th>Último</th>\n",
              "      <th>Abertura</th>\n",
              "      <th>Máxima</th>\n",
              "      <th>Mínima</th>\n",
              "      <th>USD</th>\n",
              "    </tr>\n",
              "    <tr>\n",
              "      <th>Data</th>\n",
              "      <th></th>\n",
              "      <th></th>\n",
              "      <th></th>\n",
              "      <th></th>\n",
              "      <th></th>\n",
              "      <th></th>\n",
              "      <th></th>\n",
              "      <th></th>\n",
              "      <th></th>\n",
              "    </tr>\n",
              "  </thead>\n",
              "  <tbody>\n",
              "    <tr>\n",
              "      <th>2004-03-01</th>\n",
              "      <td>Trigo</td>\n",
              "      <td>0.228990</td>\n",
              "      <td>24.2907</td>\n",
              "      <td>2</td>\n",
              "      <td>38150.0</td>\n",
              "      <td>40825.0</td>\n",
              "      <td>42400.0</td>\n",
              "      <td>36600.0</td>\n",
              "      <td>2.905457</td>\n",
              "    </tr>\n",
              "    <tr>\n",
              "      <th>2004-04-01</th>\n",
              "      <td>Trigo</td>\n",
              "      <td>0.228990</td>\n",
              "      <td>26.4508</td>\n",
              "      <td>2</td>\n",
              "      <td>36200.0</td>\n",
              "      <td>38050.0</td>\n",
              "      <td>40700.0</td>\n",
              "      <td>35400.0</td>\n",
              "      <td>2.905985</td>\n",
              "    </tr>\n",
              "    <tr>\n",
              "      <th>2004-05-01</th>\n",
              "      <td>Trigo</td>\n",
              "      <td>0.219255</td>\n",
              "      <td>28.6268</td>\n",
              "      <td>2</td>\n",
              "      <td>33800.0</td>\n",
              "      <td>36500.0</td>\n",
              "      <td>39100.0</td>\n",
              "      <td>0.0</td>\n",
              "      <td>3.100419</td>\n",
              "    </tr>\n",
              "    <tr>\n",
              "      <th>2004-06-01</th>\n",
              "      <td>Trigo</td>\n",
              "      <td>0.052651</td>\n",
              "      <td>29.9106</td>\n",
              "      <td>2</td>\n",
              "      <td>31225.0</td>\n",
              "      <td>33525.0</td>\n",
              "      <td>34800.0</td>\n",
              "      <td>31000.0</td>\n",
              "      <td>3.129148</td>\n",
              "    </tr>\n",
              "    <tr>\n",
              "      <th>2004-07-01</th>\n",
              "      <td>Trigo</td>\n",
              "      <td>-0.253294</td>\n",
              "      <td>27.7931</td>\n",
              "      <td>2</td>\n",
              "      <td>30975.0</td>\n",
              "      <td>31075.0</td>\n",
              "      <td>32400.0</td>\n",
              "      <td>29550.0</td>\n",
              "      <td>3.036777</td>\n",
              "    </tr>\n",
              "  </tbody>\n",
              "</table>\n",
              "</div>"
            ],
            "text/plain": [
              "           Cultivo  Estadual     País  Id   Último  Abertura   Máxima  \\\n",
              "Data                                                                    \n",
              "2004-03-01   Trigo  0.228990  24.2907   2  38150.0   40825.0  42400.0   \n",
              "2004-04-01   Trigo  0.228990  26.4508   2  36200.0   38050.0  40700.0   \n",
              "2004-05-01   Trigo  0.219255  28.6268   2  33800.0   36500.0  39100.0   \n",
              "2004-06-01   Trigo  0.052651  29.9106   2  31225.0   33525.0  34800.0   \n",
              "2004-07-01   Trigo -0.253294  27.7931   2  30975.0   31075.0  32400.0   \n",
              "\n",
              "             Mínima       USD  \n",
              "Data                           \n",
              "2004-03-01  36600.0  2.905457  \n",
              "2004-04-01  35400.0  2.905985  \n",
              "2004-05-01      0.0  3.100419  \n",
              "2004-06-01  31000.0  3.129148  \n",
              "2004-07-01  29550.0  3.036777  "
            ]
          },
          "execution_count": 21,
          "metadata": {},
          "output_type": "execute_result"
        }
      ],
      "source": [
        "df[\"Estadual\"] = df_diff\n",
        "df = df.bfill()\n",
        "df.head()"
      ]
    },
    {
      "cell_type": "code",
      "execution_count": 22,
      "metadata": {
        "id": "woWASS4nF5gP"
      },
      "outputs": [],
      "source": [
        "train_size = int(len(df.Estadual.dropna()) * 0.75)\n",
        "\n",
        "train, test = df[0:train_size], df[train_size:len(df)]\n",
        "# train, test = df.Estadual.dropna()[0:size], df.Estadual.dropna()[size:len(df.Estadual.dropna())]\n",
        "# test = test.reset_index()['Estadual']\n",
        "history = [x for x in train.Estadual]\n",
        "predictions = []"
      ]
    },
    {
      "cell_type": "code",
      "execution_count": 23,
      "metadata": {
        "id": "xCJC1l0kAR0u"
      },
      "outputs": [],
      "source": [
        "arima_model = auto_arima(train.Estadual, X = train[[\"USD\", \"País\"]], start_p=0, d=1, start_q=0,\n",
        "                         max_p = 5, max_d = 5, max_q = 5,\n",
        "                         start_P = 0, D = 1, start_Q=5,\n",
        "                         max_P=5, max_D=5, max_Q=5,\n",
        "                         m=13, seasonal=True, error_action =\"warn\",\n",
        "                         Trace=True, random_state=20, n_fits=50)"
      ]
    },
    {
      "cell_type": "code",
      "execution_count": 24,
      "metadata": {
        "colab": {
          "base_uri": "https://localhost:8080/",
          "height": 590
        },
        "id": "ayUisxhREhMQ",
        "outputId": "c11e3125-8c12-4b91-cf9c-9b00193ef05b"
      },
      "outputs": [
        {
          "data": {
            "text/html": [
              "<table class=\"simpletable\">\n",
              "<caption>SARIMAX Results</caption>\n",
              "<tr>\n",
              "  <th>Dep. Variable:</th>                  <td>y</td>               <th>  No. Observations:  </th>    <td>184</td>  \n",
              "</tr>\n",
              "<tr>\n",
              "  <th>Model:</th>           <td>SARIMAX(1, 1, 1)x(0, 1, 1, 13)</td> <th>  Log Likelihood     </th>  <td>91.075</td> \n",
              "</tr>\n",
              "<tr>\n",
              "  <th>Date:</th>                   <td>Thu, 15 May 2025</td>        <th>  AIC                </th> <td>-170.150</td>\n",
              "</tr>\n",
              "<tr>\n",
              "  <th>Time:</th>                       <td>12:38:14</td>            <th>  BIC                </th> <td>-151.335</td>\n",
              "</tr>\n",
              "<tr>\n",
              "  <th>Sample:</th>                         <td>0</td>               <th>  HQIC               </th> <td>-162.515</td>\n",
              "</tr>\n",
              "<tr>\n",
              "  <th></th>                             <td> - 184</td>             <th>                     </th>     <td> </td>   \n",
              "</tr>\n",
              "<tr>\n",
              "  <th>Covariance Type:</th>               <td>opg</td>              <th>                     </th>     <td> </td>   \n",
              "</tr>\n",
              "</table>\n",
              "<table class=\"simpletable\">\n",
              "<tr>\n",
              "      <td></td>        <th>coef</th>     <th>std err</th>      <th>z</th>      <th>P>|z|</th>  <th>[0.025</th>    <th>0.975]</th>  \n",
              "</tr>\n",
              "<tr>\n",
              "  <th>USD</th>      <td>    0.1799</td> <td>    0.094</td> <td>    1.924</td> <td> 0.054</td> <td>   -0.003</td> <td>    0.363</td>\n",
              "</tr>\n",
              "<tr>\n",
              "  <th>País</th>     <td>    0.0102</td> <td>    0.005</td> <td>    1.893</td> <td> 0.058</td> <td>   -0.000</td> <td>    0.021</td>\n",
              "</tr>\n",
              "<tr>\n",
              "  <th>ar.L1</th>    <td>   -0.3925</td> <td>    0.363</td> <td>   -1.082</td> <td> 0.279</td> <td>   -1.103</td> <td>    0.318</td>\n",
              "</tr>\n",
              "<tr>\n",
              "  <th>ma.L1</th>    <td>    0.5701</td> <td>    0.305</td> <td>    1.872</td> <td> 0.061</td> <td>   -0.027</td> <td>    1.167</td>\n",
              "</tr>\n",
              "<tr>\n",
              "  <th>ma.S.L13</th> <td>   -0.8695</td> <td>    0.090</td> <td>   -9.612</td> <td> 0.000</td> <td>   -1.047</td> <td>   -0.692</td>\n",
              "</tr>\n",
              "<tr>\n",
              "  <th>sigma2</th>   <td>    0.0180</td> <td>    0.002</td> <td>    9.424</td> <td> 0.000</td> <td>    0.014</td> <td>    0.022</td>\n",
              "</tr>\n",
              "</table>\n",
              "<table class=\"simpletable\">\n",
              "<tr>\n",
              "  <th>Ljung-Box (L1) (Q):</th>     <td>0.39</td> <th>  Jarque-Bera (JB):  </th> <td>8.63</td> \n",
              "</tr>\n",
              "<tr>\n",
              "  <th>Prob(Q):</th>                <td>0.53</td> <th>  Prob(JB):          </th> <td>0.01</td> \n",
              "</tr>\n",
              "<tr>\n",
              "  <th>Heteroskedasticity (H):</th> <td>0.67</td> <th>  Skew:              </th> <td>-0.27</td>\n",
              "</tr>\n",
              "<tr>\n",
              "  <th>Prob(H) (two-sided):</th>    <td>0.14</td> <th>  Kurtosis:          </th> <td>3.96</td> \n",
              "</tr>\n",
              "</table><br/><br/>Warnings:<br/>[1] Covariance matrix calculated using the outer product of gradients (complex-step)."
            ],
            "text/latex": [
              "\\begin{center}\n",
              "\\begin{tabular}{lclc}\n",
              "\\toprule\n",
              "\\textbf{Dep. Variable:}          &               y                & \\textbf{  No. Observations:  } &    184      \\\\\n",
              "\\textbf{Model:}                  & SARIMAX(1, 1, 1)x(0, 1, 1, 13) & \\textbf{  Log Likelihood     } &   91.075    \\\\\n",
              "\\textbf{Date:}                   &        Thu, 15 May 2025        & \\textbf{  AIC                } &  -170.150   \\\\\n",
              "\\textbf{Time:}                   &            12:38:14            & \\textbf{  BIC                } &  -151.335   \\\\\n",
              "\\textbf{Sample:}                 &               0                & \\textbf{  HQIC               } &  -162.515   \\\\\n",
              "\\textbf{}                        &              - 184             & \\textbf{                     } &             \\\\\n",
              "\\textbf{Covariance Type:}        &              opg               & \\textbf{                     } &             \\\\\n",
              "\\bottomrule\n",
              "\\end{tabular}\n",
              "\\begin{tabular}{lcccccc}\n",
              "                  & \\textbf{coef} & \\textbf{std err} & \\textbf{z} & \\textbf{P$> |$z$|$} & \\textbf{[0.025} & \\textbf{0.975]}  \\\\\n",
              "\\midrule\n",
              "\\textbf{USD}      &       0.1799  &        0.094     &     1.924  &         0.054        &       -0.003    &        0.363     \\\\\n",
              "\\textbf{País}     &       0.0102  &        0.005     &     1.893  &         0.058        &       -0.000    &        0.021     \\\\\n",
              "\\textbf{ar.L1}    &      -0.3925  &        0.363     &    -1.082  &         0.279        &       -1.103    &        0.318     \\\\\n",
              "\\textbf{ma.L1}    &       0.5701  &        0.305     &     1.872  &         0.061        &       -0.027    &        1.167     \\\\\n",
              "\\textbf{ma.S.L13} &      -0.8695  &        0.090     &    -9.612  &         0.000        &       -1.047    &       -0.692     \\\\\n",
              "\\textbf{sigma2}   &       0.0180  &        0.002     &     9.424  &         0.000        &        0.014    &        0.022     \\\\\n",
              "\\bottomrule\n",
              "\\end{tabular}\n",
              "\\begin{tabular}{lclc}\n",
              "\\textbf{Ljung-Box (L1) (Q):}     & 0.39 & \\textbf{  Jarque-Bera (JB):  } &  8.63  \\\\\n",
              "\\textbf{Prob(Q):}                & 0.53 & \\textbf{  Prob(JB):          } &  0.01  \\\\\n",
              "\\textbf{Heteroskedasticity (H):} & 0.67 & \\textbf{  Skew:              } & -0.27  \\\\\n",
              "\\textbf{Prob(H) (two-sided):}    & 0.14 & \\textbf{  Kurtosis:          } &  3.96  \\\\\n",
              "\\bottomrule\n",
              "\\end{tabular}\n",
              "%\\caption{SARIMAX Results}\n",
              "\\end{center}\n",
              "\n",
              "Warnings: \\newline\n",
              " [1] Covariance matrix calculated using the outer product of gradients (complex-step)."
            ],
            "text/plain": [
              "<class 'statsmodels.iolib.summary.Summary'>\n",
              "\"\"\"\n",
              "                                     SARIMAX Results                                      \n",
              "==========================================================================================\n",
              "Dep. Variable:                                  y   No. Observations:                  184\n",
              "Model:             SARIMAX(1, 1, 1)x(0, 1, 1, 13)   Log Likelihood                  91.075\n",
              "Date:                            Thu, 15 May 2025   AIC                           -170.150\n",
              "Time:                                    12:38:14   BIC                           -151.335\n",
              "Sample:                                         0   HQIC                          -162.515\n",
              "                                            - 184                                         \n",
              "Covariance Type:                              opg                                         \n",
              "==============================================================================\n",
              "                 coef    std err          z      P>|z|      [0.025      0.975]\n",
              "------------------------------------------------------------------------------\n",
              "USD            0.1799      0.094      1.924      0.054      -0.003       0.363\n",
              "País           0.0102      0.005      1.893      0.058      -0.000       0.021\n",
              "ar.L1         -0.3925      0.363     -1.082      0.279      -1.103       0.318\n",
              "ma.L1          0.5701      0.305      1.872      0.061      -0.027       1.167\n",
              "ma.S.L13      -0.8695      0.090     -9.612      0.000      -1.047      -0.692\n",
              "sigma2         0.0180      0.002      9.424      0.000       0.014       0.022\n",
              "===================================================================================\n",
              "Ljung-Box (L1) (Q):                   0.39   Jarque-Bera (JB):                 8.63\n",
              "Prob(Q):                              0.53   Prob(JB):                         0.01\n",
              "Heteroskedasticity (H):               0.67   Skew:                            -0.27\n",
              "Prob(H) (two-sided):                  0.14   Kurtosis:                         3.96\n",
              "===================================================================================\n",
              "\n",
              "Warnings:\n",
              "[1] Covariance matrix calculated using the outer product of gradients (complex-step).\n",
              "\"\"\""
            ]
          },
          "execution_count": 24,
          "metadata": {},
          "output_type": "execute_result"
        }
      ],
      "source": [
        "arima_model.summary()"
      ]
    },
    {
      "cell_type": "code",
      "execution_count": 25,
      "metadata": {
        "colab": {
          "base_uri": "https://localhost:8080/",
          "height": 544
        },
        "id": "OhxvcsCuEjW_",
        "outputId": "509c4b2e-c01a-44ea-fe76-16fe96b001d2"
      },
      "outputs": [
        {
          "name": "stderr",
          "output_type": "stream",
          "text": [
            "C:\\Users\\hamatsu\\AppData\\Roaming\\Python\\Python312\\site-packages\\statsmodels\\tsa\\base\\tsa_model.py:837: ValueWarning: No supported index is available. Prediction results will be given with an integer index beginning at `start`.\n",
            "  return get_prediction_index(\n",
            "C:\\Users\\hamatsu\\AppData\\Roaming\\Python\\Python312\\site-packages\\statsmodels\\tsa\\base\\tsa_model.py:837: FutureWarning: No supported index is available. In the next version, calling this method in a model without a supported index will result in an exception.\n",
            "  return get_prediction_index(\n"
          ]
        },
        {
          "data": {
            "text/html": [
              "<div>\n",
              "<style scoped>\n",
              "    .dataframe tbody tr th:only-of-type {\n",
              "        vertical-align: middle;\n",
              "    }\n",
              "\n",
              "    .dataframe tbody tr th {\n",
              "        vertical-align: top;\n",
              "    }\n",
              "\n",
              "    .dataframe thead th {\n",
              "        text-align: right;\n",
              "    }\n",
              "</style>\n",
              "<table border=\"1\" class=\"dataframe\">\n",
              "  <thead>\n",
              "    <tr style=\"text-align: right;\">\n",
              "      <th></th>\n",
              "      <th>predicted_Estadual</th>\n",
              "    </tr>\n",
              "    <tr>\n",
              "      <th>Data</th>\n",
              "      <th></th>\n",
              "    </tr>\n",
              "  </thead>\n",
              "  <tbody>\n",
              "    <tr>\n",
              "      <th>2019-08-01</th>\n",
              "      <td>0.010915</td>\n",
              "    </tr>\n",
              "    <tr>\n",
              "      <th>2019-09-01</th>\n",
              "      <td>-0.014254</td>\n",
              "    </tr>\n",
              "    <tr>\n",
              "      <th>2019-10-01</th>\n",
              "      <td>-0.040522</td>\n",
              "    </tr>\n",
              "    <tr>\n",
              "      <th>2019-11-01</th>\n",
              "      <td>-0.128186</td>\n",
              "    </tr>\n",
              "    <tr>\n",
              "      <th>2019-12-01</th>\n",
              "      <td>-0.071161</td>\n",
              "    </tr>\n",
              "    <tr>\n",
              "      <th>...</th>\n",
              "      <td>...</td>\n",
              "    </tr>\n",
              "    <tr>\n",
              "      <th>2024-05-01</th>\n",
              "      <td>0.130008</td>\n",
              "    </tr>\n",
              "    <tr>\n",
              "      <th>2024-06-01</th>\n",
              "      <td>0.218633</td>\n",
              "    </tr>\n",
              "    <tr>\n",
              "      <th>2024-07-01</th>\n",
              "      <td>0.292105</td>\n",
              "    </tr>\n",
              "    <tr>\n",
              "      <th>2024-08-01</th>\n",
              "      <td>0.287177</td>\n",
              "    </tr>\n",
              "    <tr>\n",
              "      <th>2024-09-01</th>\n",
              "      <td>0.256450</td>\n",
              "    </tr>\n",
              "  </tbody>\n",
              "</table>\n",
              "<p>62 rows × 1 columns</p>\n",
              "</div>"
            ],
            "text/plain": [
              "            predicted_Estadual\n",
              "Data                          \n",
              "2019-08-01            0.010915\n",
              "2019-09-01           -0.014254\n",
              "2019-10-01           -0.040522\n",
              "2019-11-01           -0.128186\n",
              "2019-12-01           -0.071161\n",
              "...                        ...\n",
              "2024-05-01            0.130008\n",
              "2024-06-01            0.218633\n",
              "2024-07-01            0.292105\n",
              "2024-08-01            0.287177\n",
              "2024-09-01            0.256450\n",
              "\n",
              "[62 rows x 1 columns]"
            ]
          },
          "execution_count": 25,
          "metadata": {},
          "output_type": "execute_result"
        }
      ],
      "source": [
        "prediction = pd.DataFrame(arima_model.predict(n_periods=len(test), X = test[[\"USD\", \"País\"]]),\n",
        "                          # index=test.index\n",
        "                          )\n",
        "prediction.columns = [\"predicted_Estadual\"]\n",
        "prediction.index = test.index\n",
        "prediction"
      ]
    },
    {
      "cell_type": "code",
      "execution_count": 26,
      "metadata": {
        "colab": {
          "base_uri": "https://localhost:8080/",
          "height": 445
        },
        "id": "C9vbNP0wFE4j",
        "outputId": "77e19955-b126-4085-ce4c-60354762ceab"
      },
      "outputs": [
        {
          "data": {
            "image/png": "[encoded data removed]",
            "text/plain": [
              "<Figure size 800x500 with 1 Axes>"
            ]
          },
          "metadata": {},
          "output_type": "display_data"
        }
      ],
      "source": [
        "plt.figure(figsize=(8,5))\n",
        "plt.plot(train.Estadual, label = \"Train\")\n",
        "plt.plot(test.Estadual, label = \"Test\")\n",
        "plt.plot(prediction, label = \"Predicted\")\n",
        "plt.legend(loc='upper left')\n",
        "plt.show()"
      ]
    },
    {
      "cell_type": "code",
      "execution_count": 27,
      "metadata": {
        "colab": {
          "base_uri": "https://localhost:8080/",
          "height": 455
        },
        "id": "bDsxSvWUFFnf",
        "outputId": "4b118778-f210-43ab-e645-c89a98088d72"
      },
      "outputs": [
        {
          "data": {
            "text/html": [
              "<div>\n",
              "<style scoped>\n",
              "    .dataframe tbody tr th:only-of-type {\n",
              "        vertical-align: middle;\n",
              "    }\n",
              "\n",
              "    .dataframe tbody tr th {\n",
              "        vertical-align: top;\n",
              "    }\n",
              "\n",
              "    .dataframe thead th {\n",
              "        text-align: right;\n",
              "    }\n",
              "</style>\n",
              "<table border=\"1\" class=\"dataframe\">\n",
              "  <thead>\n",
              "    <tr style=\"text-align: right;\">\n",
              "      <th></th>\n",
              "      <th>Cultivo</th>\n",
              "      <th>Estadual</th>\n",
              "      <th>País</th>\n",
              "      <th>Id</th>\n",
              "      <th>Último</th>\n",
              "      <th>Abertura</th>\n",
              "      <th>Máxima</th>\n",
              "      <th>Mínima</th>\n",
              "      <th>USD</th>\n",
              "      <th>predict_Estadual</th>\n",
              "    </tr>\n",
              "    <tr>\n",
              "      <th>Data</th>\n",
              "      <th></th>\n",
              "      <th></th>\n",
              "      <th></th>\n",
              "      <th></th>\n",
              "      <th></th>\n",
              "      <th></th>\n",
              "      <th></th>\n",
              "      <th></th>\n",
              "      <th></th>\n",
              "      <th></th>\n",
              "    </tr>\n",
              "  </thead>\n",
              "  <tbody>\n",
              "    <tr>\n",
              "      <th>2019-08-01</th>\n",
              "      <td>Trigo</td>\n",
              "      <td>0.010070</td>\n",
              "      <td>42.3947</td>\n",
              "      <td>2</td>\n",
              "      <td>46138.0</td>\n",
              "      <td>48700.0</td>\n",
              "      <td>50538.0</td>\n",
              "      <td>45625.0</td>\n",
              "      <td>3.779339</td>\n",
              "      <td>0.010915</td>\n",
              "    </tr>\n",
              "    <tr>\n",
              "      <th>2019-09-01</th>\n",
              "      <td>Trigo</td>\n",
              "      <td>0.022781</td>\n",
              "      <td>42.5980</td>\n",
              "      <td>2</td>\n",
              "      <td>49550.0</td>\n",
              "      <td>46188.0</td>\n",
              "      <td>50088.0</td>\n",
              "      <td>45062.0</td>\n",
              "      <td>4.019982</td>\n",
              "      <td>-0.014254</td>\n",
              "    </tr>\n",
              "    <tr>\n",
              "      <th>2019-10-01</th>\n",
              "      <td>Trigo</td>\n",
              "      <td>-0.080059</td>\n",
              "      <td>40.4704</td>\n",
              "      <td>2</td>\n",
              "      <td>50875.0</td>\n",
              "      <td>49625.0</td>\n",
              "      <td>53488.0</td>\n",
              "      <td>48538.0</td>\n",
              "      <td>4.121500</td>\n",
              "      <td>-0.040522</td>\n",
              "    </tr>\n",
              "    <tr>\n",
              "      <th>2019-11-01</th>\n",
              "      <td>Trigo</td>\n",
              "      <td>0.016386</td>\n",
              "      <td>39.8819</td>\n",
              "      <td>2</td>\n",
              "      <td>54212.0</td>\n",
              "      <td>50850.0</td>\n",
              "      <td>54588.0</td>\n",
              "      <td>49862.0</td>\n",
              "      <td>4.086987</td>\n",
              "      <td>-0.128186</td>\n",
              "    </tr>\n",
              "    <tr>\n",
              "      <th>2019-12-01</th>\n",
              "      <td>Trigo</td>\n",
              "      <td>0.134385</td>\n",
              "      <td>41.2625</td>\n",
              "      <td>2</td>\n",
              "      <td>55938.0</td>\n",
              "      <td>54238.0</td>\n",
              "      <td>56462.0</td>\n",
              "      <td>51638.0</td>\n",
              "      <td>4.155345</td>\n",
              "      <td>-0.071161</td>\n",
              "    </tr>\n",
              "    <tr>\n",
              "      <th>...</th>\n",
              "      <td>...</td>\n",
              "      <td>...</td>\n",
              "      <td>...</td>\n",
              "      <td>...</td>\n",
              "      <td>...</td>\n",
              "      <td>...</td>\n",
              "      <td>...</td>\n",
              "      <td>...</td>\n",
              "      <td>...</td>\n",
              "      <td>...</td>\n",
              "    </tr>\n",
              "    <tr>\n",
              "      <th>2024-05-01</th>\n",
              "      <td>Trigo</td>\n",
              "      <td>0.327202</td>\n",
              "      <td>65.2951</td>\n",
              "      <td>2</td>\n",
              "      <td>69950.0</td>\n",
              "      <td>60425.0</td>\n",
              "      <td>73925.0</td>\n",
              "      <td>59350.0</td>\n",
              "      <td>5.129095</td>\n",
              "      <td>0.130008</td>\n",
              "    </tr>\n",
              "    <tr>\n",
              "      <th>2024-06-01</th>\n",
              "      <td>Trigo</td>\n",
              "      <td>0.362564</td>\n",
              "      <td>69.6117</td>\n",
              "      <td>2</td>\n",
              "      <td>55350.0</td>\n",
              "      <td>67800.0</td>\n",
              "      <td>69775.0</td>\n",
              "      <td>53800.0</td>\n",
              "      <td>5.133048</td>\n",
              "      <td>0.218633</td>\n",
              "    </tr>\n",
              "    <tr>\n",
              "      <th>2024-07-01</th>\n",
              "      <td>Trigo</td>\n",
              "      <td>0.002978</td>\n",
              "      <td>70.3762</td>\n",
              "      <td>2</td>\n",
              "      <td>52725.0</td>\n",
              "      <td>55650.0</td>\n",
              "      <td>57300.0</td>\n",
              "      <td>51425.0</td>\n",
              "      <td>5.388975</td>\n",
              "      <td>0.292105</td>\n",
              "    </tr>\n",
              "    <tr>\n",
              "      <th>2024-08-01</th>\n",
              "      <td>Trigo</td>\n",
              "      <td>0.009141</td>\n",
              "      <td>70.6659</td>\n",
              "      <td>2</td>\n",
              "      <td>53275.0</td>\n",
              "      <td>52675.0</td>\n",
              "      <td>55200.0</td>\n",
              "      <td>49350.0</td>\n",
              "      <td>5.542048</td>\n",
              "      <td>0.287177</td>\n",
              "    </tr>\n",
              "    <tr>\n",
              "      <th>2024-09-01</th>\n",
              "      <td>Trigo</td>\n",
              "      <td>0.150783</td>\n",
              "      <td>71.5292</td>\n",
              "      <td>2</td>\n",
              "      <td>57760.0</td>\n",
              "      <td>55262.0</td>\n",
              "      <td>59862.0</td>\n",
              "      <td>54440.0</td>\n",
              "      <td>5.552614</td>\n",
              "      <td>0.256450</td>\n",
              "    </tr>\n",
              "  </tbody>\n",
              "</table>\n",
              "<p>62 rows × 10 columns</p>\n",
              "</div>"
            ],
            "text/plain": [
              "           Cultivo  Estadual     País  Id   Último  Abertura   Máxima  \\\n",
              "Data                                                                    \n",
              "2019-08-01   Trigo  0.010070  42.3947   2  46138.0   48700.0  50538.0   \n",
              "2019-09-01   Trigo  0.022781  42.5980   2  49550.0   46188.0  50088.0   \n",
              "2019-10-01   Trigo -0.080059  40.4704   2  50875.0   49625.0  53488.0   \n",
              "2019-11-01   Trigo  0.016386  39.8819   2  54212.0   50850.0  54588.0   \n",
              "2019-12-01   Trigo  0.134385  41.2625   2  55938.0   54238.0  56462.0   \n",
              "...            ...       ...      ...  ..      ...       ...      ...   \n",
              "2024-05-01   Trigo  0.327202  65.2951   2  69950.0   60425.0  73925.0   \n",
              "2024-06-01   Trigo  0.362564  69.6117   2  55350.0   67800.0  69775.0   \n",
              "2024-07-01   Trigo  0.002978  70.3762   2  52725.0   55650.0  57300.0   \n",
              "2024-08-01   Trigo  0.009141  70.6659   2  53275.0   52675.0  55200.0   \n",
              "2024-09-01   Trigo  0.150783  71.5292   2  57760.0   55262.0  59862.0   \n",
              "\n",
              "             Mínima       USD  predict_Estadual  \n",
              "Data                                             \n",
              "2019-08-01  45625.0  3.779339          0.010915  \n",
              "2019-09-01  45062.0  4.019982         -0.014254  \n",
              "2019-10-01  48538.0  4.121500         -0.040522  \n",
              "2019-11-01  49862.0  4.086987         -0.128186  \n",
              "2019-12-01  51638.0  4.155345         -0.071161  \n",
              "...             ...       ...               ...  \n",
              "2024-05-01  59350.0  5.129095          0.130008  \n",
              "2024-06-01  53800.0  5.133048          0.218633  \n",
              "2024-07-01  51425.0  5.388975          0.292105  \n",
              "2024-08-01  49350.0  5.542048          0.287177  \n",
              "2024-09-01  54440.0  5.552614          0.256450  \n",
              "\n",
              "[62 rows x 10 columns]"
            ]
          },
          "execution_count": 27,
          "metadata": {},
          "output_type": "execute_result"
        }
      ],
      "source": [
        "test = pd.DataFrame(test)\n",
        "test[\"predict_Estadual\"] = prediction['predicted_Estadual']\n",
        "test"
      ]
    },
    {
      "cell_type": "code",
      "execution_count": 28,
      "metadata": {
        "id": "gaPS7LbdKu5-"
      },
      "outputs": [],
      "source": [
        "from sklearn.metrics import mean_absolute_error, mean_absolute_percentage_error, root_mean_squared_error"
      ]
    },
    {
      "cell_type": "code",
      "execution_count": 29,
      "metadata": {
        "id": "H6Yo9s9EKoOz"
      },
      "outputs": [],
      "source": [
        "def evaluate_model(y_test, prediction):\n",
        "  print(f\"MAE: {mean_absolute_error(y_test, prediction)}\")\n",
        "  print(f\"RMSE: {root_mean_squared_error(y_test, prediction)}\")\n",
        "  print(f\"MAPE: {mean_absolute_percentage_error(y_test, prediction)}\")\n",
        "  print(f\"R-Squared: {r2_score(y_test, prediction)}\")"
      ]
    },
    {
      "cell_type": "code",
      "execution_count": 30,
      "metadata": {
        "colab": {
          "base_uri": "https://localhost:8080/"
        },
        "id": "AhKHf6D1Kub-",
        "outputId": "d2feb225-9b5e-493d-949a-40d53d0dc656"
      },
      "outputs": [
        {
          "name": "stdout",
          "output_type": "stream",
          "text": [
            "MAE: 0.35500608516180704\n",
            "RMSE: 0.44313622863529545\n",
            "MAPE: 11.316705760474878\n",
            "R-Squared: -1.6920685187756654\n"
          ]
        }
      ],
      "source": [
        "evaluate_model(test[\"Estadual\"], test[\"predict_Estadual\"])"
      ]
    }
  ],
  "metadata": {
    "colab": {
      "authorship_tag": "ABX9TyOqMHRR0cQ+Gs/CsM0G/ztZ",
      "include_colab_link": true,
      "provenance": []
    },
    "kernelspec": {
      "display_name": "Python 3",
      "name": "python3"
    },
    "language_info": {
      "codemirror_mode": {
        "name": "ipython",
        "version": 3
      },
      "file_extension": ".py",
      "mimetype": "text/x-python",
      "name": "python",
      "nbconvert_exporter": "python",
      "pygments_lexer": "ipython3",
      "version": "3.12.5"
    }
  },
  "nbformat": 4,
  "nbformat_minor": 0
}
