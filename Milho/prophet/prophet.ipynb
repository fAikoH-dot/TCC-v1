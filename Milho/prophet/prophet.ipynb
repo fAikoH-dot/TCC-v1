{
  "cells": [
    {
      "cell_type": "markdown",
      "metadata": {
        "colab_type": "text",
        "id": "view-in-github"
      },
      "source": [
        "<a href=\"https://colab.research.google.com/github/fAikoH-dot/TCC-v1/blob/main/prophet/prophet.ipynb\" target=\"_parent\"><img src=\"https://colab.research.google.com/assets/colab-badge.svg\" alt=\"Open In Colab\"/></a>"
      ]
    },
    {
      "cell_type": "code",
      "execution_count": 1,
      "metadata": {
        "colab": {
          "base_uri": "https://localhost:8080/"
        },
        "id": "rqQLtK6uHFh-",
        "outputId": "924d102a-e884-4b64-ec82-ed9c50a7827a"
      },
      "outputs": [
        {
          "name": "stdout",
          "output_type": "stream",
          "text": [
            "Requirement already satisfied: prophet in /usr/local/lib/python3.10/dist-packages (1.1.6)\n",
            "Requirement already satisfied: cmdstanpy>=1.0.4 in /usr/local/lib/python3.10/dist-packages (from prophet) (1.2.4)\n",
            "Requirement already satisfied: numpy>=1.15.4 in /usr/local/lib/python3.10/dist-packages (from prophet) (1.24.4)\n",
            "Requirement already satisfied: matplotlib>=2.0.0 in /usr/local/lib/python3.10/dist-packages (from prophet) (3.8.0)\n",
            "Requirement already satisfied: pandas>=1.0.4 in /usr/local/lib/python3.10/dist-packages (from prophet) (1.5.3)\n",
            "Collecting holidays<1,>=0.25 (from prophet)\n",
            "  Downloading holidays-0.60-py3-none-any.whl.metadata (25 kB)\n",
            "Requirement already satisfied: tqdm>=4.36.1 in /usr/local/lib/python3.10/dist-packages (from prophet) (4.66.6)\n",
            "Requirement already satisfied: importlib-resources in /usr/local/lib/python3.10/dist-packages (from prophet) (6.4.5)\n",
            "Requirement already satisfied: stanio<2.0.0,>=0.4.0 in /usr/local/lib/python3.10/dist-packages (from cmdstanpy>=1.0.4->prophet) (0.5.1)\n",
            "Requirement already satisfied: python-dateutil in /usr/local/lib/python3.10/dist-packages (from holidays<1,>=0.25->prophet) (2.8.2)\n",
            "Requirement already satisfied: contourpy>=1.0.1 in /usr/local/lib/python3.10/dist-packages (from matplotlib>=2.0.0->prophet) (1.3.0)\n",
            "Requirement already satisfied: cycler>=0.10 in /usr/local/lib/python3.10/dist-packages (from matplotlib>=2.0.0->prophet) (0.12.1)\n",
            "Requirement already satisfied: fonttools>=4.22.0 in /usr/local/lib/python3.10/dist-packages (from matplotlib>=2.0.0->prophet) (4.54.1)\n",
            "Requirement already satisfied: kiwisolver>=1.0.1 in /usr/local/lib/python3.10/dist-packages (from matplotlib>=2.0.0->prophet) (1.4.7)\n",
            "Requirement already satisfied: packaging>=20.0 in /usr/local/lib/python3.10/dist-packages (from matplotlib>=2.0.0->prophet) (24.2)\n",
            "Requirement already satisfied: pillow>=6.2.0 in /usr/local/lib/python3.10/dist-packages (from matplotlib>=2.0.0->prophet) (11.0.0)\n",
            "Requirement already satisfied: pyparsing>=2.3.1 in /usr/local/lib/python3.10/dist-packages (from matplotlib>=2.0.0->prophet) (3.2.0)\n",
            "Requirement already satisfied: pytz>=2020.1 in /usr/local/lib/python3.10/dist-packages (from pandas>=1.0.4->prophet) (2024.2)\n",
            "Requirement already satisfied: six>=1.5 in /usr/local/lib/python3.10/dist-packages (from python-dateutil->holidays<1,>=0.25->prophet) (1.16.0)\n",
            "Downloading holidays-0.60-py3-none-any.whl (1.1 MB)\n",
            "\u001b[2K   \u001b[90m━━━━━━━━━━━━━━━━━━━━━━━━━━━━━━━━━━━━━━━━\u001b[0m \u001b[32m1.1/1.1 MB\u001b[0m \u001b[31m15.6 MB/s\u001b[0m eta \u001b[36m0:00:00\u001b[0m\n",
            "\u001b[?25hInstalling collected packages: holidays\n",
            "  Attempting uninstall: holidays\n",
            "    Found existing installation: holidays 0.24\n",
            "    Uninstalling holidays-0.24:\n",
            "      Successfully uninstalled holidays-0.24\n",
            "\u001b[31mERROR: pip's dependency resolver does not currently take into account all the packages that are installed. This behaviour is the source of the following dependency conflicts.\n",
            "greykite 1.0.0 requires holidays<0.25, but you have holidays 0.60 which is incompatible.\u001b[0m\u001b[31m\n",
            "\u001b[0mSuccessfully installed holidays-0.60\n"
          ]
        }
      ],
      "source": [
        "# !pip install prophet"
      ]
    },
    {
      "cell_type": "code",
      "execution_count": 1,
      "metadata": {
        "colab": {
          "base_uri": "https://localhost:8080/"
        },
        "id": "rYJ5owzXQ-KO",
        "outputId": "04252f3b-76cb-4bff-9fbb-32f1e8066af2"
      },
      "outputs": [
        {
          "name": "stdout",
          "output_type": "stream",
          "text": [
            "Collecting python-bcb\n",
            "  Downloading python_bcb-0.3.0-py3-none-any.whl.metadata (2.5 kB)\n",
            "Requirement already satisfied: httpx>=0.24.0 in /usr/local/lib/python3.10/dist-packages (from python-bcb) (0.27.2)\n",
            "Requirement already satisfied: lxml>=4.9.2 in /usr/local/lib/python3.10/dist-packages (from python-bcb) (5.3.0)\n",
            "Requirement already satisfied: pandas>=2.0.0 in /usr/local/lib/python3.10/dist-packages (from python-bcb) (2.2.2)\n",
            "Requirement already satisfied: requests>=2.31.0 in /usr/local/lib/python3.10/dist-packages (from python-bcb) (2.32.3)\n",
            "Requirement already satisfied: anyio in /usr/local/lib/python3.10/dist-packages (from httpx>=0.24.0->python-bcb) (3.7.1)\n",
            "Requirement already satisfied: certifi in /usr/local/lib/python3.10/dist-packages (from httpx>=0.24.0->python-bcb) (2024.8.30)\n",
            "Requirement already satisfied: httpcore==1.* in /usr/local/lib/python3.10/dist-packages (from httpx>=0.24.0->python-bcb) (1.0.6)\n",
            "Requirement already satisfied: idna in /usr/local/lib/python3.10/dist-packages (from httpx>=0.24.0->python-bcb) (3.10)\n",
            "Requirement already satisfied: sniffio in /usr/local/lib/python3.10/dist-packages (from httpx>=0.24.0->python-bcb) (1.3.1)\n",
            "Requirement already satisfied: h11<0.15,>=0.13 in /usr/local/lib/python3.10/dist-packages (from httpcore==1.*->httpx>=0.24.0->python-bcb) (0.14.0)\n",
            "Requirement already satisfied: numpy>=1.22.4 in /usr/local/lib/python3.10/dist-packages (from pandas>=2.0.0->python-bcb) (1.26.4)\n",
            "Requirement already satisfied: python-dateutil>=2.8.2 in /usr/local/lib/python3.10/dist-packages (from pandas>=2.0.0->python-bcb) (2.8.2)\n",
            "Requirement already satisfied: pytz>=2020.1 in /usr/local/lib/python3.10/dist-packages (from pandas>=2.0.0->python-bcb) (2024.2)\n",
            "Requirement already satisfied: tzdata>=2022.7 in /usr/local/lib/python3.10/dist-packages (from pandas>=2.0.0->python-bcb) (2024.2)\n",
            "Requirement already satisfied: charset-normalizer<4,>=2 in /usr/local/lib/python3.10/dist-packages (from requests>=2.31.0->python-bcb) (3.4.0)\n",
            "Requirement already satisfied: urllib3<3,>=1.21.1 in /usr/local/lib/python3.10/dist-packages (from requests>=2.31.0->python-bcb) (2.2.3)\n",
            "Requirement already satisfied: six>=1.5 in /usr/local/lib/python3.10/dist-packages (from python-dateutil>=2.8.2->pandas>=2.0.0->python-bcb) (1.16.0)\n",
            "Requirement already satisfied: exceptiongroup in /usr/local/lib/python3.10/dist-packages (from anyio->httpx>=0.24.0->python-bcb) (1.2.2)\n",
            "Downloading python_bcb-0.3.0-py3-none-any.whl (16 kB)\n",
            "Installing collected packages: python-bcb\n",
            "Successfully installed python-bcb-0.3.0\n"
          ]
        }
      ],
      "source": [
        "# !pip install python-bcb"
      ]
    },
    {
      "cell_type": "code",
      "execution_count": 1,
      "metadata": {
        "id": "AGq222POG06e"
      },
      "outputs": [
        {
          "name": "stderr",
          "output_type": "stream",
          "text": [
            "C:\\Users\\hamatsu\\AppData\\Roaming\\Python\\Python312\\site-packages\\tqdm\\auto.py:21: TqdmWarning: IProgress not found. Please update jupyter and ipywidgets. See https://ipywidgets.readthedocs.io/en/stable/user_install.html\n",
            "  from .autonotebook import tqdm as notebook_tqdm\n"
          ]
        }
      ],
      "source": [
        "import pandas as pd\n",
        "from prophet import Prophet\n",
        "import matplotlib.pyplot as plt\n",
        "\n",
        "from sklearn.metrics import r2_score\n",
        "from sklearn.metrics import mean_absolute_error, mean_absolute_percentage_error, root_mean_squared_error"
      ]
    },
    {
      "cell_type": "code",
      "execution_count": 2,
      "metadata": {
        "colab": {
          "base_uri": "https://localhost:8080/",
          "height": 206
        },
        "id": "V6NW13dOG57W",
        "outputId": "9672f481-45c6-4d39-ca0c-3e5d80dabd1f"
      },
      "outputs": [
        {
          "data": {
            "text/html": [
              "<div>\n",
              "<style scoped>\n",
              "    .dataframe tbody tr th:only-of-type {\n",
              "        vertical-align: middle;\n",
              "    }\n",
              "\n",
              "    .dataframe tbody tr th {\n",
              "        vertical-align: top;\n",
              "    }\n",
              "\n",
              "    .dataframe thead th {\n",
              "        text-align: right;\n",
              "    }\n",
              "</style>\n",
              "<table border=\"1\" class=\"dataframe\">\n",
              "  <thead>\n",
              "    <tr style=\"text-align: right;\">\n",
              "      <th></th>\n",
              "      <th>ds</th>\n",
              "      <th>Cultivo</th>\n",
              "      <th>y</th>\n",
              "      <th>País</th>\n",
              "      <th>Id</th>\n",
              "      <th>Último</th>\n",
              "      <th>Abertura</th>\n",
              "      <th>Máxima</th>\n",
              "      <th>Mínima</th>\n",
              "    </tr>\n",
              "  </thead>\n",
              "  <tbody>\n",
              "    <tr>\n",
              "      <th>0</th>\n",
              "      <td>2004-03-01</td>\n",
              "      <td>Trigo</td>\n",
              "      <td>25.0014</td>\n",
              "      <td>24.2907</td>\n",
              "      <td>2</td>\n",
              "      <td>38150.0</td>\n",
              "      <td>40825.0</td>\n",
              "      <td>42400.0</td>\n",
              "      <td>36600.0</td>\n",
              "    </tr>\n",
              "    <tr>\n",
              "      <th>1</th>\n",
              "      <td>2004-04-01</td>\n",
              "      <td>Trigo</td>\n",
              "      <td>27.3438</td>\n",
              "      <td>26.4508</td>\n",
              "      <td>2</td>\n",
              "      <td>36200.0</td>\n",
              "      <td>38050.0</td>\n",
              "      <td>40700.0</td>\n",
              "      <td>35400.0</td>\n",
              "    </tr>\n",
              "    <tr>\n",
              "      <th>2</th>\n",
              "      <td>2004-05-01</td>\n",
              "      <td>Trigo</td>\n",
              "      <td>29.6849</td>\n",
              "      <td>28.6268</td>\n",
              "      <td>2</td>\n",
              "      <td>33800.0</td>\n",
              "      <td>36500.0</td>\n",
              "      <td>39100.0</td>\n",
              "      <td>0.0</td>\n",
              "    </tr>\n",
              "    <tr>\n",
              "      <th>3</th>\n",
              "      <td>2004-06-01</td>\n",
              "      <td>Trigo</td>\n",
              "      <td>30.2614</td>\n",
              "      <td>29.9106</td>\n",
              "      <td>2</td>\n",
              "      <td>31225.0</td>\n",
              "      <td>33525.0</td>\n",
              "      <td>34800.0</td>\n",
              "      <td>31000.0</td>\n",
              "    </tr>\n",
              "    <tr>\n",
              "      <th>4</th>\n",
              "      <td>2004-07-01</td>\n",
              "      <td>Trigo</td>\n",
              "      <td>27.5388</td>\n",
              "      <td>27.7931</td>\n",
              "      <td>2</td>\n",
              "      <td>30975.0</td>\n",
              "      <td>31075.0</td>\n",
              "      <td>32400.0</td>\n",
              "      <td>29550.0</td>\n",
              "    </tr>\n",
              "  </tbody>\n",
              "</table>\n",
              "</div>"
            ],
            "text/plain": [
              "           ds Cultivo        y     País  Id   Último  Abertura   Máxima  \\\n",
              "0  2004-03-01   Trigo  25.0014  24.2907   2  38150.0   40825.0  42400.0   \n",
              "1  2004-04-01   Trigo  27.3438  26.4508   2  36200.0   38050.0  40700.0   \n",
              "2  2004-05-01   Trigo  29.6849  28.6268   2  33800.0   36500.0  39100.0   \n",
              "3  2004-06-01   Trigo  30.2614  29.9106   2  31225.0   33525.0  34800.0   \n",
              "4  2004-07-01   Trigo  27.5388  27.7931   2  30975.0   31075.0  32400.0   \n",
              "\n",
              "    Mínima  \n",
              "0  36600.0  \n",
              "1  35400.0  \n",
              "2      0.0  \n",
              "3  31000.0  \n",
              "4  29550.0  "
            ]
          },
          "execution_count": 2,
          "metadata": {},
          "output_type": "execute_result"
        }
      ],
      "source": [
        "df = pd.read_csv('../../data library/Trigo_v1.csv', sep=\";\")\n",
        "df = df.sort_values(by='Data').reset_index(drop=True)\n",
        "df.rename(columns={\"Data\":\"ds\", \"Estadual\":\"y\"}, inplace=True)\n",
        "df.head()"
      ]
    },
    {
      "cell_type": "code",
      "execution_count": 3,
      "metadata": {
        "id": "JXhdRNaYRBz1"
      },
      "outputs": [],
      "source": [
        "from bcb import PTAX\n",
        "from bcb import currency\n",
        "\n",
        "ptax = PTAX()\n",
        "\n",
        "df_usd = currency.get(['USD'],\n",
        "                  start='2004-03-01',\n",
        "                  end='2024-09-01',\n",
        "                  side='ask')\n",
        "\n",
        "df_usd[\"Date\"]=df_usd.index\n",
        "df_usd[\"Month\"] = df_usd[\"Date\"].dt.month\n",
        "df_usd[\"Year\"] = df_usd[\"Date\"].dt.year\n",
        "df_usd[\"Day\"] = 1\n",
        "df_usd[\"Aux\"] = df_usd[\"Year\"].astype(str) +\"-\"+ df_usd[\"Month\"].astype(str)\n",
        "df_usd = df_usd.groupby(\"Aux\").agg(\n",
        "    USD = (\"USD\", \"mean\"),\n",
        "    day = (\"Day\", \"first\"),\n",
        "    month = (\"Month\", \"first\"),\n",
        "    year = (\"Year\", \"first\"),\n",
        ").reset_index(drop=True)\n",
        "\n",
        "df_usd[\"Data\"] = pd.to_datetime(df_usd[['year', 'month', 'day']])\n",
        "df_usd = df_usd[[\"Data\", \"USD\"]].sort_values(by=\"Data\").reset_index(drop=True)"
      ]
    },
    {
      "cell_type": "code",
      "execution_count": 4,
      "metadata": {
        "colab": {
          "base_uri": "https://localhost:8080/",
          "height": 206
        },
        "id": "tEjQSX1tRSzj",
        "outputId": "d815b1d4-87b3-4662-a9b5-61f18ebe8452"
      },
      "outputs": [
        {
          "data": {
            "text/html": [
              "<div>\n",
              "<style scoped>\n",
              "    .dataframe tbody tr th:only-of-type {\n",
              "        vertical-align: middle;\n",
              "    }\n",
              "\n",
              "    .dataframe tbody tr th {\n",
              "        vertical-align: top;\n",
              "    }\n",
              "\n",
              "    .dataframe thead th {\n",
              "        text-align: right;\n",
              "    }\n",
              "</style>\n",
              "<table border=\"1\" class=\"dataframe\">\n",
              "  <thead>\n",
              "    <tr style=\"text-align: right;\">\n",
              "      <th></th>\n",
              "      <th>Data Medicao</th>\n",
              "      <th>precipitacao</th>\n",
              "      <th>temperatura</th>\n",
              "    </tr>\n",
              "  </thead>\n",
              "  <tbody>\n",
              "    <tr>\n",
              "      <th>0</th>\n",
              "      <td>31/03/2004</td>\n",
              "      <td>175.4</td>\n",
              "      <td>24.9</td>\n",
              "    </tr>\n",
              "    <tr>\n",
              "      <th>1</th>\n",
              "      <td>30/04/2004</td>\n",
              "      <td>175.4</td>\n",
              "      <td>24.5</td>\n",
              "    </tr>\n",
              "    <tr>\n",
              "      <th>2</th>\n",
              "      <td>31/05/2004</td>\n",
              "      <td>23</td>\n",
              "      <td>21.7</td>\n",
              "    </tr>\n",
              "    <tr>\n",
              "      <th>3</th>\n",
              "      <td>30/06/2004</td>\n",
              "      <td>18.8</td>\n",
              "      <td>22.1</td>\n",
              "    </tr>\n",
              "    <tr>\n",
              "      <th>4</th>\n",
              "      <td>31/07/2004</td>\n",
              "      <td>38</td>\n",
              "      <td>22.2</td>\n",
              "    </tr>\n",
              "  </tbody>\n",
              "</table>\n",
              "</div>"
            ],
            "text/plain": [
              "  Data Medicao precipitacao temperatura\n",
              "0   31/03/2004        175.4        24.9\n",
              "1   30/04/2004        175.4        24.5\n",
              "2   31/05/2004           23        21.7\n",
              "3   30/06/2004         18.8        22.1\n",
              "4   31/07/2004           38        22.2"
            ]
          },
          "execution_count": 4,
          "metadata": {},
          "output_type": "execute_result"
        }
      ],
      "source": [
        "clima = pd.read_csv(\"../../data library/Clima/MT_dados.csv\", sep=';')\n",
        "clima.rename(columns={\"PRECIPITACAO TOTAL\":\"precipitacao\", \"TEMPERATURA MEDIA\":\"temperatura\"}, inplace=True)\n",
        "\n",
        "clima[\"precipitacao\"] = clima.precipitacao.str.replace(',', '.')\n",
        "clima[\"temperatura\"] = clima.temperatura.str.replace(',', '.')\n",
        "\n",
        "clima.bfill(inplace=True)\n",
        "clima.head()"
      ]
    },
    {
      "cell_type": "code",
      "execution_count": 5,
      "metadata": {
        "colab": {
          "base_uri": "https://localhost:8080/",
          "height": 206
        },
        "id": "9hI2swi8RU2l",
        "outputId": "a68625f9-e594-4866-80d6-a97d7c9aac50"
      },
      "outputs": [
        {
          "data": {
            "text/html": [
              "<div>\n",
              "<style scoped>\n",
              "    .dataframe tbody tr th:only-of-type {\n",
              "        vertical-align: middle;\n",
              "    }\n",
              "\n",
              "    .dataframe tbody tr th {\n",
              "        vertical-align: top;\n",
              "    }\n",
              "\n",
              "    .dataframe thead th {\n",
              "        text-align: right;\n",
              "    }\n",
              "</style>\n",
              "<table border=\"1\" class=\"dataframe\">\n",
              "  <thead>\n",
              "    <tr style=\"text-align: right;\">\n",
              "      <th></th>\n",
              "      <th>ds</th>\n",
              "      <th>Cultivo</th>\n",
              "      <th>y</th>\n",
              "      <th>País</th>\n",
              "      <th>Id</th>\n",
              "      <th>Último</th>\n",
              "      <th>Abertura</th>\n",
              "      <th>Máxima</th>\n",
              "      <th>Mínima</th>\n",
              "      <th>USD</th>\n",
              "      <th>Precipitacao</th>\n",
              "      <th>Temperatura</th>\n",
              "      <th>lag_Estadual</th>\n",
              "    </tr>\n",
              "  </thead>\n",
              "  <tbody>\n",
              "    <tr>\n",
              "      <th>0</th>\n",
              "      <td>2004-03-01</td>\n",
              "      <td>Trigo</td>\n",
              "      <td>25.0014</td>\n",
              "      <td>24.2907</td>\n",
              "      <td>2</td>\n",
              "      <td>38150.0</td>\n",
              "      <td>40825.0</td>\n",
              "      <td>42400.0</td>\n",
              "      <td>36600.0</td>\n",
              "      <td>2.905457</td>\n",
              "      <td>175.4</td>\n",
              "      <td>24.9</td>\n",
              "      <td>25.0014</td>\n",
              "    </tr>\n",
              "    <tr>\n",
              "      <th>1</th>\n",
              "      <td>2004-04-01</td>\n",
              "      <td>Trigo</td>\n",
              "      <td>27.3438</td>\n",
              "      <td>26.4508</td>\n",
              "      <td>2</td>\n",
              "      <td>36200.0</td>\n",
              "      <td>38050.0</td>\n",
              "      <td>40700.0</td>\n",
              "      <td>35400.0</td>\n",
              "      <td>2.905985</td>\n",
              "      <td>175.4</td>\n",
              "      <td>24.5</td>\n",
              "      <td>25.0014</td>\n",
              "    </tr>\n",
              "    <tr>\n",
              "      <th>2</th>\n",
              "      <td>2004-05-01</td>\n",
              "      <td>Trigo</td>\n",
              "      <td>29.6849</td>\n",
              "      <td>28.6268</td>\n",
              "      <td>2</td>\n",
              "      <td>33800.0</td>\n",
              "      <td>36500.0</td>\n",
              "      <td>39100.0</td>\n",
              "      <td>0.0</td>\n",
              "      <td>3.100419</td>\n",
              "      <td>23.0</td>\n",
              "      <td>21.7</td>\n",
              "      <td>27.3438</td>\n",
              "    </tr>\n",
              "    <tr>\n",
              "      <th>3</th>\n",
              "      <td>2004-06-01</td>\n",
              "      <td>Trigo</td>\n",
              "      <td>30.2614</td>\n",
              "      <td>29.9106</td>\n",
              "      <td>2</td>\n",
              "      <td>31225.0</td>\n",
              "      <td>33525.0</td>\n",
              "      <td>34800.0</td>\n",
              "      <td>31000.0</td>\n",
              "      <td>3.129148</td>\n",
              "      <td>18.8</td>\n",
              "      <td>22.1</td>\n",
              "      <td>29.6849</td>\n",
              "    </tr>\n",
              "    <tr>\n",
              "      <th>4</th>\n",
              "      <td>2004-07-01</td>\n",
              "      <td>Trigo</td>\n",
              "      <td>27.5388</td>\n",
              "      <td>27.7931</td>\n",
              "      <td>2</td>\n",
              "      <td>30975.0</td>\n",
              "      <td>31075.0</td>\n",
              "      <td>32400.0</td>\n",
              "      <td>29550.0</td>\n",
              "      <td>3.036777</td>\n",
              "      <td>38.0</td>\n",
              "      <td>22.2</td>\n",
              "      <td>30.2614</td>\n",
              "    </tr>\n",
              "  </tbody>\n",
              "</table>\n",
              "</div>"
            ],
            "text/plain": [
              "           ds Cultivo        y     País  Id   Último  Abertura   Máxima  \\\n",
              "0  2004-03-01   Trigo  25.0014  24.2907   2  38150.0   40825.0  42400.0   \n",
              "1  2004-04-01   Trigo  27.3438  26.4508   2  36200.0   38050.0  40700.0   \n",
              "2  2004-05-01   Trigo  29.6849  28.6268   2  33800.0   36500.0  39100.0   \n",
              "3  2004-06-01   Trigo  30.2614  29.9106   2  31225.0   33525.0  34800.0   \n",
              "4  2004-07-01   Trigo  27.5388  27.7931   2  30975.0   31075.0  32400.0   \n",
              "\n",
              "    Mínima       USD  Precipitacao  Temperatura  lag_Estadual  \n",
              "0  36600.0  2.905457         175.4         24.9       25.0014  \n",
              "1  35400.0  2.905985         175.4         24.5       25.0014  \n",
              "2      0.0  3.100419          23.0         21.7       27.3438  \n",
              "3  31000.0  3.129148          18.8         22.1       29.6849  \n",
              "4  29550.0  3.036777          38.0         22.2       30.2614  "
            ]
          },
          "execution_count": 5,
          "metadata": {},
          "output_type": "execute_result"
        }
      ],
      "source": [
        "df[\"USD\"] = df_usd[\"USD\"]\n",
        "df[\"Precipitacao\"] = clima[\"precipitacao\"].astype(float)\n",
        "df[\"Temperatura\"] = clima[\"temperatura\"].astype(float)\n",
        "df['lag_Estadual'] = df['y'].shift(1)\n",
        "df['lag_Estadual'] = df['lag_Estadual'].bfill()\n",
        "df.head()"
      ]
    },
    {
      "cell_type": "code",
      "execution_count": 6,
      "metadata": {
        "id": "7S2iqB1-Xvo8"
      },
      "outputs": [],
      "source": [
        "def plot_predictions(testing_dates, y_test, prediction):\n",
        "    df_test = pd.DataFrame({\"date\": testing_dates, \"actual\": y_test, \"prediction\": prediction })\n",
        "    _, ax = plt.subplots(figsize=(10, 5))\n",
        "    df_test.plot(ax=ax, label=\"Actual\", x=\"date\", y=\"actual\")\n",
        "    df_test.plot(ax=ax, label=\"Prediction\", x=\"date\", y=\"prediction\")\n",
        "    plt.legend([\"Actual\", \"Prediction\"])\n",
        "    plt.show()"
      ]
    },
    {
      "cell_type": "code",
      "execution_count": 7,
      "metadata": {
        "id": "qIR1SHLhaNJz"
      },
      "outputs": [],
      "source": [
        "def evaluate_model(y_test, prediction):\n",
        "  print(f\"MAE: {mean_absolute_error(y_test, prediction)}\")\n",
        "  print(f\"RMSE: {root_mean_squared_error(y_test, prediction)}\")\n",
        "  print(f\"MAPE: {mean_absolute_percentage_error(y_test, prediction)}\")\n",
        "  print(f\"R-Squared: {r2_score(y_test, prediction)}\")"
      ]
    },
    {
      "cell_type": "code",
      "execution_count": 8,
      "metadata": {
        "colab": {
          "base_uri": "https://localhost:8080/",
          "height": 447
        },
        "id": "uzoVht05RvsI",
        "outputId": "9613c1c0-d9a9-4e95-f2d4-9c035257bb08"
      },
      "outputs": [
        {
          "data": {
            "text/plain": [
              "[<matplotlib.lines.Line2D at 0x1c5e45ee330>]"
            ]
          },
          "execution_count": 8,
          "metadata": {},
          "output_type": "execute_result"
        },
        {
          "data": {
            "image/png": "[encoded data removed]",
            "text/plain": [
              "<Figure size 640x480 with 1 Axes>"
            ]
          },
          "metadata": {},
          "output_type": "display_data"
        }
      ],
      "source": [
        "train_size = int(len(df) * 0.8)\n",
        "train, test = df[0:train_size], df[train_size:len(df)]\n",
        "\n",
        "test_dates = test.ds\n",
        "\n",
        "plt.plot(train.y)\n",
        "plt.plot(test.y)"
      ]
    },
    {
      "cell_type": "markdown",
      "metadata": {
        "id": "1VDIm552YNPz"
      },
      "source": [
        "# Univariado"
      ]
    },
    {
      "cell_type": "code",
      "execution_count": 9,
      "metadata": {
        "colab": {
          "base_uri": "https://localhost:8080/"
        },
        "id": "7j-ir4wlYSIL",
        "outputId": "8f878836-f98b-40b3-e3ac-8e800b086b26"
      },
      "outputs": [
        {
          "name": "stderr",
          "output_type": "stream",
          "text": [
            "23:44:01 - cmdstanpy - INFO - Chain [1] start processing\n",
            "23:44:02 - cmdstanpy - INFO - Chain [1] done processing\n"
          ]
        },
        {
          "data": {
            "text/plain": [
              "<prophet.forecaster.Prophet at 0x1c5e5712480>"
            ]
          },
          "execution_count": 9,
          "metadata": {},
          "output_type": "execute_result"
        }
      ],
      "source": [
        "m = Prophet()\n",
        "m.fit(train)\n",
        "\n",
        "# m.params"
      ]
    },
    {
      "cell_type": "code",
      "execution_count": 10,
      "metadata": {
        "colab": {
          "base_uri": "https://localhost:8080/",
          "height": 206
        },
        "id": "B7v7S7IqYbv1",
        "outputId": "2878729d-971f-4373-c463-0e07b8ff3dbe"
      },
      "outputs": [
        {
          "data": {
            "text/html": [
              "<div>\n",
              "<style scoped>\n",
              "    .dataframe tbody tr th:only-of-type {\n",
              "        vertical-align: middle;\n",
              "    }\n",
              "\n",
              "    .dataframe tbody tr th {\n",
              "        vertical-align: top;\n",
              "    }\n",
              "\n",
              "    .dataframe thead th {\n",
              "        text-align: right;\n",
              "    }\n",
              "</style>\n",
              "<table border=\"1\" class=\"dataframe\">\n",
              "  <thead>\n",
              "    <tr style=\"text-align: right;\">\n",
              "      <th></th>\n",
              "      <th>ds</th>\n",
              "      <th>yhat</th>\n",
              "      <th>yhat_lower</th>\n",
              "      <th>yhat_upper</th>\n",
              "    </tr>\n",
              "  </thead>\n",
              "  <tbody>\n",
              "    <tr>\n",
              "      <th>0</th>\n",
              "      <td>2020-08-01</td>\n",
              "      <td>47.103508</td>\n",
              "      <td>39.764222</td>\n",
              "      <td>54.273771</td>\n",
              "    </tr>\n",
              "    <tr>\n",
              "      <th>1</th>\n",
              "      <td>2020-09-01</td>\n",
              "      <td>46.963269</td>\n",
              "      <td>39.823813</td>\n",
              "      <td>54.068600</td>\n",
              "    </tr>\n",
              "    <tr>\n",
              "      <th>2</th>\n",
              "      <td>2020-10-01</td>\n",
              "      <td>46.515498</td>\n",
              "      <td>39.528060</td>\n",
              "      <td>53.064745</td>\n",
              "    </tr>\n",
              "    <tr>\n",
              "      <th>3</th>\n",
              "      <td>2020-11-01</td>\n",
              "      <td>46.324296</td>\n",
              "      <td>39.016465</td>\n",
              "      <td>52.867335</td>\n",
              "    </tr>\n",
              "    <tr>\n",
              "      <th>4</th>\n",
              "      <td>2020-12-01</td>\n",
              "      <td>46.365536</td>\n",
              "      <td>39.315810</td>\n",
              "      <td>52.820075</td>\n",
              "    </tr>\n",
              "  </tbody>\n",
              "</table>\n",
              "</div>"
            ],
            "text/plain": [
              "          ds       yhat  yhat_lower  yhat_upper\n",
              "0 2020-08-01  47.103508   39.764222   54.273771\n",
              "1 2020-09-01  46.963269   39.823813   54.068600\n",
              "2 2020-10-01  46.515498   39.528060   53.064745\n",
              "3 2020-11-01  46.324296   39.016465   52.867335\n",
              "4 2020-12-01  46.365536   39.315810   52.820075"
            ]
          },
          "execution_count": 10,
          "metadata": {},
          "output_type": "execute_result"
        }
      ],
      "source": [
        "forecast = m.predict(test)\n",
        "forecast[['ds', 'yhat', 'yhat_lower', 'yhat_upper']].head()"
      ]
    },
    {
      "cell_type": "code",
      "execution_count": 11,
      "metadata": {
        "colab": {
          "base_uri": "https://localhost:8080/",
          "height": 206
        },
        "id": "Tqh0TWeTYdpy",
        "outputId": "5a90fc96-73ab-4ddc-d207-30442e43182c"
      },
      "outputs": [
        {
          "data": {
            "text/html": [
              "<div>\n",
              "<style scoped>\n",
              "    .dataframe tbody tr th:only-of-type {\n",
              "        vertical-align: middle;\n",
              "    }\n",
              "\n",
              "    .dataframe tbody tr th {\n",
              "        vertical-align: top;\n",
              "    }\n",
              "\n",
              "    .dataframe thead th {\n",
              "        text-align: right;\n",
              "    }\n",
              "</style>\n",
              "<table border=\"1\" class=\"dataframe\">\n",
              "  <thead>\n",
              "    <tr style=\"text-align: right;\">\n",
              "      <th></th>\n",
              "      <th>ds</th>\n",
              "      <th>y</th>\n",
              "      <th>yhat</th>\n",
              "    </tr>\n",
              "  </thead>\n",
              "  <tbody>\n",
              "    <tr>\n",
              "      <th>0</th>\n",
              "      <td>2020-08-01</td>\n",
              "      <td>56.9863</td>\n",
              "      <td>47.103508</td>\n",
              "    </tr>\n",
              "    <tr>\n",
              "      <th>1</th>\n",
              "      <td>2020-09-01</td>\n",
              "      <td>59.8474</td>\n",
              "      <td>46.963269</td>\n",
              "    </tr>\n",
              "    <tr>\n",
              "      <th>2</th>\n",
              "      <td>2020-10-01</td>\n",
              "      <td>65.6995</td>\n",
              "      <td>46.515498</td>\n",
              "    </tr>\n",
              "    <tr>\n",
              "      <th>3</th>\n",
              "      <td>2020-11-01</td>\n",
              "      <td>75.3144</td>\n",
              "      <td>46.324296</td>\n",
              "    </tr>\n",
              "    <tr>\n",
              "      <th>4</th>\n",
              "      <td>2020-12-01</td>\n",
              "      <td>69.5309</td>\n",
              "      <td>46.365536</td>\n",
              "    </tr>\n",
              "  </tbody>\n",
              "</table>\n",
              "</div>"
            ],
            "text/plain": [
              "           ds        y       yhat\n",
              "0  2020-08-01  56.9863  47.103508\n",
              "1  2020-09-01  59.8474  46.963269\n",
              "2  2020-10-01  65.6995  46.515498\n",
              "3  2020-11-01  75.3144  46.324296\n",
              "4  2020-12-01  69.5309  46.365536"
            ]
          },
          "execution_count": 11,
          "metadata": {},
          "output_type": "execute_result"
        }
      ],
      "source": [
        "test.reset_index(inplace=True, drop=True)\n",
        "final_df = test[[\"ds\", \"y\"]].copy()\n",
        "final_df['yhat'] = forecast['yhat']\n",
        "final_df.head()"
      ]
    },
    {
      "cell_type": "code",
      "execution_count": 12,
      "metadata": {
        "colab": {
          "base_uri": "https://localhost:8080/",
          "height": 534
        },
        "id": "CkLmGC7mYg4k",
        "outputId": "e92429f4-ff05-4712-ed66-95b5e5f80efd"
      },
      "outputs": [
        {
          "data": {
            "image/png": "[encoded data removed]",
            "text/plain": [
              "<Figure size 1000x500 with 1 Axes>"
            ]
          },
          "metadata": {},
          "output_type": "display_data"
        },
        {
          "name": "stdout",
          "output_type": "stream",
          "text": [
            "MAE: 28.059207285699078\n",
            "RMSE: 31.808743924030985\n",
            "MAPE: 0.33116291990158353\n",
            "R-Squared: -3.876990331199913\n"
          ]
        }
      ],
      "source": [
        "plot_predictions(test_dates, final_df.y, final_df.yhat)\n",
        "evaluate_model(final_df.y, final_df.yhat)"
      ]
    },
    {
      "cell_type": "markdown",
      "metadata": {
        "id": "qP9ihS-HYSdH"
      },
      "source": [
        "# Multivariado"
      ]
    },
    {
      "cell_type": "code",
      "execution_count": 13,
      "metadata": {
        "colab": {
          "base_uri": "https://localhost:8080/"
        },
        "id": "smUT9ZiIG80z",
        "outputId": "92b95283-efe4-47cc-de2d-07109459adca"
      },
      "outputs": [
        {
          "name": "stderr",
          "output_type": "stream",
          "text": [
            "23:44:13 - cmdstanpy - INFO - Chain [1] start processing\n",
            "23:44:13 - cmdstanpy - INFO - Chain [1] done processing\n"
          ]
        },
        {
          "data": {
            "text/plain": [
              "<prophet.forecaster.Prophet at 0x1c5e5742d20>"
            ]
          },
          "execution_count": 13,
          "metadata": {},
          "output_type": "execute_result"
        }
      ],
      "source": [
        "m = Prophet()\n",
        "m.add_regressor('USD')\n",
        "m.add_regressor('País')\n",
        "m.add_regressor('Último')\n",
        "m.add_regressor('Máxima')\n",
        "m.add_regressor('lag_Estadual')\n",
        "m.fit(train)\n",
        "\n",
        "# m.params"
      ]
    },
    {
      "cell_type": "code",
      "execution_count": 14,
      "metadata": {
        "colab": {
          "base_uri": "https://localhost:8080/",
          "height": 206
        },
        "id": "NLrkICXdS-vD",
        "outputId": "5c6e2395-ede6-4124-a260-e26ef89afd21"
      },
      "outputs": [
        {
          "data": {
            "text/html": [
              "<div>\n",
              "<style scoped>\n",
              "    .dataframe tbody tr th:only-of-type {\n",
              "        vertical-align: middle;\n",
              "    }\n",
              "\n",
              "    .dataframe tbody tr th {\n",
              "        vertical-align: top;\n",
              "    }\n",
              "\n",
              "    .dataframe thead th {\n",
              "        text-align: right;\n",
              "    }\n",
              "</style>\n",
              "<table border=\"1\" class=\"dataframe\">\n",
              "  <thead>\n",
              "    <tr style=\"text-align: right;\">\n",
              "      <th></th>\n",
              "      <th>ds</th>\n",
              "      <th>USD</th>\n",
              "      <th>País</th>\n",
              "      <th>Último</th>\n",
              "      <th>Máxima</th>\n",
              "      <th>lag_Estadual</th>\n",
              "    </tr>\n",
              "  </thead>\n",
              "  <tbody>\n",
              "    <tr>\n",
              "      <th>0</th>\n",
              "      <td>2020-08-01</td>\n",
              "      <td>5.280191</td>\n",
              "      <td>56.1960</td>\n",
              "      <td>54650.0</td>\n",
              "      <td>55175.0</td>\n",
              "      <td>56.9056</td>\n",
              "    </tr>\n",
              "    <tr>\n",
              "      <th>1</th>\n",
              "      <td>2020-09-01</td>\n",
              "      <td>5.461233</td>\n",
              "      <td>58.5133</td>\n",
              "      <td>57812.0</td>\n",
              "      <td>58662.0</td>\n",
              "      <td>56.9863</td>\n",
              "    </tr>\n",
              "    <tr>\n",
              "      <th>2</th>\n",
              "      <td>2020-10-01</td>\n",
              "      <td>5.399486</td>\n",
              "      <td>66.6685</td>\n",
              "      <td>59850.0</td>\n",
              "      <td>63762.0</td>\n",
              "      <td>59.8474</td>\n",
              "    </tr>\n",
              "    <tr>\n",
              "      <th>3</th>\n",
              "      <td>2020-11-01</td>\n",
              "      <td>5.625790</td>\n",
              "      <td>77.1260</td>\n",
              "      <td>58100.0</td>\n",
              "      <td>62588.0</td>\n",
              "      <td>65.6995</td>\n",
              "    </tr>\n",
              "    <tr>\n",
              "      <th>4</th>\n",
              "      <td>2020-12-01</td>\n",
              "      <td>5.417835</td>\n",
              "      <td>70.0093</td>\n",
              "      <td>64175.0</td>\n",
              "      <td>64438.0</td>\n",
              "      <td>75.3144</td>\n",
              "    </tr>\n",
              "  </tbody>\n",
              "</table>\n",
              "</div>"
            ],
            "text/plain": [
              "           ds       USD     País   Último   Máxima  lag_Estadual\n",
              "0  2020-08-01  5.280191  56.1960  54650.0  55175.0       56.9056\n",
              "1  2020-09-01  5.461233  58.5133  57812.0  58662.0       56.9863\n",
              "2  2020-10-01  5.399486  66.6685  59850.0  63762.0       59.8474\n",
              "3  2020-11-01  5.625790  77.1260  58100.0  62588.0       65.6995\n",
              "4  2020-12-01  5.417835  70.0093  64175.0  64438.0       75.3144"
            ]
          },
          "execution_count": 14,
          "metadata": {},
          "output_type": "execute_result"
        }
      ],
      "source": [
        "test_1 = test[['ds', 'USD', 'País', 'Último', 'Máxima', 'lag_Estadual']]\n",
        "test_1.head()"
      ]
    },
    {
      "cell_type": "code",
      "execution_count": 40,
      "metadata": {
        "id": "KFTOaHQ7I20O"
      },
      "outputs": [],
      "source": [
        "# future = m.make_future_dataframe(periods=len(test_1), freq='MS')\n",
        "# future.head()"
      ]
    },
    {
      "cell_type": "code",
      "execution_count": 15,
      "metadata": {
        "colab": {
          "base_uri": "https://localhost:8080/",
          "height": 206
        },
        "id": "8DhLiuhxI5J-",
        "outputId": "5717b5ad-b7b6-4a4c-f6b6-a4f529b15a72"
      },
      "outputs": [
        {
          "data": {
            "text/html": [
              "<div>\n",
              "<style scoped>\n",
              "    .dataframe tbody tr th:only-of-type {\n",
              "        vertical-align: middle;\n",
              "    }\n",
              "\n",
              "    .dataframe tbody tr th {\n",
              "        vertical-align: top;\n",
              "    }\n",
              "\n",
              "    .dataframe thead th {\n",
              "        text-align: right;\n",
              "    }\n",
              "</style>\n",
              "<table border=\"1\" class=\"dataframe\">\n",
              "  <thead>\n",
              "    <tr style=\"text-align: right;\">\n",
              "      <th></th>\n",
              "      <th>ds</th>\n",
              "      <th>yhat</th>\n",
              "      <th>yhat_lower</th>\n",
              "      <th>yhat_upper</th>\n",
              "    </tr>\n",
              "  </thead>\n",
              "  <tbody>\n",
              "    <tr>\n",
              "      <th>0</th>\n",
              "      <td>2020-08-01</td>\n",
              "      <td>60.793005</td>\n",
              "      <td>59.424310</td>\n",
              "      <td>62.184145</td>\n",
              "    </tr>\n",
              "    <tr>\n",
              "      <th>1</th>\n",
              "      <td>2020-09-01</td>\n",
              "      <td>62.306689</td>\n",
              "      <td>60.896065</td>\n",
              "      <td>63.705250</td>\n",
              "    </tr>\n",
              "    <tr>\n",
              "      <th>2</th>\n",
              "      <td>2020-10-01</td>\n",
              "      <td>69.364910</td>\n",
              "      <td>68.077132</td>\n",
              "      <td>70.747117</td>\n",
              "    </tr>\n",
              "    <tr>\n",
              "      <th>3</th>\n",
              "      <td>2020-11-01</td>\n",
              "      <td>79.480007</td>\n",
              "      <td>78.054736</td>\n",
              "      <td>80.809447</td>\n",
              "    </tr>\n",
              "    <tr>\n",
              "      <th>4</th>\n",
              "      <td>2020-12-01</td>\n",
              "      <td>78.080467</td>\n",
              "      <td>76.620177</td>\n",
              "      <td>79.469375</td>\n",
              "    </tr>\n",
              "  </tbody>\n",
              "</table>\n",
              "</div>"
            ],
            "text/plain": [
              "          ds       yhat  yhat_lower  yhat_upper\n",
              "0 2020-08-01  60.793005   59.424310   62.184145\n",
              "1 2020-09-01  62.306689   60.896065   63.705250\n",
              "2 2020-10-01  69.364910   68.077132   70.747117\n",
              "3 2020-11-01  79.480007   78.054736   80.809447\n",
              "4 2020-12-01  78.080467   76.620177   79.469375"
            ]
          },
          "execution_count": 15,
          "metadata": {},
          "output_type": "execute_result"
        }
      ],
      "source": [
        "forecast = m.predict(test_1)\n",
        "forecast[['ds', 'yhat', 'yhat_lower', 'yhat_upper']].head()"
      ]
    },
    {
      "cell_type": "code",
      "execution_count": 16,
      "metadata": {
        "colab": {
          "base_uri": "https://localhost:8080/",
          "height": 206
        },
        "id": "NzGyiMW9W2RW",
        "outputId": "7ee07ed5-edfb-4aa5-c40a-ee251309d8b3"
      },
      "outputs": [
        {
          "data": {
            "text/html": [
              "<div>\n",
              "<style scoped>\n",
              "    .dataframe tbody tr th:only-of-type {\n",
              "        vertical-align: middle;\n",
              "    }\n",
              "\n",
              "    .dataframe tbody tr th {\n",
              "        vertical-align: top;\n",
              "    }\n",
              "\n",
              "    .dataframe thead th {\n",
              "        text-align: right;\n",
              "    }\n",
              "</style>\n",
              "<table border=\"1\" class=\"dataframe\">\n",
              "  <thead>\n",
              "    <tr style=\"text-align: right;\">\n",
              "      <th></th>\n",
              "      <th>ds</th>\n",
              "      <th>y</th>\n",
              "      <th>País</th>\n",
              "      <th>USD</th>\n",
              "      <th>yhat</th>\n",
              "    </tr>\n",
              "  </thead>\n",
              "  <tbody>\n",
              "    <tr>\n",
              "      <th>0</th>\n",
              "      <td>2020-08-01</td>\n",
              "      <td>56.9863</td>\n",
              "      <td>56.1960</td>\n",
              "      <td>5.280191</td>\n",
              "      <td>60.793005</td>\n",
              "    </tr>\n",
              "    <tr>\n",
              "      <th>1</th>\n",
              "      <td>2020-09-01</td>\n",
              "      <td>59.8474</td>\n",
              "      <td>58.5133</td>\n",
              "      <td>5.461233</td>\n",
              "      <td>62.306689</td>\n",
              "    </tr>\n",
              "    <tr>\n",
              "      <th>2</th>\n",
              "      <td>2020-10-01</td>\n",
              "      <td>65.6995</td>\n",
              "      <td>66.6685</td>\n",
              "      <td>5.399486</td>\n",
              "      <td>69.364910</td>\n",
              "    </tr>\n",
              "    <tr>\n",
              "      <th>3</th>\n",
              "      <td>2020-11-01</td>\n",
              "      <td>75.3144</td>\n",
              "      <td>77.1260</td>\n",
              "      <td>5.625790</td>\n",
              "      <td>79.480007</td>\n",
              "    </tr>\n",
              "    <tr>\n",
              "      <th>4</th>\n",
              "      <td>2020-12-01</td>\n",
              "      <td>69.5309</td>\n",
              "      <td>70.0093</td>\n",
              "      <td>5.417835</td>\n",
              "      <td>78.080467</td>\n",
              "    </tr>\n",
              "  </tbody>\n",
              "</table>\n",
              "</div>"
            ],
            "text/plain": [
              "           ds        y     País       USD       yhat\n",
              "0  2020-08-01  56.9863  56.1960  5.280191  60.793005\n",
              "1  2020-09-01  59.8474  58.5133  5.461233  62.306689\n",
              "2  2020-10-01  65.6995  66.6685  5.399486  69.364910\n",
              "3  2020-11-01  75.3144  77.1260  5.625790  79.480007\n",
              "4  2020-12-01  69.5309  70.0093  5.417835  78.080467"
            ]
          },
          "execution_count": 16,
          "metadata": {},
          "output_type": "execute_result"
        }
      ],
      "source": [
        "test.reset_index(inplace=True, drop=True)\n",
        "final_df = test[[\"ds\", \"y\", \"País\", \"USD\"]].copy()\n",
        "final_df['yhat'] = forecast['yhat']\n",
        "final_df.head()"
      ]
    },
    {
      "cell_type": "code",
      "execution_count": 17,
      "metadata": {
        "colab": {
          "base_uri": "https://localhost:8080/",
          "height": 534
        },
        "id": "AyxOktb2XxM4",
        "outputId": "f6076a26-cfb9-4ee4-ce56-647883ab2e1b"
      },
      "outputs": [
        {
          "data": {
            "image/png": "[encoded data removed]",
            "text/plain": [
              "<Figure size 1000x500 with 1 Axes>"
            ]
          },
          "metadata": {},
          "output_type": "display_data"
        },
        {
          "name": "stdout",
          "output_type": "stream",
          "text": [
            "MAE: 5.221005733881402\n",
            "RMSE: 5.910861505480423\n",
            "MAPE: 0.06683076381849266\n",
            "R-Squared: 0.8315928902936627\n"
          ]
        }
      ],
      "source": [
        "plot_predictions(test_dates, final_df.y, final_df.yhat)\n",
        "evaluate_model(final_df.y, final_df.yhat)"
      ]
    }
  ],
  "metadata": {
    "colab": {
      "authorship_tag": "ABX9TyMJ63fOvvsRqdMNudenxD8L",
      "include_colab_link": true,
      "provenance": []
    },
    "kernelspec": {
      "display_name": "Python 3",
      "name": "python3"
    },
    "language_info": {
      "codemirror_mode": {
        "name": "ipython",
        "version": 3
      },
      "file_extension": ".py",
      "mimetype": "text/x-python",
      "name": "python",
      "nbconvert_exporter": "python",
      "pygments_lexer": "ipython3",
      "version": "3.12.5"
    }
  },
  "nbformat": 4,
  "nbformat_minor": 0
}
