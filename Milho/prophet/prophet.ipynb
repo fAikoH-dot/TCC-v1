{
  "cells": [
    {
      "cell_type": "markdown",
      "metadata": {
        "colab_type": "text",
        "id": "view-in-github"
      },
      "source": [
        "<a href=\"https://colab.research.google.com/github/fAikoH-dot/TCC-v1/blob/main/prophet/prophet.ipynb\" target=\"_parent\"><img src=\"https://colab.research.google.com/assets/colab-badge.svg\" alt=\"Open In Colab\"/></a>"
      ]
    },
    {
      "cell_type": "code",
      "execution_count": 1,
      "metadata": {
        "colab": {
          "base_uri": "https://localhost:8080/"
        },
        "id": "rqQLtK6uHFh-",
        "outputId": "924d102a-e884-4b64-ec82-ed9c50a7827a"
      },
      "outputs": [],
      "source": [
        "# !pip install prophet"
      ]
    },
    {
      "cell_type": "code",
      "execution_count": 2,
      "metadata": {
        "colab": {
          "base_uri": "https://localhost:8080/"
        },
        "id": "rYJ5owzXQ-KO",
        "outputId": "04252f3b-76cb-4bff-9fbb-32f1e8066af2"
      },
      "outputs": [],
      "source": [
        "# !pip install python-bcb"
      ]
    },
    {
      "cell_type": "code",
      "execution_count": 3,
      "metadata": {
        "id": "AGq222POG06e"
      },
      "outputs": [
        {
          "name": "stderr",
          "output_type": "stream",
          "text": [
            "C:\\Users\\hamatsu\\AppData\\Roaming\\Python\\Python312\\site-packages\\tqdm\\auto.py:21: TqdmWarning: IProgress not found. Please update jupyter and ipywidgets. See https://ipywidgets.readthedocs.io/en/stable/user_install.html\n",
            "  from .autonotebook import tqdm as notebook_tqdm\n"
          ]
        }
      ],
      "source": [
        "import pandas as pd\n",
        "from prophet import Prophet\n",
        "import matplotlib.pyplot as plt\n",
        "\n",
        "from sklearn.metrics import r2_score\n",
        "from sklearn.metrics import mean_absolute_error, mean_absolute_percentage_error, root_mean_squared_error"
      ]
    },
    {
      "cell_type": "code",
      "execution_count": 4,
      "metadata": {
        "colab": {
          "base_uri": "https://localhost:8080/",
          "height": 206
        },
        "id": "V6NW13dOG57W",
        "outputId": "9672f481-45c6-4d39-ca0c-3e5d80dabd1f"
      },
      "outputs": [
        {
          "data": {
            "text/html": [
              "<div>\n",
              "<style scoped>\n",
              "    .dataframe tbody tr th:only-of-type {\n",
              "        vertical-align: middle;\n",
              "    }\n",
              "\n",
              "    .dataframe tbody tr th {\n",
              "        vertical-align: top;\n",
              "    }\n",
              "\n",
              "    .dataframe thead th {\n",
              "        text-align: right;\n",
              "    }\n",
              "</style>\n",
              "<table border=\"1\" class=\"dataframe\">\n",
              "  <thead>\n",
              "    <tr style=\"text-align: right;\">\n",
              "      <th></th>\n",
              "      <th>ds</th>\n",
              "      <th>Cultivo</th>\n",
              "      <th>y</th>\n",
              "      <th>País</th>\n",
              "      <th>Id</th>\n",
              "      <th>Último</th>\n",
              "      <th>Abertura</th>\n",
              "      <th>Máxima</th>\n",
              "      <th>Mínima</th>\n",
              "    </tr>\n",
              "  </thead>\n",
              "  <tbody>\n",
              "    <tr>\n",
              "      <th>0</th>\n",
              "      <td>2004-03-01</td>\n",
              "      <td>Milho</td>\n",
              "      <td>16.9936</td>\n",
              "      <td>17.5722</td>\n",
              "      <td>1</td>\n",
              "      <td>32025.0</td>\n",
              "      <td>32500.0</td>\n",
              "      <td>34200.0</td>\n",
              "      <td>30300.0</td>\n",
              "    </tr>\n",
              "    <tr>\n",
              "      <th>1</th>\n",
              "      <td>2004-04-01</td>\n",
              "      <td>Milho</td>\n",
              "      <td>19.8861</td>\n",
              "      <td>19.4868</td>\n",
              "      <td>1</td>\n",
              "      <td>29975.0</td>\n",
              "      <td>32125.0</td>\n",
              "      <td>32650.0</td>\n",
              "      <td>28175.0</td>\n",
              "    </tr>\n",
              "    <tr>\n",
              "      <th>2</th>\n",
              "      <td>2004-05-01</td>\n",
              "      <td>Milho</td>\n",
              "      <td>19.7989</td>\n",
              "      <td>20.2459</td>\n",
              "      <td>1</td>\n",
              "      <td>26250.0</td>\n",
              "      <td>30500.0</td>\n",
              "      <td>32250.0</td>\n",
              "      <td>26000.0</td>\n",
              "    </tr>\n",
              "    <tr>\n",
              "      <th>3</th>\n",
              "      <td>2004-06-01</td>\n",
              "      <td>Milho</td>\n",
              "      <td>17.9299</td>\n",
              "      <td>19.0091</td>\n",
              "      <td>1</td>\n",
              "      <td>22550.0</td>\n",
              "      <td>26250.0</td>\n",
              "      <td>26425.0</td>\n",
              "      <td>22500.0</td>\n",
              "    </tr>\n",
              "    <tr>\n",
              "      <th>4</th>\n",
              "      <td>2004-07-01</td>\n",
              "      <td>Milho</td>\n",
              "      <td>16.4940</td>\n",
              "      <td>17.7122</td>\n",
              "      <td>1</td>\n",
              "      <td>23775.0</td>\n",
              "      <td>22550.0</td>\n",
              "      <td>24525.0</td>\n",
              "      <td>22500.0</td>\n",
              "    </tr>\n",
              "  </tbody>\n",
              "</table>\n",
              "</div>"
            ],
            "text/plain": [
              "           ds Cultivo        y     País  Id   Último  Abertura   Máxima  \\\n",
              "0  2004-03-01   Milho  16.9936  17.5722   1  32025.0   32500.0  34200.0   \n",
              "1  2004-04-01   Milho  19.8861  19.4868   1  29975.0   32125.0  32650.0   \n",
              "2  2004-05-01   Milho  19.7989  20.2459   1  26250.0   30500.0  32250.0   \n",
              "3  2004-06-01   Milho  17.9299  19.0091   1  22550.0   26250.0  26425.0   \n",
              "4  2004-07-01   Milho  16.4940  17.7122   1  23775.0   22550.0  24525.0   \n",
              "\n",
              "    Mínima  \n",
              "0  30300.0  \n",
              "1  28175.0  \n",
              "2  26000.0  \n",
              "3  22500.0  \n",
              "4  22500.0  "
            ]
          },
          "execution_count": 4,
          "metadata": {},
          "output_type": "execute_result"
        }
      ],
      "source": [
        "df = pd.read_csv('../../data library/Milho_v1.csv', sep=\";\")\n",
        "df = df.sort_values(by='Data').reset_index(drop=True)\n",
        "df.rename(columns={\"Data\":\"ds\", \"Estadual\":\"y\"}, inplace=True)\n",
        "df.head()"
      ]
    },
    {
      "cell_type": "code",
      "execution_count": 5,
      "metadata": {
        "id": "JXhdRNaYRBz1"
      },
      "outputs": [],
      "source": [
        "from bcb import PTAX\n",
        "from bcb import currency\n",
        "\n",
        "ptax = PTAX()\n",
        "\n",
        "df_usd = currency.get(['USD'],\n",
        "                  start='2004-03-01',\n",
        "                  end='2024-09-01',\n",
        "                  side='ask')\n",
        "\n",
        "df_usd[\"Date\"]=df_usd.index\n",
        "df_usd[\"Month\"] = df_usd[\"Date\"].dt.month\n",
        "df_usd[\"Year\"] = df_usd[\"Date\"].dt.year\n",
        "df_usd[\"Day\"] = 1\n",
        "df_usd[\"Aux\"] = df_usd[\"Year\"].astype(str) +\"-\"+ df_usd[\"Month\"].astype(str)\n",
        "df_usd = df_usd.groupby(\"Aux\").agg(\n",
        "    USD = (\"USD\", \"mean\"),\n",
        "    day = (\"Day\", \"first\"),\n",
        "    month = (\"Month\", \"first\"),\n",
        "    year = (\"Year\", \"first\"),\n",
        ").reset_index(drop=True)\n",
        "\n",
        "df_usd[\"Data\"] = pd.to_datetime(df_usd[['year', 'month', 'day']])\n",
        "df_usd = df_usd[[\"Data\", \"USD\"]].sort_values(by=\"Data\").reset_index(drop=True)"
      ]
    },
    {
      "cell_type": "code",
      "execution_count": 6,
      "metadata": {
        "colab": {
          "base_uri": "https://localhost:8080/",
          "height": 206
        },
        "id": "tEjQSX1tRSzj",
        "outputId": "d815b1d4-87b3-4662-a9b5-61f18ebe8452"
      },
      "outputs": [
        {
          "data": {
            "text/html": [
              "<div>\n",
              "<style scoped>\n",
              "    .dataframe tbody tr th:only-of-type {\n",
              "        vertical-align: middle;\n",
              "    }\n",
              "\n",
              "    .dataframe tbody tr th {\n",
              "        vertical-align: top;\n",
              "    }\n",
              "\n",
              "    .dataframe thead th {\n",
              "        text-align: right;\n",
              "    }\n",
              "</style>\n",
              "<table border=\"1\" class=\"dataframe\">\n",
              "  <thead>\n",
              "    <tr style=\"text-align: right;\">\n",
              "      <th></th>\n",
              "      <th>Data Medicao</th>\n",
              "      <th>precipitacao</th>\n",
              "      <th>temperatura</th>\n",
              "    </tr>\n",
              "  </thead>\n",
              "  <tbody>\n",
              "    <tr>\n",
              "      <th>0</th>\n",
              "      <td>31/03/2004</td>\n",
              "      <td>175.4</td>\n",
              "      <td>24.9</td>\n",
              "    </tr>\n",
              "    <tr>\n",
              "      <th>1</th>\n",
              "      <td>30/04/2004</td>\n",
              "      <td>175.4</td>\n",
              "      <td>24.5</td>\n",
              "    </tr>\n",
              "    <tr>\n",
              "      <th>2</th>\n",
              "      <td>31/05/2004</td>\n",
              "      <td>23</td>\n",
              "      <td>21.7</td>\n",
              "    </tr>\n",
              "    <tr>\n",
              "      <th>3</th>\n",
              "      <td>30/06/2004</td>\n",
              "      <td>18.8</td>\n",
              "      <td>22.1</td>\n",
              "    </tr>\n",
              "    <tr>\n",
              "      <th>4</th>\n",
              "      <td>31/07/2004</td>\n",
              "      <td>38</td>\n",
              "      <td>22.2</td>\n",
              "    </tr>\n",
              "  </tbody>\n",
              "</table>\n",
              "</div>"
            ],
            "text/plain": [
              "  Data Medicao precipitacao temperatura\n",
              "0   31/03/2004        175.4        24.9\n",
              "1   30/04/2004        175.4        24.5\n",
              "2   31/05/2004           23        21.7\n",
              "3   30/06/2004         18.8        22.1\n",
              "4   31/07/2004           38        22.2"
            ]
          },
          "execution_count": 6,
          "metadata": {},
          "output_type": "execute_result"
        }
      ],
      "source": [
        "clima = pd.read_csv(\"../../data library/Clima/MT_dados.csv\", sep=';')\n",
        "clima.rename(columns={\"PRECIPITACAO TOTAL\":\"precipitacao\", \"TEMPERATURA MEDIA\":\"temperatura\"}, inplace=True)\n",
        "\n",
        "clima[\"precipitacao\"] = clima.precipitacao.str.replace(',', '.')\n",
        "clima[\"temperatura\"] = clima.temperatura.str.replace(',', '.')\n",
        "\n",
        "clima.bfill(inplace=True)\n",
        "clima.head()"
      ]
    },
    {
      "cell_type": "code",
      "execution_count": 7,
      "metadata": {
        "colab": {
          "base_uri": "https://localhost:8080/",
          "height": 206
        },
        "id": "9hI2swi8RU2l",
        "outputId": "a68625f9-e594-4866-80d6-a97d7c9aac50"
      },
      "outputs": [
        {
          "data": {
            "text/html": [
              "<div>\n",
              "<style scoped>\n",
              "    .dataframe tbody tr th:only-of-type {\n",
              "        vertical-align: middle;\n",
              "    }\n",
              "\n",
              "    .dataframe tbody tr th {\n",
              "        vertical-align: top;\n",
              "    }\n",
              "\n",
              "    .dataframe thead th {\n",
              "        text-align: right;\n",
              "    }\n",
              "</style>\n",
              "<table border=\"1\" class=\"dataframe\">\n",
              "  <thead>\n",
              "    <tr style=\"text-align: right;\">\n",
              "      <th></th>\n",
              "      <th>ds</th>\n",
              "      <th>Cultivo</th>\n",
              "      <th>y</th>\n",
              "      <th>País</th>\n",
              "      <th>Id</th>\n",
              "      <th>Último</th>\n",
              "      <th>Abertura</th>\n",
              "      <th>Máxima</th>\n",
              "      <th>Mínima</th>\n",
              "      <th>USD</th>\n",
              "      <th>Precipitacao</th>\n",
              "      <th>Temperatura</th>\n",
              "      <th>lag_Estadual</th>\n",
              "    </tr>\n",
              "  </thead>\n",
              "  <tbody>\n",
              "    <tr>\n",
              "      <th>0</th>\n",
              "      <td>2004-03-01</td>\n",
              "      <td>Milho</td>\n",
              "      <td>16.9936</td>\n",
              "      <td>17.5722</td>\n",
              "      <td>1</td>\n",
              "      <td>32025.0</td>\n",
              "      <td>32500.0</td>\n",
              "      <td>34200.0</td>\n",
              "      <td>30300.0</td>\n",
              "      <td>2.905457</td>\n",
              "      <td>175.4</td>\n",
              "      <td>24.9</td>\n",
              "      <td>16.9936</td>\n",
              "    </tr>\n",
              "    <tr>\n",
              "      <th>1</th>\n",
              "      <td>2004-04-01</td>\n",
              "      <td>Milho</td>\n",
              "      <td>19.8861</td>\n",
              "      <td>19.4868</td>\n",
              "      <td>1</td>\n",
              "      <td>29975.0</td>\n",
              "      <td>32125.0</td>\n",
              "      <td>32650.0</td>\n",
              "      <td>28175.0</td>\n",
              "      <td>2.905985</td>\n",
              "      <td>175.4</td>\n",
              "      <td>24.5</td>\n",
              "      <td>16.9936</td>\n",
              "    </tr>\n",
              "    <tr>\n",
              "      <th>2</th>\n",
              "      <td>2004-05-01</td>\n",
              "      <td>Milho</td>\n",
              "      <td>19.7989</td>\n",
              "      <td>20.2459</td>\n",
              "      <td>1</td>\n",
              "      <td>26250.0</td>\n",
              "      <td>30500.0</td>\n",
              "      <td>32250.0</td>\n",
              "      <td>26000.0</td>\n",
              "      <td>3.100419</td>\n",
              "      <td>23.0</td>\n",
              "      <td>21.7</td>\n",
              "      <td>19.8861</td>\n",
              "    </tr>\n",
              "    <tr>\n",
              "      <th>3</th>\n",
              "      <td>2004-06-01</td>\n",
              "      <td>Milho</td>\n",
              "      <td>17.9299</td>\n",
              "      <td>19.0091</td>\n",
              "      <td>1</td>\n",
              "      <td>22550.0</td>\n",
              "      <td>26250.0</td>\n",
              "      <td>26425.0</td>\n",
              "      <td>22500.0</td>\n",
              "      <td>3.129148</td>\n",
              "      <td>18.8</td>\n",
              "      <td>22.1</td>\n",
              "      <td>19.7989</td>\n",
              "    </tr>\n",
              "    <tr>\n",
              "      <th>4</th>\n",
              "      <td>2004-07-01</td>\n",
              "      <td>Milho</td>\n",
              "      <td>16.4940</td>\n",
              "      <td>17.7122</td>\n",
              "      <td>1</td>\n",
              "      <td>23775.0</td>\n",
              "      <td>22550.0</td>\n",
              "      <td>24525.0</td>\n",
              "      <td>22500.0</td>\n",
              "      <td>3.036777</td>\n",
              "      <td>38.0</td>\n",
              "      <td>22.2</td>\n",
              "      <td>17.9299</td>\n",
              "    </tr>\n",
              "  </tbody>\n",
              "</table>\n",
              "</div>"
            ],
            "text/plain": [
              "           ds Cultivo        y     País  Id   Último  Abertura   Máxima  \\\n",
              "0  2004-03-01   Milho  16.9936  17.5722   1  32025.0   32500.0  34200.0   \n",
              "1  2004-04-01   Milho  19.8861  19.4868   1  29975.0   32125.0  32650.0   \n",
              "2  2004-05-01   Milho  19.7989  20.2459   1  26250.0   30500.0  32250.0   \n",
              "3  2004-06-01   Milho  17.9299  19.0091   1  22550.0   26250.0  26425.0   \n",
              "4  2004-07-01   Milho  16.4940  17.7122   1  23775.0   22550.0  24525.0   \n",
              "\n",
              "    Mínima       USD  Precipitacao  Temperatura  lag_Estadual  \n",
              "0  30300.0  2.905457         175.4         24.9       16.9936  \n",
              "1  28175.0  2.905985         175.4         24.5       16.9936  \n",
              "2  26000.0  3.100419          23.0         21.7       19.8861  \n",
              "3  22500.0  3.129148          18.8         22.1       19.7989  \n",
              "4  22500.0  3.036777          38.0         22.2       17.9299  "
            ]
          },
          "execution_count": 7,
          "metadata": {},
          "output_type": "execute_result"
        }
      ],
      "source": [
        "df[\"USD\"] = df_usd[\"USD\"]\n",
        "df[\"Precipitacao\"] = clima[\"precipitacao\"].astype(float)\n",
        "df[\"Temperatura\"] = clima[\"temperatura\"].astype(float)\n",
        "df['lag_Estadual'] = df['y'].shift(1)\n",
        "df['lag_Estadual'] = df['lag_Estadual'].bfill()\n",
        "df.head()"
      ]
    },
    {
      "cell_type": "code",
      "execution_count": 8,
      "metadata": {
        "id": "7S2iqB1-Xvo8"
      },
      "outputs": [],
      "source": [
        "def plot_predictions(testing_dates, y_test, prediction):\n",
        "    df_test = pd.DataFrame({\"date\": testing_dates, \"actual\": y_test, \"prediction\": prediction })\n",
        "    _, ax = plt.subplots(figsize=(10, 5))\n",
        "    df_test.plot(ax=ax, label=\"Actual\", x=\"date\", y=\"actual\")\n",
        "    df_test.plot(ax=ax, label=\"Prediction\", x=\"date\", y=\"prediction\")\n",
        "    plt.legend([\"Actual\", \"Prediction\"])\n",
        "    plt.show()"
      ]
    },
    {
      "cell_type": "code",
      "execution_count": 9,
      "metadata": {
        "id": "qIR1SHLhaNJz"
      },
      "outputs": [],
      "source": [
        "def evaluate_model(y_test, prediction):\n",
        "  print(f\"MAE: {mean_absolute_error(y_test, prediction)}\")\n",
        "  print(f\"RMSE: {root_mean_squared_error(y_test, prediction)}\")\n",
        "  print(f\"MAPE: {mean_absolute_percentage_error(y_test, prediction)}\")\n",
        "  print(f\"R-Squared: {r2_score(y_test, prediction)}\")"
      ]
    },
    {
      "cell_type": "code",
      "execution_count": 10,
      "metadata": {
        "colab": {
          "base_uri": "https://localhost:8080/",
          "height": 447
        },
        "id": "uzoVht05RvsI",
        "outputId": "9613c1c0-d9a9-4e95-f2d4-9c035257bb08"
      },
      "outputs": [
        {
          "data": {
            "text/plain": [
              "[<matplotlib.lines.Line2D at 0x2512c3c28a0>]"
            ]
          },
          "execution_count": 10,
          "metadata": {},
          "output_type": "execute_result"
        },
        {
          "data": {
            "image/png": "[encoded data removed]",
            "text/plain": [
              "<Figure size 640x480 with 1 Axes>"
            ]
          },
          "metadata": {},
          "output_type": "display_data"
        }
      ],
      "source": [
        "train_size = int(len(df) * 0.8)\n",
        "train, test = df[0:train_size], df[train_size:len(df)]\n",
        "\n",
        "test_dates = test.ds\n",
        "\n",
        "plt.plot(train.y)\n",
        "plt.plot(test.y)"
      ]
    },
    {
      "cell_type": "markdown",
      "metadata": {
        "id": "1VDIm552YNPz"
      },
      "source": [
        "# Univariado"
      ]
    },
    {
      "cell_type": "code",
      "execution_count": 11,
      "metadata": {
        "colab": {
          "base_uri": "https://localhost:8080/"
        },
        "id": "7j-ir4wlYSIL",
        "outputId": "8f878836-f98b-40b3-e3ac-8e800b086b26"
      },
      "outputs": [
        {
          "name": "stderr",
          "output_type": "stream",
          "text": [
            "00:08:44 - cmdstanpy - INFO - Chain [1] start processing\n",
            "00:08:44 - cmdstanpy - INFO - Chain [1] done processing\n"
          ]
        },
        {
          "data": {
            "text/plain": [
              "<prophet.forecaster.Prophet at 0x2512d4e02f0>"
            ]
          },
          "execution_count": 11,
          "metadata": {},
          "output_type": "execute_result"
        }
      ],
      "source": [
        "m = Prophet()\n",
        "m.fit(train)\n",
        "\n",
        "# m.params"
      ]
    },
    {
      "cell_type": "code",
      "execution_count": 12,
      "metadata": {
        "colab": {
          "base_uri": "https://localhost:8080/",
          "height": 206
        },
        "id": "B7v7S7IqYbv1",
        "outputId": "2878729d-971f-4373-c463-0e07b8ff3dbe"
      },
      "outputs": [
        {
          "data": {
            "text/html": [
              "<div>\n",
              "<style scoped>\n",
              "    .dataframe tbody tr th:only-of-type {\n",
              "        vertical-align: middle;\n",
              "    }\n",
              "\n",
              "    .dataframe tbody tr th {\n",
              "        vertical-align: top;\n",
              "    }\n",
              "\n",
              "    .dataframe thead th {\n",
              "        text-align: right;\n",
              "    }\n",
              "</style>\n",
              "<table border=\"1\" class=\"dataframe\">\n",
              "  <thead>\n",
              "    <tr style=\"text-align: right;\">\n",
              "      <th></th>\n",
              "      <th>ds</th>\n",
              "      <th>yhat</th>\n",
              "      <th>yhat_lower</th>\n",
              "      <th>yhat_upper</th>\n",
              "    </tr>\n",
              "  </thead>\n",
              "  <tbody>\n",
              "    <tr>\n",
              "      <th>0</th>\n",
              "      <td>2020-08-01</td>\n",
              "      <td>32.820704</td>\n",
              "      <td>27.652948</td>\n",
              "      <td>38.486351</td>\n",
              "    </tr>\n",
              "    <tr>\n",
              "      <th>1</th>\n",
              "      <td>2020-09-01</td>\n",
              "      <td>33.057574</td>\n",
              "      <td>27.780150</td>\n",
              "      <td>38.008425</td>\n",
              "    </tr>\n",
              "    <tr>\n",
              "      <th>2</th>\n",
              "      <td>2020-10-01</td>\n",
              "      <td>33.678613</td>\n",
              "      <td>28.539628</td>\n",
              "      <td>38.694901</td>\n",
              "    </tr>\n",
              "    <tr>\n",
              "      <th>3</th>\n",
              "      <td>2020-11-01</td>\n",
              "      <td>34.231653</td>\n",
              "      <td>29.048003</td>\n",
              "      <td>39.176947</td>\n",
              "    </tr>\n",
              "    <tr>\n",
              "      <th>4</th>\n",
              "      <td>2020-12-01</td>\n",
              "      <td>34.677746</td>\n",
              "      <td>29.431488</td>\n",
              "      <td>39.949106</td>\n",
              "    </tr>\n",
              "  </tbody>\n",
              "</table>\n",
              "</div>"
            ],
            "text/plain": [
              "          ds       yhat  yhat_lower  yhat_upper\n",
              "0 2020-08-01  32.820704   27.652948   38.486351\n",
              "1 2020-09-01  33.057574   27.780150   38.008425\n",
              "2 2020-10-01  33.678613   28.539628   38.694901\n",
              "3 2020-11-01  34.231653   29.048003   39.176947\n",
              "4 2020-12-01  34.677746   29.431488   39.949106"
            ]
          },
          "execution_count": 12,
          "metadata": {},
          "output_type": "execute_result"
        }
      ],
      "source": [
        "forecast = m.predict(test)\n",
        "forecast[['ds', 'yhat', 'yhat_lower', 'yhat_upper']].head()"
      ]
    },
    {
      "cell_type": "code",
      "execution_count": 13,
      "metadata": {
        "colab": {
          "base_uri": "https://localhost:8080/",
          "height": 206
        },
        "id": "Tqh0TWeTYdpy",
        "outputId": "5a90fc96-73ab-4ddc-d207-30442e43182c"
      },
      "outputs": [
        {
          "data": {
            "text/html": [
              "<div>\n",
              "<style scoped>\n",
              "    .dataframe tbody tr th:only-of-type {\n",
              "        vertical-align: middle;\n",
              "    }\n",
              "\n",
              "    .dataframe tbody tr th {\n",
              "        vertical-align: top;\n",
              "    }\n",
              "\n",
              "    .dataframe thead th {\n",
              "        text-align: right;\n",
              "    }\n",
              "</style>\n",
              "<table border=\"1\" class=\"dataframe\">\n",
              "  <thead>\n",
              "    <tr style=\"text-align: right;\">\n",
              "      <th></th>\n",
              "      <th>ds</th>\n",
              "      <th>y</th>\n",
              "      <th>yhat</th>\n",
              "    </tr>\n",
              "  </thead>\n",
              "  <tbody>\n",
              "    <tr>\n",
              "      <th>0</th>\n",
              "      <td>2020-08-01</td>\n",
              "      <td>45.2704</td>\n",
              "      <td>32.820704</td>\n",
              "    </tr>\n",
              "    <tr>\n",
              "      <th>1</th>\n",
              "      <td>2020-09-01</td>\n",
              "      <td>50.0149</td>\n",
              "      <td>33.057574</td>\n",
              "    </tr>\n",
              "    <tr>\n",
              "      <th>2</th>\n",
              "      <td>2020-10-01</td>\n",
              "      <td>57.2360</td>\n",
              "      <td>33.678613</td>\n",
              "    </tr>\n",
              "    <tr>\n",
              "      <th>3</th>\n",
              "      <td>2020-11-01</td>\n",
              "      <td>67.7848</td>\n",
              "      <td>34.231653</td>\n",
              "    </tr>\n",
              "    <tr>\n",
              "      <th>4</th>\n",
              "      <td>2020-12-01</td>\n",
              "      <td>64.7903</td>\n",
              "      <td>34.677746</td>\n",
              "    </tr>\n",
              "  </tbody>\n",
              "</table>\n",
              "</div>"
            ],
            "text/plain": [
              "           ds        y       yhat\n",
              "0  2020-08-01  45.2704  32.820704\n",
              "1  2020-09-01  50.0149  33.057574\n",
              "2  2020-10-01  57.2360  33.678613\n",
              "3  2020-11-01  67.7848  34.231653\n",
              "4  2020-12-01  64.7903  34.677746"
            ]
          },
          "execution_count": 13,
          "metadata": {},
          "output_type": "execute_result"
        }
      ],
      "source": [
        "test.reset_index(inplace=True, drop=True)\n",
        "final_df = test[[\"ds\", \"y\"]].copy()\n",
        "final_df['yhat'] = forecast['yhat']\n",
        "final_df.head()"
      ]
    },
    {
      "cell_type": "code",
      "execution_count": 14,
      "metadata": {
        "colab": {
          "base_uri": "https://localhost:8080/",
          "height": 534
        },
        "id": "CkLmGC7mYg4k",
        "outputId": "e92429f4-ff05-4712-ed66-95b5e5f80efd"
      },
      "outputs": [
        {
          "data": {
            "image/png": "[encoded data removed]",
            "text/plain": [
              "<Figure size 1000x500 with 1 Axes>"
            ]
          },
          "metadata": {},
          "output_type": "display_data"
        },
        {
          "name": "stdout",
          "output_type": "stream",
          "text": [
            "MAE: 29.951625112634886\n",
            "RMSE: 34.741628763565444\n",
            "MAPE: 0.40344711208503226\n",
            "R-Squared: -3.5438804314488452\n"
          ]
        }
      ],
      "source": [
        "plot_predictions(test_dates, final_df.y, final_df.yhat)\n",
        "evaluate_model(final_df.y, final_df.yhat)"
      ]
    },
    {
      "cell_type": "markdown",
      "metadata": {
        "id": "qP9ihS-HYSdH"
      },
      "source": [
        "# Multivariado"
      ]
    },
    {
      "cell_type": "code",
      "execution_count": 15,
      "metadata": {
        "colab": {
          "base_uri": "https://localhost:8080/"
        },
        "id": "smUT9ZiIG80z",
        "outputId": "92b95283-efe4-47cc-de2d-07109459adca"
      },
      "outputs": [
        {
          "name": "stderr",
          "output_type": "stream",
          "text": [
            "00:08:45 - cmdstanpy - INFO - Chain [1] start processing\n",
            "00:08:45 - cmdstanpy - INFO - Chain [1] done processing\n"
          ]
        },
        {
          "data": {
            "text/plain": [
              "<prophet.forecaster.Prophet at 0x2512d4f22d0>"
            ]
          },
          "execution_count": 15,
          "metadata": {},
          "output_type": "execute_result"
        }
      ],
      "source": [
        "m = Prophet()\n",
        "m.add_regressor('USD')\n",
        "m.add_regressor('País')\n",
        "m.add_regressor('Último')\n",
        "m.add_regressor('Máxima')\n",
        "m.add_regressor('lag_Estadual')\n",
        "m.fit(train)\n",
        "\n",
        "# m.params"
      ]
    },
    {
      "cell_type": "code",
      "execution_count": 16,
      "metadata": {
        "colab": {
          "base_uri": "https://localhost:8080/",
          "height": 206
        },
        "id": "NLrkICXdS-vD",
        "outputId": "5c6e2395-ede6-4124-a260-e26ef89afd21"
      },
      "outputs": [
        {
          "data": {
            "text/html": [
              "<div>\n",
              "<style scoped>\n",
              "    .dataframe tbody tr th:only-of-type {\n",
              "        vertical-align: middle;\n",
              "    }\n",
              "\n",
              "    .dataframe tbody tr th {\n",
              "        vertical-align: top;\n",
              "    }\n",
              "\n",
              "    .dataframe thead th {\n",
              "        text-align: right;\n",
              "    }\n",
              "</style>\n",
              "<table border=\"1\" class=\"dataframe\">\n",
              "  <thead>\n",
              "    <tr style=\"text-align: right;\">\n",
              "      <th></th>\n",
              "      <th>ds</th>\n",
              "      <th>USD</th>\n",
              "      <th>País</th>\n",
              "      <th>Último</th>\n",
              "      <th>Máxima</th>\n",
              "      <th>lag_Estadual</th>\n",
              "    </tr>\n",
              "  </thead>\n",
              "  <tbody>\n",
              "    <tr>\n",
              "      <th>0</th>\n",
              "      <td>2020-08-01</td>\n",
              "      <td>5.280191</td>\n",
              "      <td>45.8405</td>\n",
              "      <td>34850.0</td>\n",
              "      <td>35300.0</td>\n",
              "      <td>41.5048</td>\n",
              "    </tr>\n",
              "    <tr>\n",
              "      <th>1</th>\n",
              "      <td>2020-09-01</td>\n",
              "      <td>5.461233</td>\n",
              "      <td>51.5842</td>\n",
              "      <td>37900.0</td>\n",
              "      <td>38275.0</td>\n",
              "      <td>45.2704</td>\n",
              "    </tr>\n",
              "    <tr>\n",
              "      <th>2</th>\n",
              "      <td>2020-10-01</td>\n",
              "      <td>5.399486</td>\n",
              "      <td>60.4194</td>\n",
              "      <td>39850.0</td>\n",
              "      <td>42225.0</td>\n",
              "      <td>50.0149</td>\n",
              "    </tr>\n",
              "    <tr>\n",
              "      <th>3</th>\n",
              "      <td>2020-11-01</td>\n",
              "      <td>5.625790</td>\n",
              "      <td>72.0206</td>\n",
              "      <td>41975.0</td>\n",
              "      <td>43050.0</td>\n",
              "      <td>57.2360</td>\n",
              "    </tr>\n",
              "    <tr>\n",
              "      <th>4</th>\n",
              "      <td>2020-12-01</td>\n",
              "      <td>5.417835</td>\n",
              "      <td>69.2060</td>\n",
              "      <td>48400.0</td>\n",
              "      <td>48575.0</td>\n",
              "      <td>67.7848</td>\n",
              "    </tr>\n",
              "  </tbody>\n",
              "</table>\n",
              "</div>"
            ],
            "text/plain": [
              "           ds       USD     País   Último   Máxima  lag_Estadual\n",
              "0  2020-08-01  5.280191  45.8405  34850.0  35300.0       41.5048\n",
              "1  2020-09-01  5.461233  51.5842  37900.0  38275.0       45.2704\n",
              "2  2020-10-01  5.399486  60.4194  39850.0  42225.0       50.0149\n",
              "3  2020-11-01  5.625790  72.0206  41975.0  43050.0       57.2360\n",
              "4  2020-12-01  5.417835  69.2060  48400.0  48575.0       67.7848"
            ]
          },
          "execution_count": 16,
          "metadata": {},
          "output_type": "execute_result"
        }
      ],
      "source": [
        "test_1 = test[['ds', 'USD', 'País', 'Último', 'Máxima', 'lag_Estadual']]\n",
        "test_1.head()"
      ]
    },
    {
      "cell_type": "code",
      "execution_count": 17,
      "metadata": {
        "id": "KFTOaHQ7I20O"
      },
      "outputs": [],
      "source": [
        "# future = m.make_future_dataframe(periods=len(test_1), freq='MS')\n",
        "# future.head()"
      ]
    },
    {
      "cell_type": "code",
      "execution_count": 18,
      "metadata": {
        "colab": {
          "base_uri": "https://localhost:8080/",
          "height": 206
        },
        "id": "8DhLiuhxI5J-",
        "outputId": "5717b5ad-b7b6-4a4c-f6b6-a4f529b15a72"
      },
      "outputs": [
        {
          "data": {
            "text/html": [
              "<div>\n",
              "<style scoped>\n",
              "    .dataframe tbody tr th:only-of-type {\n",
              "        vertical-align: middle;\n",
              "    }\n",
              "\n",
              "    .dataframe tbody tr th {\n",
              "        vertical-align: top;\n",
              "    }\n",
              "\n",
              "    .dataframe thead th {\n",
              "        text-align: right;\n",
              "    }\n",
              "</style>\n",
              "<table border=\"1\" class=\"dataframe\">\n",
              "  <thead>\n",
              "    <tr style=\"text-align: right;\">\n",
              "      <th></th>\n",
              "      <th>ds</th>\n",
              "      <th>yhat</th>\n",
              "      <th>yhat_lower</th>\n",
              "      <th>yhat_upper</th>\n",
              "    </tr>\n",
              "  </thead>\n",
              "  <tbody>\n",
              "    <tr>\n",
              "      <th>0</th>\n",
              "      <td>2020-08-01</td>\n",
              "      <td>43.898755</td>\n",
              "      <td>42.881202</td>\n",
              "      <td>44.985233</td>\n",
              "    </tr>\n",
              "    <tr>\n",
              "      <th>1</th>\n",
              "      <td>2020-09-01</td>\n",
              "      <td>48.638258</td>\n",
              "      <td>47.570950</td>\n",
              "      <td>49.685441</td>\n",
              "    </tr>\n",
              "    <tr>\n",
              "      <th>2</th>\n",
              "      <td>2020-10-01</td>\n",
              "      <td>56.224268</td>\n",
              "      <td>55.158816</td>\n",
              "      <td>57.242876</td>\n",
              "    </tr>\n",
              "    <tr>\n",
              "      <th>3</th>\n",
              "      <td>2020-11-01</td>\n",
              "      <td>66.381662</td>\n",
              "      <td>65.369536</td>\n",
              "      <td>67.464686</td>\n",
              "    </tr>\n",
              "    <tr>\n",
              "      <th>4</th>\n",
              "      <td>2020-12-01</td>\n",
              "      <td>64.355238</td>\n",
              "      <td>63.362962</td>\n",
              "      <td>65.380782</td>\n",
              "    </tr>\n",
              "  </tbody>\n",
              "</table>\n",
              "</div>"
            ],
            "text/plain": [
              "          ds       yhat  yhat_lower  yhat_upper\n",
              "0 2020-08-01  43.898755   42.881202   44.985233\n",
              "1 2020-09-01  48.638258   47.570950   49.685441\n",
              "2 2020-10-01  56.224268   55.158816   57.242876\n",
              "3 2020-11-01  66.381662   65.369536   67.464686\n",
              "4 2020-12-01  64.355238   63.362962   65.380782"
            ]
          },
          "execution_count": 18,
          "metadata": {},
          "output_type": "execute_result"
        }
      ],
      "source": [
        "forecast = m.predict(test_1)\n",
        "forecast[['ds', 'yhat', 'yhat_lower', 'yhat_upper']].head()"
      ]
    },
    {
      "cell_type": "code",
      "execution_count": 19,
      "metadata": {
        "colab": {
          "base_uri": "https://localhost:8080/",
          "height": 206
        },
        "id": "NzGyiMW9W2RW",
        "outputId": "7ee07ed5-edfb-4aa5-c40a-ee251309d8b3"
      },
      "outputs": [
        {
          "data": {
            "text/html": [
              "<div>\n",
              "<style scoped>\n",
              "    .dataframe tbody tr th:only-of-type {\n",
              "        vertical-align: middle;\n",
              "    }\n",
              "\n",
              "    .dataframe tbody tr th {\n",
              "        vertical-align: top;\n",
              "    }\n",
              "\n",
              "    .dataframe thead th {\n",
              "        text-align: right;\n",
              "    }\n",
              "</style>\n",
              "<table border=\"1\" class=\"dataframe\">\n",
              "  <thead>\n",
              "    <tr style=\"text-align: right;\">\n",
              "      <th></th>\n",
              "      <th>ds</th>\n",
              "      <th>y</th>\n",
              "      <th>País</th>\n",
              "      <th>USD</th>\n",
              "      <th>yhat</th>\n",
              "    </tr>\n",
              "  </thead>\n",
              "  <tbody>\n",
              "    <tr>\n",
              "      <th>0</th>\n",
              "      <td>2020-08-01</td>\n",
              "      <td>45.2704</td>\n",
              "      <td>45.8405</td>\n",
              "      <td>5.280191</td>\n",
              "      <td>43.898755</td>\n",
              "    </tr>\n",
              "    <tr>\n",
              "      <th>1</th>\n",
              "      <td>2020-09-01</td>\n",
              "      <td>50.0149</td>\n",
              "      <td>51.5842</td>\n",
              "      <td>5.461233</td>\n",
              "      <td>48.638258</td>\n",
              "    </tr>\n",
              "    <tr>\n",
              "      <th>2</th>\n",
              "      <td>2020-10-01</td>\n",
              "      <td>57.2360</td>\n",
              "      <td>60.4194</td>\n",
              "      <td>5.399486</td>\n",
              "      <td>56.224268</td>\n",
              "    </tr>\n",
              "    <tr>\n",
              "      <th>3</th>\n",
              "      <td>2020-11-01</td>\n",
              "      <td>67.7848</td>\n",
              "      <td>72.0206</td>\n",
              "      <td>5.625790</td>\n",
              "      <td>66.381662</td>\n",
              "    </tr>\n",
              "    <tr>\n",
              "      <th>4</th>\n",
              "      <td>2020-12-01</td>\n",
              "      <td>64.7903</td>\n",
              "      <td>69.2060</td>\n",
              "      <td>5.417835</td>\n",
              "      <td>64.355238</td>\n",
              "    </tr>\n",
              "  </tbody>\n",
              "</table>\n",
              "</div>"
            ],
            "text/plain": [
              "           ds        y     País       USD       yhat\n",
              "0  2020-08-01  45.2704  45.8405  5.280191  43.898755\n",
              "1  2020-09-01  50.0149  51.5842  5.461233  48.638258\n",
              "2  2020-10-01  57.2360  60.4194  5.399486  56.224268\n",
              "3  2020-11-01  67.7848  72.0206  5.625790  66.381662\n",
              "4  2020-12-01  64.7903  69.2060  5.417835  64.355238"
            ]
          },
          "execution_count": 19,
          "metadata": {},
          "output_type": "execute_result"
        }
      ],
      "source": [
        "test.reset_index(inplace=True, drop=True)\n",
        "final_df = test[[\"ds\", \"y\", \"País\", \"USD\"]].copy()\n",
        "final_df['yhat'] = forecast['yhat']\n",
        "final_df.head()"
      ]
    },
    {
      "cell_type": "code",
      "execution_count": 20,
      "metadata": {
        "colab": {
          "base_uri": "https://localhost:8080/",
          "height": 534
        },
        "id": "AyxOktb2XxM4",
        "outputId": "f6076a26-cfb9-4ee4-ce56-647883ab2e1b"
      },
      "outputs": [
        {
          "data": {
            "image/png": "[encoded data removed]",
            "text/plain": [
              "<Figure size 1000x500 with 1 Axes>"
            ]
          },
          "metadata": {},
          "output_type": "display_data"
        },
        {
          "name": "stdout",
          "output_type": "stream",
          "text": [
            "MAE: 4.084164893567509\n",
            "RMSE: 5.1255908538767345\n",
            "MAPE: 0.054579883229353546\n",
            "R-Squared: 0.9010958724602306\n"
          ]
        }
      ],
      "source": [
        "plot_predictions(test_dates, final_df.y, final_df.yhat)\n",
        "evaluate_model(final_df.y, final_df.yhat)"
      ]
    }
  ],
  "metadata": {
    "colab": {
      "authorship_tag": "ABX9TyMJ63fOvvsRqdMNudenxD8L",
      "include_colab_link": true,
      "provenance": []
    },
    "kernelspec": {
      "display_name": "Python 3",
      "name": "python3"
    },
    "language_info": {
      "codemirror_mode": {
        "name": "ipython",
        "version": 3
      },
      "file_extension": ".py",
      "mimetype": "text/x-python",
      "name": "python",
      "nbconvert_exporter": "python",
      "pygments_lexer": "ipython3",
      "version": "3.12.5"
    }
  },
  "nbformat": 4,
  "nbformat_minor": 0
}
