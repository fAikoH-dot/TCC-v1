{
  "cells": [
    {
      "cell_type": "markdown",
      "metadata": {
        "colab_type": "text",
        "id": "view-in-github"
      },
      "source": [
        "<a href=\"https://colab.research.google.com/github/fAikoH-dot/TCC-v1/blob/main/arima/auto_arima.ipynb\" target=\"_parent\"><img src=\"https://colab.research.google.com/assets/colab-badge.svg\" alt=\"Open In Colab\"/></a>"
      ]
    },
    {
      "cell_type": "code",
      "execution_count": 1,
      "metadata": {
        "id": "MMUbcOM1p9hl"
      },
      "outputs": [],
      "source": [
        "import pandas as pd"
      ]
    },
    {
      "cell_type": "code",
      "execution_count": 2,
      "metadata": {
        "colab": {
          "base_uri": "https://localhost:8080/",
          "height": 206
        },
        "id": "nIRI1gkaqOch",
        "outputId": "4fc5cf44-dcc5-4b46-dea6-3f1558698448"
      },
      "outputs": [
        {
          "data": {
            "text/html": [
              "<div>\n",
              "<style scoped>\n",
              "    .dataframe tbody tr th:only-of-type {\n",
              "        vertical-align: middle;\n",
              "    }\n",
              "\n",
              "    .dataframe tbody tr th {\n",
              "        vertical-align: top;\n",
              "    }\n",
              "\n",
              "    .dataframe thead th {\n",
              "        text-align: right;\n",
              "    }\n",
              "</style>\n",
              "<table border=\"1\" class=\"dataframe\">\n",
              "  <thead>\n",
              "    <tr style=\"text-align: right;\">\n",
              "      <th></th>\n",
              "      <th>Data</th>\n",
              "      <th>Cultivo</th>\n",
              "      <th>Estadual</th>\n",
              "      <th>País</th>\n",
              "      <th>Id</th>\n",
              "      <th>Último</th>\n",
              "      <th>Abertura</th>\n",
              "      <th>Máxima</th>\n",
              "      <th>Mínima</th>\n",
              "    </tr>\n",
              "  </thead>\n",
              "  <tbody>\n",
              "    <tr>\n",
              "      <th>0</th>\n",
              "      <td>2004-03-01</td>\n",
              "      <td>Milho</td>\n",
              "      <td>16.9936</td>\n",
              "      <td>17.5722</td>\n",
              "      <td>1</td>\n",
              "      <td>32025.0</td>\n",
              "      <td>32500.0</td>\n",
              "      <td>34200.0</td>\n",
              "      <td>30300.0</td>\n",
              "    </tr>\n",
              "    <tr>\n",
              "      <th>1</th>\n",
              "      <td>2004-04-01</td>\n",
              "      <td>Milho</td>\n",
              "      <td>19.8861</td>\n",
              "      <td>19.4868</td>\n",
              "      <td>1</td>\n",
              "      <td>29975.0</td>\n",
              "      <td>32125.0</td>\n",
              "      <td>32650.0</td>\n",
              "      <td>28175.0</td>\n",
              "    </tr>\n",
              "    <tr>\n",
              "      <th>2</th>\n",
              "      <td>2004-05-01</td>\n",
              "      <td>Milho</td>\n",
              "      <td>19.7989</td>\n",
              "      <td>20.2459</td>\n",
              "      <td>1</td>\n",
              "      <td>26250.0</td>\n",
              "      <td>30500.0</td>\n",
              "      <td>32250.0</td>\n",
              "      <td>26000.0</td>\n",
              "    </tr>\n",
              "    <tr>\n",
              "      <th>3</th>\n",
              "      <td>2004-06-01</td>\n",
              "      <td>Milho</td>\n",
              "      <td>17.9299</td>\n",
              "      <td>19.0091</td>\n",
              "      <td>1</td>\n",
              "      <td>22550.0</td>\n",
              "      <td>26250.0</td>\n",
              "      <td>26425.0</td>\n",
              "      <td>22500.0</td>\n",
              "    </tr>\n",
              "    <tr>\n",
              "      <th>4</th>\n",
              "      <td>2004-07-01</td>\n",
              "      <td>Milho</td>\n",
              "      <td>16.4940</td>\n",
              "      <td>17.7122</td>\n",
              "      <td>1</td>\n",
              "      <td>23775.0</td>\n",
              "      <td>22550.0</td>\n",
              "      <td>24525.0</td>\n",
              "      <td>22500.0</td>\n",
              "    </tr>\n",
              "  </tbody>\n",
              "</table>\n",
              "</div>"
            ],
            "text/plain": [
              "        Data Cultivo  Estadual     País  Id   Último  Abertura   Máxima  \\\n",
              "0 2004-03-01   Milho   16.9936  17.5722   1  32025.0   32500.0  34200.0   \n",
              "1 2004-04-01   Milho   19.8861  19.4868   1  29975.0   32125.0  32650.0   \n",
              "2 2004-05-01   Milho   19.7989  20.2459   1  26250.0   30500.0  32250.0   \n",
              "3 2004-06-01   Milho   17.9299  19.0091   1  22550.0   26250.0  26425.0   \n",
              "4 2004-07-01   Milho   16.4940  17.7122   1  23775.0   22550.0  24525.0   \n",
              "\n",
              "    Mínima  \n",
              "0  30300.0  \n",
              "1  28175.0  \n",
              "2  26000.0  \n",
              "3  22500.0  \n",
              "4  22500.0  "
            ]
          },
          "execution_count": 2,
          "metadata": {},
          "output_type": "execute_result"
        }
      ],
      "source": [
        "# df = pd.read_csv(\"sample_data/Trigo_v1.csv\", sep = \";\")\n",
        "df = pd.read_csv('../../data library/Milho_v1.csv', sep=\";\")\n",
        "df[\"Data\"] = pd.to_datetime(df['Data'])\n",
        "df = df.sort_values(by='Data').reset_index(drop=True)\n",
        "df[\"Data\"] = pd.to_datetime(df['Data'])\n",
        "# df.sort_values(by='Data')\n",
        "# df.set_index(\"Data\", inplace = True)\n",
        "df.head()"
      ]
    },
    {
      "cell_type": "code",
      "execution_count": 9,
      "metadata": {
        "colab": {
          "base_uri": "https://localhost:8080/"
        },
        "id": "RN1_E2s7s_Zr",
        "outputId": "4c912b96-dbf0-4867-be7f-70e923955fae"
      },
      "outputs": [
        {
          "name": "stdout",
          "output_type": "stream",
          "text": [
            "Collecting python-bcb\n",
            "  Downloading python_bcb-0.3.0-py3-none-any.whl.metadata (2.5 kB)\n",
            "Requirement already satisfied: httpx>=0.24.0 in /usr/local/lib/python3.10/dist-packages (from python-bcb) (0.27.2)\n",
            "Requirement already satisfied: lxml>=4.9.2 in /usr/local/lib/python3.10/dist-packages (from python-bcb) (5.3.0)\n",
            "Requirement already satisfied: pandas>=2.0.0 in /usr/local/lib/python3.10/dist-packages (from python-bcb) (2.2.2)\n",
            "Requirement already satisfied: requests>=2.31.0 in /usr/local/lib/python3.10/dist-packages (from python-bcb) (2.32.3)\n",
            "Requirement already satisfied: anyio in /usr/local/lib/python3.10/dist-packages (from httpx>=0.24.0->python-bcb) (3.7.1)\n",
            "Requirement already satisfied: certifi in /usr/local/lib/python3.10/dist-packages (from httpx>=0.24.0->python-bcb) (2024.8.30)\n",
            "Requirement already satisfied: httpcore==1.* in /usr/local/lib/python3.10/dist-packages (from httpx>=0.24.0->python-bcb) (1.0.6)\n",
            "Requirement already satisfied: idna in /usr/local/lib/python3.10/dist-packages (from httpx>=0.24.0->python-bcb) (3.10)\n",
            "Requirement already satisfied: sniffio in /usr/local/lib/python3.10/dist-packages (from httpx>=0.24.0->python-bcb) (1.3.1)\n",
            "Requirement already satisfied: h11<0.15,>=0.13 in /usr/local/lib/python3.10/dist-packages (from httpcore==1.*->httpx>=0.24.0->python-bcb) (0.14.0)\n",
            "Requirement already satisfied: numpy>=1.22.4 in /usr/local/lib/python3.10/dist-packages (from pandas>=2.0.0->python-bcb) (1.26.4)\n",
            "Requirement already satisfied: python-dateutil>=2.8.2 in /usr/local/lib/python3.10/dist-packages (from pandas>=2.0.0->python-bcb) (2.8.2)\n",
            "Requirement already satisfied: pytz>=2020.1 in /usr/local/lib/python3.10/dist-packages (from pandas>=2.0.0->python-bcb) (2024.2)\n",
            "Requirement already satisfied: tzdata>=2022.7 in /usr/local/lib/python3.10/dist-packages (from pandas>=2.0.0->python-bcb) (2024.2)\n",
            "Requirement already satisfied: charset-normalizer<4,>=2 in /usr/local/lib/python3.10/dist-packages (from requests>=2.31.0->python-bcb) (3.4.0)\n",
            "Requirement already satisfied: urllib3<3,>=1.21.1 in /usr/local/lib/python3.10/dist-packages (from requests>=2.31.0->python-bcb) (2.2.3)\n",
            "Requirement already satisfied: six>=1.5 in /usr/local/lib/python3.10/dist-packages (from python-dateutil>=2.8.2->pandas>=2.0.0->python-bcb) (1.16.0)\n",
            "Requirement already satisfied: exceptiongroup in /usr/local/lib/python3.10/dist-packages (from anyio->httpx>=0.24.0->python-bcb) (1.2.2)\n",
            "Downloading python_bcb-0.3.0-py3-none-any.whl (16 kB)\n",
            "Installing collected packages: python-bcb\n",
            "Successfully installed python-bcb-0.3.0\n"
          ]
        }
      ],
      "source": [
        "!pip install python-bcb"
      ]
    },
    {
      "cell_type": "code",
      "execution_count": 3,
      "metadata": {
        "id": "Js1pfZnds71B"
      },
      "outputs": [],
      "source": [
        "from bcb import PTAX\n",
        "from bcb import currency\n",
        "\n",
        "ptax = PTAX()\n",
        "\n",
        "df_usd = currency.get(['USD'],\n",
        "                  start='2004-03-01',\n",
        "                  end='2024-09-01',\n",
        "                  side='ask')\n",
        "\n",
        "df_usd[\"Date\"]=df_usd.index\n",
        "df_usd[\"Month\"] = df_usd[\"Date\"].dt.month\n",
        "df_usd[\"Year\"] = df_usd[\"Date\"].dt.year\n",
        "df_usd[\"Day\"] = 1\n",
        "df_usd[\"Aux\"] = df_usd[\"Year\"].astype(str) +\"-\"+ df_usd[\"Month\"].astype(str)\n",
        "df_usd = df_usd.groupby(\"Aux\").agg(\n",
        "    USD = (\"USD\", \"mean\"),\n",
        "    day = (\"Day\", \"first\"),\n",
        "    month = (\"Month\", \"first\"),\n",
        "    year = (\"Year\", \"first\"),\n",
        ").reset_index(drop=True)\n",
        "\n",
        "df_usd[\"Data\"] = pd.to_datetime(df_usd[['year', 'month', 'day']])\n",
        "df_usd = df_usd[[\"Data\", \"USD\"]].sort_values(by=\"Data\").reset_index(drop=True)"
      ]
    },
    {
      "cell_type": "code",
      "execution_count": 4,
      "metadata": {
        "colab": {
          "base_uri": "https://localhost:8080/",
          "height": 206
        },
        "id": "cspOUl8ohGPE",
        "outputId": "dd793055-5f1c-4c0c-ceb0-3197605809f2"
      },
      "outputs": [
        {
          "data": {
            "text/html": [
              "<div>\n",
              "<style scoped>\n",
              "    .dataframe tbody tr th:only-of-type {\n",
              "        vertical-align: middle;\n",
              "    }\n",
              "\n",
              "    .dataframe tbody tr th {\n",
              "        vertical-align: top;\n",
              "    }\n",
              "\n",
              "    .dataframe thead th {\n",
              "        text-align: right;\n",
              "    }\n",
              "</style>\n",
              "<table border=\"1\" class=\"dataframe\">\n",
              "  <thead>\n",
              "    <tr style=\"text-align: right;\">\n",
              "      <th></th>\n",
              "      <th>Data Medicao</th>\n",
              "      <th>precipitacao</th>\n",
              "      <th>temperatura</th>\n",
              "    </tr>\n",
              "  </thead>\n",
              "  <tbody>\n",
              "    <tr>\n",
              "      <th>0</th>\n",
              "      <td>31/03/2004</td>\n",
              "      <td>175.4</td>\n",
              "      <td>24.9</td>\n",
              "    </tr>\n",
              "    <tr>\n",
              "      <th>1</th>\n",
              "      <td>30/04/2004</td>\n",
              "      <td>175.4</td>\n",
              "      <td>24.5</td>\n",
              "    </tr>\n",
              "    <tr>\n",
              "      <th>2</th>\n",
              "      <td>31/05/2004</td>\n",
              "      <td>23</td>\n",
              "      <td>21.7</td>\n",
              "    </tr>\n",
              "    <tr>\n",
              "      <th>3</th>\n",
              "      <td>30/06/2004</td>\n",
              "      <td>18.8</td>\n",
              "      <td>22.1</td>\n",
              "    </tr>\n",
              "    <tr>\n",
              "      <th>4</th>\n",
              "      <td>31/07/2004</td>\n",
              "      <td>38</td>\n",
              "      <td>22.2</td>\n",
              "    </tr>\n",
              "  </tbody>\n",
              "</table>\n",
              "</div>"
            ],
            "text/plain": [
              "  Data Medicao precipitacao temperatura\n",
              "0   31/03/2004        175.4        24.9\n",
              "1   30/04/2004        175.4        24.5\n",
              "2   31/05/2004           23        21.7\n",
              "3   30/06/2004         18.8        22.1\n",
              "4   31/07/2004           38        22.2"
            ]
          },
          "execution_count": 4,
          "metadata": {},
          "output_type": "execute_result"
        }
      ],
      "source": [
        "# clima = pd.read_csv(\"sample_data/MT_dados.csv\", sep=';')\n",
        "clima = pd.read_csv(\"../../data library/Clima/MT_dados.csv\", sep=';')\n",
        "clima.rename(columns={\"PRECIPITACAO TOTAL\":\"precipitacao\", \"TEMPERATURA MEDIA\":\"temperatura\"}, inplace=True)\n",
        "\n",
        "clima[\"precipitacao\"] = clima.precipitacao.str.replace(',', '.')\n",
        "clima[\"temperatura\"] = clima.temperatura.str.replace(',', '.')\n",
        "\n",
        "clima.bfill(inplace=True)\n",
        "clima.head()"
      ]
    },
    {
      "cell_type": "code",
      "execution_count": 5,
      "metadata": {
        "colab": {
          "base_uri": "https://localhost:8080/",
          "height": 206
        },
        "id": "1QVdVd-YtVDo",
        "outputId": "102ee9ad-6beb-4e0c-c368-2a8a0f5dfcf4"
      },
      "outputs": [
        {
          "data": {
            "text/html": [
              "<div>\n",
              "<style scoped>\n",
              "    .dataframe tbody tr th:only-of-type {\n",
              "        vertical-align: middle;\n",
              "    }\n",
              "\n",
              "    .dataframe tbody tr th {\n",
              "        vertical-align: top;\n",
              "    }\n",
              "\n",
              "    .dataframe thead th {\n",
              "        text-align: right;\n",
              "    }\n",
              "</style>\n",
              "<table border=\"1\" class=\"dataframe\">\n",
              "  <thead>\n",
              "    <tr style=\"text-align: right;\">\n",
              "      <th></th>\n",
              "      <th>Data</th>\n",
              "      <th>Cultivo</th>\n",
              "      <th>Estadual</th>\n",
              "      <th>País</th>\n",
              "      <th>Id</th>\n",
              "      <th>Último</th>\n",
              "      <th>Abertura</th>\n",
              "      <th>Máxima</th>\n",
              "      <th>Mínima</th>\n",
              "      <th>USD</th>\n",
              "      <th>Precipitacao</th>\n",
              "      <th>Temperatura</th>\n",
              "      <th>lag_Estadual</th>\n",
              "    </tr>\n",
              "  </thead>\n",
              "  <tbody>\n",
              "    <tr>\n",
              "      <th>0</th>\n",
              "      <td>2004-03-01</td>\n",
              "      <td>Milho</td>\n",
              "      <td>16.9936</td>\n",
              "      <td>17.5722</td>\n",
              "      <td>1</td>\n",
              "      <td>32025.0</td>\n",
              "      <td>32500.0</td>\n",
              "      <td>34200.0</td>\n",
              "      <td>30300.0</td>\n",
              "      <td>2.905457</td>\n",
              "      <td>175.4</td>\n",
              "      <td>24.9</td>\n",
              "      <td>16.9936</td>\n",
              "    </tr>\n",
              "    <tr>\n",
              "      <th>1</th>\n",
              "      <td>2004-04-01</td>\n",
              "      <td>Milho</td>\n",
              "      <td>19.8861</td>\n",
              "      <td>19.4868</td>\n",
              "      <td>1</td>\n",
              "      <td>29975.0</td>\n",
              "      <td>32125.0</td>\n",
              "      <td>32650.0</td>\n",
              "      <td>28175.0</td>\n",
              "      <td>2.905985</td>\n",
              "      <td>175.4</td>\n",
              "      <td>24.5</td>\n",
              "      <td>16.9936</td>\n",
              "    </tr>\n",
              "    <tr>\n",
              "      <th>2</th>\n",
              "      <td>2004-05-01</td>\n",
              "      <td>Milho</td>\n",
              "      <td>19.7989</td>\n",
              "      <td>20.2459</td>\n",
              "      <td>1</td>\n",
              "      <td>26250.0</td>\n",
              "      <td>30500.0</td>\n",
              "      <td>32250.0</td>\n",
              "      <td>26000.0</td>\n",
              "      <td>3.100419</td>\n",
              "      <td>23.0</td>\n",
              "      <td>21.7</td>\n",
              "      <td>19.8861</td>\n",
              "    </tr>\n",
              "    <tr>\n",
              "      <th>3</th>\n",
              "      <td>2004-06-01</td>\n",
              "      <td>Milho</td>\n",
              "      <td>17.9299</td>\n",
              "      <td>19.0091</td>\n",
              "      <td>1</td>\n",
              "      <td>22550.0</td>\n",
              "      <td>26250.0</td>\n",
              "      <td>26425.0</td>\n",
              "      <td>22500.0</td>\n",
              "      <td>3.129148</td>\n",
              "      <td>18.8</td>\n",
              "      <td>22.1</td>\n",
              "      <td>19.7989</td>\n",
              "    </tr>\n",
              "    <tr>\n",
              "      <th>4</th>\n",
              "      <td>2004-07-01</td>\n",
              "      <td>Milho</td>\n",
              "      <td>16.4940</td>\n",
              "      <td>17.7122</td>\n",
              "      <td>1</td>\n",
              "      <td>23775.0</td>\n",
              "      <td>22550.0</td>\n",
              "      <td>24525.0</td>\n",
              "      <td>22500.0</td>\n",
              "      <td>3.036777</td>\n",
              "      <td>38.0</td>\n",
              "      <td>22.2</td>\n",
              "      <td>17.9299</td>\n",
              "    </tr>\n",
              "  </tbody>\n",
              "</table>\n",
              "</div>"
            ],
            "text/plain": [
              "        Data Cultivo  Estadual     País  Id   Último  Abertura   Máxima  \\\n",
              "0 2004-03-01   Milho   16.9936  17.5722   1  32025.0   32500.0  34200.0   \n",
              "1 2004-04-01   Milho   19.8861  19.4868   1  29975.0   32125.0  32650.0   \n",
              "2 2004-05-01   Milho   19.7989  20.2459   1  26250.0   30500.0  32250.0   \n",
              "3 2004-06-01   Milho   17.9299  19.0091   1  22550.0   26250.0  26425.0   \n",
              "4 2004-07-01   Milho   16.4940  17.7122   1  23775.0   22550.0  24525.0   \n",
              "\n",
              "    Mínima       USD  Precipitacao  Temperatura  lag_Estadual  \n",
              "0  30300.0  2.905457         175.4         24.9       16.9936  \n",
              "1  28175.0  2.905985         175.4         24.5       16.9936  \n",
              "2  26000.0  3.100419          23.0         21.7       19.8861  \n",
              "3  22500.0  3.129148          18.8         22.1       19.7989  \n",
              "4  22500.0  3.036777          38.0         22.2       17.9299  "
            ]
          },
          "execution_count": 5,
          "metadata": {},
          "output_type": "execute_result"
        }
      ],
      "source": [
        "df[\"USD\"] = df_usd[\"USD\"]\n",
        "df[\"Precipitacao\"] = clima[\"precipitacao\"].astype(float)\n",
        "df[\"Temperatura\"] = clima[\"temperatura\"].astype(float)\n",
        "df['lag_Estadual'] = df['Estadual'].shift(1)\n",
        "df['lag_Estadual'] = df['lag_Estadual'].bfill()\n",
        "df.head()"
      ]
    },
    {
      "cell_type": "code",
      "execution_count": 7,
      "metadata": {
        "colab": {
          "base_uri": "https://localhost:8080/"
        },
        "id": "8q6ZKy3nqmO6",
        "outputId": "8242d70b-babd-4a16-c440-c7c1864923c8"
      },
      "outputs": [
        {
          "name": "stdout",
          "output_type": "stream",
          "text": [
            "Defaulting to user installation because normal site-packages is not writeable\n",
            "Collecting pmdarima\n",
            "  Using cached pmdarima-2.0.4.tar.gz (630 kB)\n",
            "  Installing build dependencies: started\n",
            "  Installing build dependencies: finished with status 'done'\n",
            "  Getting requirements to build wheel: started\n",
            "  Getting requirements to build wheel: finished with status 'done'\n",
            "  Preparing metadata (pyproject.toml): started\n",
            "  Preparing metadata (pyproject.toml): finished with status 'done'\n",
            "Requirement already satisfied: joblib>=0.11 in c:\\users\\hamatsu\\appdata\\roaming\\python\\python313\\site-packages (from pmdarima) (1.4.2)\n",
            "Collecting Cython!=0.29.18,!=0.29.31,>=0.29 (from pmdarima)\n",
            "  Using cached cython-3.1.0-cp313-cp313-win_amd64.whl.metadata (31 kB)\n",
            "Requirement already satisfied: numpy>=1.21.2 in c:\\users\\hamatsu\\appdata\\roaming\\python\\python313\\site-packages (from pmdarima) (2.1.3)\n",
            "Requirement already satisfied: pandas>=0.19 in c:\\users\\hamatsu\\appdata\\roaming\\python\\python313\\site-packages (from pmdarima) (2.2.3)\n",
            "Requirement already satisfied: scikit-learn>=0.22 in c:\\users\\hamatsu\\appdata\\roaming\\python\\python313\\site-packages (from pmdarima) (1.6.1)\n",
            "Requirement already satisfied: scipy>=1.3.2 in c:\\users\\hamatsu\\appdata\\roaming\\python\\python313\\site-packages (from pmdarima) (1.15.2)\n",
            "Collecting statsmodels>=0.13.2 (from pmdarima)\n",
            "  Using cached statsmodels-0.14.4-cp313-cp313-win_amd64.whl.metadata (9.5 kB)\n",
            "Requirement already satisfied: urllib3 in c:\\users\\hamatsu\\appdata\\roaming\\python\\python313\\site-packages (from pmdarima) (2.3.0)\n",
            "Requirement already satisfied: setuptools!=50.0.0,>=38.6.0 in c:\\users\\hamatsu\\appdata\\roaming\\python\\python313\\site-packages (from pmdarima) (78.1.0)\n",
            "Requirement already satisfied: packaging>=17.1 in c:\\users\\hamatsu\\appdata\\roaming\\python\\python313\\site-packages (from pmdarima) (24.2)\n",
            "Requirement already satisfied: python-dateutil>=2.8.2 in c:\\users\\hamatsu\\appdata\\roaming\\python\\python313\\site-packages (from pandas>=0.19->pmdarima) (2.9.0.post0)\n",
            "Requirement already satisfied: pytz>=2020.1 in c:\\users\\hamatsu\\appdata\\roaming\\python\\python313\\site-packages (from pandas>=0.19->pmdarima) (2025.2)\n",
            "Requirement already satisfied: tzdata>=2022.7 in c:\\users\\hamatsu\\appdata\\roaming\\python\\python313\\site-packages (from pandas>=0.19->pmdarima) (2025.2)\n",
            "Requirement already satisfied: threadpoolctl>=3.1.0 in c:\\users\\hamatsu\\appdata\\roaming\\python\\python313\\site-packages (from scikit-learn>=0.22->pmdarima) (3.6.0)\n",
            "Collecting patsy>=0.5.6 (from statsmodels>=0.13.2->pmdarima)\n",
            "  Using cached patsy-1.0.1-py2.py3-none-any.whl.metadata (3.3 kB)\n",
            "Requirement already satisfied: six>=1.5 in c:\\users\\hamatsu\\appdata\\roaming\\python\\python313\\site-packages (from python-dateutil>=2.8.2->pandas>=0.19->pmdarima) (1.17.0)\n",
            "Using cached cython-3.1.0-cp313-cp313-win_amd64.whl (2.7 MB)\n",
            "Using cached statsmodels-0.14.4-cp313-cp313-win_amd64.whl (9.8 MB)\n",
            "Using cached patsy-1.0.1-py2.py3-none-any.whl (232 kB)\n",
            "Building wheels for collected packages: pmdarima\n",
            "  Building wheel for pmdarima (pyproject.toml): started\n",
            "  Building wheel for pmdarima (pyproject.toml): finished with status 'error'\n",
            "Failed to build pmdarima\n"
          ]
        },
        {
          "name": "stderr",
          "output_type": "stream",
          "text": [
            "  error: subprocess-exited-with-error\n",
            "  \n",
            "  × Building wheel for pmdarima (pyproject.toml) did not run successfully.\n",
            "  │ exit code: 1\n",
            "  ╰─> [41 lines of output]\n",
            "      Partial import of pmdarima during the build process.\n",
            "      \n",
            "      Requirements: ['joblib>=0.11\\nCython>=0.29,!=0.29.18,!=0.29.31\\nnumpy>=1.21.2\\npandas>=0.19\\nscikit-learn>=0.22\\nscipy>=1.3.2\\nstatsmodels>=0.13.2\\nurllib3\\nsetuptools>=38.6.0,!=50.0.0\\npackaging>=17.1  # Bundled with setuptools, but want to be explicit\\n']\n",
            "      Adding extra setuptools args\n",
            "      Setting up with setuptools\n",
            "      Traceback (most recent call last):\n",
            "        File \"C:\\Program Files\\Python313\\Lib\\site-packages\\pip\\_vendor\\pyproject_hooks\\_in_process\\_in_process.py\", line 353, in <module>\n",
            "          main()\n",
            "          ~~~~^^\n",
            "        File \"C:\\Program Files\\Python313\\Lib\\site-packages\\pip\\_vendor\\pyproject_hooks\\_in_process\\_in_process.py\", line 335, in main\n",
            "          json_out['return_val'] = hook(**hook_input['kwargs'])\n",
            "                                   ~~~~^^^^^^^^^^^^^^^^^^^^^^^^\n",
            "        File \"C:\\Program Files\\Python313\\Lib\\site-packages\\pip\\_vendor\\pyproject_hooks\\_in_process\\_in_process.py\", line 251, in build_wheel\n",
            "          return _build_backend().build_wheel(wheel_directory, config_settings,\n",
            "                 ~~~~~~~~~~~~~~~~~~~~~~~~~~~~^^^^^^^^^^^^^^^^^^^^^^^^^^^^^^^^^^\n",
            "                                              metadata_directory)\n",
            "                                              ^^^^^^^^^^^^^^^^^^^\n",
            "        File \"C:\\Users\\hamatsu\\AppData\\Local\\Temp\\pip-build-env-orl1bkxv\\overlay\\Lib\\site-packages\\setuptools\\build_meta.py\", line 435, in build_wheel\n",
            "          return _build(['bdist_wheel', '--dist-info-dir', str(metadata_directory)])\n",
            "        File \"C:\\Users\\hamatsu\\AppData\\Local\\Temp\\pip-build-env-orl1bkxv\\overlay\\Lib\\site-packages\\setuptools\\build_meta.py\", line 423, in _build\n",
            "          return self._build_with_temp_dir(\n",
            "                 ~~~~~~~~~~~~~~~~~~~~~~~~~^\n",
            "              cmd,\n",
            "              ^^^^\n",
            "          ...<3 lines>...\n",
            "              self._arbitrary_args(config_settings),\n",
            "              ^^^^^^^^^^^^^^^^^^^^^^^^^^^^^^^^^^^^^^\n",
            "          )\n",
            "          ^\n",
            "        File \"C:\\Users\\hamatsu\\AppData\\Local\\Temp\\pip-build-env-orl1bkxv\\overlay\\Lib\\site-packages\\setuptools\\build_meta.py\", line 404, in _build_with_temp_dir\n",
            "          self.run_setup()\n",
            "          ~~~~~~~~~~~~~~^^\n",
            "        File \"C:\\Users\\hamatsu\\AppData\\Local\\Temp\\pip-build-env-orl1bkxv\\overlay\\Lib\\site-packages\\setuptools\\build_meta.py\", line 512, in run_setup\n",
            "          super().run_setup(setup_script=setup_script)\n",
            "          ~~~~~~~~~~~~~~~~~^^^^^^^^^^^^^^^^^^^^^^^^^^^\n",
            "        File \"C:\\Users\\hamatsu\\AppData\\Local\\Temp\\pip-build-env-orl1bkxv\\overlay\\Lib\\site-packages\\setuptools\\build_meta.py\", line 317, in run_setup\n",
            "          exec(code, locals())\n",
            "          ~~~~^^^^^^^^^^^^^^^^\n",
            "        File \"<string>\", line 371, in <module>\n",
            "        File \"<string>\", line 330, in do_setup\n",
            "      ModuleNotFoundError: No module named 'numpy'\n",
            "      [end of output]\n",
            "  \n",
            "  note: This error originates from a subprocess, and is likely not a problem with pip.\n",
            "  ERROR: Failed building wheel for pmdarima\n",
            "\n",
            "[notice] A new release of pip is available: 24.3.1 -> 25.1.1\n",
            "[notice] To update, run: C:\\Program Files\\Python313\\python.exe -m pip install --upgrade pip\n",
            "ERROR: ERROR: Failed to build installable wheels for some pyproject.toml based projects (pmdarima)\n"
          ]
        }
      ],
      "source": [
        "!pip install pmdarima"
      ]
    },
    {
      "cell_type": "code",
      "execution_count": 6,
      "metadata": {
        "id": "OyDglsyjqd1m"
      },
      "outputs": [],
      "source": [
        "import pandas as pd\n",
        "import numpy as np\n",
        "import seaborn as sns\n",
        "from sklearn.metrics import mean_squared_error, r2_score\n",
        "import matplotlib.pyplot as plt\n",
        "\n",
        "from pmdarima.arima import auto_arima\n",
        "from pmdarima import arima\n",
        "from pmdarima.utils import tsdisplay, autocorr_plot, decomposed_plot, plot_acf, plot_pacf\n",
        "from matplotlib.pyplot import rcParams\n",
        "\n",
        "rcParams['figure.figsize']=15,6\n",
        "\n",
        "from pmdarima.arima import ADFTest\n",
        "from statsmodels.tsa.statespace.sarimax import SARIMAX"
      ]
    },
    {
      "cell_type": "code",
      "execution_count": 7,
      "metadata": {
        "id": "al4hpZ73zsOm"
      },
      "outputs": [],
      "source": [
        "from sklearn.metrics import r2_score\n",
        "from sklearn.metrics import mean_absolute_error, mean_absolute_percentage_error, root_mean_squared_error"
      ]
    },
    {
      "cell_type": "code",
      "execution_count": 8,
      "metadata": {
        "id": "pAjYQHmovO65"
      },
      "outputs": [],
      "source": [
        "from statsmodels.tsa.stattools import adfuller\n",
        "\n",
        "def check_stationarity(series, signif=0.05, name='', verbose=False):\n",
        "\n",
        "\n",
        "    result = adfuller(series.values)\n",
        "    print(f'    Augmented Dickey-Fuller Test on \"{name}\"', \"\\n   \", '-'*47)\n",
        "\n",
        "    print('ADF Statistic: %f' % result[0])\n",
        "    print('p-value: %f' % result[1])\n",
        "    print('Critical Values:')\n",
        "    for key, value in result[4].items():\n",
        "        print('\\t%s: %.3f' % (key, value))\n",
        "\n",
        "    if (result[1] <= 0.05) & (result[4]['5%'] > result[0]):\n",
        "        print(\"\\u001b[32mStationary\\u001b[0m\")\n",
        "    else:\n",
        "        print(\"\\x1b[31mNon-stationary\\x1b[0m\")\n",
        "\n",
        "def plot_predictions(testing_dates, y_test, prediction):\n",
        "    df_test = pd.DataFrame({\"date\": testing_dates, \"actual\": y_test, \"prediction\": prediction })\n",
        "    _, ax = plt.subplots(figsize=(10, 5))\n",
        "    df_test.plot(ax=ax, label=\"Actual\", x=\"date\", y=\"actual\")\n",
        "    df_test.plot(ax=ax, label=\"Prediction\", x=\"date\", y=\"prediction\")\n",
        "    plt.legend([\"Actual\", \"Prediction\"])\n",
        "    plt.show()"
      ]
    },
    {
      "cell_type": "code",
      "execution_count": 9,
      "metadata": {
        "id": "YEFPeyrMOZPI"
      },
      "outputs": [],
      "source": [
        "def evaluate_model(y_test, prediction):\n",
        "  print(f\"MAE: {mean_absolute_error(y_test, prediction)}\")\n",
        "  print(f\"RMSE: {root_mean_squared_error(y_test, prediction)}\")\n",
        "  print(f\"MAPE: {mean_absolute_percentage_error(y_test, prediction)}\")\n",
        "  print(f\"R-Squared: {r2_score(y_test, prediction)}\")"
      ]
    },
    {
      "cell_type": "code",
      "execution_count": 10,
      "metadata": {
        "colab": {
          "base_uri": "https://localhost:8080/"
        },
        "id": "vDL-LSfgvS3E",
        "outputId": "c39697dc-d0d6-45d5-ee8a-fd17d7bedc45"
      },
      "outputs": [
        {
          "name": "stdout",
          "output_type": "stream",
          "text": [
            "    Augmented Dickey-Fuller Test on \"Estadual\" \n",
            "    -----------------------------------------------\n",
            "ADF Statistic: -1.151687\n",
            "p-value: 0.694026\n",
            "Critical Values:\n",
            "\t1%: -3.465\n",
            "\t5%: -2.877\n",
            "\t10%: -2.575\n",
            "\u001b[31mNon-stationary\u001b[0m\n"
          ]
        }
      ],
      "source": [
        "train_size = int(len(df) * 0.8)\n",
        "train, test = df[0:train_size], df[train_size:len(df)]\n",
        "\n",
        "check_stationarity(train[\"Estadual\"], name=train[\"Estadual\"].name)"
      ]
    },
    {
      "cell_type": "code",
      "execution_count": 11,
      "metadata": {
        "colab": {
          "base_uri": "https://localhost:8080/",
          "height": 496
        },
        "id": "AOJSsDr5qtXS",
        "outputId": "4662a85f-d8be-495f-94ed-26f61ebcf1d9"
      },
      "outputs": [
        {
          "data": {
            "text/plain": [
              "[<matplotlib.lines.Line2D at 0x169d8597c80>]"
            ]
          },
          "execution_count": 11,
          "metadata": {},
          "output_type": "execute_result"
        },
        {
          "data": {
            "image/png": "[encoded data removed]",
            "text/plain": [
              "<Figure size 1500x600 with 1 Axes>"
            ]
          },
          "metadata": {},
          "output_type": "display_data"
        }
      ],
      "source": [
        "train_size = int(len(df) * 0.8)\n",
        "train, test = df[0:train_size], df[train_size:len(df)]\n",
        "\n",
        "test_dates = test.Data\n",
        "\n",
        "# train = train.Estadual\n",
        "# test = test.Estadual\n",
        "\n",
        "plt.plot(train.Estadual)\n",
        "plt.plot(test.Estadual)"
      ]
    },
    {
      "cell_type": "code",
      "execution_count": 12,
      "metadata": {
        "colab": {
          "base_uri": "https://localhost:8080/"
        },
        "id": "zG5Ibrx5sK7t",
        "outputId": "111fdbeb-8b7e-4161-8604-d1aef33bd3cf"
      },
      "outputs": [
        {
          "data": {
            "text/plain": [
              "(0.30575418150042244, True)"
            ]
          },
          "execution_count": 12,
          "metadata": {},
          "output_type": "execute_result"
        }
      ],
      "source": [
        "from pmdarima.arima import ADFTest\n",
        "\n",
        "adf_test = ADFTest(alpha = 0.05)\n",
        "adf_test.should_diff(df[\"Estadual\"])\n",
        "\n",
        "##Dado Não-Estacionário > I = 0"
      ]
    },
    {
      "cell_type": "code",
      "execution_count": 71,
      "metadata": {
        "colab": {
          "base_uri": "https://localhost:8080/",
          "height": 206
        },
        "id": "Gmwy__ESbm0l",
        "outputId": "2b745005-3318-4a83-c1a0-25be5717b582"
      },
      "outputs": [
        {
          "data": {
            "text/html": [
              "<div>\n",
              "<style scoped>\n",
              "    .dataframe tbody tr th:only-of-type {\n",
              "        vertical-align: middle;\n",
              "    }\n",
              "\n",
              "    .dataframe tbody tr th {\n",
              "        vertical-align: top;\n",
              "    }\n",
              "\n",
              "    .dataframe thead th {\n",
              "        text-align: right;\n",
              "    }\n",
              "</style>\n",
              "<table border=\"1\" class=\"dataframe\">\n",
              "  <thead>\n",
              "    <tr style=\"text-align: right;\">\n",
              "      <th></th>\n",
              "      <th>Data</th>\n",
              "      <th>Cultivo</th>\n",
              "      <th>Estadual</th>\n",
              "      <th>País</th>\n",
              "      <th>Id</th>\n",
              "      <th>Último</th>\n",
              "      <th>Abertura</th>\n",
              "      <th>Máxima</th>\n",
              "      <th>Mínima</th>\n",
              "      <th>USD</th>\n",
              "      <th>Precipitacao</th>\n",
              "      <th>Temperatura</th>\n",
              "      <th>lag_Estadual</th>\n",
              "    </tr>\n",
              "  </thead>\n",
              "  <tbody>\n",
              "    <tr>\n",
              "      <th>0</th>\n",
              "      <td>2004-03-01</td>\n",
              "      <td>Milho</td>\n",
              "      <td>16.9936</td>\n",
              "      <td>17.5722</td>\n",
              "      <td>1</td>\n",
              "      <td>32025.0</td>\n",
              "      <td>32500.0</td>\n",
              "      <td>34200.0</td>\n",
              "      <td>30300.0</td>\n",
              "      <td>2.905457</td>\n",
              "      <td>175.4</td>\n",
              "      <td>24.9</td>\n",
              "      <td>16.9936</td>\n",
              "    </tr>\n",
              "    <tr>\n",
              "      <th>1</th>\n",
              "      <td>2004-04-01</td>\n",
              "      <td>Milho</td>\n",
              "      <td>19.8861</td>\n",
              "      <td>19.4868</td>\n",
              "      <td>1</td>\n",
              "      <td>29975.0</td>\n",
              "      <td>32125.0</td>\n",
              "      <td>32650.0</td>\n",
              "      <td>28175.0</td>\n",
              "      <td>2.905985</td>\n",
              "      <td>175.4</td>\n",
              "      <td>24.5</td>\n",
              "      <td>16.9936</td>\n",
              "    </tr>\n",
              "    <tr>\n",
              "      <th>2</th>\n",
              "      <td>2004-05-01</td>\n",
              "      <td>Milho</td>\n",
              "      <td>19.7989</td>\n",
              "      <td>20.2459</td>\n",
              "      <td>1</td>\n",
              "      <td>26250.0</td>\n",
              "      <td>30500.0</td>\n",
              "      <td>32250.0</td>\n",
              "      <td>26000.0</td>\n",
              "      <td>3.100419</td>\n",
              "      <td>23.0</td>\n",
              "      <td>21.7</td>\n",
              "      <td>19.8861</td>\n",
              "    </tr>\n",
              "    <tr>\n",
              "      <th>3</th>\n",
              "      <td>2004-06-01</td>\n",
              "      <td>Milho</td>\n",
              "      <td>17.9299</td>\n",
              "      <td>19.0091</td>\n",
              "      <td>1</td>\n",
              "      <td>22550.0</td>\n",
              "      <td>26250.0</td>\n",
              "      <td>26425.0</td>\n",
              "      <td>22500.0</td>\n",
              "      <td>3.129148</td>\n",
              "      <td>18.8</td>\n",
              "      <td>22.1</td>\n",
              "      <td>19.7989</td>\n",
              "    </tr>\n",
              "    <tr>\n",
              "      <th>4</th>\n",
              "      <td>2004-07-01</td>\n",
              "      <td>Milho</td>\n",
              "      <td>16.4940</td>\n",
              "      <td>17.7122</td>\n",
              "      <td>1</td>\n",
              "      <td>23775.0</td>\n",
              "      <td>22550.0</td>\n",
              "      <td>24525.0</td>\n",
              "      <td>22500.0</td>\n",
              "      <td>3.036777</td>\n",
              "      <td>38.0</td>\n",
              "      <td>22.2</td>\n",
              "      <td>17.9299</td>\n",
              "    </tr>\n",
              "  </tbody>\n",
              "</table>\n",
              "</div>"
            ],
            "text/plain": [
              "        Data Cultivo  Estadual     País  Id   Último  Abertura   Máxima  \\\n",
              "0 2004-03-01   Milho   16.9936  17.5722   1  32025.0   32500.0  34200.0   \n",
              "1 2004-04-01   Milho   19.8861  19.4868   1  29975.0   32125.0  32650.0   \n",
              "2 2004-05-01   Milho   19.7989  20.2459   1  26250.0   30500.0  32250.0   \n",
              "3 2004-06-01   Milho   17.9299  19.0091   1  22550.0   26250.0  26425.0   \n",
              "4 2004-07-01   Milho   16.4940  17.7122   1  23775.0   22550.0  24525.0   \n",
              "\n",
              "    Mínima       USD  Precipitacao  Temperatura  lag_Estadual  \n",
              "0  30300.0  2.905457         175.4         24.9       16.9936  \n",
              "1  28175.0  2.905985         175.4         24.5       16.9936  \n",
              "2  26000.0  3.100419          23.0         21.7       19.8861  \n",
              "3  22500.0  3.129148          18.8         22.1       19.7989  \n",
              "4  22500.0  3.036777          38.0         22.2       17.9299  "
            ]
          },
          "execution_count": 71,
          "metadata": {},
          "output_type": "execute_result"
        }
      ],
      "source": [
        "train.head()"
      ]
    },
    {
      "cell_type": "markdown",
      "metadata": {
        "id": "ATO6pS7BxbXI"
      },
      "source": [
        "# USD"
      ]
    },
    {
      "cell_type": "code",
      "execution_count": 13,
      "metadata": {
        "id": "9hNVoT5RyzlI"
      },
      "outputs": [],
      "source": [
        "train_size = int(len(df) * 0.8)\n",
        "train, test = df[0:train_size], df[train_size:(len(df))]\n",
        "\n",
        "test_dates = test.Data"
      ]
    },
    {
      "cell_type": "code",
      "execution_count": 74,
      "metadata": {
        "id": "fuECqklrxbHC"
      },
      "outputs": [],
      "source": [
        "arima_model = auto_arima(train.Estadual, X = train[[\"USD\", \"País\"]],start_p=0, d=0, start_q=0,\n",
        "                         max_p = 5, max_d = 5, max_q = 5,\n",
        "                         start_P = 0, D = 0, start_Q=5,\n",
        "                         max_P=5, max_D=5, max_Q=5,\n",
        "                         m=12, seasonal=True, error_action =\"warn\",\n",
        "                         Trace=True, random_state=20, n_fits=50)"
      ]
    },
    {
      "cell_type": "code",
      "execution_count": 75,
      "metadata": {
        "colab": {
          "base_uri": "https://localhost:8080/",
          "height": 528
        },
        "id": "dcWPAx9VxZSG",
        "outputId": "14dbcb66-0937-4450-b774-b8ffb86a8d1a"
      },
      "outputs": [
        {
          "data": {
            "text/html": [
              "<table class=\"simpletable\">\n",
              "<caption>SARIMAX Results</caption>\n",
              "<tr>\n",
              "  <th>Dep. Variable:</th>           <td>y</td>        <th>  No. Observations:  </th>    <td>196</td>  \n",
              "</tr>\n",
              "<tr>\n",
              "  <th>Model:</th>           <td>SARIMAX(2, 0, 0)</td> <th>  Log Likelihood     </th> <td>-182.898</td>\n",
              "</tr>\n",
              "<tr>\n",
              "  <th>Date:</th>            <td>Thu, 10 Apr 2025</td> <th>  AIC                </th>  <td>377.796</td>\n",
              "</tr>\n",
              "<tr>\n",
              "  <th>Time:</th>                <td>00:17:13</td>     <th>  BIC                </th>  <td>397.464</td>\n",
              "</tr>\n",
              "<tr>\n",
              "  <th>Sample:</th>                  <td>0</td>        <th>  HQIC               </th>  <td>385.759</td>\n",
              "</tr>\n",
              "<tr>\n",
              "  <th></th>                      <td> - 196</td>      <th>                     </th>     <td> </td>   \n",
              "</tr>\n",
              "<tr>\n",
              "  <th>Covariance Type:</th>        <td>opg</td>       <th>                     </th>     <td> </td>   \n",
              "</tr>\n",
              "</table>\n",
              "<table class=\"simpletable\">\n",
              "<tr>\n",
              "      <td></td>         <th>coef</th>     <th>std err</th>      <th>z</th>      <th>P>|z|</th>  <th>[0.025</th>    <th>0.975]</th>  \n",
              "</tr>\n",
              "<tr>\n",
              "  <th>intercept</th> <td>   -0.4654</td> <td>    0.167</td> <td>   -2.792</td> <td> 0.005</td> <td>   -0.792</td> <td>   -0.139</td>\n",
              "</tr>\n",
              "<tr>\n",
              "  <th>USD</th>       <td>    0.2002</td> <td>    0.266</td> <td>    0.752</td> <td> 0.452</td> <td>   -0.322</td> <td>    0.722</td>\n",
              "</tr>\n",
              "<tr>\n",
              "  <th>País</th>      <td>    0.9957</td> <td>    0.025</td> <td>   39.523</td> <td> 0.000</td> <td>    0.946</td> <td>    1.045</td>\n",
              "</tr>\n",
              "<tr>\n",
              "  <th>ar.L1</th>     <td>    0.9201</td> <td>    0.075</td> <td>   12.313</td> <td> 0.000</td> <td>    0.774</td> <td>    1.067</td>\n",
              "</tr>\n",
              "<tr>\n",
              "  <th>ar.L2</th>     <td>   -0.1326</td> <td>    0.072</td> <td>   -1.852</td> <td> 0.064</td> <td>   -0.273</td> <td>    0.008</td>\n",
              "</tr>\n",
              "<tr>\n",
              "  <th>sigma2</th>    <td>    0.3763</td> <td>    0.031</td> <td>   12.024</td> <td> 0.000</td> <td>    0.315</td> <td>    0.438</td>\n",
              "</tr>\n",
              "</table>\n",
              "<table class=\"simpletable\">\n",
              "<tr>\n",
              "  <th>Ljung-Box (L1) (Q):</th>     <td>0.00</td> <th>  Jarque-Bera (JB):  </th> <td>38.42</td>\n",
              "</tr>\n",
              "<tr>\n",
              "  <th>Prob(Q):</th>                <td>0.99</td> <th>  Prob(JB):          </th> <td>0.00</td> \n",
              "</tr>\n",
              "<tr>\n",
              "  <th>Heteroskedasticity (H):</th> <td>2.81</td> <th>  Skew:              </th> <td>-0.57</td>\n",
              "</tr>\n",
              "<tr>\n",
              "  <th>Prob(H) (two-sided):</th>    <td>0.00</td> <th>  Kurtosis:          </th> <td>4.85</td> \n",
              "</tr>\n",
              "</table><br/><br/>Warnings:<br/>[1] Covariance matrix calculated using the outer product of gradients (complex-step)."
            ],
            "text/latex": [
              "\\begin{center}\n",
              "\\begin{tabular}{lclc}\n",
              "\\toprule\n",
              "\\textbf{Dep. Variable:}          &        y         & \\textbf{  No. Observations:  } &    196      \\\\\n",
              "\\textbf{Model:}                  & SARIMAX(2, 0, 0) & \\textbf{  Log Likelihood     } &  -182.898   \\\\\n",
              "\\textbf{Date:}                   & Thu, 10 Apr 2025 & \\textbf{  AIC                } &  377.796    \\\\\n",
              "\\textbf{Time:}                   &     00:17:13     & \\textbf{  BIC                } &  397.464    \\\\\n",
              "\\textbf{Sample:}                 &        0         & \\textbf{  HQIC               } &  385.759    \\\\\n",
              "\\textbf{}                        &       - 196      & \\textbf{                     } &             \\\\\n",
              "\\textbf{Covariance Type:}        &       opg        & \\textbf{                     } &             \\\\\n",
              "\\bottomrule\n",
              "\\end{tabular}\n",
              "\\begin{tabular}{lcccccc}\n",
              "                   & \\textbf{coef} & \\textbf{std err} & \\textbf{z} & \\textbf{P$> |$z$|$} & \\textbf{[0.025} & \\textbf{0.975]}  \\\\\n",
              "\\midrule\n",
              "\\textbf{intercept} &      -0.4654  &        0.167     &    -2.792  &         0.005        &       -0.792    &       -0.139     \\\\\n",
              "\\textbf{USD}       &       0.2002  &        0.266     &     0.752  &         0.452        &       -0.322    &        0.722     \\\\\n",
              "\\textbf{País}      &       0.9957  &        0.025     &    39.523  &         0.000        &        0.946    &        1.045     \\\\\n",
              "\\textbf{ar.L1}     &       0.9201  &        0.075     &    12.313  &         0.000        &        0.774    &        1.067     \\\\\n",
              "\\textbf{ar.L2}     &      -0.1326  &        0.072     &    -1.852  &         0.064        &       -0.273    &        0.008     \\\\\n",
              "\\textbf{sigma2}    &       0.3763  &        0.031     &    12.024  &         0.000        &        0.315    &        0.438     \\\\\n",
              "\\bottomrule\n",
              "\\end{tabular}\n",
              "\\begin{tabular}{lclc}\n",
              "\\textbf{Ljung-Box (L1) (Q):}     & 0.00 & \\textbf{  Jarque-Bera (JB):  } & 38.42  \\\\\n",
              "\\textbf{Prob(Q):}                & 0.99 & \\textbf{  Prob(JB):          } &  0.00  \\\\\n",
              "\\textbf{Heteroskedasticity (H):} & 2.81 & \\textbf{  Skew:              } & -0.57  \\\\\n",
              "\\textbf{Prob(H) (two-sided):}    & 0.00 & \\textbf{  Kurtosis:          } &  4.85  \\\\\n",
              "\\bottomrule\n",
              "\\end{tabular}\n",
              "%\\caption{SARIMAX Results}\n",
              "\\end{center}\n",
              "\n",
              "Warnings: \\newline\n",
              " [1] Covariance matrix calculated using the outer product of gradients (complex-step)."
            ],
            "text/plain": [
              "<class 'statsmodels.iolib.summary.Summary'>\n",
              "\"\"\"\n",
              "                               SARIMAX Results                                \n",
              "==============================================================================\n",
              "Dep. Variable:                      y   No. Observations:                  196\n",
              "Model:               SARIMAX(2, 0, 0)   Log Likelihood                -182.898\n",
              "Date:                Thu, 10 Apr 2025   AIC                            377.796\n",
              "Time:                        00:17:13   BIC                            397.464\n",
              "Sample:                             0   HQIC                           385.759\n",
              "                                - 196                                         \n",
              "Covariance Type:                  opg                                         \n",
              "==============================================================================\n",
              "                 coef    std err          z      P>|z|      [0.025      0.975]\n",
              "------------------------------------------------------------------------------\n",
              "intercept     -0.4654      0.167     -2.792      0.005      -0.792      -0.139\n",
              "USD            0.2002      0.266      0.752      0.452      -0.322       0.722\n",
              "País           0.9957      0.025     39.523      0.000       0.946       1.045\n",
              "ar.L1          0.9201      0.075     12.313      0.000       0.774       1.067\n",
              "ar.L2         -0.1326      0.072     -1.852      0.064      -0.273       0.008\n",
              "sigma2         0.3763      0.031     12.024      0.000       0.315       0.438\n",
              "===================================================================================\n",
              "Ljung-Box (L1) (Q):                   0.00   Jarque-Bera (JB):                38.42\n",
              "Prob(Q):                              0.99   Prob(JB):                         0.00\n",
              "Heteroskedasticity (H):               2.81   Skew:                            -0.57\n",
              "Prob(H) (two-sided):                  0.00   Kurtosis:                         4.85\n",
              "===================================================================================\n",
              "\n",
              "Warnings:\n",
              "[1] Covariance matrix calculated using the outer product of gradients (complex-step).\n",
              "\"\"\""
            ]
          },
          "execution_count": 75,
          "metadata": {},
          "output_type": "execute_result"
        }
      ],
      "source": [
        "arima_model.summary()"
      ]
    },
    {
      "cell_type": "code",
      "execution_count": 76,
      "metadata": {
        "id": "SwR5gZ2oxkbL"
      },
      "outputs": [],
      "source": [
        "prediction = pd.DataFrame(arima_model.predict(n_periods=len(test), X=test[[\"USD\", \"País\"]]),\n",
        "                          # index=test.index\n",
        "                          )\n",
        "prediction.columns = [\"predicted_Estadual\"]\n",
        "prediction.index = test.index"
      ]
    },
    {
      "cell_type": "code",
      "execution_count": 77,
      "metadata": {
        "colab": {
          "base_uri": "https://localhost:8080/",
          "height": 569
        },
        "id": "FVTcDApMxpJ0",
        "outputId": "52c77099-2965-48b4-fd7c-005c1dc28a0b"
      },
      "outputs": [
        {
          "name": "stderr",
          "output_type": "stream",
          "text": [
            "C:\\Users\\hamatsu\\AppData\\Local\\Temp\\ipykernel_16496\\3360805911.py:1: SettingWithCopyWarning: \n",
            "A value is trying to be set on a copy of a slice from a DataFrame.\n",
            "Try using .loc[row_indexer,col_indexer] = value instead\n",
            "\n",
            "See the caveats in the documentation: https://pandas.pydata.org/pandas-docs/stable/user_guide/indexing.html#returning-a-view-versus-a-copy\n",
            "  test[\"Data\"] = test.index\n"
          ]
        },
        {
          "data": {
            "image/png": "[encoded data removed]",
            "text/plain": [
              "<Figure size 1000x500 with 1 Axes>"
            ]
          },
          "metadata": {},
          "output_type": "display_data"
        }
      ],
      "source": [
        "test[\"Data\"] = test.index\n",
        "testing_dates = test_dates\n",
        "\n",
        "plot_predictions(testing_dates, test.Estadual, prediction.predicted_Estadual)"
      ]
    },
    {
      "cell_type": "code",
      "execution_count": 78,
      "metadata": {
        "colab": {
          "base_uri": "https://localhost:8080/",
          "height": 226
        },
        "id": "3oFKr4oeyoop",
        "outputId": "858e97b2-4f37-4bac-f8c9-670d8c15a915"
      },
      "outputs": [
        {
          "data": {
            "text/html": [
              "<div>\n",
              "<style scoped>\n",
              "    .dataframe tbody tr th:only-of-type {\n",
              "        vertical-align: middle;\n",
              "    }\n",
              "\n",
              "    .dataframe tbody tr th {\n",
              "        vertical-align: top;\n",
              "    }\n",
              "\n",
              "    .dataframe thead th {\n",
              "        text-align: right;\n",
              "    }\n",
              "</style>\n",
              "<table border=\"1\" class=\"dataframe\">\n",
              "  <thead>\n",
              "    <tr style=\"text-align: right;\">\n",
              "      <th></th>\n",
              "      <th>Data</th>\n",
              "      <th>Cultivo</th>\n",
              "      <th>Estadual</th>\n",
              "      <th>País</th>\n",
              "      <th>Id</th>\n",
              "      <th>Último</th>\n",
              "      <th>Abertura</th>\n",
              "      <th>Máxima</th>\n",
              "      <th>Mínima</th>\n",
              "      <th>USD</th>\n",
              "      <th>Precipitacao</th>\n",
              "      <th>Temperatura</th>\n",
              "      <th>lag_Estadual</th>\n",
              "      <th>predict_Estadual</th>\n",
              "    </tr>\n",
              "  </thead>\n",
              "  <tbody>\n",
              "    <tr>\n",
              "      <th>196</th>\n",
              "      <td>196</td>\n",
              "      <td>Milho</td>\n",
              "      <td>45.2704</td>\n",
              "      <td>45.8405</td>\n",
              "      <td>1</td>\n",
              "      <td>34850.0</td>\n",
              "      <td>31500.0</td>\n",
              "      <td>35300.0</td>\n",
              "      <td>30725.0</td>\n",
              "      <td>5.280191</td>\n",
              "      <td>33.0</td>\n",
              "      <td>26.7</td>\n",
              "      <td>41.5048</td>\n",
              "      <td>45.354499</td>\n",
              "    </tr>\n",
              "    <tr>\n",
              "      <th>197</th>\n",
              "      <td>197</td>\n",
              "      <td>Milho</td>\n",
              "      <td>50.0149</td>\n",
              "      <td>51.5842</td>\n",
              "      <td>1</td>\n",
              "      <td>37900.0</td>\n",
              "      <td>34775.0</td>\n",
              "      <td>38275.0</td>\n",
              "      <td>34325.0</td>\n",
              "      <td>5.461233</td>\n",
              "      <td>33.0</td>\n",
              "      <td>26.7</td>\n",
              "      <td>45.2704</td>\n",
              "      <td>50.930923</td>\n",
              "    </tr>\n",
              "    <tr>\n",
              "      <th>198</th>\n",
              "      <td>198</td>\n",
              "      <td>Milho</td>\n",
              "      <td>57.2360</td>\n",
              "      <td>60.4194</td>\n",
              "      <td>1</td>\n",
              "      <td>39850.0</td>\n",
              "      <td>37900.0</td>\n",
              "      <td>42225.0</td>\n",
              "      <td>37725.0</td>\n",
              "      <td>5.399486</td>\n",
              "      <td>33.0</td>\n",
              "      <td>26.7</td>\n",
              "      <td>50.0149</td>\n",
              "      <td>59.550216</td>\n",
              "    </tr>\n",
              "    <tr>\n",
              "      <th>199</th>\n",
              "      <td>199</td>\n",
              "      <td>Milho</td>\n",
              "      <td>67.7848</td>\n",
              "      <td>72.0206</td>\n",
              "      <td>1</td>\n",
              "      <td>41975.0</td>\n",
              "      <td>39600.0</td>\n",
              "      <td>43050.0</td>\n",
              "      <td>39300.0</td>\n",
              "      <td>5.625790</td>\n",
              "      <td>33.0</td>\n",
              "      <td>26.7</td>\n",
              "      <td>57.2360</td>\n",
              "      <td>71.018120</td>\n",
              "    </tr>\n",
              "    <tr>\n",
              "      <th>200</th>\n",
              "      <td>200</td>\n",
              "      <td>Milho</td>\n",
              "      <td>64.7903</td>\n",
              "      <td>69.2060</td>\n",
              "      <td>1</td>\n",
              "      <td>48400.0</td>\n",
              "      <td>42000.0</td>\n",
              "      <td>48575.0</td>\n",
              "      <td>40900.0</td>\n",
              "      <td>5.417835</td>\n",
              "      <td>33.0</td>\n",
              "      <td>26.7</td>\n",
              "      <td>67.7848</td>\n",
              "      <td>68.077798</td>\n",
              "    </tr>\n",
              "  </tbody>\n",
              "</table>\n",
              "</div>"
            ],
            "text/plain": [
              "     Data Cultivo  Estadual     País  Id   Último  Abertura   Máxima   Mínima  \\\n",
              "196   196   Milho   45.2704  45.8405   1  34850.0   31500.0  35300.0  30725.0   \n",
              "197   197   Milho   50.0149  51.5842   1  37900.0   34775.0  38275.0  34325.0   \n",
              "198   198   Milho   57.2360  60.4194   1  39850.0   37900.0  42225.0  37725.0   \n",
              "199   199   Milho   67.7848  72.0206   1  41975.0   39600.0  43050.0  39300.0   \n",
              "200   200   Milho   64.7903  69.2060   1  48400.0   42000.0  48575.0  40900.0   \n",
              "\n",
              "          USD  Precipitacao  Temperatura  lag_Estadual  predict_Estadual  \n",
              "196  5.280191          33.0         26.7       41.5048         45.354499  \n",
              "197  5.461233          33.0         26.7       45.2704         50.930923  \n",
              "198  5.399486          33.0         26.7       50.0149         59.550216  \n",
              "199  5.625790          33.0         26.7       57.2360         71.018120  \n",
              "200  5.417835          33.0         26.7       67.7848         68.077798  "
            ]
          },
          "execution_count": 78,
          "metadata": {},
          "output_type": "execute_result"
        }
      ],
      "source": [
        "test = pd.DataFrame(test)\n",
        "test[\"predict_Estadual\"] = prediction['predicted_Estadual']\n",
        "test.head()"
      ]
    },
    {
      "cell_type": "code",
      "execution_count": 79,
      "metadata": {
        "colab": {
          "base_uri": "https://localhost:8080/"
        },
        "id": "7GZzjNz_ytKW",
        "outputId": "1b1c4822-cfa9-410f-8c27-e25a260438b6"
      },
      "outputs": [
        {
          "name": "stdout",
          "output_type": "stream",
          "text": [
            "MAE: 1.934003529131312\n",
            "RMSE: 2.5403545328126182\n",
            "MAPE: 0.029135687477424413\n",
            "R-Squared: 0.9757050949259459\n"
          ]
        }
      ],
      "source": [
        "evaluate_model(test[\"Estadual\"], test[\"predict_Estadual\"])"
      ]
    },
    {
      "cell_type": "markdown",
      "metadata": {
        "id": "UacNK30qxUck"
      },
      "source": [
        "# Multiple Variables"
      ]
    },
    {
      "cell_type": "code",
      "execution_count": 138,
      "metadata": {
        "id": "O-SMhmcCy10s"
      },
      "outputs": [],
      "source": [
        "train_size = int(len(df) * 0.8)\n",
        "train, test = df[0:train_size], df[train_size:len(df)]\n",
        "\n",
        "test_start_date = test[\"Data\"][:1]\n",
        "test_end_date = test[\"Data\"][-1:]\n",
        "\n",
        "test_dates = test.Data"
      ]
    },
    {
      "cell_type": "code",
      "execution_count": 127,
      "metadata": {
        "colab": {
          "base_uri": "https://localhost:8080/"
        },
        "id": "8zCiXfaBtlu0",
        "outputId": "fe4d16e2-70cb-4cb7-db03-2e980aaa2100"
      },
      "outputs": [
        {
          "name": "stderr",
          "output_type": "stream",
          "text": [
            "C:\\Users\\hamatsu\\AppData\\Roaming\\Python\\Python312\\site-packages\\statsmodels\\tsa\\statespace\\sarimax.py:1908: RuntimeWarning: divide by zero encountered in reciprocal\n",
            "  return np.roots(self.polynomial_reduced_ma)**-1\n",
            "C:\\Users\\hamatsu\\AppData\\Roaming\\Python\\Python312\\site-packages\\statsmodels\\tsa\\statespace\\sarimax.py:1901: RuntimeWarning: divide by zero encountered in reciprocal\n",
            "  return np.roots(self.polynomial_reduced_ar)**-1\n",
            "C:\\Users\\hamatsu\\AppData\\Roaming\\Python\\Python312\\site-packages\\statsmodels\\tsa\\statespace\\sarimax.py:1908: RuntimeWarning: divide by zero encountered in reciprocal\n",
            "  return np.roots(self.polynomial_reduced_ma)**-1\n",
            "C:\\Users\\hamatsu\\AppData\\Roaming\\Python\\Python312\\site-packages\\statsmodels\\tsa\\statespace\\sarimax.py:1901: RuntimeWarning: divide by zero encountered in reciprocal\n",
            "  return np.roots(self.polynomial_reduced_ar)**-1\n",
            "C:\\Users\\hamatsu\\AppData\\Roaming\\Python\\Python312\\site-packages\\statsmodels\\tsa\\statespace\\sarimax.py:1908: RuntimeWarning: divide by zero encountered in reciprocal\n",
            "  return np.roots(self.polynomial_reduced_ma)**-1\n"
          ]
        }
      ],
      "source": [
        "arima_model = auto_arima(train.Estadual, X = train[[\"USD\", \"País\", \"Último\", \"Máxima\", \"Precipitacao\", \"lag_Estadual\"]],start_p=0, d=0, start_q=0,\n",
        "                         max_p = 5, max_d = 5, max_q = 5,\n",
        "                         start_P = 0, D = 0, start_Q=5,\n",
        "                         max_P=5, max_D=5, max_Q=5,\n",
        "                         m=12, seasonal=True, error_action =\"warn\",\n",
        "                         Trace=True, random_state=20, n_fits=50)"
      ]
    },
    {
      "cell_type": "code",
      "execution_count": 128,
      "metadata": {
        "colab": {
          "base_uri": "https://localhost:8080/",
          "height": 528
        },
        "id": "PYeWGWWPvWjy",
        "outputId": "7f682c9b-0875-496e-aece-6379bcf01f77"
      },
      "outputs": [
        {
          "data": {
            "text/html": [
              "<table class=\"simpletable\">\n",
              "<caption>SARIMAX Results</caption>\n",
              "<tr>\n",
              "  <th>Dep. Variable:</th>           <td>y</td>        <th>  No. Observations:  </th>    <td>196</td>  \n",
              "</tr>\n",
              "<tr>\n",
              "  <th>Model:</th>           <td>SARIMAX(1, 0, 0)</td> <th>  Log Likelihood     </th> <td>-213.899</td>\n",
              "</tr>\n",
              "<tr>\n",
              "  <th>Date:</th>            <td>Thu, 10 Apr 2025</td> <th>  AIC                </th>  <td>443.797</td>\n",
              "</tr>\n",
              "<tr>\n",
              "  <th>Time:</th>                <td>11:15:17</td>     <th>  BIC                </th>  <td>470.022</td>\n",
              "</tr>\n",
              "<tr>\n",
              "  <th>Sample:</th>                  <td>0</td>        <th>  HQIC               </th>  <td>454.414</td>\n",
              "</tr>\n",
              "<tr>\n",
              "  <th></th>                      <td> - 196</td>      <th>                     </th>     <td> </td>   \n",
              "</tr>\n",
              "<tr>\n",
              "  <th>Covariance Type:</th>        <td>opg</td>       <th>                     </th>     <td> </td>   \n",
              "</tr>\n",
              "</table>\n",
              "<table class=\"simpletable\">\n",
              "<tr>\n",
              "        <td></td>          <th>coef</th>     <th>std err</th>      <th>z</th>      <th>P>|z|</th>  <th>[0.025</th>    <th>0.975]</th>  \n",
              "</tr>\n",
              "<tr>\n",
              "  <th>USD</th>          <td>    0.3998</td> <td>    0.236</td> <td>    1.694</td> <td> 0.090</td> <td>   -0.063</td> <td>    0.862</td>\n",
              "</tr>\n",
              "<tr>\n",
              "  <th>País</th>         <td>    0.7891</td> <td>    0.052</td> <td>   15.080</td> <td> 0.000</td> <td>    0.687</td> <td>    0.892</td>\n",
              "</tr>\n",
              "<tr>\n",
              "  <th>Último</th>       <td> 6.526e-06</td> <td> 1.61e-05</td> <td>    0.405</td> <td> 0.685</td> <td> -2.5e-05</td> <td> 3.81e-05</td>\n",
              "</tr>\n",
              "<tr>\n",
              "  <th>Máxima</th>       <td>-8.586e-06</td> <td> 1.67e-05</td> <td>   -0.513</td> <td> 0.608</td> <td>-4.14e-05</td> <td> 2.42e-05</td>\n",
              "</tr>\n",
              "<tr>\n",
              "  <th>Precipitacao</th> <td>   -0.0007</td> <td>    0.001</td> <td>   -0.858</td> <td> 0.391</td> <td>   -0.002</td> <td>    0.001</td>\n",
              "</tr>\n",
              "<tr>\n",
              "  <th>lag_Estadual</th> <td>    0.1110</td> <td>    0.050</td> <td>    2.232</td> <td> 0.026</td> <td>    0.014</td> <td>    0.208</td>\n",
              "</tr>\n",
              "<tr>\n",
              "  <th>ar.L1</th>        <td>    0.6758</td> <td>    0.056</td> <td>   12.024</td> <td> 0.000</td> <td>    0.566</td> <td>    0.786</td>\n",
              "</tr>\n",
              "<tr>\n",
              "  <th>sigma2</th>       <td>    0.5201</td> <td>    0.071</td> <td>    7.317</td> <td> 0.000</td> <td>    0.381</td> <td>    0.659</td>\n",
              "</tr>\n",
              "</table>\n",
              "<table class=\"simpletable\">\n",
              "<tr>\n",
              "  <th>Ljung-Box (L1) (Q):</th>     <td>0.03</td> <th>  Jarque-Bera (JB):  </th> <td>27.29</td>\n",
              "</tr>\n",
              "<tr>\n",
              "  <th>Prob(Q):</th>                <td>0.86</td> <th>  Prob(JB):          </th> <td>0.00</td> \n",
              "</tr>\n",
              "<tr>\n",
              "  <th>Heteroskedasticity (H):</th> <td>2.44</td> <th>  Skew:              </th> <td>-0.04</td>\n",
              "</tr>\n",
              "<tr>\n",
              "  <th>Prob(H) (two-sided):</th>    <td>0.00</td> <th>  Kurtosis:          </th> <td>4.83</td> \n",
              "</tr>\n",
              "</table><br/><br/>Warnings:<br/>[1] Covariance matrix calculated using the outer product of gradients (complex-step)."
            ],
            "text/latex": [
              "\\begin{center}\n",
              "\\begin{tabular}{lclc}\n",
              "\\toprule\n",
              "\\textbf{Dep. Variable:}          &        y         & \\textbf{  No. Observations:  } &    196      \\\\\n",
              "\\textbf{Model:}                  & SARIMAX(1, 0, 0) & \\textbf{  Log Likelihood     } &  -213.899   \\\\\n",
              "\\textbf{Date:}                   & Thu, 10 Apr 2025 & \\textbf{  AIC                } &  443.797    \\\\\n",
              "\\textbf{Time:}                   &     11:15:17     & \\textbf{  BIC                } &  470.022    \\\\\n",
              "\\textbf{Sample:}                 &        0         & \\textbf{  HQIC               } &  454.414    \\\\\n",
              "\\textbf{}                        &       - 196      & \\textbf{                     } &             \\\\\n",
              "\\textbf{Covariance Type:}        &       opg        & \\textbf{                     } &             \\\\\n",
              "\\bottomrule\n",
              "\\end{tabular}\n",
              "\\begin{tabular}{lcccccc}\n",
              "                       & \\textbf{coef} & \\textbf{std err} & \\textbf{z} & \\textbf{P$> |$z$|$} & \\textbf{[0.025} & \\textbf{0.975]}  \\\\\n",
              "\\midrule\n",
              "\\textbf{USD}           &       0.3998  &        0.236     &     1.694  &         0.090        &       -0.063    &        0.862     \\\\\n",
              "\\textbf{País}          &       0.7891  &        0.052     &    15.080  &         0.000        &        0.687    &        0.892     \\\\\n",
              "\\textbf{Último}        &    6.526e-06  &     1.61e-05     &     0.405  &         0.685        &     -2.5e-05    &     3.81e-05     \\\\\n",
              "\\textbf{Máxima}        &   -8.586e-06  &     1.67e-05     &    -0.513  &         0.608        &    -4.14e-05    &     2.42e-05     \\\\\n",
              "\\textbf{Precipitacao}  &      -0.0007  &        0.001     &    -0.858  &         0.391        &       -0.002    &        0.001     \\\\\n",
              "\\textbf{lag\\_Estadual} &       0.1110  &        0.050     &     2.232  &         0.026        &        0.014    &        0.208     \\\\\n",
              "\\textbf{ar.L1}         &       0.6758  &        0.056     &    12.024  &         0.000        &        0.566    &        0.786     \\\\\n",
              "\\textbf{sigma2}        &       0.5201  &        0.071     &     7.317  &         0.000        &        0.381    &        0.659     \\\\\n",
              "\\bottomrule\n",
              "\\end{tabular}\n",
              "\\begin{tabular}{lclc}\n",
              "\\textbf{Ljung-Box (L1) (Q):}     & 0.03 & \\textbf{  Jarque-Bera (JB):  } & 27.29  \\\\\n",
              "\\textbf{Prob(Q):}                & 0.86 & \\textbf{  Prob(JB):          } &  0.00  \\\\\n",
              "\\textbf{Heteroskedasticity (H):} & 2.44 & \\textbf{  Skew:              } & -0.04  \\\\\n",
              "\\textbf{Prob(H) (two-sided):}    & 0.00 & \\textbf{  Kurtosis:          } &  4.83  \\\\\n",
              "\\bottomrule\n",
              "\\end{tabular}\n",
              "%\\caption{SARIMAX Results}\n",
              "\\end{center}\n",
              "\n",
              "Warnings: \\newline\n",
              " [1] Covariance matrix calculated using the outer product of gradients (complex-step)."
            ],
            "text/plain": [
              "<class 'statsmodels.iolib.summary.Summary'>\n",
              "\"\"\"\n",
              "                               SARIMAX Results                                \n",
              "==============================================================================\n",
              "Dep. Variable:                      y   No. Observations:                  196\n",
              "Model:               SARIMAX(1, 0, 0)   Log Likelihood                -213.899\n",
              "Date:                Thu, 10 Apr 2025   AIC                            443.797\n",
              "Time:                        11:15:17   BIC                            470.022\n",
              "Sample:                             0   HQIC                           454.414\n",
              "                                - 196                                         \n",
              "Covariance Type:                  opg                                         \n",
              "================================================================================\n",
              "                   coef    std err          z      P>|z|      [0.025      0.975]\n",
              "--------------------------------------------------------------------------------\n",
              "USD              0.3998      0.236      1.694      0.090      -0.063       0.862\n",
              "País             0.7891      0.052     15.080      0.000       0.687       0.892\n",
              "Último        6.526e-06   1.61e-05      0.405      0.685    -2.5e-05    3.81e-05\n",
              "Máxima       -8.586e-06   1.67e-05     -0.513      0.608   -4.14e-05    2.42e-05\n",
              "Precipitacao    -0.0007      0.001     -0.858      0.391      -0.002       0.001\n",
              "lag_Estadual     0.1110      0.050      2.232      0.026       0.014       0.208\n",
              "ar.L1            0.6758      0.056     12.024      0.000       0.566       0.786\n",
              "sigma2           0.5201      0.071      7.317      0.000       0.381       0.659\n",
              "===================================================================================\n",
              "Ljung-Box (L1) (Q):                   0.03   Jarque-Bera (JB):                27.29\n",
              "Prob(Q):                              0.86   Prob(JB):                         0.00\n",
              "Heteroskedasticity (H):               2.44   Skew:                            -0.04\n",
              "Prob(H) (two-sided):                  0.00   Kurtosis:                         4.83\n",
              "===================================================================================\n",
              "\n",
              "Warnings:\n",
              "[1] Covariance matrix calculated using the outer product of gradients (complex-step).\n",
              "\"\"\""
            ]
          },
          "execution_count": 128,
          "metadata": {},
          "output_type": "execute_result"
        }
      ],
      "source": [
        "arima_model.summary()"
      ]
    },
    {
      "cell_type": "code",
      "execution_count": 129,
      "metadata": {
        "id": "eA9LKS_yrtJb"
      },
      "outputs": [],
      "source": [
        "# Import required libraries\n",
        "\n",
        "import pandas as pd\n",
        "import numpy as np\n",
        "\n",
        "# Create dataframe using dictionary\n",
        "data_aux = test.copy()\n",
        "\n",
        "df_aux = pd.DataFrame(data_aux)\n",
        "\n",
        "# Replace infinite updated data with nan\n",
        "df_aux.replace([np.inf, -np.inf], np.nan, inplace=True)\n",
        "\n",
        "df_aux.ffill(inplace=True)\n",
        "\n",
        "test = df_aux.copy()"
      ]
    },
    {
      "cell_type": "code",
      "execution_count": 130,
      "metadata": {
        "id": "HZ_0olcox5dq"
      },
      "outputs": [],
      "source": [
        "prediction = pd.DataFrame(arima_model.predict(n_periods=len(test), X=test[[\"USD\", \"País\", \"Último\", \"Máxima\", \"Precipitacao\", \"lag_Estadual\"]]),\n",
        "                          # index=test.index\n",
        "                          )\n",
        "prediction.columns = [\"predicted_Estadual\"]\n",
        "prediction.index = test.index"
      ]
    },
    {
      "cell_type": "code",
      "execution_count": 131,
      "metadata": {
        "colab": {
          "base_uri": "https://localhost:8080/",
          "height": 465
        },
        "id": "2r0OYlGdoRUX",
        "outputId": "b2d626da-e032-47c1-b890-154976885d96"
      },
      "outputs": [
        {
          "data": {
            "image/png": "[encoded data removed]",
            "text/plain": [
              "<Figure size 1000x500 with 1 Axes>"
            ]
          },
          "metadata": {},
          "output_type": "display_data"
        }
      ],
      "source": [
        "test[\"Data\"] = test.index\n",
        "testing_dates = test_dates\n",
        "\n",
        "plot_predictions(testing_dates, test.Estadual, prediction.predicted_Estadual)"
      ]
    },
    {
      "cell_type": "code",
      "execution_count": 86,
      "metadata": {
        "colab": {
          "base_uri": "https://localhost:8080/",
          "height": 445
        },
        "id": "cHVdqokizNiE",
        "outputId": "d5152ad1-3d6e-40fc-9f64-ae2d2053a77e"
      },
      "outputs": [
        {
          "data": {
            "image/png": "[encoded data removed]",
            "text/plain": [
              "<Figure size 800x500 with 1 Axes>"
            ]
          },
          "metadata": {},
          "output_type": "display_data"
        }
      ],
      "source": [
        "plt.figure(figsize=(8,5))\n",
        "plt.plot(train.Estadual, label = \"Train\")\n",
        "plt.plot(test.Estadual, label = \"Test\")\n",
        "plt.plot(prediction, label = \"Predicted\")\n",
        "plt.legend(loc='upper left')\n",
        "plt.show()"
      ]
    },
    {
      "cell_type": "code",
      "execution_count": 143,
      "metadata": {
        "colab": {
          "base_uri": "https://localhost:8080/",
          "height": 226
        },
        "id": "3IcOA6Zv1pDg",
        "outputId": "337cc647-63f0-472a-de38-b2a40779e526"
      },
      "outputs": [
        {
          "data": {
            "text/html": [
              "<div>\n",
              "<style scoped>\n",
              "    .dataframe tbody tr th:only-of-type {\n",
              "        vertical-align: middle;\n",
              "    }\n",
              "\n",
              "    .dataframe tbody tr th {\n",
              "        vertical-align: top;\n",
              "    }\n",
              "\n",
              "    .dataframe thead th {\n",
              "        text-align: right;\n",
              "    }\n",
              "</style>\n",
              "<table border=\"1\" class=\"dataframe\">\n",
              "  <thead>\n",
              "    <tr style=\"text-align: right;\">\n",
              "      <th></th>\n",
              "      <th>Data</th>\n",
              "      <th>Cultivo</th>\n",
              "      <th>Estadual</th>\n",
              "      <th>País</th>\n",
              "      <th>Id</th>\n",
              "      <th>Último</th>\n",
              "      <th>Abertura</th>\n",
              "      <th>Máxima</th>\n",
              "      <th>Mínima</th>\n",
              "      <th>USD</th>\n",
              "      <th>Precipitacao</th>\n",
              "      <th>Temperatura</th>\n",
              "      <th>lag_Estadual</th>\n",
              "      <th>predict_Estadual</th>\n",
              "    </tr>\n",
              "  </thead>\n",
              "  <tbody>\n",
              "    <tr>\n",
              "      <th>196</th>\n",
              "      <td>2020-08-01</td>\n",
              "      <td>Milho</td>\n",
              "      <td>45.2704</td>\n",
              "      <td>45.8405</td>\n",
              "      <td>1</td>\n",
              "      <td>34850.0</td>\n",
              "      <td>31500.0</td>\n",
              "      <td>35300.0</td>\n",
              "      <td>30725.0</td>\n",
              "      <td>5.280191</td>\n",
              "      <td>33.0</td>\n",
              "      <td>26.7</td>\n",
              "      <td>41.5048</td>\n",
              "      <td>44.142485</td>\n",
              "    </tr>\n",
              "    <tr>\n",
              "      <th>197</th>\n",
              "      <td>2020-09-01</td>\n",
              "      <td>Milho</td>\n",
              "      <td>50.0149</td>\n",
              "      <td>51.5842</td>\n",
              "      <td>1</td>\n",
              "      <td>37900.0</td>\n",
              "      <td>34775.0</td>\n",
              "      <td>38275.0</td>\n",
              "      <td>34325.0</td>\n",
              "      <td>5.461233</td>\n",
              "      <td>33.0</td>\n",
              "      <td>26.7</td>\n",
              "      <td>45.2704</td>\n",
              "      <td>48.721330</td>\n",
              "    </tr>\n",
              "    <tr>\n",
              "      <th>198</th>\n",
              "      <td>2020-10-01</td>\n",
              "      <td>Milho</td>\n",
              "      <td>57.2360</td>\n",
              "      <td>60.4194</td>\n",
              "      <td>1</td>\n",
              "      <td>39850.0</td>\n",
              "      <td>37900.0</td>\n",
              "      <td>42225.0</td>\n",
              "      <td>37725.0</td>\n",
              "      <td>5.399486</td>\n",
              "      <td>33.0</td>\n",
              "      <td>26.7</td>\n",
              "      <td>50.0149</td>\n",
              "      <td>55.877656</td>\n",
              "    </tr>\n",
              "    <tr>\n",
              "      <th>199</th>\n",
              "      <td>2020-11-01</td>\n",
              "      <td>Milho</td>\n",
              "      <td>67.7848</td>\n",
              "      <td>72.0206</td>\n",
              "      <td>1</td>\n",
              "      <td>41975.0</td>\n",
              "      <td>39600.0</td>\n",
              "      <td>43050.0</td>\n",
              "      <td>39300.0</td>\n",
              "      <td>5.625790</td>\n",
              "      <td>33.0</td>\n",
              "      <td>26.7</td>\n",
              "      <td>57.2360</td>\n",
              "      <td>65.730530</td>\n",
              "    </tr>\n",
              "    <tr>\n",
              "      <th>200</th>\n",
              "      <td>2020-12-01</td>\n",
              "      <td>Milho</td>\n",
              "      <td>64.7903</td>\n",
              "      <td>69.2060</td>\n",
              "      <td>1</td>\n",
              "      <td>48400.0</td>\n",
              "      <td>42000.0</td>\n",
              "      <td>48575.0</td>\n",
              "      <td>40900.0</td>\n",
              "      <td>5.417835</td>\n",
              "      <td>33.0</td>\n",
              "      <td>26.7</td>\n",
              "      <td>67.7848</td>\n",
              "      <td>64.456215</td>\n",
              "    </tr>\n",
              "  </tbody>\n",
              "</table>\n",
              "</div>"
            ],
            "text/plain": [
              "          Data Cultivo  Estadual     País  Id   Último  Abertura   Máxima  \\\n",
              "196 2020-08-01   Milho   45.2704  45.8405   1  34850.0   31500.0  35300.0   \n",
              "197 2020-09-01   Milho   50.0149  51.5842   1  37900.0   34775.0  38275.0   \n",
              "198 2020-10-01   Milho   57.2360  60.4194   1  39850.0   37900.0  42225.0   \n",
              "199 2020-11-01   Milho   67.7848  72.0206   1  41975.0   39600.0  43050.0   \n",
              "200 2020-12-01   Milho   64.7903  69.2060   1  48400.0   42000.0  48575.0   \n",
              "\n",
              "      Mínima       USD  Precipitacao  Temperatura  lag_Estadual  \\\n",
              "196  30725.0  5.280191          33.0         26.7       41.5048   \n",
              "197  34325.0  5.461233          33.0         26.7       45.2704   \n",
              "198  37725.0  5.399486          33.0         26.7       50.0149   \n",
              "199  39300.0  5.625790          33.0         26.7       57.2360   \n",
              "200  40900.0  5.417835          33.0         26.7       67.7848   \n",
              "\n",
              "     predict_Estadual  \n",
              "196         44.142485  \n",
              "197         48.721330  \n",
              "198         55.877656  \n",
              "199         65.730530  \n",
              "200         64.456215  "
            ]
          },
          "execution_count": 143,
          "metadata": {},
          "output_type": "execute_result"
        }
      ],
      "source": [
        "test = pd.DataFrame(test)\n",
        "test[\"predict_Estadual\"] = prediction['predicted_Estadual']\n",
        "test.head()"
      ]
    },
    {
      "cell_type": "code",
      "execution_count": 146,
      "metadata": {},
      "outputs": [],
      "source": [
        "output_arima = pd.concat([train, test], ignore_index=True)\n",
        "output_arima[\"model\"] = \"ARIMA\"\n",
        "output_arima.to_csv(\"Milho_Resultados_ARIMA.csv\", index=False, sep=',')"
      ]
    },
    {
      "cell_type": "code",
      "execution_count": 43,
      "metadata": {
        "colab": {
          "base_uri": "https://localhost:8080/"
        },
        "id": "_sYUvxyiOZzD",
        "outputId": "470d6e93-7b8a-45cb-df74-f45b7a2f7ad6"
      },
      "outputs": [
        {
          "name": "stdout",
          "output_type": "stream",
          "text": [
            "MAE: 4.424606110083662\n",
            "RMSE: 5.47067492606383\n",
            "MAPE: 0.03210967260751286\n",
            "R-Squared: 0.9417311411382636\n"
          ]
        }
      ],
      "source": [
        "evaluate_model(test[\"Estadual\"], test[\"predict_Estadual\"])"
      ]
    },
    {
      "cell_type": "code",
      "execution_count": 92,
      "metadata": {},
      "outputs": [],
      "source": [
        "expanded_df = pd.read_csv(\"../prophet/expanded_df_milho.csv\", sep=\";\")\n",
        "expanded_df.rename(columns={\"ds\":\"Data\"}, inplace=True)"
      ]
    },
    {
      "cell_type": "code",
      "execution_count": 93,
      "metadata": {},
      "outputs": [],
      "source": [
        "real_data = df[['Data', 'USD', 'País', 'Último', 'Máxima', 'lag_Estadual']].copy()\n",
        "final_date = df[\"Data\"][-1:]\n",
        "predicted_data = expanded_df[['Data', 'USD', 'País', 'Último', 'Máxima', 'lag_Estadual']][len(train)+len(test):]\n",
        "\n",
        "real_data_2 = pd.concat([real_data, predicted_data], ignore_index=True)"
      ]
    },
    {
      "cell_type": "code",
      "execution_count": 95,
      "metadata": {},
      "outputs": [
        {
          "data": {
            "text/html": [
              "<div>\n",
              "<style scoped>\n",
              "    .dataframe tbody tr th:only-of-type {\n",
              "        vertical-align: middle;\n",
              "    }\n",
              "\n",
              "    .dataframe tbody tr th {\n",
              "        vertical-align: top;\n",
              "    }\n",
              "\n",
              "    .dataframe thead th {\n",
              "        text-align: right;\n",
              "    }\n",
              "</style>\n",
              "<table border=\"1\" class=\"dataframe\">\n",
              "  <thead>\n",
              "    <tr style=\"text-align: right;\">\n",
              "      <th></th>\n",
              "      <th>Data</th>\n",
              "      <th>USD</th>\n",
              "      <th>País</th>\n",
              "      <th>Último</th>\n",
              "      <th>Máxima</th>\n",
              "      <th>lag_Estadual</th>\n",
              "    </tr>\n",
              "  </thead>\n",
              "  <tbody>\n",
              "    <tr>\n",
              "      <th>0</th>\n",
              "      <td>2020-08-01 00:00:00</td>\n",
              "      <td>5.280191</td>\n",
              "      <td>45.8405</td>\n",
              "      <td>34850.0</td>\n",
              "      <td>35300.0</td>\n",
              "      <td>41.5048</td>\n",
              "    </tr>\n",
              "    <tr>\n",
              "      <th>1</th>\n",
              "      <td>2020-09-01 00:00:00</td>\n",
              "      <td>5.461233</td>\n",
              "      <td>51.5842</td>\n",
              "      <td>37900.0</td>\n",
              "      <td>38275.0</td>\n",
              "      <td>45.2704</td>\n",
              "    </tr>\n",
              "    <tr>\n",
              "      <th>2</th>\n",
              "      <td>2020-10-01 00:00:00</td>\n",
              "      <td>5.399486</td>\n",
              "      <td>60.4194</td>\n",
              "      <td>39850.0</td>\n",
              "      <td>42225.0</td>\n",
              "      <td>50.0149</td>\n",
              "    </tr>\n",
              "    <tr>\n",
              "      <th>3</th>\n",
              "      <td>2020-11-01 00:00:00</td>\n",
              "      <td>5.625790</td>\n",
              "      <td>72.0206</td>\n",
              "      <td>41975.0</td>\n",
              "      <td>43050.0</td>\n",
              "      <td>57.2360</td>\n",
              "    </tr>\n",
              "    <tr>\n",
              "      <th>4</th>\n",
              "      <td>2020-12-01 00:00:00</td>\n",
              "      <td>5.417835</td>\n",
              "      <td>69.2060</td>\n",
              "      <td>48400.0</td>\n",
              "      <td>48575.0</td>\n",
              "      <td>67.7848</td>\n",
              "    </tr>\n",
              "  </tbody>\n",
              "</table>\n",
              "</div>"
            ],
            "text/plain": [
              "                  Data       USD     País   Último   Máxima  lag_Estadual\n",
              "0  2020-08-01 00:00:00  5.280191  45.8405  34850.0  35300.0       41.5048\n",
              "1  2020-09-01 00:00:00  5.461233  51.5842  37900.0  38275.0       45.2704\n",
              "2  2020-10-01 00:00:00  5.399486  60.4194  39850.0  42225.0       50.0149\n",
              "3  2020-11-01 00:00:00  5.625790  72.0206  41975.0  43050.0       57.2360\n",
              "4  2020-12-01 00:00:00  5.417835  69.2060  48400.0  48575.0       67.7848"
            ]
          },
          "execution_count": 95,
          "metadata": {},
          "output_type": "execute_result"
        }
      ],
      "source": [
        "test_2 = real_data_2[['Data', 'USD', 'País', 'Último', 'Máxima', 'lag_Estadual']][train_size:].reset_index(drop=True)\n",
        "test_2.head()"
      ]
    },
    {
      "cell_type": "code",
      "execution_count": 120,
      "metadata": {},
      "outputs": [],
      "source": [
        "# model_fit = arima_model.fit(y=train[\"Estadual\"])\n",
        "forecast = arima_model.predict(n_periods=len(test)+24)"
      ]
    },
    {
      "cell_type": "code",
      "execution_count": 125,
      "metadata": {},
      "outputs": [
        {
          "ename": "DTypePromotionError",
          "evalue": "The DType <class 'numpy.dtypes.DateTime64DType'> could not be promoted by <class 'numpy.dtypes.Float64DType'>. This means that no common DType exists for the given inputs. For example they cannot be stored in a single array unless the dtype is `object`. The full list of DTypes is: (<class 'numpy.dtypes.DateTime64DType'>, <class 'numpy.dtypes.Float64DType'>, <class 'numpy.dtypes.Float64DType'>, <class 'numpy.dtypes.Float64DType'>, <class 'numpy.dtypes.Float64DType'>, <class 'numpy.dtypes.Float64DType'>)",
          "output_type": "error",
          "traceback": [
            "\u001b[1;31m---------------------------------------------------------------------------\u001b[0m",
            "\u001b[1;31mDTypePromotionError\u001b[0m                       Traceback (most recent call last)",
            "Cell \u001b[1;32mIn[125], line 1\u001b[0m\n\u001b[1;32m----> 1\u001b[0m \u001b[43marima_model\u001b[49m\u001b[38;5;241;43m.\u001b[39;49m\u001b[43mfit\u001b[49m\u001b[43m(\u001b[49m\u001b[43mreal_data\u001b[49m\u001b[43m)\u001b[49m\n",
            "File \u001b[1;32m~\\AppData\\Roaming\\Python\\Python312\\site-packages\\pmdarima\\arima\\arima.py:566\u001b[0m, in \u001b[0;36mARIMA.fit\u001b[1;34m(self, y, X, **fit_args)\u001b[0m\n\u001b[0;32m    543\u001b[0m \u001b[38;5;28;01mdef\u001b[39;00m \u001b[38;5;21mfit\u001b[39m(\u001b[38;5;28mself\u001b[39m, y, X\u001b[38;5;241m=\u001b[39m\u001b[38;5;28;01mNone\u001b[39;00m, \u001b[38;5;241m*\u001b[39m\u001b[38;5;241m*\u001b[39mfit_args):\n\u001b[0;32m    544\u001b[0m \u001b[38;5;250m    \u001b[39m\u001b[38;5;124;03m\"\"\"Fit an ARIMA to a vector, ``y``, of observations with an\u001b[39;00m\n\u001b[0;32m    545\u001b[0m \u001b[38;5;124;03m    optional matrix of ``X`` variables.\u001b[39;00m\n\u001b[0;32m    546\u001b[0m \n\u001b[1;32m   (...)\u001b[0m\n\u001b[0;32m    564\u001b[0m \u001b[38;5;124;03m        Any keyword arguments to pass to the statsmodels ARIMA fit.\u001b[39;00m\n\u001b[0;32m    565\u001b[0m \u001b[38;5;124;03m    \"\"\"\u001b[39;00m\n\u001b[1;32m--> 566\u001b[0m     y \u001b[38;5;241m=\u001b[39m \u001b[43mcheck_endog\u001b[49m\u001b[43m(\u001b[49m\u001b[43my\u001b[49m\u001b[43m,\u001b[49m\u001b[43m \u001b[49m\u001b[43mdtype\u001b[49m\u001b[38;5;241;43m=\u001b[39;49m\u001b[43mDTYPE\u001b[49m\u001b[43m,\u001b[49m\u001b[43m \u001b[49m\u001b[43mpreserve_series\u001b[49m\u001b[38;5;241;43m=\u001b[39;49m\u001b[38;5;28;43;01mTrue\u001b[39;49;00m\u001b[43m)\u001b[49m\n\u001b[0;32m    567\u001b[0m     n_samples \u001b[38;5;241m=\u001b[39m y\u001b[38;5;241m.\u001b[39mshape[\u001b[38;5;241m0\u001b[39m]\n\u001b[0;32m    569\u001b[0m     \u001b[38;5;66;03m# See issue 499\u001b[39;00m\n",
            "File \u001b[1;32m~\\AppData\\Roaming\\Python\\Python312\\site-packages\\pmdarima\\utils\\array.py:179\u001b[0m, in \u001b[0;36mcheck_endog\u001b[1;34m(y, dtype, copy, force_all_finite, preserve_series)\u001b[0m\n\u001b[0;32m    141\u001b[0m \u001b[38;5;28;01mdef\u001b[39;00m \u001b[38;5;21mcheck_endog\u001b[39m(\n\u001b[0;32m    142\u001b[0m     y,\n\u001b[0;32m    143\u001b[0m     dtype\u001b[38;5;241m=\u001b[39mDTYPE,\n\u001b[1;32m   (...)\u001b[0m\n\u001b[0;32m    146\u001b[0m     preserve_series\u001b[38;5;241m=\u001b[39m\u001b[38;5;28;01mTrue\u001b[39;00m,\n\u001b[0;32m    147\u001b[0m ):\n\u001b[0;32m    148\u001b[0m \u001b[38;5;250m    \u001b[39m\u001b[38;5;124;03m\"\"\"Wrapper for ``check_array`` and ``column_or_1d`` from sklearn\u001b[39;00m\n\u001b[0;32m    149\u001b[0m \n\u001b[0;32m    150\u001b[0m \u001b[38;5;124;03m    Parameters\u001b[39;00m\n\u001b[1;32m   (...)\u001b[0m\n\u001b[0;32m    177\u001b[0m \u001b[38;5;124;03m        A 1d numpy ndarray\u001b[39;00m\n\u001b[0;32m    178\u001b[0m \u001b[38;5;124;03m    \"\"\"\u001b[39;00m\n\u001b[1;32m--> 179\u001b[0m     endog \u001b[38;5;241m=\u001b[39m \u001b[43mskval\u001b[49m\u001b[38;5;241;43m.\u001b[39;49m\u001b[43mcheck_array\u001b[49m\u001b[43m(\u001b[49m\n\u001b[0;32m    180\u001b[0m \u001b[43m        \u001b[49m\u001b[43my\u001b[49m\u001b[43m,\u001b[49m\n\u001b[0;32m    181\u001b[0m \u001b[43m        \u001b[49m\u001b[43mensure_2d\u001b[49m\u001b[38;5;241;43m=\u001b[39;49m\u001b[38;5;28;43;01mFalse\u001b[39;49;00m\u001b[43m,\u001b[49m\n\u001b[0;32m    182\u001b[0m \u001b[43m        \u001b[49m\u001b[43mforce_all_finite\u001b[49m\u001b[38;5;241;43m=\u001b[39;49m\u001b[43mforce_all_finite\u001b[49m\u001b[43m,\u001b[49m\n\u001b[0;32m    183\u001b[0m \u001b[43m        \u001b[49m\u001b[43mcopy\u001b[49m\u001b[38;5;241;43m=\u001b[39;49m\u001b[43mcopy\u001b[49m\u001b[43m,\u001b[49m\n\u001b[0;32m    184\u001b[0m \u001b[43m        \u001b[49m\u001b[43mdtype\u001b[49m\u001b[38;5;241;43m=\u001b[39;49m\u001b[43mdtype\u001b[49m\u001b[43m,\u001b[49m\n\u001b[0;32m    185\u001b[0m \u001b[43m    \u001b[49m\u001b[43m)\u001b[49m\n\u001b[0;32m    187\u001b[0m     endog \u001b[38;5;241m=\u001b[39m skval\u001b[38;5;241m.\u001b[39mcolumn_or_1d(endog)\n\u001b[0;32m    188\u001b[0m     \u001b[38;5;28;01mif\u001b[39;00m \u001b[38;5;129;01mnot\u001b[39;00m preserve_series:\n",
            "File \u001b[1;32m~\\AppData\\Roaming\\Python\\Python312\\site-packages\\sklearn\\utils\\validation.py:887\u001b[0m, in \u001b[0;36mcheck_array\u001b[1;34m(array, accept_sparse, accept_large_sparse, dtype, order, copy, force_writeable, force_all_finite, ensure_2d, allow_nd, ensure_min_samples, ensure_min_features, estimator, input_name)\u001b[0m\n\u001b[0;32m    883\u001b[0m pandas_requires_conversion \u001b[38;5;241m=\u001b[39m \u001b[38;5;28many\u001b[39m(\n\u001b[0;32m    884\u001b[0m     _pandas_dtype_needs_early_conversion(i) \u001b[38;5;28;01mfor\u001b[39;00m i \u001b[38;5;129;01min\u001b[39;00m dtypes_orig\n\u001b[0;32m    885\u001b[0m )\n\u001b[0;32m    886\u001b[0m \u001b[38;5;28;01mif\u001b[39;00m \u001b[38;5;28mall\u001b[39m(\u001b[38;5;28misinstance\u001b[39m(dtype_iter, np\u001b[38;5;241m.\u001b[39mdtype) \u001b[38;5;28;01mfor\u001b[39;00m dtype_iter \u001b[38;5;129;01min\u001b[39;00m dtypes_orig):\n\u001b[1;32m--> 887\u001b[0m     dtype_orig \u001b[38;5;241m=\u001b[39m \u001b[43mnp\u001b[49m\u001b[38;5;241;43m.\u001b[39;49m\u001b[43mresult_type\u001b[49m\u001b[43m(\u001b[49m\u001b[38;5;241;43m*\u001b[39;49m\u001b[43mdtypes_orig\u001b[49m\u001b[43m)\u001b[49m\n\u001b[0;32m    888\u001b[0m \u001b[38;5;28;01melif\u001b[39;00m pandas_requires_conversion \u001b[38;5;129;01mand\u001b[39;00m \u001b[38;5;28many\u001b[39m(d \u001b[38;5;241m==\u001b[39m \u001b[38;5;28mobject\u001b[39m \u001b[38;5;28;01mfor\u001b[39;00m d \u001b[38;5;129;01min\u001b[39;00m dtypes_orig):\n\u001b[0;32m    889\u001b[0m     \u001b[38;5;66;03m# Force object if any of the dtypes is an object\u001b[39;00m\n\u001b[0;32m    890\u001b[0m     dtype_orig \u001b[38;5;241m=\u001b[39m \u001b[38;5;28mobject\u001b[39m\n",
            "\u001b[1;31mDTypePromotionError\u001b[0m: The DType <class 'numpy.dtypes.DateTime64DType'> could not be promoted by <class 'numpy.dtypes.Float64DType'>. This means that no common DType exists for the given inputs. For example they cannot be stored in a single array unless the dtype is `object`. The full list of DTypes is: (<class 'numpy.dtypes.DateTime64DType'>, <class 'numpy.dtypes.Float64DType'>, <class 'numpy.dtypes.Float64DType'>, <class 'numpy.dtypes.Float64DType'>, <class 'numpy.dtypes.Float64DType'>, <class 'numpy.dtypes.Float64DType'>)"
          ]
        }
      ],
      "source": [
        "arima_model.fit(real_data)"
      ]
    },
    {
      "cell_type": "code",
      "execution_count": 123,
      "metadata": {},
      "outputs": [
        {
          "data": {
            "text/plain": [
              "196    41.447938\n",
              "197    41.391154\n",
              "198    41.334447\n",
              "199    41.277819\n",
              "200    41.221268\n",
              "         ...    \n",
              "265    37.706878\n",
              "266    37.655219\n",
              "267    37.603631\n",
              "268    37.552113\n",
              "269    37.500667\n",
              "Length: 74, dtype: float64"
            ]
          },
          "execution_count": 123,
          "metadata": {},
          "output_type": "execute_result"
        }
      ],
      "source": [
        "forecast"
      ]
    },
    {
      "cell_type": "code",
      "execution_count": 122,
      "metadata": {},
      "outputs": [
        {
          "ename": "TypeError",
          "evalue": "DataFrame.__init__() got an unexpected keyword argument 'X'",
          "output_type": "error",
          "traceback": [
            "\u001b[1;31m---------------------------------------------------------------------------\u001b[0m",
            "\u001b[1;31mTypeError\u001b[0m                                 Traceback (most recent call last)",
            "Cell \u001b[1;32mIn[122], line 1\u001b[0m\n\u001b[1;32m----> 1\u001b[0m prediction \u001b[38;5;241m=\u001b[39m \u001b[43mpd\u001b[49m\u001b[38;5;241;43m.\u001b[39;49m\u001b[43mDataFrame\u001b[49m\u001b[43m(\u001b[49m\u001b[43mforecast\u001b[49m\u001b[43m,\u001b[49m\u001b[43m \u001b[49m\u001b[43mX\u001b[49m\u001b[38;5;241;43m=\u001b[39;49m\u001b[43mtest_2\u001b[49m\u001b[43m[\u001b[49m\u001b[43m[\u001b[49m\u001b[38;5;124;43m\"\u001b[39;49m\u001b[38;5;124;43mUSD\u001b[39;49m\u001b[38;5;124;43m\"\u001b[39;49m\u001b[43m,\u001b[49m\u001b[43m \u001b[49m\u001b[38;5;124;43m\"\u001b[39;49m\u001b[38;5;124;43mPaís\u001b[39;49m\u001b[38;5;124;43m\"\u001b[39;49m\u001b[43m,\u001b[49m\u001b[43m \u001b[49m\u001b[38;5;124;43m\"\u001b[39;49m\u001b[38;5;124;43mÚltimo\u001b[39;49m\u001b[38;5;124;43m\"\u001b[39;49m\u001b[43m,\u001b[49m\u001b[43m \u001b[49m\u001b[38;5;124;43m\"\u001b[39;49m\u001b[38;5;124;43mMáxima\u001b[39;49m\u001b[38;5;124;43m\"\u001b[39;49m\u001b[43m,\u001b[49m\u001b[43m \u001b[49m\u001b[38;5;124;43m\"\u001b[39;49m\u001b[38;5;124;43mlag_Estadual\u001b[39;49m\u001b[38;5;124;43m\"\u001b[39;49m\u001b[43m]\u001b[49m\u001b[43m]\u001b[49m\u001b[43m)\u001b[49m\n\u001b[0;32m      2\u001b[0m                           \u001b[38;5;66;03m# index=test.index)\u001b[39;00m\n\u001b[0;32m      3\u001b[0m prediction\u001b[38;5;241m.\u001b[39mcolumns \u001b[38;5;241m=\u001b[39m [\u001b[38;5;124m\"\u001b[39m\u001b[38;5;124mpredicted_Estadual\u001b[39m\u001b[38;5;124m\"\u001b[39m]\n",
            "\u001b[1;31mTypeError\u001b[0m: DataFrame.__init__() got an unexpected keyword argument 'X'"
          ]
        }
      ],
      "source": [
        "prediction = pd.DataFrame(arima_model.predict(n_periods=len(test_2), X=test_2[[\"USD\", \"País\", \"Último\", \"Máxima\", \"lag_Estadual\"]]),\n",
        "                          # index=test.index\n",
        "                          )\n",
        "prediction.columns = [\"predicted_Estadual\"]\n",
        "prediction.index = test.index"
      ]
    },
    {
      "cell_type": "code",
      "execution_count": 106,
      "metadata": {},
      "outputs": [
        {
          "data": {
            "image/png": "[encoded data removed]",
            "text/plain": [
              "<Figure size 1000x500 with 1 Axes>"
            ]
          },
          "metadata": {},
          "output_type": "display_data"
        }
      ],
      "source": [
        "test[\"Data\"] = test.index\n",
        "testing_dates = test_dates\n",
        "\n",
        "plot_predictions(testing_dates, test.Estadual, prediction.predicted_Estadual)"
      ]
    },
    {
      "cell_type": "markdown",
      "metadata": {
        "id": "qWx9LJyA5oNL"
      },
      "source": [
        "Não-estacionário para Estacionário\n"
      ]
    },
    {
      "cell_type": "code",
      "execution_count": 14,
      "metadata": {
        "colab": {
          "base_uri": "https://localhost:8080/",
          "height": 335
        },
        "id": "RawJii8JBRkC",
        "outputId": "26a1adf0-c951-419a-bb1e-ce979737585b"
      },
      "outputs": [
        {
          "data": {
            "text/plain": [
              "count    246.000000\n",
              "mean      31.304886\n",
              "std       20.691652\n",
              "min       10.865400\n",
              "25%       17.896250\n",
              "50%       22.633700\n",
              "75%       35.875350\n",
              "max       93.681500\n",
              "Name: Estadual, dtype: float64"
            ]
          },
          "execution_count": 14,
          "metadata": {},
          "output_type": "execute_result"
        }
      ],
      "source": [
        "teste = pd.Series(df[\"Estadual\"], name=\"Estadual\")\n",
        "teste.describe()"
      ]
    },
    {
      "cell_type": "code",
      "execution_count": 15,
      "metadata": {
        "colab": {
          "base_uri": "https://localhost:8080/",
          "height": 206
        },
        "id": "CtVrZmd9CeS4",
        "outputId": "187656ea-9518-457b-b322-70f9a260c3d8"
      },
      "outputs": [
        {
          "data": {
            "text/html": [
              "<div>\n",
              "<style scoped>\n",
              "    .dataframe tbody tr th:only-of-type {\n",
              "        vertical-align: middle;\n",
              "    }\n",
              "\n",
              "    .dataframe tbody tr th {\n",
              "        vertical-align: top;\n",
              "    }\n",
              "\n",
              "    .dataframe thead th {\n",
              "        text-align: right;\n",
              "    }\n",
              "</style>\n",
              "<table border=\"1\" class=\"dataframe\">\n",
              "  <thead>\n",
              "    <tr style=\"text-align: right;\">\n",
              "      <th></th>\n",
              "      <th>Data</th>\n",
              "      <th>Cultivo</th>\n",
              "      <th>Estadual</th>\n",
              "      <th>País</th>\n",
              "      <th>Id</th>\n",
              "      <th>Último</th>\n",
              "      <th>Abertura</th>\n",
              "      <th>Máxima</th>\n",
              "      <th>Mínima</th>\n",
              "    </tr>\n",
              "  </thead>\n",
              "  <tbody>\n",
              "    <tr>\n",
              "      <th>0</th>\n",
              "      <td>2004-03-01</td>\n",
              "      <td>Milho</td>\n",
              "      <td>16.9936</td>\n",
              "      <td>17.5722</td>\n",
              "      <td>1</td>\n",
              "      <td>32025.0</td>\n",
              "      <td>32500.0</td>\n",
              "      <td>34200.0</td>\n",
              "      <td>30300.0</td>\n",
              "    </tr>\n",
              "    <tr>\n",
              "      <th>1</th>\n",
              "      <td>2004-04-01</td>\n",
              "      <td>Milho</td>\n",
              "      <td>19.8861</td>\n",
              "      <td>19.4868</td>\n",
              "      <td>1</td>\n",
              "      <td>29975.0</td>\n",
              "      <td>32125.0</td>\n",
              "      <td>32650.0</td>\n",
              "      <td>28175.0</td>\n",
              "    </tr>\n",
              "    <tr>\n",
              "      <th>2</th>\n",
              "      <td>2004-05-01</td>\n",
              "      <td>Milho</td>\n",
              "      <td>19.7989</td>\n",
              "      <td>20.2459</td>\n",
              "      <td>1</td>\n",
              "      <td>26250.0</td>\n",
              "      <td>30500.0</td>\n",
              "      <td>32250.0</td>\n",
              "      <td>26000.0</td>\n",
              "    </tr>\n",
              "    <tr>\n",
              "      <th>3</th>\n",
              "      <td>2004-06-01</td>\n",
              "      <td>Milho</td>\n",
              "      <td>17.9299</td>\n",
              "      <td>19.0091</td>\n",
              "      <td>1</td>\n",
              "      <td>22550.0</td>\n",
              "      <td>26250.0</td>\n",
              "      <td>26425.0</td>\n",
              "      <td>22500.0</td>\n",
              "    </tr>\n",
              "    <tr>\n",
              "      <th>4</th>\n",
              "      <td>2004-07-01</td>\n",
              "      <td>Milho</td>\n",
              "      <td>16.4940</td>\n",
              "      <td>17.7122</td>\n",
              "      <td>1</td>\n",
              "      <td>23775.0</td>\n",
              "      <td>22550.0</td>\n",
              "      <td>24525.0</td>\n",
              "      <td>22500.0</td>\n",
              "    </tr>\n",
              "  </tbody>\n",
              "</table>\n",
              "</div>"
            ],
            "text/plain": [
              "         Data Cultivo  Estadual     País  Id   Último  Abertura   Máxima  \\\n",
              "0  2004-03-01   Milho   16.9936  17.5722   1  32025.0   32500.0  34200.0   \n",
              "1  2004-04-01   Milho   19.8861  19.4868   1  29975.0   32125.0  32650.0   \n",
              "2  2004-05-01   Milho   19.7989  20.2459   1  26250.0   30500.0  32250.0   \n",
              "3  2004-06-01   Milho   17.9299  19.0091   1  22550.0   26250.0  26425.0   \n",
              "4  2004-07-01   Milho   16.4940  17.7122   1  23775.0   22550.0  24525.0   \n",
              "\n",
              "    Mínima  \n",
              "0  30300.0  \n",
              "1  28175.0  \n",
              "2  26000.0  \n",
              "3  22500.0  \n",
              "4  22500.0  "
            ]
          },
          "execution_count": 15,
          "metadata": {},
          "output_type": "execute_result"
        }
      ],
      "source": [
        "df = pd.read_csv(\"../../data library/Milho_v1.csv\", sep = \";\")\n",
        "df = df.sort_values(by='Data').reset_index(drop=True)\n",
        "# df.set_index(\"Data\", inplace = True)\n",
        "df.head()"
      ]
    },
    {
      "cell_type": "code",
      "execution_count": 16,
      "metadata": {
        "id": "HBdHZ2BoCwQO"
      },
      "outputs": [],
      "source": [
        "df['Data'] = pd.to_datetime(df['Data'])\n",
        "df[\"USD\"] = df_usd[\"USD\"]\n",
        "df = df.set_index('Data')\n",
        "monthly_summary = df.Estadual.resample('ME').mean().ffill()"
      ]
    },
    {
      "cell_type": "code",
      "execution_count": 17,
      "metadata": {
        "colab": {
          "base_uri": "https://localhost:8080/",
          "height": 458
        },
        "id": "MZwqXYGRBg2F",
        "outputId": "ad7ef59e-ea4e-487c-b83a-2e66704e0346"
      },
      "outputs": [
        {
          "data": {
            "image/png": "[encoded data removed]",
            "text/plain": [
              "<Figure size 1500x600 with 4 Axes>"
            ]
          },
          "metadata": {},
          "output_type": "display_data"
        }
      ],
      "source": [
        "from statsmodels.tsa.seasonal import STL\n",
        "\n",
        "stl = STL(monthly_summary, seasonal=13)\n",
        "res = stl.fit()\n",
        "fig = res.plot()"
      ]
    },
    {
      "cell_type": "code",
      "execution_count": 18,
      "metadata": {
        "id": "OFfzGywV_juZ"
      },
      "outputs": [],
      "source": [
        "#Aplicanto a função Log para converter os dados para estacionários\n",
        "\n",
        "df_log=np.sqrt(df['Estadual'])\n",
        "df_diff=df_log.diff().dropna()"
      ]
    },
    {
      "cell_type": "code",
      "execution_count": 19,
      "metadata": {
        "colab": {
          "base_uri": "https://localhost:8080/"
        },
        "id": "QvcGTAwC_u8Y",
        "outputId": "2a356327-c74f-4a59-96ec-2e1bc4f2197d"
      },
      "outputs": [
        {
          "name": "stdout",
          "output_type": "stream",
          "text": [
            "    Augmented Dickey-Fuller Test on \"Estadual\" \n",
            "    -----------------------------------------------\n",
            "ADF Statistic: -4.152277\n",
            "p-value: 0.000793\n",
            "Critical Values:\n",
            "\t1%: -3.459\n",
            "\t5%: -2.874\n",
            "\t10%: -2.573\n",
            "\u001b[32mStationary\u001b[0m\n"
          ]
        }
      ],
      "source": [
        "# from pmdarima.arima import ADFTest\n",
        "\n",
        "# adf_test = ADFTest(alpha = 0.05)\n",
        "# adf_test.should_diff(df_diff)\n",
        "\n",
        "##Dado Estacionário > I = 1\n",
        "\n",
        "check_stationarity(df_diff, name=df_diff.name)"
      ]
    },
    {
      "cell_type": "code",
      "execution_count": 20,
      "metadata": {
        "colab": {
          "base_uri": "https://localhost:8080/",
          "height": 237
        },
        "id": "vL5LK4Gahzy6",
        "outputId": "549490d6-a934-49dc-c647-a2ab9098cc7d"
      },
      "outputs": [
        {
          "data": {
            "text/html": [
              "<div>\n",
              "<style scoped>\n",
              "    .dataframe tbody tr th:only-of-type {\n",
              "        vertical-align: middle;\n",
              "    }\n",
              "\n",
              "    .dataframe tbody tr th {\n",
              "        vertical-align: top;\n",
              "    }\n",
              "\n",
              "    .dataframe thead th {\n",
              "        text-align: right;\n",
              "    }\n",
              "</style>\n",
              "<table border=\"1\" class=\"dataframe\">\n",
              "  <thead>\n",
              "    <tr style=\"text-align: right;\">\n",
              "      <th></th>\n",
              "      <th>Cultivo</th>\n",
              "      <th>Estadual</th>\n",
              "      <th>País</th>\n",
              "      <th>Id</th>\n",
              "      <th>Último</th>\n",
              "      <th>Abertura</th>\n",
              "      <th>Máxima</th>\n",
              "      <th>Mínima</th>\n",
              "      <th>USD</th>\n",
              "    </tr>\n",
              "    <tr>\n",
              "      <th>Data</th>\n",
              "      <th></th>\n",
              "      <th></th>\n",
              "      <th></th>\n",
              "      <th></th>\n",
              "      <th></th>\n",
              "      <th></th>\n",
              "      <th></th>\n",
              "      <th></th>\n",
              "      <th></th>\n",
              "    </tr>\n",
              "  </thead>\n",
              "  <tbody>\n",
              "    <tr>\n",
              "      <th>2004-03-01</th>\n",
              "      <td>Milho</td>\n",
              "      <td>0.337054</td>\n",
              "      <td>17.5722</td>\n",
              "      <td>1</td>\n",
              "      <td>32025.0</td>\n",
              "      <td>32500.0</td>\n",
              "      <td>34200.0</td>\n",
              "      <td>30300.0</td>\n",
              "      <td>2.905457</td>\n",
              "    </tr>\n",
              "    <tr>\n",
              "      <th>2004-04-01</th>\n",
              "      <td>Milho</td>\n",
              "      <td>0.337054</td>\n",
              "      <td>19.4868</td>\n",
              "      <td>1</td>\n",
              "      <td>29975.0</td>\n",
              "      <td>32125.0</td>\n",
              "      <td>32650.0</td>\n",
              "      <td>28175.0</td>\n",
              "      <td>2.905985</td>\n",
              "    </tr>\n",
              "    <tr>\n",
              "      <th>2004-05-01</th>\n",
              "      <td>Milho</td>\n",
              "      <td>-0.009788</td>\n",
              "      <td>20.2459</td>\n",
              "      <td>1</td>\n",
              "      <td>26250.0</td>\n",
              "      <td>30500.0</td>\n",
              "      <td>32250.0</td>\n",
              "      <td>26000.0</td>\n",
              "      <td>3.100419</td>\n",
              "    </tr>\n",
              "    <tr>\n",
              "      <th>2004-06-01</th>\n",
              "      <td>Milho</td>\n",
              "      <td>-0.215224</td>\n",
              "      <td>19.0091</td>\n",
              "      <td>1</td>\n",
              "      <td>22550.0</td>\n",
              "      <td>26250.0</td>\n",
              "      <td>26425.0</td>\n",
              "      <td>22500.0</td>\n",
              "      <td>3.129148</td>\n",
              "    </tr>\n",
              "    <tr>\n",
              "      <th>2004-07-01</th>\n",
              "      <td>Milho</td>\n",
              "      <td>-0.173091</td>\n",
              "      <td>17.7122</td>\n",
              "      <td>1</td>\n",
              "      <td>23775.0</td>\n",
              "      <td>22550.0</td>\n",
              "      <td>24525.0</td>\n",
              "      <td>22500.0</td>\n",
              "      <td>3.036777</td>\n",
              "    </tr>\n",
              "  </tbody>\n",
              "</table>\n",
              "</div>"
            ],
            "text/plain": [
              "           Cultivo  Estadual     País  Id   Último  Abertura   Máxima  \\\n",
              "Data                                                                    \n",
              "2004-03-01   Milho  0.337054  17.5722   1  32025.0   32500.0  34200.0   \n",
              "2004-04-01   Milho  0.337054  19.4868   1  29975.0   32125.0  32650.0   \n",
              "2004-05-01   Milho -0.009788  20.2459   1  26250.0   30500.0  32250.0   \n",
              "2004-06-01   Milho -0.215224  19.0091   1  22550.0   26250.0  26425.0   \n",
              "2004-07-01   Milho -0.173091  17.7122   1  23775.0   22550.0  24525.0   \n",
              "\n",
              "             Mínima       USD  \n",
              "Data                           \n",
              "2004-03-01  30300.0  2.905457  \n",
              "2004-04-01  28175.0  2.905985  \n",
              "2004-05-01  26000.0  3.100419  \n",
              "2004-06-01  22500.0  3.129148  \n",
              "2004-07-01  22500.0  3.036777  "
            ]
          },
          "execution_count": 20,
          "metadata": {},
          "output_type": "execute_result"
        }
      ],
      "source": [
        "df[\"Estadual\"] = df_diff\n",
        "df = df.bfill()\n",
        "df.head()"
      ]
    },
    {
      "cell_type": "code",
      "execution_count": 21,
      "metadata": {
        "id": "woWASS4nF5gP"
      },
      "outputs": [],
      "source": [
        "train_size = int(len(df.Estadual.dropna()) * 0.75)\n",
        "\n",
        "train, test = df[0:train_size], df[train_size:len(df)]\n",
        "# train, test = df.Estadual.dropna()[0:size], df.Estadual.dropna()[size:len(df.Estadual.dropna())]\n",
        "# test = test.reset_index()['Estadual']\n",
        "history = [x for x in train.Estadual]\n",
        "predictions = []"
      ]
    },
    {
      "cell_type": "code",
      "execution_count": 22,
      "metadata": {
        "id": "xCJC1l0kAR0u"
      },
      "outputs": [],
      "source": [
        "arima_model = auto_arima(train.Estadual, X = train[[\"USD\", \"País\"]], start_p=0, d=1, start_q=0,\n",
        "                         max_p = 5, max_d = 5, max_q = 5,\n",
        "                         start_P = 0, D = 1, start_Q=5,\n",
        "                         max_P=5, max_D=5, max_Q=5,\n",
        "                         m=13, seasonal=True, error_action =\"warn\",\n",
        "                         Trace=True, random_state=20, n_fits=50)"
      ]
    },
    {
      "cell_type": "code",
      "execution_count": 23,
      "metadata": {
        "colab": {
          "base_uri": "https://localhost:8080/",
          "height": 590
        },
        "id": "ayUisxhREhMQ",
        "outputId": "c11e3125-8c12-4b91-cf9c-9b00193ef05b"
      },
      "outputs": [
        {
          "data": {
            "text/html": [
              "<table class=\"simpletable\">\n",
              "<caption>SARIMAX Results</caption>\n",
              "<tr>\n",
              "  <th>Dep. Variable:</th>                         <td>y</td>                      <th>  No. Observations:  </th>   <td>184</td>  \n",
              "</tr>\n",
              "<tr>\n",
              "  <th>Model:</th>           <td>SARIMAX(0, 1, 0)x(0, 1, [1, 2, 3, 4, 5], 13)</td> <th>  Log Likelihood     </th> <td>41.513</td> \n",
              "</tr>\n",
              "<tr>\n",
              "  <th>Date:</th>                          <td>Thu, 15 May 2025</td>               <th>  AIC                </th> <td>-67.025</td>\n",
              "</tr>\n",
              "<tr>\n",
              "  <th>Time:</th>                              <td>12:15:53</td>                   <th>  BIC                </th> <td>-41.939</td>\n",
              "</tr>\n",
              "<tr>\n",
              "  <th>Sample:</th>                                <td>0</td>                      <th>  HQIC               </th> <td>-56.846</td>\n",
              "</tr>\n",
              "<tr>\n",
              "  <th></th>                                    <td> - 184</td>                    <th>                     </th>    <td> </td>   \n",
              "</tr>\n",
              "<tr>\n",
              "  <th>Covariance Type:</th>                      <td>opg</td>                     <th>                     </th>    <td> </td>   \n",
              "</tr>\n",
              "</table>\n",
              "<table class=\"simpletable\">\n",
              "<tr>\n",
              "      <td></td>        <th>coef</th>     <th>std err</th>      <th>z</th>      <th>P>|z|</th>  <th>[0.025</th>    <th>0.975]</th>  \n",
              "</tr>\n",
              "<tr>\n",
              "  <th>USD</th>      <td>   -0.0526</td> <td>    0.149</td> <td>   -0.352</td> <td> 0.725</td> <td>   -0.345</td> <td>    0.240</td>\n",
              "</tr>\n",
              "<tr>\n",
              "  <th>País</th>     <td>    0.0544</td> <td>    0.010</td> <td>    5.486</td> <td> 0.000</td> <td>    0.035</td> <td>    0.074</td>\n",
              "</tr>\n",
              "<tr>\n",
              "  <th>ma.S.L13</th> <td>   -1.0335</td> <td>    0.112</td> <td>   -9.191</td> <td> 0.000</td> <td>   -1.254</td> <td>   -0.813</td>\n",
              "</tr>\n",
              "<tr>\n",
              "  <th>ma.S.L26</th> <td>    0.2039</td> <td>    0.127</td> <td>    1.605</td> <td> 0.109</td> <td>   -0.045</td> <td>    0.453</td>\n",
              "</tr>\n",
              "<tr>\n",
              "  <th>ma.S.L39</th> <td>   -0.1490</td> <td>    0.134</td> <td>   -1.112</td> <td> 0.266</td> <td>   -0.412</td> <td>    0.114</td>\n",
              "</tr>\n",
              "<tr>\n",
              "  <th>ma.S.L52</th> <td>   -0.0098</td> <td>    0.137</td> <td>   -0.072</td> <td> 0.943</td> <td>   -0.278</td> <td>    0.258</td>\n",
              "</tr>\n",
              "<tr>\n",
              "  <th>ma.S.L65</th> <td>    0.1182</td> <td>    0.145</td> <td>    0.818</td> <td> 0.413</td> <td>   -0.165</td> <td>    0.402</td>\n",
              "</tr>\n",
              "<tr>\n",
              "  <th>sigma2</th>   <td>    0.0312</td> <td>    0.004</td> <td>    8.681</td> <td> 0.000</td> <td>    0.024</td> <td>    0.038</td>\n",
              "</tr>\n",
              "</table>\n",
              "<table class=\"simpletable\">\n",
              "<tr>\n",
              "  <th>Ljung-Box (L1) (Q):</th>     <td>3.63</td> <th>  Jarque-Bera (JB):  </th> <td>0.47</td> \n",
              "</tr>\n",
              "<tr>\n",
              "  <th>Prob(Q):</th>                <td>0.06</td> <th>  Prob(JB):          </th> <td>0.79</td> \n",
              "</tr>\n",
              "<tr>\n",
              "  <th>Heteroskedasticity (H):</th> <td>1.77</td> <th>  Skew:              </th> <td>-0.07</td>\n",
              "</tr>\n",
              "<tr>\n",
              "  <th>Prob(H) (two-sided):</th>    <td>0.03</td> <th>  Kurtosis:          </th> <td>3.22</td> \n",
              "</tr>\n",
              "</table><br/><br/>Warnings:<br/>[1] Covariance matrix calculated using the outer product of gradients (complex-step)."
            ],
            "text/latex": [
              "\\begin{center}\n",
              "\\begin{tabular}{lclc}\n",
              "\\toprule\n",
              "\\textbf{Dep. Variable:}          &                      y                       & \\textbf{  No. Observations:  } &    184      \\\\\n",
              "\\textbf{Model:}                  & SARIMAX(0, 1, 0)x(0, 1, [1, 2, 3, 4, 5], 13) & \\textbf{  Log Likelihood     } &   41.513    \\\\\n",
              "\\textbf{Date:}                   &               Thu, 15 May 2025               & \\textbf{  AIC                } &  -67.025    \\\\\n",
              "\\textbf{Time:}                   &                   12:15:53                   & \\textbf{  BIC                } &  -41.939    \\\\\n",
              "\\textbf{Sample:}                 &                      0                       & \\textbf{  HQIC               } &  -56.846    \\\\\n",
              "\\textbf{}                        &                     - 184                    & \\textbf{                     } &             \\\\\n",
              "\\textbf{Covariance Type:}        &                     opg                      & \\textbf{                     } &             \\\\\n",
              "\\bottomrule\n",
              "\\end{tabular}\n",
              "\\begin{tabular}{lcccccc}\n",
              "                  & \\textbf{coef} & \\textbf{std err} & \\textbf{z} & \\textbf{P$> |$z$|$} & \\textbf{[0.025} & \\textbf{0.975]}  \\\\\n",
              "\\midrule\n",
              "\\textbf{USD}      &      -0.0526  &        0.149     &    -0.352  &         0.725        &       -0.345    &        0.240     \\\\\n",
              "\\textbf{País}     &       0.0544  &        0.010     &     5.486  &         0.000        &        0.035    &        0.074     \\\\\n",
              "\\textbf{ma.S.L13} &      -1.0335  &        0.112     &    -9.191  &         0.000        &       -1.254    &       -0.813     \\\\\n",
              "\\textbf{ma.S.L26} &       0.2039  &        0.127     &     1.605  &         0.109        &       -0.045    &        0.453     \\\\\n",
              "\\textbf{ma.S.L39} &      -0.1490  &        0.134     &    -1.112  &         0.266        &       -0.412    &        0.114     \\\\\n",
              "\\textbf{ma.S.L52} &      -0.0098  &        0.137     &    -0.072  &         0.943        &       -0.278    &        0.258     \\\\\n",
              "\\textbf{ma.S.L65} &       0.1182  &        0.145     &     0.818  &         0.413        &       -0.165    &        0.402     \\\\\n",
              "\\textbf{sigma2}   &       0.0312  &        0.004     &     8.681  &         0.000        &        0.024    &        0.038     \\\\\n",
              "\\bottomrule\n",
              "\\end{tabular}\n",
              "\\begin{tabular}{lclc}\n",
              "\\textbf{Ljung-Box (L1) (Q):}     & 3.63 & \\textbf{  Jarque-Bera (JB):  } &  0.47  \\\\\n",
              "\\textbf{Prob(Q):}                & 0.06 & \\textbf{  Prob(JB):          } &  0.79  \\\\\n",
              "\\textbf{Heteroskedasticity (H):} & 1.77 & \\textbf{  Skew:              } & -0.07  \\\\\n",
              "\\textbf{Prob(H) (two-sided):}    & 0.03 & \\textbf{  Kurtosis:          } &  3.22  \\\\\n",
              "\\bottomrule\n",
              "\\end{tabular}\n",
              "%\\caption{SARIMAX Results}\n",
              "\\end{center}\n",
              "\n",
              "Warnings: \\newline\n",
              " [1] Covariance matrix calculated using the outer product of gradients (complex-step)."
            ],
            "text/plain": [
              "<class 'statsmodels.iolib.summary.Summary'>\n",
              "\"\"\"\n",
              "                                            SARIMAX Results                                             \n",
              "========================================================================================================\n",
              "Dep. Variable:                                                y   No. Observations:                  184\n",
              "Model:             SARIMAX(0, 1, 0)x(0, 1, [1, 2, 3, 4, 5], 13)   Log Likelihood                  41.513\n",
              "Date:                                          Thu, 15 May 2025   AIC                            -67.025\n",
              "Time:                                                  12:15:53   BIC                            -41.939\n",
              "Sample:                                                       0   HQIC                           -56.846\n",
              "                                                          - 184                                         \n",
              "Covariance Type:                                            opg                                         \n",
              "==============================================================================\n",
              "                 coef    std err          z      P>|z|      [0.025      0.975]\n",
              "------------------------------------------------------------------------------\n",
              "USD           -0.0526      0.149     -0.352      0.725      -0.345       0.240\n",
              "País           0.0544      0.010      5.486      0.000       0.035       0.074\n",
              "ma.S.L13      -1.0335      0.112     -9.191      0.000      -1.254      -0.813\n",
              "ma.S.L26       0.2039      0.127      1.605      0.109      -0.045       0.453\n",
              "ma.S.L39      -0.1490      0.134     -1.112      0.266      -0.412       0.114\n",
              "ma.S.L52      -0.0098      0.137     -0.072      0.943      -0.278       0.258\n",
              "ma.S.L65       0.1182      0.145      0.818      0.413      -0.165       0.402\n",
              "sigma2         0.0312      0.004      8.681      0.000       0.024       0.038\n",
              "===================================================================================\n",
              "Ljung-Box (L1) (Q):                   3.63   Jarque-Bera (JB):                 0.47\n",
              "Prob(Q):                              0.06   Prob(JB):                         0.79\n",
              "Heteroskedasticity (H):               1.77   Skew:                            -0.07\n",
              "Prob(H) (two-sided):                  0.03   Kurtosis:                         3.22\n",
              "===================================================================================\n",
              "\n",
              "Warnings:\n",
              "[1] Covariance matrix calculated using the outer product of gradients (complex-step).\n",
              "\"\"\""
            ]
          },
          "execution_count": 23,
          "metadata": {},
          "output_type": "execute_result"
        }
      ],
      "source": [
        "arima_model.summary()"
      ]
    },
    {
      "cell_type": "code",
      "execution_count": 24,
      "metadata": {
        "colab": {
          "base_uri": "https://localhost:8080/",
          "height": 544
        },
        "id": "OhxvcsCuEjW_",
        "outputId": "509c4b2e-c01a-44ea-fe76-16fe96b001d2"
      },
      "outputs": [
        {
          "name": "stderr",
          "output_type": "stream",
          "text": [
            "C:\\Users\\hamatsu\\AppData\\Roaming\\Python\\Python312\\site-packages\\statsmodels\\tsa\\base\\tsa_model.py:837: ValueWarning: No supported index is available. Prediction results will be given with an integer index beginning at `start`.\n",
            "  return get_prediction_index(\n",
            "C:\\Users\\hamatsu\\AppData\\Roaming\\Python\\Python312\\site-packages\\statsmodels\\tsa\\base\\tsa_model.py:837: FutureWarning: No supported index is available. In the next version, calling this method in a model without a supported index will result in an exception.\n",
            "  return get_prediction_index(\n"
          ]
        },
        {
          "data": {
            "text/html": [
              "<div>\n",
              "<style scoped>\n",
              "    .dataframe tbody tr th:only-of-type {\n",
              "        vertical-align: middle;\n",
              "    }\n",
              "\n",
              "    .dataframe tbody tr th {\n",
              "        vertical-align: top;\n",
              "    }\n",
              "\n",
              "    .dataframe thead th {\n",
              "        text-align: right;\n",
              "    }\n",
              "</style>\n",
              "<table border=\"1\" class=\"dataframe\">\n",
              "  <thead>\n",
              "    <tr style=\"text-align: right;\">\n",
              "      <th></th>\n",
              "      <th>predicted_Estadual</th>\n",
              "    </tr>\n",
              "    <tr>\n",
              "      <th>Data</th>\n",
              "      <th></th>\n",
              "    </tr>\n",
              "  </thead>\n",
              "  <tbody>\n",
              "    <tr>\n",
              "      <th>2019-08-01</th>\n",
              "      <td>0.056385</td>\n",
              "    </tr>\n",
              "    <tr>\n",
              "      <th>2019-09-01</th>\n",
              "      <td>-0.072381</td>\n",
              "    </tr>\n",
              "    <tr>\n",
              "      <th>2019-10-01</th>\n",
              "      <td>0.012162</td>\n",
              "    </tr>\n",
              "    <tr>\n",
              "      <th>2019-11-01</th>\n",
              "      <td>0.234181</td>\n",
              "    </tr>\n",
              "    <tr>\n",
              "      <th>2019-12-01</th>\n",
              "      <td>0.362387</td>\n",
              "    </tr>\n",
              "    <tr>\n",
              "      <th>...</th>\n",
              "      <td>...</td>\n",
              "    </tr>\n",
              "    <tr>\n",
              "      <th>2024-05-01</th>\n",
              "      <td>0.890746</td>\n",
              "    </tr>\n",
              "    <tr>\n",
              "      <th>2024-06-01</th>\n",
              "      <td>0.899645</td>\n",
              "    </tr>\n",
              "    <tr>\n",
              "      <th>2024-07-01</th>\n",
              "      <td>0.846898</td>\n",
              "    </tr>\n",
              "    <tr>\n",
              "      <th>2024-08-01</th>\n",
              "      <td>0.831639</td>\n",
              "    </tr>\n",
              "    <tr>\n",
              "      <th>2024-09-01</th>\n",
              "      <td>0.983625</td>\n",
              "    </tr>\n",
              "  </tbody>\n",
              "</table>\n",
              "<p>62 rows × 1 columns</p>\n",
              "</div>"
            ],
            "text/plain": [
              "            predicted_Estadual\n",
              "Data                          \n",
              "2019-08-01            0.056385\n",
              "2019-09-01           -0.072381\n",
              "2019-10-01            0.012162\n",
              "2019-11-01            0.234181\n",
              "2019-12-01            0.362387\n",
              "...                        ...\n",
              "2024-05-01            0.890746\n",
              "2024-06-01            0.899645\n",
              "2024-07-01            0.846898\n",
              "2024-08-01            0.831639\n",
              "2024-09-01            0.983625\n",
              "\n",
              "[62 rows x 1 columns]"
            ]
          },
          "execution_count": 24,
          "metadata": {},
          "output_type": "execute_result"
        }
      ],
      "source": [
        "prediction = pd.DataFrame(arima_model.predict(n_periods=len(test), X = test[[\"USD\", \"País\"]]),\n",
        "                          # index=test.index\n",
        "                          )\n",
        "prediction.columns = [\"predicted_Estadual\"]\n",
        "prediction.index = test.index\n",
        "prediction"
      ]
    },
    {
      "cell_type": "code",
      "execution_count": 25,
      "metadata": {
        "colab": {
          "base_uri": "https://localhost:8080/",
          "height": 445
        },
        "id": "C9vbNP0wFE4j",
        "outputId": "77e19955-b126-4085-ce4c-60354762ceab"
      },
      "outputs": [
        {
          "data": {
            "image/png": "[encoded data removed]",
            "text/plain": [
              "<Figure size 800x500 with 1 Axes>"
            ]
          },
          "metadata": {},
          "output_type": "display_data"
        }
      ],
      "source": [
        "plt.figure(figsize=(8,5))\n",
        "plt.plot(train.Estadual, label = \"Train\")\n",
        "plt.plot(test.Estadual, label = \"Test\")\n",
        "plt.plot(prediction, label = \"Predicted\")\n",
        "plt.legend(loc='upper left')\n",
        "plt.show()"
      ]
    },
    {
      "cell_type": "code",
      "execution_count": 26,
      "metadata": {
        "colab": {
          "base_uri": "https://localhost:8080/",
          "height": 455
        },
        "id": "bDsxSvWUFFnf",
        "outputId": "4b118778-f210-43ab-e645-c89a98088d72"
      },
      "outputs": [
        {
          "data": {
            "text/html": [
              "<div>\n",
              "<style scoped>\n",
              "    .dataframe tbody tr th:only-of-type {\n",
              "        vertical-align: middle;\n",
              "    }\n",
              "\n",
              "    .dataframe tbody tr th {\n",
              "        vertical-align: top;\n",
              "    }\n",
              "\n",
              "    .dataframe thead th {\n",
              "        text-align: right;\n",
              "    }\n",
              "</style>\n",
              "<table border=\"1\" class=\"dataframe\">\n",
              "  <thead>\n",
              "    <tr style=\"text-align: right;\">\n",
              "      <th></th>\n",
              "      <th>Cultivo</th>\n",
              "      <th>Estadual</th>\n",
              "      <th>País</th>\n",
              "      <th>Id</th>\n",
              "      <th>Último</th>\n",
              "      <th>Abertura</th>\n",
              "      <th>Máxima</th>\n",
              "      <th>Mínima</th>\n",
              "      <th>USD</th>\n",
              "      <th>predict_Estadual</th>\n",
              "    </tr>\n",
              "    <tr>\n",
              "      <th>Data</th>\n",
              "      <th></th>\n",
              "      <th></th>\n",
              "      <th></th>\n",
              "      <th></th>\n",
              "      <th></th>\n",
              "      <th></th>\n",
              "      <th></th>\n",
              "      <th></th>\n",
              "      <th></th>\n",
              "      <th></th>\n",
              "    </tr>\n",
              "  </thead>\n",
              "  <tbody>\n",
              "    <tr>\n",
              "      <th>2019-08-01</th>\n",
              "      <td>Milho</td>\n",
              "      <td>-0.092387</td>\n",
              "      <td>30.8232</td>\n",
              "      <td>1</td>\n",
              "      <td>35800.0</td>\n",
              "      <td>40175.0</td>\n",
              "      <td>41700.0</td>\n",
              "      <td>35525.0</td>\n",
              "      <td>3.779339</td>\n",
              "      <td>0.056385</td>\n",
              "    </tr>\n",
              "    <tr>\n",
              "      <th>2019-09-01</th>\n",
              "      <td>Milho</td>\n",
              "      <td>-0.062620</td>\n",
              "      <td>30.8726</td>\n",
              "      <td>1</td>\n",
              "      <td>38800.0</td>\n",
              "      <td>35875.0</td>\n",
              "      <td>38825.0</td>\n",
              "      <td>34000.0</td>\n",
              "      <td>4.019982</td>\n",
              "      <td>-0.072381</td>\n",
              "    </tr>\n",
              "    <tr>\n",
              "      <th>2019-10-01</th>\n",
              "      <td>Milho</td>\n",
              "      <td>0.271652</td>\n",
              "      <td>32.7125</td>\n",
              "      <td>1</td>\n",
              "      <td>39000.0</td>\n",
              "      <td>38675.0</td>\n",
              "      <td>40250.0</td>\n",
              "      <td>37825.0</td>\n",
              "      <td>4.121500</td>\n",
              "      <td>0.012162</td>\n",
              "    </tr>\n",
              "    <tr>\n",
              "      <th>2019-11-01</th>\n",
              "      <td>Milho</td>\n",
              "      <td>0.201574</td>\n",
              "      <td>34.7516</td>\n",
              "      <td>1</td>\n",
              "      <td>37125.0</td>\n",
              "      <td>38925.0</td>\n",
              "      <td>39175.0</td>\n",
              "      <td>36225.0</td>\n",
              "      <td>4.086987</td>\n",
              "      <td>0.234181</td>\n",
              "    </tr>\n",
              "    <tr>\n",
              "      <th>2019-12-01</th>\n",
              "      <td>Milho</td>\n",
              "      <td>0.233398</td>\n",
              "      <td>37.3426</td>\n",
              "      <td>1</td>\n",
              "      <td>38775.0</td>\n",
              "      <td>37175.0</td>\n",
              "      <td>39200.0</td>\n",
              "      <td>35700.0</td>\n",
              "      <td>4.155345</td>\n",
              "      <td>0.362387</td>\n",
              "    </tr>\n",
              "    <tr>\n",
              "      <th>...</th>\n",
              "      <td>...</td>\n",
              "      <td>...</td>\n",
              "      <td>...</td>\n",
              "      <td>...</td>\n",
              "      <td>...</td>\n",
              "      <td>...</td>\n",
              "      <td>...</td>\n",
              "      <td>...</td>\n",
              "      <td>...</td>\n",
              "      <td>...</td>\n",
              "    </tr>\n",
              "    <tr>\n",
              "      <th>2024-05-01</th>\n",
              "      <td>Milho</td>\n",
              "      <td>0.095095</td>\n",
              "      <td>52.4263</td>\n",
              "      <td>1</td>\n",
              "      <td>45400.0</td>\n",
              "      <td>44675.0</td>\n",
              "      <td>48375.0</td>\n",
              "      <td>44375.0</td>\n",
              "      <td>5.129095</td>\n",
              "      <td>0.890746</td>\n",
              "    </tr>\n",
              "    <tr>\n",
              "      <th>2024-06-01</th>\n",
              "      <td>Milho</td>\n",
              "      <td>0.005815</td>\n",
              "      <td>52.5458</td>\n",
              "      <td>1</td>\n",
              "      <td>39725.0</td>\n",
              "      <td>44575.0</td>\n",
              "      <td>46050.0</td>\n",
              "      <td>39050.0</td>\n",
              "      <td>5.133048</td>\n",
              "      <td>0.899645</td>\n",
              "    </tr>\n",
              "    <tr>\n",
              "      <th>2024-07-01</th>\n",
              "      <td>Milho</td>\n",
              "      <td>-0.088357</td>\n",
              "      <td>51.4380</td>\n",
              "      <td>1</td>\n",
              "      <td>38275.0</td>\n",
              "      <td>39725.0</td>\n",
              "      <td>41200.0</td>\n",
              "      <td>38100.0</td>\n",
              "      <td>5.388975</td>\n",
              "      <td>0.846898</td>\n",
              "    </tr>\n",
              "    <tr>\n",
              "      <th>2024-08-01</th>\n",
              "      <td>Milho</td>\n",
              "      <td>0.090911</td>\n",
              "      <td>52.6634</td>\n",
              "      <td>1</td>\n",
              "      <td>37800.0</td>\n",
              "      <td>38250.0</td>\n",
              "      <td>39300.0</td>\n",
              "      <td>36050.0</td>\n",
              "      <td>5.542048</td>\n",
              "      <td>0.831639</td>\n",
              "    </tr>\n",
              "    <tr>\n",
              "      <th>2024-09-01</th>\n",
              "      <td>Milho</td>\n",
              "      <td>0.085038</td>\n",
              "      <td>54.5639</td>\n",
              "      <td>1</td>\n",
              "      <td>41562.0</td>\n",
              "      <td>40038.0</td>\n",
              "      <td>41962.0</td>\n",
              "      <td>39710.0</td>\n",
              "      <td>5.552614</td>\n",
              "      <td>0.983625</td>\n",
              "    </tr>\n",
              "  </tbody>\n",
              "</table>\n",
              "<p>62 rows × 10 columns</p>\n",
              "</div>"
            ],
            "text/plain": [
              "           Cultivo  Estadual     País  Id   Último  Abertura   Máxima  \\\n",
              "Data                                                                    \n",
              "2019-08-01   Milho -0.092387  30.8232   1  35800.0   40175.0  41700.0   \n",
              "2019-09-01   Milho -0.062620  30.8726   1  38800.0   35875.0  38825.0   \n",
              "2019-10-01   Milho  0.271652  32.7125   1  39000.0   38675.0  40250.0   \n",
              "2019-11-01   Milho  0.201574  34.7516   1  37125.0   38925.0  39175.0   \n",
              "2019-12-01   Milho  0.233398  37.3426   1  38775.0   37175.0  39200.0   \n",
              "...            ...       ...      ...  ..      ...       ...      ...   \n",
              "2024-05-01   Milho  0.095095  52.4263   1  45400.0   44675.0  48375.0   \n",
              "2024-06-01   Milho  0.005815  52.5458   1  39725.0   44575.0  46050.0   \n",
              "2024-07-01   Milho -0.088357  51.4380   1  38275.0   39725.0  41200.0   \n",
              "2024-08-01   Milho  0.090911  52.6634   1  37800.0   38250.0  39300.0   \n",
              "2024-09-01   Milho  0.085038  54.5639   1  41562.0   40038.0  41962.0   \n",
              "\n",
              "             Mínima       USD  predict_Estadual  \n",
              "Data                                             \n",
              "2019-08-01  35525.0  3.779339          0.056385  \n",
              "2019-09-01  34000.0  4.019982         -0.072381  \n",
              "2019-10-01  37825.0  4.121500          0.012162  \n",
              "2019-11-01  36225.0  4.086987          0.234181  \n",
              "2019-12-01  35700.0  4.155345          0.362387  \n",
              "...             ...       ...               ...  \n",
              "2024-05-01  44375.0  5.129095          0.890746  \n",
              "2024-06-01  39050.0  5.133048          0.899645  \n",
              "2024-07-01  38100.0  5.388975          0.846898  \n",
              "2024-08-01  36050.0  5.542048          0.831639  \n",
              "2024-09-01  39710.0  5.552614          0.983625  \n",
              "\n",
              "[62 rows x 10 columns]"
            ]
          },
          "execution_count": 26,
          "metadata": {},
          "output_type": "execute_result"
        }
      ],
      "source": [
        "test = pd.DataFrame(test)\n",
        "test[\"predict_Estadual\"] = prediction['predicted_Estadual']\n",
        "test"
      ]
    },
    {
      "cell_type": "code",
      "execution_count": 27,
      "metadata": {
        "id": "gaPS7LbdKu5-"
      },
      "outputs": [],
      "source": [
        "from sklearn.metrics import mean_absolute_error, mean_absolute_percentage_error, root_mean_squared_error"
      ]
    },
    {
      "cell_type": "code",
      "execution_count": 28,
      "metadata": {
        "id": "H6Yo9s9EKoOz"
      },
      "outputs": [],
      "source": [
        "def evaluate_model(y_test, prediction):\n",
        "  print(f\"MAE: {mean_absolute_error(y_test, prediction)}\")\n",
        "  print(f\"RMSE: {root_mean_squared_error(y_test, prediction)}\")\n",
        "  print(f\"MAPE: {mean_absolute_percentage_error(y_test, prediction)}\")\n",
        "  print(f\"R-Squared: {r2_score(y_test, prediction)}\")"
      ]
    },
    {
      "cell_type": "code",
      "execution_count": 29,
      "metadata": {
        "colab": {
          "base_uri": "https://localhost:8080/"
        },
        "id": "AhKHf6D1Kub-",
        "outputId": "d2feb225-9b5e-493d-949a-40d53d0dc656"
      },
      "outputs": [
        {
          "name": "stdout",
          "output_type": "stream",
          "text": [
            "MAE: 1.5232418697017718\n",
            "RMSE: 1.7945709045539722\n",
            "MAPE: 22.939281055581496\n",
            "R-Squared: -37.62844843899209\n"
          ]
        }
      ],
      "source": [
        "evaluate_model(test[\"Estadual\"], test[\"predict_Estadual\"])"
      ]
    }
  ],
  "metadata": {
    "colab": {
      "authorship_tag": "ABX9TyOqMHRR0cQ+Gs/CsM0G/ztZ",
      "include_colab_link": true,
      "provenance": []
    },
    "kernelspec": {
      "display_name": "Python 3",
      "name": "python3"
    },
    "language_info": {
      "codemirror_mode": {
        "name": "ipython",
        "version": 3
      },
      "file_extension": ".py",
      "mimetype": "text/x-python",
      "name": "python",
      "nbconvert_exporter": "python",
      "pygments_lexer": "ipython3",
      "version": "3.12.5"
    }
  },
  "nbformat": 4,
  "nbformat_minor": 0
}
