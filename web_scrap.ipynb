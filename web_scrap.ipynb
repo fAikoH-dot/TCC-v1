{
 "cells": [
  {
   "cell_type": "markdown",
   "metadata": {},
   "source": [
    "Variáveis Objetivo (Soja, milho, trigo e algodão)"
   ]
  },
  {
   "cell_type": "code",
   "execution_count": 1,
   "metadata": {},
   "outputs": [],
   "source": [
    "# Importing the required libraries\n",
    "import requests\n",
    "import pandas as pd\n",
    "from bs4 import BeautifulSoup"
   ]
  },
  {
   "cell_type": "code",
   "execution_count": 2,
   "metadata": {},
   "outputs": [],
   "source": [
    "class Crop:\n",
    "    def __init__(self, id, name, link, file_name, comm_file):\n",
    "        self.id = id\n",
    "        self.name = name\n",
    "        self.link = link\n",
    "        self.file_name = file_name\n",
    "        self.comm_file = comm_file\n",
    "\n",
    "    def web_scrap(self):\n",
    "        data = requests.get(self.link).text\n",
    "        \n",
    "        # Creating BeautifulSoup object\n",
    "        soup = BeautifulSoup(data, 'html.parser')\n",
    "\n",
    "        # Creating list with all tables\n",
    "        tables = soup.find_all('table')\n",
    "\n",
    "        #  Looking for the table with the classes 'wikitable' and 'sortable'\n",
    "        table = soup.find('table', class_='table table-main orange')\n",
    "\n",
    "        # Defining of the dataframe\n",
    "        df = pd.DataFrame(columns=['Data', 'Estadual'])\n",
    "\n",
    "        dates = []\n",
    "        states = []\n",
    "        countrys = []\n",
    "        # Collecting Ddata\n",
    "        for row in table.tbody.find_all('tr'):    \n",
    "            # Find all data for each column\n",
    "            head = row.find_all('th')\n",
    "            columns = row.find_all('td')\n",
    "            \n",
    "            if(head != []):\n",
    "                date = head[0].text.strip()\n",
    "                dates.append(date)\n",
    "\n",
    "            \n",
    "            if(columns !=[]):\n",
    "                value1 = columns[0].text.strip()\n",
    "                value2 = columns[1].text.strip()\n",
    "\n",
    "                states.append(value1)\n",
    "                countrys.append(value2)\n",
    "\n",
    "        df = pd.DataFrame(list(zip(dates, states, countrys)),columns =['Data', 'Estadual', 'País'])\n",
    "        df['Id'] = self.id\n",
    "        df['Cultivo'] = self.name\n",
    "\n",
    "        df.to_csv(self.file_name, sep=';', index=False)\n",
    "\n",
    "    def add_comm(self):\n",
    "        df_comm = pd.read_csv(self.comm_file, sep=',')\n",
    "        df_cult = pd.read_csv(self.file_name, sep=';')\n",
    "\n",
    "        df_cult['Data'] = df_cult['Data'].astype('datetime64[ns]')\n",
    "        df_cult = df_cult.replace(',', '.', regex=True)\n",
    "\n",
    "        df_comm['Data'] = df_comm['Data'].astype('datetime64[ns]')\n",
    "        df_comm = df_comm.replace(',', '', regex=True)\n",
    "        df_comm.drop(columns=['Data','Vol.', \"Var%\"], inplace=True)\n",
    "\n",
    "        df_cult['Estadual'] = df_cult['Estadual'].astype(float)\n",
    "        df_cult['País'] = df_cult['País'].astype(float)\n",
    "        df_cult['Cultivo'] = df_cult['Cultivo'].astype('string')\n",
    "\n",
    "        df_comm['Último'] = df_comm['Último'].astype(float)\n",
    "        df_comm['Abertura'] = df_comm['Abertura'].astype(float)\n",
    "        df_comm['Máxima'] = df_comm['Máxima'].astype(float)\n",
    "        df_comm['Mínima'] = df_comm['Mínima'].astype(float)\n",
    "\n",
    "        df = pd.concat([df_cult.reset_index(drop=True), df_comm.reset_index(drop=True)], axis=1)\n",
    "        df = df[['Data', 'Cultivo', 'Estadual', 'País', 'Id', 'Último', 'Abertura', 'Máxima', 'Mínima']]\n",
    "        df.to_csv(self.file_name, sep=\";\", index=False)\n"
   ]
  },
  {
   "cell_type": "code",
   "execution_count": 4,
   "metadata": {},
   "outputs": [],
   "source": [
    "\n",
    "path = \"data library/\"\n",
    "path_comm = \"data library/Commodities/\"\n",
    "\n",
    "soja = Crop(0, \"Soja\", \"https://www.agrolink.com.br/cotacoes/historico/mt/soja-em-grao-sc-60kg\", \n",
    "            path+\"Soja_v1.csv\", path_comm+\"Soja-Chicago.csv\")\n",
    "milho = Crop(1, \"Milho\", \"https://www.agrolink.com.br/cotacoes/historico/pr/milho-seco-sc-60kg\", \n",
    "            path+\"Milho_v1.csv\", path_comm+\"Milho-Chicago.csv\")\n",
    "trigo = Crop(2, \"Trigo\", \"https://www.agrolink.com.br/cotacoes/historico/pr/trigo-em-grao-nacional-sc-60kg\", \n",
    "             path+\"Trigo_v1.csv\", path_comm+\"Trigo-Chicago.csv\")\n",
    "algodao = Crop(3, \"Algodão\", \"https://www.agrolink.com.br/cotacoes/historico/mt/algodao-em-pluma-15kg\", \n",
    "               path+\"Algodao_v1.csv\", path_comm+\"Algodao-NY.csv\")\n",
    "\n",
    "soja.web_scrap()\n",
    "milho.web_scrap()\n",
    "trigo.web_scrap()\n",
    "algodao.web_scrap()\n",
    "\n",
    "soja.add_comm()\n",
    "milho.add_comm()\n",
    "trigo.add_comm()\n",
    "algodao.add_comm()"
   ]
  },
  {
   "cell_type": "markdown",
   "metadata": {},
   "source": [
    "Bolsa de Chicago"
   ]
  },
  {
   "cell_type": "code",
   "execution_count": null,
   "metadata": {},
   "outputs": [],
   "source": [
    "url = \"https://br.investing.com/commodities/us-wheat-historical-data\""
   ]
  }
 ],
 "metadata": {
  "kernelspec": {
   "display_name": "Python 3",
   "language": "python",
   "name": "python3"
  },
  "language_info": {
   "codemirror_mode": {
    "name": "ipython",
    "version": 3
   },
   "file_extension": ".py",
   "mimetype": "text/x-python",
   "name": "python",
   "nbconvert_exporter": "python",
   "pygments_lexer": "ipython3",
   "version": "3.12.5"
  }
 },
 "nbformat": 4,
 "nbformat_minor": 2
}
