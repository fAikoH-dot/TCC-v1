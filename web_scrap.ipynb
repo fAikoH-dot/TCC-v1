{
 "cells": [
  {
   "cell_type": "markdown",
   "metadata": {},
   "source": [
    "Variáveis Objetivo (Soja, milho, trigo e algodão)"
   ]
  },
  {
   "cell_type": "code",
   "execution_count": 2,
   "metadata": {},
   "outputs": [],
   "source": [
    "# Importing the required libraries\n",
    "import requests\n",
    "import pandas as pd\n",
    "from bs4 import BeautifulSoup"
   ]
  },
  {
   "cell_type": "code",
   "execution_count": 3,
   "metadata": {},
   "outputs": [],
   "source": [
    "class Crop:\n",
    "    def __init__(self, id, name, link, file_name):\n",
    "        self.id = id\n",
    "        self.name = name\n",
    "        self.link = link\n",
    "        self.file_name = file_name\n",
    "\n",
    "    def web_scrap(self):\n",
    "        data = requests.get(self.link).text\n",
    "        \n",
    "        # Creating BeautifulSoup object\n",
    "        soup = BeautifulSoup(data, 'html.parser')\n",
    "\n",
    "        # Creating list with all tables\n",
    "        tables = soup.find_all('table')\n",
    "\n",
    "        #  Looking for the table with the classes 'wikitable' and 'sortable'\n",
    "        table = soup.find('table', class_='table table-main orange')\n",
    "\n",
    "        # Defining of the dataframe\n",
    "        df = pd.DataFrame(columns=['Data', 'Estadual'])\n",
    "\n",
    "        dates = []\n",
    "        states = []\n",
    "        countrys = []\n",
    "        # Collecting Ddata\n",
    "        for row in table.tbody.find_all('tr'):    \n",
    "            # Find all data for each column\n",
    "            head = row.find_all('th')\n",
    "            columns = row.find_all('td')\n",
    "            \n",
    "            if(head != []):\n",
    "                date = head[0].text.strip()\n",
    "                dates.append(date)\n",
    "\n",
    "            \n",
    "            if(columns !=[]):\n",
    "                value1 = columns[0].text.strip()\n",
    "                value2 = columns[1].text.strip()\n",
    "\n",
    "                states.append(value1)\n",
    "                countrys.append(value2)\n",
    "\n",
    "        df = pd.DataFrame(list(zip(dates, states, countrys)),columns =['Data', 'Estadual', 'País'])\n",
    "        df['Id'] = self.id\n",
    "        df['Cultivo'] = self.name\n",
    "\n",
    "        df.to_csv(self.file_name, sep=';', index=False)"
   ]
  },
  {
   "cell_type": "code",
   "execution_count": 4,
   "metadata": {},
   "outputs": [],
   "source": [
    "\n",
    "path = \"data library/\"\n",
    "\n",
    "soja = Crop(0, \"Soja\", \"https://www.agrolink.com.br/cotacoes/historico/mt/soja-em-grao-sc-60kg\", path+\"Soja_v1.csv\")\n",
    "milho = Crop(1, \"Milho\", \"https://www.agrolink.com.br/cotacoes/historico/pr/milho-seco-sc-60kg\", path+\"Milho_v1.csv\")\n",
    "trigo = Crop(2, \"Trigo\", \"https://www.agrolink.com.br/cotacoes/historico/pr/trigo-em-grao-nacional-sc-60kg\", path+\"Trigo_v1.csv\")\n",
    "algodao = Crop(3, \"Algodão\", \"https://www.agrolink.com.br/cotacoes/historico/mt/algodao-em-pluma-15kg\", path+\"Algodao_v1.csv\")\n",
    "\n",
    "soja.web_scrap()\n",
    "milho.web_scrap()\n",
    "trigo.web_scrap()\n",
    "algodao.web_scrap()"
   ]
  },
  {
   "cell_type": "markdown",
   "metadata": {},
   "source": [
    "Bolsa de Chicago"
   ]
  },
  {
   "cell_type": "code",
   "execution_count": 5,
   "metadata": {},
   "outputs": [],
   "source": [
    "url = \"https://br.investing.com/commodities/us-wheat-historical-data\"\n",
    "\n",
    "data = requests.get(url).text\n",
    "\n",
    "# Creating BeautifulSoup object\n",
    "soup = BeautifulSoup(data, 'html.parser')"
   ]
  },
  {
   "cell_type": "code",
   "execution_count": 7,
   "metadata": {},
   "outputs": [
    {
     "name": "stdout",
     "output_type": "stream",
     "text": [
      "Classes of each table:\n",
      "['datatable_table__DE_1_', 'relative-selector-v2_table-browser__TI4_F', 'datatable_table--border__XOKr2']\n",
      "['freeze-column-w-1', 'w-full', 'overflow-x-auto', 'text-xs', 'leading-4']\n",
      "['w-full', 'text-xs', 'leading-4']\n",
      "['w-full', 'text-xs', 'leading-4', 'hidden']\n",
      "['w-full', 'text-xs', 'leading-4', 'hidden']\n"
     ]
    }
   ],
   "source": [
    "print('Classes of each table:')\n",
    "for table in soup.find_all('table'):\n",
    "    print(table.get('class'))"
   ]
  },
  {
   "cell_type": "code",
   "execution_count": 8,
   "metadata": {},
   "outputs": [
    {
     "data": {
      "text/plain": [
       "<table class=\"freeze-column-w-1 w-full overflow-x-auto text-xs leading-4\"><thead class=\"relative after:absolute after:bottom-0 after:left-0 after:right-0 after:h-px after:bg-[#ECEDEF]\"><tr class=\"h-[41px]\"><th class=\"datatable-v2_cell__IwP1U sticky left-0 min-w-[106px] bg-white text-left font-semibold text-v2-black\"><div class=\"datatable-v2_cell__wrapper__7O0wk !block md:!inline-flex\"></div></th><th class=\"datatable-v2_cell__IwP1U text-v2-black font-semibold text-xs leading-4 tracking-[0.2px] text-right rtl:text-right w-[10%] min-w-[77px]\"><div class=\"datatable-v2_cell__wrapper__7O0wk !block md:!inline-flex\"></div></th><th class=\"datatable-v2_cell__IwP1U text-v2-black font-semibold text-xs leading-4 tracking-[0.2px] text-right rtl:text-right w-[10%] min-w-[77px]\"><div class=\"datatable-v2_cell__wrapper__7O0wk !block md:!inline-flex\"></div></th><th class=\"datatable-v2_cell__IwP1U text-v2-black font-semibold text-xs leading-4 tracking-[0.2px] text-right rtl:text-right w-[10%] min-w-[77px]\"><div class=\"datatable-v2_cell__wrapper__7O0wk !block md:!inline-flex\"></div></th><th class=\"datatable-v2_cell__IwP1U text-v2-black font-semibold text-xs leading-4 tracking-[0.2px] text-right rtl:text-right w-[10%] min-w-[77px]\"><div class=\"datatable-v2_cell__wrapper__7O0wk !block md:!inline-flex\"></div></th><th class=\"datatable-v2_cell__IwP1U text-v2-black font-semibold text-xs leading-4 tracking-[0.2px] text-right rtl:text-right w-[10%] min-w-[87px]\"><div class=\"datatable-v2_cell__wrapper__7O0wk !block md:!inline-flex\"></div></th><th class=\"datatable-v2_cell__IwP1U text-v2-black font-semibold text-xs leading-4 tracking-[0.2px] text-right rtl:text-right w-[10%] min-w-[82px]\"><div class=\"datatable-v2_cell__wrapper__7O0wk !block md:!inline-flex\"></div></th></tr></thead><tbody><tr class=\"relative h-[41px] after:absolute after:bottom-0 after:left-0 after:right-0 after:h-px after:bg-[#ECEDEF] hover:bg-[#F5F5F5] historical-data-v2_price__atUfP\"><td class=\"datatable_cell__LJp3C sticky left-0 min-w-[106px] overflow-hidden text-ellipsis whitespace-nowrap bg-white text-left align-middle text-sm font-semibold leading-4 text-v2-black sm:bg-inherit\"><time datetime=\"17.09.2024\">17.09.2024</time></td><td class=\"datatable_cell__LJp3C datatable_cell--align-end__qgxDQ datatable_cell--down___c4Fq min-w-[77px] text-right align-middle text-sm font-normal leading-5 rtl:text-right text-negative-main\" dir=\"ltr\">576,50</td><td class=\"min-w-[77px] text-right align-middle text-sm font-normal leading-5 text-v2-black rtl:text-right\" data-test=\"relative-most-active-last\">579,00</td><td class=\"min-w-[77px] text-right align-middle text-sm font-normal leading-5 text-v2-black rtl:text-right\" data-test=\"relative-most-active-last\">584,00</td><td class=\"min-w-[77px] text-right align-middle text-sm font-normal leading-5 text-v2-black rtl:text-right\" data-test=\"relative-most-active-last\">571,38</td><td class=\"min-w-[87px] text-right align-middle text-sm font-normal leading-5 text-v2-black rtl:text-right\" data-test=\"relative-most-active-vol\"></td><td class=\"datatable_cell__LJp3C datatable_cell--align-end__qgxDQ datatable_cell--down___c4Fq min-w-[82px] whitespace-nowrap text-right align-middle text-sm font-bold leading-5 rtl:text-right text-negative-main\" dir=\"ltr\">-0.35%</td></tr><tr class=\"relative h-[41px] after:absolute after:bottom-0 after:left-0 after:right-0 after:h-px after:bg-[#ECEDEF] hover:bg-[#F5F5F5] historical-data-v2_price__atUfP\"><td class=\"datatable_cell__LJp3C sticky left-0 min-w-[106px] overflow-hidden text-ellipsis whitespace-nowrap bg-white text-left align-middle text-sm font-semibold leading-4 text-v2-black sm:bg-inherit\"><time datetime=\"16.09.2024\">16.09.2024</time></td><td class=\"datatable_cell__LJp3C datatable_cell--align-end__qgxDQ datatable_cell--up__hIuZF min-w-[77px] text-right align-middle text-sm font-normal leading-5 rtl:text-right text-positive-main\" dir=\"ltr\">578,50</td><td class=\"min-w-[77px] text-right align-middle text-sm font-normal leading-5 text-v2-black rtl:text-right\" data-test=\"relative-most-active-last\">594,75</td><td class=\"min-w-[77px] text-right align-middle text-sm font-normal leading-5 text-v2-black rtl:text-right\" data-test=\"relative-most-active-last\">596,00</td><td class=\"min-w-[77px] text-right align-middle text-sm font-normal leading-5 text-v2-black rtl:text-right\" data-test=\"relative-most-active-last\">574,25</td><td class=\"min-w-[87px] text-right align-middle text-sm font-normal leading-5 text-v2-black rtl:text-right\" data-test=\"relative-most-active-vol\">80,58K</td><td class=\"datatable_cell__LJp3C datatable_cell--align-end__qgxDQ datatable_cell--up__hIuZF min-w-[82px] whitespace-nowrap text-right align-middle text-sm font-bold leading-5 rtl:text-right text-positive-main\" dir=\"ltr\">+1.27%</td></tr><tr class=\"relative h-[41px] after:absolute after:bottom-0 after:left-0 after:right-0 after:h-px after:bg-[#ECEDEF] hover:bg-[#F5F5F5] historical-data-v2_price__atUfP\"><td class=\"datatable_cell__LJp3C sticky left-0 min-w-[106px] overflow-hidden text-ellipsis whitespace-nowrap bg-white text-left align-middle text-sm font-semibold leading-4 text-v2-black sm:bg-inherit\"><time datetime=\"13.09.2024\">13.09.2024</time></td><td class=\"datatable_cell__LJp3C datatable_cell--align-end__qgxDQ datatable_cell--up__hIuZF min-w-[77px] text-right align-middle text-sm font-normal leading-5 rtl:text-right text-positive-main\" dir=\"ltr\">571,25</td><td class=\"min-w-[77px] text-right align-middle text-sm font-normal leading-5 text-v2-black rtl:text-right\" data-test=\"relative-most-active-last\">571,25</td><td class=\"min-w-[77px] text-right align-middle text-sm font-normal leading-5 text-v2-black rtl:text-right\" data-test=\"relative-most-active-last\">571,25</td><td class=\"min-w-[77px] text-right align-middle text-sm font-normal leading-5 text-v2-black rtl:text-right\" data-test=\"relative-most-active-last\">571,25</td><td class=\"min-w-[87px] text-right align-middle text-sm font-normal leading-5 text-v2-black rtl:text-right\" data-test=\"relative-most-active-vol\"></td><td class=\"datatable_cell__LJp3C datatable_cell--align-end__qgxDQ datatable_cell--up__hIuZF min-w-[82px] whitespace-nowrap text-right align-middle text-sm font-bold leading-5 rtl:text-right text-positive-main\" dir=\"ltr\">+1.47%</td></tr><tr class=\"relative h-[41px] after:absolute after:bottom-0 after:left-0 after:right-0 after:h-px after:bg-[#ECEDEF] hover:bg-[#F5F5F5] historical-data-v2_price__atUfP\"><td class=\"datatable_cell__LJp3C sticky left-0 min-w-[106px] overflow-hidden text-ellipsis whitespace-nowrap bg-white text-left align-middle text-sm font-semibold leading-4 text-v2-black sm:bg-inherit\"><time datetime=\"12.09.2024\">12.09.2024</time></td><td class=\"datatable_cell__LJp3C datatable_cell--align-end__qgxDQ datatable_cell--down___c4Fq min-w-[77px] text-right align-middle text-sm font-normal leading-5 rtl:text-right text-negative-main\" dir=\"ltr\">563,00</td><td class=\"min-w-[77px] text-right align-middle text-sm font-normal leading-5 text-v2-black rtl:text-right\" data-test=\"relative-most-active-last\">563,00</td><td class=\"min-w-[77px] text-right align-middle text-sm font-normal leading-5 text-v2-black rtl:text-right\" data-test=\"relative-most-active-last\">563,00</td><td class=\"min-w-[77px] text-right align-middle text-sm font-normal leading-5 text-v2-black rtl:text-right\" data-test=\"relative-most-active-last\">563,00</td><td class=\"min-w-[87px] text-right align-middle text-sm font-normal leading-5 text-v2-black rtl:text-right\" data-test=\"relative-most-active-vol\">0,00K</td><td class=\"datatable_cell__LJp3C datatable_cell--align-end__qgxDQ datatable_cell--down___c4Fq min-w-[82px] whitespace-nowrap text-right align-middle text-sm font-bold leading-5 rtl:text-right text-negative-main\" dir=\"ltr\">-0.13%</td></tr><tr class=\"relative h-[41px] after:absolute after:bottom-0 after:left-0 after:right-0 after:h-px after:bg-[#ECEDEF] hover:bg-[#F5F5F5] historical-data-v2_price__atUfP\"><td class=\"datatable_cell__LJp3C sticky left-0 min-w-[106px] overflow-hidden text-ellipsis whitespace-nowrap bg-white text-left align-middle text-sm font-semibold leading-4 text-v2-black sm:bg-inherit\"><time datetime=\"11.09.2024\">11.09.2024</time></td><td class=\"datatable_cell__LJp3C datatable_cell--align-end__qgxDQ datatable_cell--up__hIuZF min-w-[77px] text-right align-middle text-sm font-normal leading-5 rtl:text-right text-positive-main\" dir=\"ltr\">563,75</td><td class=\"min-w-[77px] text-right align-middle text-sm font-normal leading-5 text-v2-black rtl:text-right\" data-test=\"relative-most-active-last\">563,75</td><td class=\"min-w-[77px] text-right align-middle text-sm font-normal leading-5 text-v2-black rtl:text-right\" data-test=\"relative-most-active-last\">563,75</td><td class=\"min-w-[77px] text-right align-middle text-sm font-normal leading-5 text-v2-black rtl:text-right\" data-test=\"relative-most-active-last\">563,75</td><td class=\"min-w-[87px] text-right align-middle text-sm font-normal leading-5 text-v2-black rtl:text-right\" data-test=\"relative-most-active-vol\">0,01K</td><td class=\"datatable_cell__LJp3C datatable_cell--align-end__qgxDQ datatable_cell--up__hIuZF min-w-[82px] whitespace-nowrap text-right align-middle text-sm font-bold leading-5 rtl:text-right text-positive-main\" dir=\"ltr\">+0.89%</td></tr><tr class=\"relative h-[41px] after:absolute after:bottom-0 after:left-0 after:right-0 after:h-px after:bg-[#ECEDEF] hover:bg-[#F5F5F5] historical-data-v2_price__atUfP\"><td class=\"datatable_cell__LJp3C sticky left-0 min-w-[106px] overflow-hidden text-ellipsis whitespace-nowrap bg-white text-left align-middle text-sm font-semibold leading-4 text-v2-black sm:bg-inherit\"><time datetime=\"10.09.2024\">10.09.2024</time></td><td class=\"datatable_cell__LJp3C datatable_cell--align-end__qgxDQ datatable_cell--up__hIuZF min-w-[77px] text-right align-middle text-sm font-normal leading-5 rtl:text-right text-positive-main\" dir=\"ltr\">558,75</td><td class=\"min-w-[77px] text-right align-middle text-sm font-normal leading-5 text-v2-black rtl:text-right\" data-test=\"relative-most-active-last\">554,75</td><td class=\"min-w-[77px] text-right align-middle text-sm font-normal leading-5 text-v2-black rtl:text-right\" data-test=\"relative-most-active-last\">554,75</td><td class=\"min-w-[77px] text-right align-middle text-sm font-normal leading-5 text-v2-black rtl:text-right\" data-test=\"relative-most-active-last\">554,75</td><td class=\"min-w-[87px] text-right align-middle text-sm font-normal leading-5 text-v2-black rtl:text-right\" data-test=\"relative-most-active-vol\">0,01K</td><td class=\"datatable_cell__LJp3C datatable_cell--align-end__qgxDQ datatable_cell--up__hIuZF min-w-[82px] whitespace-nowrap text-right align-middle text-sm font-bold leading-5 rtl:text-right text-positive-main\" dir=\"ltr\">+0.59%</td></tr><tr class=\"relative h-[41px] after:absolute after:bottom-0 after:left-0 after:right-0 after:h-px after:bg-[#ECEDEF] hover:bg-[#F5F5F5] historical-data-v2_price__atUfP\"><td class=\"datatable_cell__LJp3C sticky left-0 min-w-[106px] overflow-hidden text-ellipsis whitespace-nowrap bg-white text-left align-middle text-sm font-semibold leading-4 text-v2-black sm:bg-inherit\"><time datetime=\"09.09.2024\">09.09.2024</time></td><td class=\"datatable_cell__LJp3C datatable_cell--align-end__qgxDQ datatable_cell--up__hIuZF min-w-[77px] text-right align-middle text-sm font-normal leading-5 rtl:text-right text-positive-main\" dir=\"ltr\">555,50</td><td class=\"min-w-[77px] text-right align-middle text-sm font-normal leading-5 text-v2-black rtl:text-right\" data-test=\"relative-most-active-last\">555,50</td><td class=\"min-w-[77px] text-right align-middle text-sm font-normal leading-5 text-v2-black rtl:text-right\" data-test=\"relative-most-active-last\">555,50</td><td class=\"min-w-[77px] text-right align-middle text-sm font-normal leading-5 text-v2-black rtl:text-right\" data-test=\"relative-most-active-last\">555,50</td><td class=\"min-w-[87px] text-right align-middle text-sm font-normal leading-5 text-v2-black rtl:text-right\" data-test=\"relative-most-active-vol\">0,00K</td><td class=\"datatable_cell__LJp3C datatable_cell--align-end__qgxDQ datatable_cell--up__hIuZF min-w-[82px] whitespace-nowrap text-right align-middle text-sm font-bold leading-5 rtl:text-right text-positive-main\" dir=\"ltr\">+0.41%</td></tr><tr class=\"relative h-[41px] after:absolute after:bottom-0 after:left-0 after:right-0 after:h-px after:bg-[#ECEDEF] hover:bg-[#F5F5F5] historical-data-v2_price__atUfP\"><td class=\"datatable_cell__LJp3C sticky left-0 min-w-[106px] overflow-hidden text-ellipsis whitespace-nowrap bg-white text-left align-middle text-sm font-semibold leading-4 text-v2-black sm:bg-inherit\"><time datetime=\"06.09.2024\">06.09.2024</time></td><td class=\"datatable_cell__LJp3C datatable_cell--align-end__qgxDQ datatable_cell--down___c4Fq min-w-[77px] text-right align-middle text-sm font-normal leading-5 rtl:text-right text-negative-main\" dir=\"ltr\">553,25</td><td class=\"min-w-[77px] text-right align-middle text-sm font-normal leading-5 text-v2-black rtl:text-right\" data-test=\"relative-most-active-last\">565,75</td><td class=\"min-w-[77px] text-right align-middle text-sm font-normal leading-5 text-v2-black rtl:text-right\" data-test=\"relative-most-active-last\">565,75</td><td class=\"min-w-[77px] text-right align-middle text-sm font-normal leading-5 text-v2-black rtl:text-right\" data-test=\"relative-most-active-last\">552,25</td><td class=\"min-w-[87px] text-right align-middle text-sm font-normal leading-5 text-v2-black rtl:text-right\" data-test=\"relative-most-active-vol\">0,43K</td><td class=\"datatable_cell__LJp3C datatable_cell--align-end__qgxDQ datatable_cell--down___c4Fq min-w-[82px] whitespace-nowrap text-right align-middle text-sm font-bold leading-5 rtl:text-right text-negative-main\" dir=\"ltr\">-1.38%</td></tr><tr class=\"relative h-[41px] after:absolute after:bottom-0 after:left-0 after:right-0 after:h-px after:bg-[#ECEDEF] hover:bg-[#F5F5F5] historical-data-v2_price__atUfP\"><td class=\"datatable_cell__LJp3C sticky left-0 min-w-[106px] overflow-hidden text-ellipsis whitespace-nowrap bg-white text-left align-middle text-sm font-semibold leading-4 text-v2-black sm:bg-inherit\"><time datetime=\"05.09.2024\">05.09.2024</time></td><td class=\"datatable_cell__LJp3C datatable_cell--align-end__qgxDQ datatable_cell--down___c4Fq min-w-[77px] text-right align-middle text-sm font-normal leading-5 rtl:text-right text-negative-main\" dir=\"ltr\">561,00</td><td class=\"min-w-[77px] text-right align-middle text-sm font-normal leading-5 text-v2-black rtl:text-right\" data-test=\"relative-most-active-last\">565,50</td><td class=\"min-w-[77px] text-right align-middle text-sm font-normal leading-5 text-v2-black rtl:text-right\" data-test=\"relative-most-active-last\">565,50</td><td class=\"min-w-[77px] text-right align-middle text-sm font-normal leading-5 text-v2-black rtl:text-right\" data-test=\"relative-most-active-last\">557,00</td><td class=\"min-w-[87px] text-right align-middle text-sm font-normal leading-5 text-v2-black rtl:text-right\" data-test=\"relative-most-active-vol\">0,12K</td><td class=\"datatable_cell__LJp3C datatable_cell--align-end__qgxDQ datatable_cell--down___c4Fq min-w-[82px] whitespace-nowrap text-right align-middle text-sm font-bold leading-5 rtl:text-right text-negative-main\" dir=\"ltr\">-3.40%</td></tr><tr class=\"relative h-[41px] after:absolute after:bottom-0 after:left-0 after:right-0 after:h-px after:bg-[#ECEDEF] hover:bg-[#F5F5F5] historical-data-v2_price__atUfP\"><td class=\"datatable_cell__LJp3C sticky left-0 min-w-[106px] overflow-hidden text-ellipsis whitespace-nowrap bg-white text-left align-middle text-sm font-semibold leading-4 text-v2-black sm:bg-inherit\"><time datetime=\"04.09.2024\">04.09.2024</time></td><td class=\"datatable_cell__LJp3C datatable_cell--align-end__qgxDQ datatable_cell--up__hIuZF min-w-[77px] text-right align-middle text-sm font-normal leading-5 rtl:text-right text-positive-main\" dir=\"ltr\">580,75</td><td class=\"min-w-[77px] text-right align-middle text-sm font-normal leading-5 text-v2-black rtl:text-right\" data-test=\"relative-most-active-last\">565,00</td><td class=\"min-w-[77px] text-right align-middle text-sm font-normal leading-5 text-v2-black rtl:text-right\" data-test=\"relative-most-active-last\">582,75</td><td class=\"min-w-[77px] text-right align-middle text-sm font-normal leading-5 text-v2-black rtl:text-right\" data-test=\"relative-most-active-last\">563,50</td><td class=\"min-w-[87px] text-right align-middle text-sm font-normal leading-5 text-v2-black rtl:text-right\" data-test=\"relative-most-active-vol\">86,31K</td><td class=\"datatable_cell__LJp3C datatable_cell--align-end__qgxDQ datatable_cell--up__hIuZF min-w-[82px] whitespace-nowrap text-right align-middle text-sm font-bold leading-5 rtl:text-right text-positive-main\" dir=\"ltr\">+2.47%</td></tr><tr class=\"relative h-[41px] after:absolute after:bottom-0 after:left-0 after:right-0 after:h-px after:bg-[#ECEDEF] hover:bg-[#F5F5F5] historical-data-v2_price__atUfP\"><td class=\"datatable_cell__LJp3C sticky left-0 min-w-[106px] overflow-hidden text-ellipsis whitespace-nowrap bg-white text-left align-middle text-sm font-semibold leading-4 text-v2-black sm:bg-inherit\"><time datetime=\"03.09.2024\">03.09.2024</time></td><td class=\"datatable_cell__LJp3C datatable_cell--align-end__qgxDQ datatable_cell--up__hIuZF min-w-[77px] text-right align-middle text-sm font-normal leading-5 rtl:text-right text-positive-main\" dir=\"ltr\">566,75</td><td class=\"min-w-[77px] text-right align-middle text-sm font-normal leading-5 text-v2-black rtl:text-right\" data-test=\"relative-most-active-last\">552,25</td><td class=\"min-w-[77px] text-right align-middle text-sm font-normal leading-5 text-v2-black rtl:text-right\" data-test=\"relative-most-active-last\">567,50</td><td class=\"min-w-[77px] text-right align-middle text-sm font-normal leading-5 text-v2-black rtl:text-right\" data-test=\"relative-most-active-last\">544,25</td><td class=\"min-w-[87px] text-right align-middle text-sm font-normal leading-5 text-v2-black rtl:text-right\" data-test=\"relative-most-active-vol\">79,15K</td><td class=\"datatable_cell__LJp3C datatable_cell--align-end__qgxDQ datatable_cell--up__hIuZF min-w-[82px] whitespace-nowrap text-right align-middle text-sm font-bold leading-5 rtl:text-right text-positive-main\" dir=\"ltr\">+2.77%</td></tr><tr class=\"relative h-[41px] after:absolute after:bottom-0 after:left-0 after:right-0 after:h-px after:bg-[#ECEDEF] hover:bg-[#F5F5F5] historical-data-v2_price__atUfP\"><td class=\"datatable_cell__LJp3C sticky left-0 min-w-[106px] overflow-hidden text-ellipsis whitespace-nowrap bg-white text-left align-middle text-sm font-semibold leading-4 text-v2-black sm:bg-inherit\"><time datetime=\"30.08.2024\">30.08.2024</time></td><td class=\"datatable_cell__LJp3C datatable_cell--align-end__qgxDQ datatable_cell--up__hIuZF min-w-[77px] text-right align-middle text-sm font-normal leading-5 rtl:text-right text-positive-main\" dir=\"ltr\">551,50</td><td class=\"min-w-[77px] text-right align-middle text-sm font-normal leading-5 text-v2-black rtl:text-right\" data-test=\"relative-most-active-last\">546,75</td><td class=\"min-w-[77px] text-right align-middle text-sm font-normal leading-5 text-v2-black rtl:text-right\" data-test=\"relative-most-active-last\">553,50</td><td class=\"min-w-[77px] text-right align-middle text-sm font-normal leading-5 text-v2-black rtl:text-right\" data-test=\"relative-most-active-last\">546,00</td><td class=\"min-w-[87px] text-right align-middle text-sm font-normal leading-5 text-v2-black rtl:text-right\" data-test=\"relative-most-active-vol\">58,08K</td><td class=\"datatable_cell__LJp3C datatable_cell--align-end__qgxDQ datatable_cell--up__hIuZF min-w-[82px] whitespace-nowrap text-right align-middle text-sm font-bold leading-5 rtl:text-right text-positive-main\" dir=\"ltr\">+0.50%</td></tr><tr class=\"relative h-[41px] after:absolute after:bottom-0 after:left-0 after:right-0 after:h-px after:bg-[#ECEDEF] hover:bg-[#F5F5F5] historical-data-v2_price__atUfP\"><td class=\"datatable_cell__LJp3C sticky left-0 min-w-[106px] overflow-hidden text-ellipsis whitespace-nowrap bg-white text-left align-middle text-sm font-semibold leading-4 text-v2-black sm:bg-inherit\"><time datetime=\"29.08.2024\">29.08.2024</time></td><td class=\"datatable_cell__LJp3C datatable_cell--align-end__qgxDQ datatable_cell--up__hIuZF min-w-[77px] text-right align-middle text-sm font-normal leading-5 rtl:text-right text-positive-main\" dir=\"ltr\">548,75</td><td class=\"min-w-[77px] text-right align-middle text-sm font-normal leading-5 text-v2-black rtl:text-right\" data-test=\"relative-most-active-last\">540,25</td><td class=\"min-w-[77px] text-right align-middle text-sm font-normal leading-5 text-v2-black rtl:text-right\" data-test=\"relative-most-active-last\">549,50</td><td class=\"min-w-[77px] text-right align-middle text-sm font-normal leading-5 text-v2-black rtl:text-right\" data-test=\"relative-most-active-last\">535,00</td><td class=\"min-w-[87px] text-right align-middle text-sm font-normal leading-5 text-v2-black rtl:text-right\" data-test=\"relative-most-active-vol\">61,57K</td><td class=\"datatable_cell__LJp3C datatable_cell--align-end__qgxDQ datatable_cell--up__hIuZF min-w-[82px] whitespace-nowrap text-right align-middle text-sm font-bold leading-5 rtl:text-right text-positive-main\" dir=\"ltr\">+1.34%</td></tr><tr class=\"relative h-[41px] after:absolute after:bottom-0 after:left-0 after:right-0 after:h-px after:bg-[#ECEDEF] hover:bg-[#F5F5F5] historical-data-v2_price__atUfP\"><td class=\"datatable_cell__LJp3C sticky left-0 min-w-[106px] overflow-hidden text-ellipsis whitespace-nowrap bg-white text-left align-middle text-sm font-semibold leading-4 text-v2-black sm:bg-inherit\"><time datetime=\"28.08.2024\">28.08.2024</time></td><td class=\"datatable_cell__LJp3C datatable_cell--align-end__qgxDQ datatable_cell--up__hIuZF min-w-[77px] text-right align-middle text-sm font-normal leading-5 rtl:text-right text-positive-main\" dir=\"ltr\">541,50</td><td class=\"min-w-[77px] text-right align-middle text-sm font-normal leading-5 text-v2-black rtl:text-right\" data-test=\"relative-most-active-last\">534,25</td><td class=\"min-w-[77px] text-right align-middle text-sm font-normal leading-5 text-v2-black rtl:text-right\" data-test=\"relative-most-active-last\">543,75</td><td class=\"min-w-[77px] text-right align-middle text-sm font-normal leading-5 text-v2-black rtl:text-right\" data-test=\"relative-most-active-last\">533,00</td><td class=\"min-w-[87px] text-right align-middle text-sm font-normal leading-5 text-v2-black rtl:text-right\" data-test=\"relative-most-active-vol\">70,94K</td><td class=\"datatable_cell__LJp3C datatable_cell--align-end__qgxDQ datatable_cell--up__hIuZF min-w-[82px] whitespace-nowrap text-right align-middle text-sm font-bold leading-5 rtl:text-right text-positive-main\" dir=\"ltr\">+1.12%</td></tr><tr class=\"relative h-[41px] after:absolute after:bottom-0 after:left-0 after:right-0 after:h-px after:bg-[#ECEDEF] hover:bg-[#F5F5F5] historical-data-v2_price__atUfP\"><td class=\"datatable_cell__LJp3C sticky left-0 min-w-[106px] overflow-hidden text-ellipsis whitespace-nowrap bg-white text-left align-middle text-sm font-semibold leading-4 text-v2-black sm:bg-inherit\"><time datetime=\"27.08.2024\">27.08.2024</time></td><td class=\"datatable_cell__LJp3C datatable_cell--align-end__qgxDQ datatable_cell--up__hIuZF min-w-[77px] text-right align-middle text-sm font-normal leading-5 rtl:text-right text-positive-main\" dir=\"ltr\">535,50</td><td class=\"min-w-[77px] text-right align-middle text-sm font-normal leading-5 text-v2-black rtl:text-right\" data-test=\"relative-most-active-last\">524,75</td><td class=\"min-w-[77px] text-right align-middle text-sm font-normal leading-5 text-v2-black rtl:text-right\" data-test=\"relative-most-active-last\">538,50</td><td class=\"min-w-[77px] text-right align-middle text-sm font-normal leading-5 text-v2-black rtl:text-right\" data-test=\"relative-most-active-last\">520,75</td><td class=\"min-w-[87px] text-right align-middle text-sm font-normal leading-5 text-v2-black rtl:text-right\" data-test=\"relative-most-active-vol\">82,48K</td><td class=\"datatable_cell__LJp3C datatable_cell--align-end__qgxDQ datatable_cell--up__hIuZF min-w-[82px] whitespace-nowrap text-right align-middle text-sm font-bold leading-5 rtl:text-right text-positive-main\" dir=\"ltr\">+2.00%</td></tr><tr class=\"relative h-[41px] after:absolute after:bottom-0 after:left-0 after:right-0 after:h-px after:bg-[#ECEDEF] hover:bg-[#F5F5F5] historical-data-v2_price__atUfP\"><td class=\"datatable_cell__LJp3C sticky left-0 min-w-[106px] overflow-hidden text-ellipsis whitespace-nowrap bg-white text-left align-middle text-sm font-semibold leading-4 text-v2-black sm:bg-inherit\"><time datetime=\"26.08.2024\">26.08.2024</time></td><td class=\"datatable_cell__LJp3C datatable_cell--align-end__qgxDQ datatable_cell--down___c4Fq min-w-[77px] text-right align-middle text-sm font-normal leading-5 rtl:text-right text-negative-main\" dir=\"ltr\">525,00</td><td class=\"min-w-[77px] text-right align-middle text-sm font-normal leading-5 text-v2-black rtl:text-right\" data-test=\"relative-most-active-last\">531,25</td><td class=\"min-w-[77px] text-right align-middle text-sm font-normal leading-5 text-v2-black rtl:text-right\" data-test=\"relative-most-active-last\">531,75</td><td class=\"min-w-[77px] text-right align-middle text-sm font-normal leading-5 text-v2-black rtl:text-right\" data-test=\"relative-most-active-last\">522,00</td><td class=\"min-w-[87px] text-right align-middle text-sm font-normal leading-5 text-v2-black rtl:text-right\" data-test=\"relative-most-active-vol\">77,41K</td><td class=\"datatable_cell__LJp3C datatable_cell--align-end__qgxDQ datatable_cell--down___c4Fq min-w-[82px] whitespace-nowrap text-right align-middle text-sm font-bold leading-5 rtl:text-right text-negative-main\" dir=\"ltr\">-0.57%</td></tr><tr class=\"relative h-[41px] after:absolute after:bottom-0 after:left-0 after:right-0 after:h-px after:bg-[#ECEDEF] hover:bg-[#F5F5F5] historical-data-v2_price__atUfP\"><td class=\"datatable_cell__LJp3C sticky left-0 min-w-[106px] overflow-hidden text-ellipsis whitespace-nowrap bg-white text-left align-middle text-sm font-semibold leading-4 text-v2-black sm:bg-inherit\"><time datetime=\"23.08.2024\">23.08.2024</time></td><td class=\"datatable_cell__LJp3C datatable_cell--align-end__qgxDQ datatable_cell--down___c4Fq min-w-[77px] text-right align-middle text-sm font-normal leading-5 rtl:text-right text-negative-main\" dir=\"ltr\">528,00</td><td class=\"min-w-[77px] text-right align-middle text-sm font-normal leading-5 text-v2-black rtl:text-right\" data-test=\"relative-most-active-last\">536,75</td><td class=\"min-w-[77px] text-right align-middle text-sm font-normal leading-5 text-v2-black rtl:text-right\" data-test=\"relative-most-active-last\">538,25</td><td class=\"min-w-[77px] text-right align-middle text-sm font-normal leading-5 text-v2-black rtl:text-right\" data-test=\"relative-most-active-last\">527,00</td><td class=\"min-w-[87px] text-right align-middle text-sm font-normal leading-5 text-v2-black rtl:text-right\" data-test=\"relative-most-active-vol\">79,87K</td><td class=\"datatable_cell__LJp3C datatable_cell--align-end__qgxDQ datatable_cell--down___c4Fq min-w-[82px] whitespace-nowrap text-right align-middle text-sm font-bold leading-5 rtl:text-right text-negative-main\" dir=\"ltr\">-1.40%</td></tr><tr class=\"relative h-[41px] after:absolute after:bottom-0 after:left-0 after:right-0 after:h-px after:bg-[#ECEDEF] hover:bg-[#F5F5F5] historical-data-v2_price__atUfP\"><td class=\"datatable_cell__LJp3C sticky left-0 min-w-[106px] overflow-hidden text-ellipsis whitespace-nowrap bg-white text-left align-middle text-sm font-semibold leading-4 text-v2-black sm:bg-inherit\"><time datetime=\"22.08.2024\">22.08.2024</time></td><td class=\"datatable_cell__LJp3C datatable_cell--align-end__qgxDQ datatable_cell--down___c4Fq min-w-[77px] text-right align-middle text-sm font-normal leading-5 rtl:text-right text-negative-main\" dir=\"ltr\">535,50</td><td class=\"min-w-[77px] text-right align-middle text-sm font-normal leading-5 text-v2-black rtl:text-right\" data-test=\"relative-most-active-last\">545,25</td><td class=\"min-w-[77px] text-right align-middle text-sm font-normal leading-5 text-v2-black rtl:text-right\" data-test=\"relative-most-active-last\">548,00</td><td class=\"min-w-[77px] text-right align-middle text-sm font-normal leading-5 text-v2-black rtl:text-right\" data-test=\"relative-most-active-last\">526,25</td><td class=\"min-w-[87px] text-right align-middle text-sm font-normal leading-5 text-v2-black rtl:text-right\" data-test=\"relative-most-active-vol\">79,31K</td><td class=\"datatable_cell__LJp3C datatable_cell--align-end__qgxDQ datatable_cell--down___c4Fq min-w-[82px] whitespace-nowrap text-right align-middle text-sm font-bold leading-5 rtl:text-right text-negative-main\" dir=\"ltr\">-1.56%</td></tr><tr class=\"relative h-[41px] after:absolute after:bottom-0 after:left-0 after:right-0 after:h-px after:bg-[#ECEDEF] hover:bg-[#F5F5F5] historical-data-v2_price__atUfP\"><td class=\"datatable_cell__LJp3C sticky left-0 min-w-[106px] overflow-hidden text-ellipsis whitespace-nowrap bg-white text-left align-middle text-sm font-semibold leading-4 text-v2-black sm:bg-inherit\"><time datetime=\"21.08.2024\">21.08.2024</time></td><td class=\"datatable_cell__LJp3C datatable_cell--align-end__qgxDQ datatable_cell--down___c4Fq min-w-[77px] text-right align-middle text-sm font-normal leading-5 rtl:text-right text-negative-main\" dir=\"ltr\">544,00</td><td class=\"min-w-[77px] text-right align-middle text-sm font-normal leading-5 text-v2-black rtl:text-right\" data-test=\"relative-most-active-last\">557,50</td><td class=\"min-w-[77px] text-right align-middle text-sm font-normal leading-5 text-v2-black rtl:text-right\" data-test=\"relative-most-active-last\">560,00</td><td class=\"min-w-[77px] text-right align-middle text-sm font-normal leading-5 text-v2-black rtl:text-right\" data-test=\"relative-most-active-last\">543,00</td><td class=\"min-w-[87px] text-right align-middle text-sm font-normal leading-5 text-v2-black rtl:text-right\" data-test=\"relative-most-active-vol\">62,33K</td><td class=\"datatable_cell__LJp3C datatable_cell--align-end__qgxDQ datatable_cell--down___c4Fq min-w-[82px] whitespace-nowrap text-right align-middle text-sm font-bold leading-5 rtl:text-right text-negative-main\" dir=\"ltr\">-2.25%</td></tr><tr class=\"relative h-[41px] after:absolute after:bottom-0 after:left-0 after:right-0 after:h-px after:bg-[#ECEDEF] hover:bg-[#F5F5F5] historical-data-v2_price__atUfP\"><td class=\"datatable_cell__LJp3C sticky left-0 min-w-[106px] overflow-hidden text-ellipsis whitespace-nowrap bg-white text-left align-middle text-sm font-semibold leading-4 text-v2-black sm:bg-inherit\"><time datetime=\"20.08.2024\">20.08.2024</time></td><td class=\"datatable_cell__LJp3C datatable_cell--align-end__qgxDQ datatable_cell--up__hIuZF min-w-[77px] text-right align-middle text-sm font-normal leading-5 rtl:text-right text-positive-main\" dir=\"ltr\">556,50</td><td class=\"min-w-[77px] text-right align-middle text-sm font-normal leading-5 text-v2-black rtl:text-right\" data-test=\"relative-most-active-last\">551,00</td><td class=\"min-w-[77px] text-right align-middle text-sm font-normal leading-5 text-v2-black rtl:text-right\" data-test=\"relative-most-active-last\">559,25</td><td class=\"min-w-[77px] text-right align-middle text-sm font-normal leading-5 text-v2-black rtl:text-right\" data-test=\"relative-most-active-last\">549,50</td><td class=\"min-w-[87px] text-right align-middle text-sm font-normal leading-5 text-v2-black rtl:text-right\" data-test=\"relative-most-active-vol\">56,21K</td><td class=\"datatable_cell__LJp3C datatable_cell--align-end__qgxDQ datatable_cell--up__hIuZF min-w-[82px] whitespace-nowrap text-right align-middle text-sm font-bold leading-5 rtl:text-right text-positive-main\" dir=\"ltr\">+0.77%</td></tr><tr class=\"relative h-[41px] after:absolute after:bottom-0 after:left-0 after:right-0 after:h-px after:bg-[#ECEDEF] hover:bg-[#F5F5F5] historical-data-v2_price__atUfP\"><td class=\"datatable_cell__LJp3C sticky left-0 min-w-[106px] overflow-hidden text-ellipsis whitespace-nowrap bg-white text-left align-middle text-sm font-semibold leading-4 text-v2-black sm:bg-inherit\"><time datetime=\"19.08.2024\">19.08.2024</time></td><td class=\"datatable_cell__LJp3C datatable_cell--align-end__qgxDQ datatable_cell--down___c4Fq min-w-[77px] text-right align-middle text-sm font-normal leading-5 rtl:text-right text-negative-main\" dir=\"ltr\">552,25</td><td class=\"min-w-[77px] text-right align-middle text-sm font-normal leading-5 text-v2-black rtl:text-right\" data-test=\"relative-most-active-last\">554,50</td><td class=\"min-w-[77px] text-right align-middle text-sm font-normal leading-5 text-v2-black rtl:text-right\" data-test=\"relative-most-active-last\">554,50</td><td class=\"min-w-[77px] text-right align-middle text-sm font-normal leading-5 text-v2-black rtl:text-right\" data-test=\"relative-most-active-last\">545,00</td><td class=\"min-w-[87px] text-right align-middle text-sm font-normal leading-5 text-v2-black rtl:text-right\" data-test=\"relative-most-active-vol\">55,41K</td><td class=\"datatable_cell__LJp3C datatable_cell--align-end__qgxDQ datatable_cell--down___c4Fq min-w-[82px] whitespace-nowrap text-right align-middle text-sm font-bold leading-5 rtl:text-right text-negative-main\" dir=\"ltr\">-0.05%</td></tr></tbody></table>"
      ]
     },
     "execution_count": 8,
     "metadata": {},
     "output_type": "execute_result"
    }
   ],
   "source": [
    "table = soup.find('table', class_='freeze-column-w-1 w-full overflow-x-auto text-xs leading-4')\n",
    "\n",
    "table"
   ]
  },
  {
   "cell_type": "code",
   "execution_count": 9,
   "metadata": {},
   "outputs": [],
   "source": [
    "dates = []\n",
    "states = []\n",
    "countrys = []\n",
    "# Collecting Ddata\n",
    "for row in table.tbody.find_all('tr'):    \n",
    "    # Find all data for each column\n",
    "    head = row.find_all('th')\n",
    "    columns = row.find_all('td')\n",
    "    \n",
    "    if(columns !=[]):\n",
    "        date = columns[0].text.strip()\n",
    "        value1 = columns[1].text.strip()\n",
    "        value2 = columns[2].text.strip()\n",
    "\n",
    "        dates.append(date)\n",
    "        states.append(value1)\n",
    "        countrys.append(value2)\n",
    "\n",
    "df = pd.DataFrame(list(zip(dates, states, countrys)),columns =['Data', 'Estadual', 'País'])\n",
    "\n",
    "df.to_csv(\"texte.csv\", sep=';', index=False)"
   ]
  }
 ],
 "metadata": {
  "kernelspec": {
   "display_name": "Python 3",
   "language": "python",
   "name": "python3"
  },
  "language_info": {
   "codemirror_mode": {
    "name": "ipython",
    "version": 3
   },
   "file_extension": ".py",
   "mimetype": "text/x-python",
   "name": "python",
   "nbconvert_exporter": "python",
   "pygments_lexer": "ipython3",
   "version": "3.12.5"
  }
 },
 "nbformat": 4,
 "nbformat_minor": 2
}
