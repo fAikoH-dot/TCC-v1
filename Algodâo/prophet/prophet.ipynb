{
  "cells": [
    {
      "cell_type": "markdown",
      "metadata": {
        "colab_type": "text",
        "id": "view-in-github"
      },
      "source": [
        "<a href=\"https://colab.research.google.com/github/fAikoH-dot/TCC-v1/blob/main/prophet/prophet.ipynb\" target=\"_parent\"><img src=\"https://colab.research.google.com/assets/colab-badge.svg\" alt=\"Open In Colab\"/></a>"
      ]
    },
    {
      "cell_type": "code",
      "execution_count": 63,
      "metadata": {
        "colab": {
          "base_uri": "https://localhost:8080/"
        },
        "id": "rqQLtK6uHFh-",
        "outputId": "924d102a-e884-4b64-ec82-ed9c50a7827a"
      },
      "outputs": [],
      "source": [
        "# !pip install prophet"
      ]
    },
    {
      "cell_type": "code",
      "execution_count": 64,
      "metadata": {
        "colab": {
          "base_uri": "https://localhost:8080/"
        },
        "id": "rYJ5owzXQ-KO",
        "outputId": "04252f3b-76cb-4bff-9fbb-32f1e8066af2"
      },
      "outputs": [
        {
          "name": "stdout",
          "output_type": "stream",
          "text": [
            "Defaulting to user installation because normal site-packages is not writeable\n",
            "Requirement already satisfied: python-bcb in c:\\users\\hamatsu\\appdata\\roaming\\python\\python312\\site-packages (0.3.0)\n",
            "Requirement already satisfied: httpx>=0.24.0 in c:\\users\\hamatsu\\appdata\\roaming\\python\\python312\\site-packages (from python-bcb) (0.27.2)\n",
            "Requirement already satisfied: lxml>=4.9.2 in c:\\users\\hamatsu\\appdata\\roaming\\python\\python312\\site-packages (from python-bcb) (5.3.0)\n",
            "Requirement already satisfied: pandas>=2.0.0 in c:\\users\\hamatsu\\appdata\\roaming\\python\\python312\\site-packages (from python-bcb) (2.2.3)\n",
            "Requirement already satisfied: requests>=2.31.0 in c:\\users\\hamatsu\\appdata\\roaming\\python\\python312\\site-packages (from python-bcb) (2.32.3)\n",
            "Requirement already satisfied: anyio in c:\\users\\hamatsu\\appdata\\roaming\\python\\python312\\site-packages (from httpx>=0.24.0->python-bcb) (4.6.2.post1)\n",
            "Requirement already satisfied: certifi in c:\\users\\hamatsu\\appdata\\roaming\\python\\python312\\site-packages (from httpx>=0.24.0->python-bcb) (2024.8.30)\n",
            "Requirement already satisfied: httpcore==1.* in c:\\users\\hamatsu\\appdata\\roaming\\python\\python312\\site-packages (from httpx>=0.24.0->python-bcb) (1.0.6)\n",
            "Requirement already satisfied: idna in c:\\users\\hamatsu\\appdata\\roaming\\python\\python312\\site-packages (from httpx>=0.24.0->python-bcb) (3.10)\n",
            "Requirement already satisfied: sniffio in c:\\users\\hamatsu\\appdata\\roaming\\python\\python312\\site-packages (from httpx>=0.24.0->python-bcb) (1.3.1)\n",
            "Requirement already satisfied: h11<0.15,>=0.13 in c:\\users\\hamatsu\\appdata\\roaming\\python\\python312\\site-packages (from httpcore==1.*->httpx>=0.24.0->python-bcb) (0.14.0)\n",
            "Requirement already satisfied: numpy>=1.26.0 in c:\\users\\hamatsu\\appdata\\roaming\\python\\python312\\site-packages (from pandas>=2.0.0->python-bcb) (1.26.4)\n",
            "Requirement already satisfied: python-dateutil>=2.8.2 in c:\\users\\hamatsu\\appdata\\roaming\\python\\python312\\site-packages (from pandas>=2.0.0->python-bcb) (2.9.0.post0)\n",
            "Requirement already satisfied: pytz>=2020.1 in c:\\users\\hamatsu\\appdata\\roaming\\python\\python312\\site-packages (from pandas>=2.0.0->python-bcb) (2024.2)\n",
            "Requirement already satisfied: tzdata>=2022.7 in c:\\users\\hamatsu\\appdata\\roaming\\python\\python312\\site-packages (from pandas>=2.0.0->python-bcb) (2024.1)\n",
            "Requirement already satisfied: charset-normalizer<4,>=2 in c:\\users\\hamatsu\\appdata\\roaming\\python\\python312\\site-packages (from requests>=2.31.0->python-bcb) (3.3.2)\n",
            "Requirement already satisfied: urllib3<3,>=1.21.1 in c:\\users\\hamatsu\\appdata\\roaming\\python\\python312\\site-packages (from requests>=2.31.0->python-bcb) (2.2.3)\n",
            "Requirement already satisfied: six>=1.5 in c:\\users\\hamatsu\\appdata\\roaming\\python\\python312\\site-packages (from python-dateutil>=2.8.2->pandas>=2.0.0->python-bcb) (1.16.0)\n",
            "Note: you may need to restart the kernel to use updated packages.\n"
          ]
        },
        {
          "name": "stderr",
          "output_type": "stream",
          "text": [
            "\n",
            "[notice] A new release of pip is available: 24.2 -> 25.1.1\n",
            "[notice] To update, run: python.exe -m pip install --upgrade pip\n"
          ]
        }
      ],
      "source": [
        "%pip install python-bcb"
      ]
    },
    {
      "cell_type": "code",
      "execution_count": 65,
      "metadata": {
        "id": "AGq222POG06e"
      },
      "outputs": [],
      "source": [
        "import pandas as pd\n",
        "from prophet import Prophet\n",
        "import matplotlib.pyplot as plt\n",
        "\n",
        "from sklearn.metrics import r2_score\n",
        "from sklearn.metrics import mean_absolute_error, mean_absolute_percentage_error, root_mean_squared_error"
      ]
    },
    {
      "cell_type": "code",
      "execution_count": 66,
      "metadata": {
        "colab": {
          "base_uri": "https://localhost:8080/",
          "height": 206
        },
        "id": "V6NW13dOG57W",
        "outputId": "9672f481-45c6-4d39-ca0c-3e5d80dabd1f"
      },
      "outputs": [
        {
          "data": {
            "text/html": [
              "<div>\n",
              "<style scoped>\n",
              "    .dataframe tbody tr th:only-of-type {\n",
              "        vertical-align: middle;\n",
              "    }\n",
              "\n",
              "    .dataframe tbody tr th {\n",
              "        vertical-align: top;\n",
              "    }\n",
              "\n",
              "    .dataframe thead th {\n",
              "        text-align: right;\n",
              "    }\n",
              "</style>\n",
              "<table border=\"1\" class=\"dataframe\">\n",
              "  <thead>\n",
              "    <tr style=\"text-align: right;\">\n",
              "      <th></th>\n",
              "      <th>ds</th>\n",
              "      <th>Cultivo</th>\n",
              "      <th>y</th>\n",
              "      <th>País</th>\n",
              "      <th>Id</th>\n",
              "      <th>Último</th>\n",
              "      <th>Abertura</th>\n",
              "      <th>Máxima</th>\n",
              "      <th>Mínima</th>\n",
              "    </tr>\n",
              "  </thead>\n",
              "  <tbody>\n",
              "    <tr>\n",
              "      <th>0</th>\n",
              "      <td>2005-01-01</td>\n",
              "      <td>Algodão</td>\n",
              "      <td>41.3763</td>\n",
              "      <td>41.0963</td>\n",
              "      <td>3.0</td>\n",
              "      <td>4376.0</td>\n",
              "      <td>4451.0</td>\n",
              "      <td>4831.0</td>\n",
              "      <td>4240.0</td>\n",
              "    </tr>\n",
              "    <tr>\n",
              "      <th>1</th>\n",
              "      <td>2005-02-01</td>\n",
              "      <td>Algodão</td>\n",
              "      <td>40.0096</td>\n",
              "      <td>41.2643</td>\n",
              "      <td>3.0</td>\n",
              "      <td>5030.0</td>\n",
              "      <td>4420.0</td>\n",
              "      <td>5030.0</td>\n",
              "      <td>4261.0</td>\n",
              "    </tr>\n",
              "    <tr>\n",
              "      <th>2</th>\n",
              "      <td>2005-03-01</td>\n",
              "      <td>Algodão</td>\n",
              "      <td>37.3086</td>\n",
              "      <td>40.0517</td>\n",
              "      <td>3.0</td>\n",
              "      <td>5303.0</td>\n",
              "      <td>5015.0</td>\n",
              "      <td>5460.0</td>\n",
              "      <td>4775.0</td>\n",
              "    </tr>\n",
              "    <tr>\n",
              "      <th>3</th>\n",
              "      <td>2005-04-01</td>\n",
              "      <td>Algodão</td>\n",
              "      <td>39.1540</td>\n",
              "      <td>40.9909</td>\n",
              "      <td>3.0</td>\n",
              "      <td>5800.0</td>\n",
              "      <td>5315.0</td>\n",
              "      <td>6050.0</td>\n",
              "      <td>5055.0</td>\n",
              "    </tr>\n",
              "    <tr>\n",
              "      <th>4</th>\n",
              "      <td>2005-05-01</td>\n",
              "      <td>Algodão</td>\n",
              "      <td>35.0431</td>\n",
              "      <td>38.6424</td>\n",
              "      <td>3.0</td>\n",
              "      <td>4864.0</td>\n",
              "      <td>5770.0</td>\n",
              "      <td>5800.0</td>\n",
              "      <td>4850.0</td>\n",
              "    </tr>\n",
              "  </tbody>\n",
              "</table>\n",
              "</div>"
            ],
            "text/plain": [
              "          ds  Cultivo        y     País   Id  Último  Abertura  Máxima  Mínima\n",
              "0 2005-01-01  Algodão  41.3763  41.0963  3.0  4376.0    4451.0  4831.0  4240.0\n",
              "1 2005-02-01  Algodão  40.0096  41.2643  3.0  5030.0    4420.0  5030.0  4261.0\n",
              "2 2005-03-01  Algodão  37.3086  40.0517  3.0  5303.0    5015.0  5460.0  4775.0\n",
              "3 2005-04-01  Algodão  39.1540  40.9909  3.0  5800.0    5315.0  6050.0  5055.0\n",
              "4 2005-05-01  Algodão  35.0431  38.6424  3.0  4864.0    5770.0  5800.0  4850.0"
            ]
          },
          "execution_count": 66,
          "metadata": {},
          "output_type": "execute_result"
        }
      ],
      "source": [
        "df = pd.read_csv('../../data library/Algodao_v1.csv', sep=\";\")\n",
        "df[\"Data\"] = pd.to_datetime(df[\"Data\"])\n",
        "df = df.sort_values(by='Data').reset_index(drop=True)\n",
        "df.rename(columns={\"Data\":\"ds\", \"Estadual\":\"y\"}, inplace=True)\n",
        "df = df[[\"ds\", \"Cultivo\", \"y\", \"País\", \"Id\", \"Último\", \"Abertura\", \"Máxima\", \"Mínima\"]]\n",
        "df.head()"
      ]
    },
    {
      "cell_type": "code",
      "execution_count": 67,
      "metadata": {
        "id": "JXhdRNaYRBz1"
      },
      "outputs": [],
      "source": [
        "from bcb import PTAX\n",
        "from bcb import currency\n",
        "\n",
        "ptax = PTAX()\n",
        "\n",
        "df_usd = currency.get(['USD'],\n",
        "                  start='2005-01-01',\n",
        "                  end='2024-10-01',\n",
        "                  side='ask')\n",
        "\n",
        "df_usd[\"Date\"]=df_usd.index\n",
        "df_usd[\"Month\"] = df_usd[\"Date\"].dt.month\n",
        "df_usd[\"Year\"] = df_usd[\"Date\"].dt.year\n",
        "df_usd[\"Day\"] = 1\n",
        "df_usd[\"Aux\"] = df_usd[\"Year\"].astype(str) +\"-\"+ df_usd[\"Month\"].astype(str)\n",
        "df_usd = df_usd.groupby(\"Aux\").agg(\n",
        "    USD = (\"USD\", \"mean\"),\n",
        "    day = (\"Day\", \"first\"),\n",
        "    month = (\"Month\", \"first\"),\n",
        "    year = (\"Year\", \"first\"),\n",
        ").reset_index(drop=True)\n",
        "\n",
        "df_usd[\"Data\"] = pd.to_datetime(df_usd[['year', 'month', 'day']])\n",
        "df_usd = df_usd[[\"Data\", \"USD\"]].sort_values(by=\"Data\").reset_index(drop=True)"
      ]
    },
    {
      "cell_type": "code",
      "execution_count": 68,
      "metadata": {
        "colab": {
          "base_uri": "https://localhost:8080/",
          "height": 206
        },
        "id": "tEjQSX1tRSzj",
        "outputId": "d815b1d4-87b3-4662-a9b5-61f18ebe8452"
      },
      "outputs": [
        {
          "data": {
            "text/html": [
              "<div>\n",
              "<style scoped>\n",
              "    .dataframe tbody tr th:only-of-type {\n",
              "        vertical-align: middle;\n",
              "    }\n",
              "\n",
              "    .dataframe tbody tr th {\n",
              "        vertical-align: top;\n",
              "    }\n",
              "\n",
              "    .dataframe thead th {\n",
              "        text-align: right;\n",
              "    }\n",
              "</style>\n",
              "<table border=\"1\" class=\"dataframe\">\n",
              "  <thead>\n",
              "    <tr style=\"text-align: right;\">\n",
              "      <th></th>\n",
              "      <th>Data Medicao</th>\n",
              "      <th>precipitacao</th>\n",
              "      <th>temperatura</th>\n",
              "    </tr>\n",
              "  </thead>\n",
              "  <tbody>\n",
              "    <tr>\n",
              "      <th>0</th>\n",
              "      <td>31/01/2005</td>\n",
              "      <td>153.8</td>\n",
              "      <td>24.1</td>\n",
              "    </tr>\n",
              "    <tr>\n",
              "      <th>1</th>\n",
              "      <td>28/02/2005</td>\n",
              "      <td>287.4</td>\n",
              "      <td>24.5</td>\n",
              "    </tr>\n",
              "    <tr>\n",
              "      <th>2</th>\n",
              "      <td>31/03/2005</td>\n",
              "      <td>287.4</td>\n",
              "      <td>24.5</td>\n",
              "    </tr>\n",
              "    <tr>\n",
              "      <th>3</th>\n",
              "      <td>30/04/2005</td>\n",
              "      <td>287.4</td>\n",
              "      <td>25.5</td>\n",
              "    </tr>\n",
              "    <tr>\n",
              "      <th>4</th>\n",
              "      <td>31/05/2005</td>\n",
              "      <td>287.4</td>\n",
              "      <td>25.5</td>\n",
              "    </tr>\n",
              "  </tbody>\n",
              "</table>\n",
              "</div>"
            ],
            "text/plain": [
              "  Data Medicao precipitacao temperatura\n",
              "0   31/01/2005        153.8        24.1\n",
              "1   28/02/2005        287.4        24.5\n",
              "2   31/03/2005        287.4        24.5\n",
              "3   30/04/2005        287.4        25.5\n",
              "4   31/05/2005        287.4        25.5"
            ]
          },
          "execution_count": 68,
          "metadata": {},
          "output_type": "execute_result"
        }
      ],
      "source": [
        "clima = pd.read_csv(\"../../data library/Clima/MT_dados.csv\", sep=';')\n",
        "clima = clima[10:].reset_index(drop=True)\n",
        "clima.rename(columns={\"PRECIPITACAO TOTAL\":\"precipitacao\", \"TEMPERATURA MEDIA\":\"temperatura\"}, inplace=True)\n",
        "\n",
        "clima[\"precipitacao\"] = clima.precipitacao.str.replace(',', '.')\n",
        "clima[\"temperatura\"] = clima.temperatura.str.replace(',', '.')\n",
        "\n",
        "clima.bfill(inplace=True)\n",
        "clima.head()"
      ]
    },
    {
      "cell_type": "code",
      "execution_count": 69,
      "metadata": {
        "colab": {
          "base_uri": "https://localhost:8080/",
          "height": 206
        },
        "id": "9hI2swi8RU2l",
        "outputId": "a68625f9-e594-4866-80d6-a97d7c9aac50"
      },
      "outputs": [
        {
          "data": {
            "text/html": [
              "<div>\n",
              "<style scoped>\n",
              "    .dataframe tbody tr th:only-of-type {\n",
              "        vertical-align: middle;\n",
              "    }\n",
              "\n",
              "    .dataframe tbody tr th {\n",
              "        vertical-align: top;\n",
              "    }\n",
              "\n",
              "    .dataframe thead th {\n",
              "        text-align: right;\n",
              "    }\n",
              "</style>\n",
              "<table border=\"1\" class=\"dataframe\">\n",
              "  <thead>\n",
              "    <tr style=\"text-align: right;\">\n",
              "      <th></th>\n",
              "      <th>ds</th>\n",
              "      <th>Cultivo</th>\n",
              "      <th>y</th>\n",
              "      <th>País</th>\n",
              "      <th>Id</th>\n",
              "      <th>Último</th>\n",
              "      <th>Abertura</th>\n",
              "      <th>Máxima</th>\n",
              "      <th>Mínima</th>\n",
              "      <th>USD</th>\n",
              "      <th>Precipitacao</th>\n",
              "      <th>Temperatura</th>\n",
              "      <th>lag_Estadual</th>\n",
              "    </tr>\n",
              "  </thead>\n",
              "  <tbody>\n",
              "    <tr>\n",
              "      <th>0</th>\n",
              "      <td>2005-01-01</td>\n",
              "      <td>Algodão</td>\n",
              "      <td>41.3763</td>\n",
              "      <td>41.0963</td>\n",
              "      <td>3.0</td>\n",
              "      <td>4376.0</td>\n",
              "      <td>4451.0</td>\n",
              "      <td>4831.0</td>\n",
              "      <td>4240.0</td>\n",
              "      <td>2.693024</td>\n",
              "      <td>153.8</td>\n",
              "      <td>24.1</td>\n",
              "      <td>41.3763</td>\n",
              "    </tr>\n",
              "    <tr>\n",
              "      <th>1</th>\n",
              "      <td>2005-02-01</td>\n",
              "      <td>Algodão</td>\n",
              "      <td>40.0096</td>\n",
              "      <td>41.2643</td>\n",
              "      <td>3.0</td>\n",
              "      <td>5030.0</td>\n",
              "      <td>4420.0</td>\n",
              "      <td>5030.0</td>\n",
              "      <td>4261.0</td>\n",
              "      <td>2.597839</td>\n",
              "      <td>287.4</td>\n",
              "      <td>24.5</td>\n",
              "      <td>41.3763</td>\n",
              "    </tr>\n",
              "    <tr>\n",
              "      <th>2</th>\n",
              "      <td>2005-03-01</td>\n",
              "      <td>Algodão</td>\n",
              "      <td>37.3086</td>\n",
              "      <td>40.0517</td>\n",
              "      <td>3.0</td>\n",
              "      <td>5303.0</td>\n",
              "      <td>5015.0</td>\n",
              "      <td>5460.0</td>\n",
              "      <td>4775.0</td>\n",
              "      <td>2.704736</td>\n",
              "      <td>287.4</td>\n",
              "      <td>24.5</td>\n",
              "      <td>40.0096</td>\n",
              "    </tr>\n",
              "    <tr>\n",
              "      <th>3</th>\n",
              "      <td>2005-04-01</td>\n",
              "      <td>Algodão</td>\n",
              "      <td>39.1540</td>\n",
              "      <td>40.9909</td>\n",
              "      <td>3.0</td>\n",
              "      <td>5800.0</td>\n",
              "      <td>5315.0</td>\n",
              "      <td>6050.0</td>\n",
              "      <td>5055.0</td>\n",
              "      <td>2.579180</td>\n",
              "      <td>287.4</td>\n",
              "      <td>25.5</td>\n",
              "      <td>37.3086</td>\n",
              "    </tr>\n",
              "    <tr>\n",
              "      <th>4</th>\n",
              "      <td>2005-05-01</td>\n",
              "      <td>Algodão</td>\n",
              "      <td>35.0431</td>\n",
              "      <td>38.6424</td>\n",
              "      <td>3.0</td>\n",
              "      <td>4864.0</td>\n",
              "      <td>5770.0</td>\n",
              "      <td>5800.0</td>\n",
              "      <td>4850.0</td>\n",
              "      <td>2.452814</td>\n",
              "      <td>287.4</td>\n",
              "      <td>25.5</td>\n",
              "      <td>39.1540</td>\n",
              "    </tr>\n",
              "  </tbody>\n",
              "</table>\n",
              "</div>"
            ],
            "text/plain": [
              "          ds  Cultivo        y     País   Id  Último  Abertura  Máxima  \\\n",
              "0 2005-01-01  Algodão  41.3763  41.0963  3.0  4376.0    4451.0  4831.0   \n",
              "1 2005-02-01  Algodão  40.0096  41.2643  3.0  5030.0    4420.0  5030.0   \n",
              "2 2005-03-01  Algodão  37.3086  40.0517  3.0  5303.0    5015.0  5460.0   \n",
              "3 2005-04-01  Algodão  39.1540  40.9909  3.0  5800.0    5315.0  6050.0   \n",
              "4 2005-05-01  Algodão  35.0431  38.6424  3.0  4864.0    5770.0  5800.0   \n",
              "\n",
              "   Mínima       USD  Precipitacao  Temperatura  lag_Estadual  \n",
              "0  4240.0  2.693024         153.8         24.1       41.3763  \n",
              "1  4261.0  2.597839         287.4         24.5       41.3763  \n",
              "2  4775.0  2.704736         287.4         24.5       40.0096  \n",
              "3  5055.0  2.579180         287.4         25.5       37.3086  \n",
              "4  4850.0  2.452814         287.4         25.5       39.1540  "
            ]
          },
          "execution_count": 69,
          "metadata": {},
          "output_type": "execute_result"
        }
      ],
      "source": [
        "df[\"USD\"] = df_usd[\"USD\"]\n",
        "df[\"Precipitacao\"] = clima[\"precipitacao\"].astype(float)\n",
        "df[\"Temperatura\"] = clima[\"temperatura\"].astype(float)\n",
        "df['lag_Estadual'] = df['y'].shift(1)\n",
        "df['lag_Estadual'] = df['lag_Estadual'].bfill()\n",
        "df.head()"
      ]
    },
    {
      "cell_type": "code",
      "execution_count": 70,
      "metadata": {
        "id": "7S2iqB1-Xvo8"
      },
      "outputs": [],
      "source": [
        "def plot_predictions(testing_dates, y_test, prediction):\n",
        "    df_test = pd.DataFrame({\"date\": testing_dates, \"actual\": y_test, \"prediction\": prediction })\n",
        "    _, ax = plt.subplots(figsize=(10, 5))\n",
        "    df_test.plot(ax=ax, label=\"Actual\", x=\"date\", y=\"actual\")\n",
        "    df_test.plot(ax=ax, label=\"Prediction\", x=\"date\", y=\"prediction\")\n",
        "    plt.legend([\"Actual\", \"Prediction\"])\n",
        "    plt.show()"
      ]
    },
    {
      "cell_type": "code",
      "execution_count": 71,
      "metadata": {
        "id": "qIR1SHLhaNJz"
      },
      "outputs": [],
      "source": [
        "def evaluate_model(y_test, prediction):\n",
        "  print(f\"MAE: {mean_absolute_error(y_test, prediction)}\")\n",
        "  print(f\"RMSE: {root_mean_squared_error(y_test, prediction)}\")\n",
        "  print(f\"MAPE: {mean_absolute_percentage_error(y_test, prediction)}\")\n",
        "  print(f\"R-Squared: {r2_score(y_test, prediction)}\")"
      ]
    },
    {
      "cell_type": "code",
      "execution_count": 72,
      "metadata": {
        "colab": {
          "base_uri": "https://localhost:8080/",
          "height": 447
        },
        "id": "uzoVht05RvsI",
        "outputId": "9613c1c0-d9a9-4e95-f2d4-9c035257bb08"
      },
      "outputs": [
        {
          "data": {
            "text/plain": [
              "[<matplotlib.lines.Line2D at 0x24b20d74f20>]"
            ]
          },
          "execution_count": 72,
          "metadata": {},
          "output_type": "execute_result"
        },
        {
          "data": {
            "image/png": "[encoded data removed]",
            "text/plain": [
              "<Figure size 640x480 with 1 Axes>"
            ]
          },
          "metadata": {},
          "output_type": "display_data"
        }
      ],
      "source": [
        "train_size = int(len(df) * 0.8)\n",
        "train, test = df[0:train_size], df[train_size:len(df)]\n",
        "\n",
        "test_dates = test.ds\n",
        "\n",
        "plt.plot(train.y)\n",
        "plt.plot(test.y)"
      ]
    },
    {
      "cell_type": "markdown",
      "metadata": {
        "id": "1VDIm552YNPz"
      },
      "source": [
        "# Univariado"
      ]
    },
    {
      "cell_type": "code",
      "execution_count": 73,
      "metadata": {
        "colab": {
          "base_uri": "https://localhost:8080/"
        },
        "id": "7j-ir4wlYSIL",
        "outputId": "8f878836-f98b-40b3-e3ac-8e800b086b26"
      },
      "outputs": [
        {
          "name": "stderr",
          "output_type": "stream",
          "text": [
            "23:20:21 - cmdstanpy - INFO - Chain [1] start processing\n",
            "23:20:22 - cmdstanpy - INFO - Chain [1] done processing\n"
          ]
        },
        {
          "data": {
            "text/plain": [
              "<prophet.forecaster.Prophet at 0x24b20884a70>"
            ]
          },
          "execution_count": 73,
          "metadata": {},
          "output_type": "execute_result"
        }
      ],
      "source": [
        "m = Prophet()\n",
        "m.fit(train)\n",
        "\n",
        "# m.params"
      ]
    },
    {
      "cell_type": "code",
      "execution_count": 74,
      "metadata": {
        "colab": {
          "base_uri": "https://localhost:8080/",
          "height": 206
        },
        "id": "B7v7S7IqYbv1",
        "outputId": "2878729d-971f-4373-c463-0e07b8ff3dbe"
      },
      "outputs": [
        {
          "data": {
            "text/html": [
              "<div>\n",
              "<style scoped>\n",
              "    .dataframe tbody tr th:only-of-type {\n",
              "        vertical-align: middle;\n",
              "    }\n",
              "\n",
              "    .dataframe tbody tr th {\n",
              "        vertical-align: top;\n",
              "    }\n",
              "\n",
              "    .dataframe thead th {\n",
              "        text-align: right;\n",
              "    }\n",
              "</style>\n",
              "<table border=\"1\" class=\"dataframe\">\n",
              "  <thead>\n",
              "    <tr style=\"text-align: right;\">\n",
              "      <th></th>\n",
              "      <th>ds</th>\n",
              "      <th>yhat</th>\n",
              "      <th>yhat_lower</th>\n",
              "      <th>yhat_upper</th>\n",
              "    </tr>\n",
              "  </thead>\n",
              "  <tbody>\n",
              "    <tr>\n",
              "      <th>0</th>\n",
              "      <td>2020-10-01</td>\n",
              "      <td>89.370256</td>\n",
              "      <td>73.781999</td>\n",
              "      <td>105.415831</td>\n",
              "    </tr>\n",
              "    <tr>\n",
              "      <th>1</th>\n",
              "      <td>2020-11-01</td>\n",
              "      <td>90.022565</td>\n",
              "      <td>73.238739</td>\n",
              "      <td>106.519574</td>\n",
              "    </tr>\n",
              "    <tr>\n",
              "      <th>2</th>\n",
              "      <td>2020-12-01</td>\n",
              "      <td>91.741634</td>\n",
              "      <td>74.417514</td>\n",
              "      <td>108.334248</td>\n",
              "    </tr>\n",
              "    <tr>\n",
              "      <th>3</th>\n",
              "      <td>2021-01-01</td>\n",
              "      <td>96.404164</td>\n",
              "      <td>79.382051</td>\n",
              "      <td>113.085632</td>\n",
              "    </tr>\n",
              "    <tr>\n",
              "      <th>4</th>\n",
              "      <td>2021-02-01</td>\n",
              "      <td>98.467066</td>\n",
              "      <td>82.523196</td>\n",
              "      <td>116.136367</td>\n",
              "    </tr>\n",
              "  </tbody>\n",
              "</table>\n",
              "</div>"
            ],
            "text/plain": [
              "          ds       yhat  yhat_lower  yhat_upper\n",
              "0 2020-10-01  89.370256   73.781999  105.415831\n",
              "1 2020-11-01  90.022565   73.238739  106.519574\n",
              "2 2020-12-01  91.741634   74.417514  108.334248\n",
              "3 2021-01-01  96.404164   79.382051  113.085632\n",
              "4 2021-02-01  98.467066   82.523196  116.136367"
            ]
          },
          "execution_count": 74,
          "metadata": {},
          "output_type": "execute_result"
        }
      ],
      "source": [
        "forecast = m.predict(test)\n",
        "forecast[['ds', 'yhat', 'yhat_lower', 'yhat_upper']].head()"
      ]
    },
    {
      "cell_type": "code",
      "execution_count": 75,
      "metadata": {
        "colab": {
          "base_uri": "https://localhost:8080/",
          "height": 206
        },
        "id": "Tqh0TWeTYdpy",
        "outputId": "5a90fc96-73ab-4ddc-d207-30442e43182c"
      },
      "outputs": [
        {
          "data": {
            "text/html": [
              "<div>\n",
              "<style scoped>\n",
              "    .dataframe tbody tr th:only-of-type {\n",
              "        vertical-align: middle;\n",
              "    }\n",
              "\n",
              "    .dataframe tbody tr th {\n",
              "        vertical-align: top;\n",
              "    }\n",
              "\n",
              "    .dataframe thead th {\n",
              "        text-align: right;\n",
              "    }\n",
              "</style>\n",
              "<table border=\"1\" class=\"dataframe\">\n",
              "  <thead>\n",
              "    <tr style=\"text-align: right;\">\n",
              "      <th></th>\n",
              "      <th>ds</th>\n",
              "      <th>y</th>\n",
              "      <th>yhat</th>\n",
              "    </tr>\n",
              "  </thead>\n",
              "  <tbody>\n",
              "    <tr>\n",
              "      <th>0</th>\n",
              "      <td>2020-10-01</td>\n",
              "      <td>113.9626</td>\n",
              "      <td>89.370256</td>\n",
              "    </tr>\n",
              "    <tr>\n",
              "      <th>1</th>\n",
              "      <td>2020-11-01</td>\n",
              "      <td>125.4194</td>\n",
              "      <td>90.022565</td>\n",
              "    </tr>\n",
              "    <tr>\n",
              "      <th>2</th>\n",
              "      <td>2020-12-01</td>\n",
              "      <td>122.7905</td>\n",
              "      <td>91.741634</td>\n",
              "    </tr>\n",
              "    <tr>\n",
              "      <th>3</th>\n",
              "      <td>2021-01-01</td>\n",
              "      <td>133.6717</td>\n",
              "      <td>96.404164</td>\n",
              "    </tr>\n",
              "    <tr>\n",
              "      <th>4</th>\n",
              "      <td>2021-02-01</td>\n",
              "      <td>152.5190</td>\n",
              "      <td>98.467066</td>\n",
              "    </tr>\n",
              "  </tbody>\n",
              "</table>\n",
              "</div>"
            ],
            "text/plain": [
              "          ds         y       yhat\n",
              "0 2020-10-01  113.9626  89.370256\n",
              "1 2020-11-01  125.4194  90.022565\n",
              "2 2020-12-01  122.7905  91.741634\n",
              "3 2021-01-01  133.6717  96.404164\n",
              "4 2021-02-01  152.5190  98.467066"
            ]
          },
          "execution_count": 75,
          "metadata": {},
          "output_type": "execute_result"
        }
      ],
      "source": [
        "test.reset_index(inplace=True, drop=True)\n",
        "final_df = test[[\"ds\", \"y\"]].copy()\n",
        "final_df['yhat'] = forecast['yhat']\n",
        "final_df.head()"
      ]
    },
    {
      "cell_type": "code",
      "execution_count": 76,
      "metadata": {
        "colab": {
          "base_uri": "https://localhost:8080/",
          "height": 534
        },
        "id": "CkLmGC7mYg4k",
        "outputId": "e92429f4-ff05-4712-ed66-95b5e5f80efd"
      },
      "outputs": [
        {
          "data": {
            "image/png": "[encoded data removed]",
            "text/plain": [
              "<Figure size 1000x500 with 1 Axes>"
            ]
          },
          "metadata": {},
          "output_type": "display_data"
        },
        {
          "name": "stdout",
          "output_type": "stream",
          "text": [
            "MAE: 58.65214328572185\n",
            "RMSE: 70.99560134759098\n",
            "MAPE: 0.33221874672512625\n",
            "R-Squared: -2.4283663615460065\n"
          ]
        }
      ],
      "source": [
        "plot_predictions(test_dates, final_df.y, final_df.yhat)\n",
        "evaluate_model(final_df.y, final_df.yhat)"
      ]
    },
    {
      "cell_type": "markdown",
      "metadata": {
        "id": "qP9ihS-HYSdH"
      },
      "source": [
        "# Multivariado"
      ]
    },
    {
      "cell_type": "code",
      "execution_count": 77,
      "metadata": {
        "colab": {
          "base_uri": "https://localhost:8080/"
        },
        "id": "smUT9ZiIG80z",
        "outputId": "92b95283-efe4-47cc-de2d-07109459adca"
      },
      "outputs": [
        {
          "name": "stderr",
          "output_type": "stream",
          "text": [
            "23:20:22 - cmdstanpy - INFO - Chain [1] start processing\n",
            "23:20:22 - cmdstanpy - INFO - Chain [1] done processing\n"
          ]
        },
        {
          "data": {
            "text/plain": [
              "<prophet.forecaster.Prophet at 0x24b20d7bb30>"
            ]
          },
          "execution_count": 77,
          "metadata": {},
          "output_type": "execute_result"
        }
      ],
      "source": [
        "m = Prophet()\n",
        "m.add_regressor('USD')\n",
        "m.add_regressor('País')\n",
        "m.add_regressor('Último')\n",
        "m.add_regressor('Máxima')\n",
        "m.add_regressor('lag_Estadual')\n",
        "m.fit(train)\n",
        "\n",
        "# m.params"
      ]
    },
    {
      "cell_type": "code",
      "execution_count": 78,
      "metadata": {
        "colab": {
          "base_uri": "https://localhost:8080/",
          "height": 206
        },
        "id": "NLrkICXdS-vD",
        "outputId": "5c6e2395-ede6-4124-a260-e26ef89afd21"
      },
      "outputs": [
        {
          "data": {
            "text/html": [
              "<div>\n",
              "<style scoped>\n",
              "    .dataframe tbody tr th:only-of-type {\n",
              "        vertical-align: middle;\n",
              "    }\n",
              "\n",
              "    .dataframe tbody tr th {\n",
              "        vertical-align: top;\n",
              "    }\n",
              "\n",
              "    .dataframe thead th {\n",
              "        text-align: right;\n",
              "    }\n",
              "</style>\n",
              "<table border=\"1\" class=\"dataframe\">\n",
              "  <thead>\n",
              "    <tr style=\"text-align: right;\">\n",
              "      <th></th>\n",
              "      <th>ds</th>\n",
              "      <th>USD</th>\n",
              "      <th>País</th>\n",
              "      <th>Último</th>\n",
              "      <th>Máxima</th>\n",
              "      <th>lag_Estadual</th>\n",
              "    </tr>\n",
              "  </thead>\n",
              "  <tbody>\n",
              "    <tr>\n",
              "      <th>0</th>\n",
              "      <td>2020-10-01</td>\n",
              "      <td>5.625790</td>\n",
              "      <td>112.5502</td>\n",
              "      <td>7058.0</td>\n",
              "      <td>7377.0</td>\n",
              "      <td>100.8865</td>\n",
              "    </tr>\n",
              "    <tr>\n",
              "      <th>1</th>\n",
              "      <td>2020-11-01</td>\n",
              "      <td>5.417835</td>\n",
              "      <td>124.6481</td>\n",
              "      <td>7305.0</td>\n",
              "      <td>7508.0</td>\n",
              "      <td>113.9626</td>\n",
              "    </tr>\n",
              "    <tr>\n",
              "      <th>2</th>\n",
              "      <td>2020-12-01</td>\n",
              "      <td>5.145586</td>\n",
              "      <td>125.1981</td>\n",
              "      <td>7917.0</td>\n",
              "      <td>7946.0</td>\n",
              "      <td>125.4194</td>\n",
              "    </tr>\n",
              "    <tr>\n",
              "      <th>3</th>\n",
              "      <td>2021-01-01</td>\n",
              "      <td>5.356245</td>\n",
              "      <td>134.9602</td>\n",
              "      <td>8278.0</td>\n",
              "      <td>8468.0</td>\n",
              "      <td>122.7905</td>\n",
              "    </tr>\n",
              "    <tr>\n",
              "      <th>4</th>\n",
              "      <td>2021-02-01</td>\n",
              "      <td>5.416494</td>\n",
              "      <td>153.2923</td>\n",
              "      <td>8971.0</td>\n",
              "      <td>9622.0</td>\n",
              "      <td>133.6717</td>\n",
              "    </tr>\n",
              "  </tbody>\n",
              "</table>\n",
              "</div>"
            ],
            "text/plain": [
              "          ds       USD      País  Último  Máxima  lag_Estadual\n",
              "0 2020-10-01  5.625790  112.5502  7058.0  7377.0      100.8865\n",
              "1 2020-11-01  5.417835  124.6481  7305.0  7508.0      113.9626\n",
              "2 2020-12-01  5.145586  125.1981  7917.0  7946.0      125.4194\n",
              "3 2021-01-01  5.356245  134.9602  8278.0  8468.0      122.7905\n",
              "4 2021-02-01  5.416494  153.2923  8971.0  9622.0      133.6717"
            ]
          },
          "execution_count": 78,
          "metadata": {},
          "output_type": "execute_result"
        }
      ],
      "source": [
        "test_1 = test[['ds', 'USD', 'País', 'Último', 'Máxima', 'lag_Estadual']]\n",
        "test_1.head()"
      ]
    },
    {
      "cell_type": "code",
      "execution_count": 79,
      "metadata": {
        "id": "KFTOaHQ7I20O"
      },
      "outputs": [],
      "source": [
        "# future = m.make_future_dataframe(periods=len(test_1), freq='MS')\n",
        "# future.head()"
      ]
    },
    {
      "cell_type": "code",
      "execution_count": 80,
      "metadata": {
        "colab": {
          "base_uri": "https://localhost:8080/",
          "height": 206
        },
        "id": "8DhLiuhxI5J-",
        "outputId": "5717b5ad-b7b6-4a4c-f6b6-a4f529b15a72"
      },
      "outputs": [
        {
          "data": {
            "text/html": [
              "<div>\n",
              "<style scoped>\n",
              "    .dataframe tbody tr th:only-of-type {\n",
              "        vertical-align: middle;\n",
              "    }\n",
              "\n",
              "    .dataframe tbody tr th {\n",
              "        vertical-align: top;\n",
              "    }\n",
              "\n",
              "    .dataframe thead th {\n",
              "        text-align: right;\n",
              "    }\n",
              "</style>\n",
              "<table border=\"1\" class=\"dataframe\">\n",
              "  <thead>\n",
              "    <tr style=\"text-align: right;\">\n",
              "      <th></th>\n",
              "      <th>ds</th>\n",
              "      <th>yhat</th>\n",
              "      <th>yhat_lower</th>\n",
              "      <th>yhat_upper</th>\n",
              "    </tr>\n",
              "  </thead>\n",
              "  <tbody>\n",
              "    <tr>\n",
              "      <th>0</th>\n",
              "      <td>2020-10-01</td>\n",
              "      <td>111.515410</td>\n",
              "      <td>109.786794</td>\n",
              "      <td>113.089359</td>\n",
              "    </tr>\n",
              "    <tr>\n",
              "      <th>1</th>\n",
              "      <td>2020-11-01</td>\n",
              "      <td>123.850341</td>\n",
              "      <td>122.270801</td>\n",
              "      <td>125.564934</td>\n",
              "    </tr>\n",
              "    <tr>\n",
              "      <th>2</th>\n",
              "      <td>2020-12-01</td>\n",
              "      <td>124.077159</td>\n",
              "      <td>122.489368</td>\n",
              "      <td>125.902712</td>\n",
              "    </tr>\n",
              "    <tr>\n",
              "      <th>3</th>\n",
              "      <td>2021-01-01</td>\n",
              "      <td>137.087161</td>\n",
              "      <td>135.381032</td>\n",
              "      <td>138.710317</td>\n",
              "    </tr>\n",
              "    <tr>\n",
              "      <th>4</th>\n",
              "      <td>2021-02-01</td>\n",
              "      <td>155.866101</td>\n",
              "      <td>154.138432</td>\n",
              "      <td>157.443520</td>\n",
              "    </tr>\n",
              "  </tbody>\n",
              "</table>\n",
              "</div>"
            ],
            "text/plain": [
              "          ds        yhat  yhat_lower  yhat_upper\n",
              "0 2020-10-01  111.515410  109.786794  113.089359\n",
              "1 2020-11-01  123.850341  122.270801  125.564934\n",
              "2 2020-12-01  124.077159  122.489368  125.902712\n",
              "3 2021-01-01  137.087161  135.381032  138.710317\n",
              "4 2021-02-01  155.866101  154.138432  157.443520"
            ]
          },
          "execution_count": 80,
          "metadata": {},
          "output_type": "execute_result"
        }
      ],
      "source": [
        "forecast = m.predict(test_1)\n",
        "forecast[['ds', 'yhat', 'yhat_lower', 'yhat_upper']].head()"
      ]
    },
    {
      "cell_type": "code",
      "execution_count": 81,
      "metadata": {
        "colab": {
          "base_uri": "https://localhost:8080/",
          "height": 206
        },
        "id": "NzGyiMW9W2RW",
        "outputId": "7ee07ed5-edfb-4aa5-c40a-ee251309d8b3"
      },
      "outputs": [
        {
          "data": {
            "text/html": [
              "<div>\n",
              "<style scoped>\n",
              "    .dataframe tbody tr th:only-of-type {\n",
              "        vertical-align: middle;\n",
              "    }\n",
              "\n",
              "    .dataframe tbody tr th {\n",
              "        vertical-align: top;\n",
              "    }\n",
              "\n",
              "    .dataframe thead th {\n",
              "        text-align: right;\n",
              "    }\n",
              "</style>\n",
              "<table border=\"1\" class=\"dataframe\">\n",
              "  <thead>\n",
              "    <tr style=\"text-align: right;\">\n",
              "      <th></th>\n",
              "      <th>ds</th>\n",
              "      <th>y</th>\n",
              "      <th>País</th>\n",
              "      <th>USD</th>\n",
              "      <th>yhat</th>\n",
              "    </tr>\n",
              "  </thead>\n",
              "  <tbody>\n",
              "    <tr>\n",
              "      <th>0</th>\n",
              "      <td>2020-10-01</td>\n",
              "      <td>113.9626</td>\n",
              "      <td>112.5502</td>\n",
              "      <td>5.625790</td>\n",
              "      <td>111.515410</td>\n",
              "    </tr>\n",
              "    <tr>\n",
              "      <th>1</th>\n",
              "      <td>2020-11-01</td>\n",
              "      <td>125.4194</td>\n",
              "      <td>124.6481</td>\n",
              "      <td>5.417835</td>\n",
              "      <td>123.850341</td>\n",
              "    </tr>\n",
              "    <tr>\n",
              "      <th>2</th>\n",
              "      <td>2020-12-01</td>\n",
              "      <td>122.7905</td>\n",
              "      <td>125.1981</td>\n",
              "      <td>5.145586</td>\n",
              "      <td>124.077159</td>\n",
              "    </tr>\n",
              "    <tr>\n",
              "      <th>3</th>\n",
              "      <td>2021-01-01</td>\n",
              "      <td>133.6717</td>\n",
              "      <td>134.9602</td>\n",
              "      <td>5.356245</td>\n",
              "      <td>137.087161</td>\n",
              "    </tr>\n",
              "    <tr>\n",
              "      <th>4</th>\n",
              "      <td>2021-02-01</td>\n",
              "      <td>152.5190</td>\n",
              "      <td>153.2923</td>\n",
              "      <td>5.416494</td>\n",
              "      <td>155.866101</td>\n",
              "    </tr>\n",
              "  </tbody>\n",
              "</table>\n",
              "</div>"
            ],
            "text/plain": [
              "          ds         y      País       USD        yhat\n",
              "0 2020-10-01  113.9626  112.5502  5.625790  111.515410\n",
              "1 2020-11-01  125.4194  124.6481  5.417835  123.850341\n",
              "2 2020-12-01  122.7905  125.1981  5.145586  124.077159\n",
              "3 2021-01-01  133.6717  134.9602  5.356245  137.087161\n",
              "4 2021-02-01  152.5190  153.2923  5.416494  155.866101"
            ]
          },
          "execution_count": 81,
          "metadata": {},
          "output_type": "execute_result"
        }
      ],
      "source": [
        "test.reset_index(inplace=True, drop=True)\n",
        "final_df = test[[\"ds\", \"y\", \"País\", \"USD\"]].copy()\n",
        "final_df['yhat'] = forecast['yhat']\n",
        "final_df.head()"
      ]
    },
    {
      "cell_type": "code",
      "execution_count": 82,
      "metadata": {
        "colab": {
          "base_uri": "https://localhost:8080/",
          "height": 534
        },
        "id": "AyxOktb2XxM4",
        "outputId": "f6076a26-cfb9-4ee4-ce56-647883ab2e1b"
      },
      "outputs": [
        {
          "data": {
            "image/png": "[encoded data removed]",
            "text/plain": [
              "<Figure size 1000x500 with 1 Axes>"
            ]
          },
          "metadata": {},
          "output_type": "display_data"
        },
        {
          "name": "stdout",
          "output_type": "stream",
          "text": [
            "MAE: 2.160971271992704\n",
            "RMSE: 2.7466793376832315\n",
            "MAPE: 0.014772465241096877\n",
            "R-Squared: 0.994868548104623\n"
          ]
        }
      ],
      "source": [
        "plot_predictions(test_dates, final_df.y, final_df.yhat)\n",
        "evaluate_model(final_df.y, final_df.yhat)"
      ]
    },
    {
      "cell_type": "markdown",
      "metadata": {},
      "source": [
        "## Predict variables"
      ]
    },
    {
      "cell_type": "code",
      "execution_count": 83,
      "metadata": {},
      "outputs": [],
      "source": [
        "aux_var = ['USD', 'País', 'Último', 'Máxima', 'lag_Estadual']\n",
        "future_dates = m.make_future_dataframe(periods=((len(test_1))+24), freq=\"MS\")"
      ]
    },
    {
      "cell_type": "code",
      "execution_count": 84,
      "metadata": {},
      "outputs": [
        {
          "name": "stderr",
          "output_type": "stream",
          "text": [
            "23:20:23 - cmdstanpy - INFO - Chain [1] start processing\n",
            "23:20:23 - cmdstanpy - INFO - Chain [1] done processing\n",
            "23:20:23 - cmdstanpy - INFO - Chain [1] start processing\n",
            "23:20:24 - cmdstanpy - INFO - Chain [1] done processing\n",
            "23:20:24 - cmdstanpy - INFO - Chain [1] start processing\n",
            "23:20:24 - cmdstanpy - INFO - Chain [1] done processing\n",
            "23:20:24 - cmdstanpy - INFO - Chain [1] start processing\n",
            "23:20:24 - cmdstanpy - INFO - Chain [1] done processing\n",
            "23:20:25 - cmdstanpy - INFO - Chain [1] start processing\n",
            "23:20:25 - cmdstanpy - INFO - Chain [1] done processing\n"
          ]
        },
        {
          "data": {
            "text/html": [
              "<div>\n",
              "<style scoped>\n",
              "    .dataframe tbody tr th:only-of-type {\n",
              "        vertical-align: middle;\n",
              "    }\n",
              "\n",
              "    .dataframe tbody tr th {\n",
              "        vertical-align: top;\n",
              "    }\n",
              "\n",
              "    .dataframe thead th {\n",
              "        text-align: right;\n",
              "    }\n",
              "</style>\n",
              "<table border=\"1\" class=\"dataframe\">\n",
              "  <thead>\n",
              "    <tr style=\"text-align: right;\">\n",
              "      <th></th>\n",
              "      <th>ds</th>\n",
              "      <th>USD</th>\n",
              "      <th>País</th>\n",
              "      <th>Último</th>\n",
              "      <th>Máxima</th>\n",
              "      <th>lag_Estadual</th>\n",
              "    </tr>\n",
              "  </thead>\n",
              "  <tbody>\n",
              "    <tr>\n",
              "      <th>0</th>\n",
              "      <td>2005-01-01</td>\n",
              "      <td>2.327449</td>\n",
              "      <td>33.540226</td>\n",
              "      <td>4640.912357</td>\n",
              "      <td>5175.187839</td>\n",
              "      <td>29.648565</td>\n",
              "    </tr>\n",
              "    <tr>\n",
              "      <th>1</th>\n",
              "      <td>2005-02-01</td>\n",
              "      <td>2.215879</td>\n",
              "      <td>36.129405</td>\n",
              "      <td>5148.534969</td>\n",
              "      <td>5630.902399</td>\n",
              "      <td>33.548921</td>\n",
              "    </tr>\n",
              "    <tr>\n",
              "      <th>2</th>\n",
              "      <td>2005-03-01</td>\n",
              "      <td>2.318001</td>\n",
              "      <td>37.145924</td>\n",
              "      <td>4891.244981</td>\n",
              "      <td>5767.331889</td>\n",
              "      <td>35.049352</td>\n",
              "    </tr>\n",
              "    <tr>\n",
              "      <th>3</th>\n",
              "      <td>2005-04-01</td>\n",
              "      <td>2.298423</td>\n",
              "      <td>37.895415</td>\n",
              "      <td>4882.657260</td>\n",
              "      <td>5584.258519</td>\n",
              "      <td>35.829591</td>\n",
              "    </tr>\n",
              "    <tr>\n",
              "      <th>4</th>\n",
              "      <td>2005-05-01</td>\n",
              "      <td>2.319241</td>\n",
              "      <td>34.794728</td>\n",
              "      <td>4561.022370</td>\n",
              "      <td>5425.279856</td>\n",
              "      <td>36.157215</td>\n",
              "    </tr>\n",
              "    <tr>\n",
              "      <th>...</th>\n",
              "      <td>...</td>\n",
              "      <td>...</td>\n",
              "      <td>...</td>\n",
              "      <td>...</td>\n",
              "      <td>...</td>\n",
              "      <td>...</td>\n",
              "    </tr>\n",
              "    <tr>\n",
              "      <th>256</th>\n",
              "      <td>2026-05-01</td>\n",
              "      <td>6.608163</td>\n",
              "      <td>116.523603</td>\n",
              "      <td>4588.420810</td>\n",
              "      <td>4952.906962</td>\n",
              "      <td>118.862698</td>\n",
              "    </tr>\n",
              "    <tr>\n",
              "      <th>257</th>\n",
              "      <td>2026-06-01</td>\n",
              "      <td>6.610349</td>\n",
              "      <td>115.843047</td>\n",
              "      <td>4637.391402</td>\n",
              "      <td>4777.102333</td>\n",
              "      <td>115.793708</td>\n",
              "    </tr>\n",
              "    <tr>\n",
              "      <th>258</th>\n",
              "      <td>2026-07-01</td>\n",
              "      <td>6.602289</td>\n",
              "      <td>114.267947</td>\n",
              "      <td>4255.481200</td>\n",
              "      <td>4698.783956</td>\n",
              "      <td>115.416953</td>\n",
              "    </tr>\n",
              "    <tr>\n",
              "      <th>259</th>\n",
              "      <td>2026-08-01</td>\n",
              "      <td>6.674476</td>\n",
              "      <td>114.193472</td>\n",
              "      <td>4171.396411</td>\n",
              "      <td>4343.895601</td>\n",
              "      <td>113.466194</td>\n",
              "    </tr>\n",
              "    <tr>\n",
              "      <th>260</th>\n",
              "      <td>2026-09-01</td>\n",
              "      <td>6.746043</td>\n",
              "      <td>114.978604</td>\n",
              "      <td>4075.477704</td>\n",
              "      <td>4335.951048</td>\n",
              "      <td>113.272640</td>\n",
              "    </tr>\n",
              "  </tbody>\n",
              "</table>\n",
              "<p>261 rows × 6 columns</p>\n",
              "</div>"
            ],
            "text/plain": [
              "            ds       USD        País       Último       Máxima  lag_Estadual\n",
              "0   2005-01-01  2.327449   33.540226  4640.912357  5175.187839     29.648565\n",
              "1   2005-02-01  2.215879   36.129405  5148.534969  5630.902399     33.548921\n",
              "2   2005-03-01  2.318001   37.145924  4891.244981  5767.331889     35.049352\n",
              "3   2005-04-01  2.298423   37.895415  4882.657260  5584.258519     35.829591\n",
              "4   2005-05-01  2.319241   34.794728  4561.022370  5425.279856     36.157215\n",
              "..         ...       ...         ...          ...          ...           ...\n",
              "256 2026-05-01  6.608163  116.523603  4588.420810  4952.906962    118.862698\n",
              "257 2026-06-01  6.610349  115.843047  4637.391402  4777.102333    115.793708\n",
              "258 2026-07-01  6.602289  114.267947  4255.481200  4698.783956    115.416953\n",
              "259 2026-08-01  6.674476  114.193472  4171.396411  4343.895601    113.466194\n",
              "260 2026-09-01  6.746043  114.978604  4075.477704  4335.951048    113.272640\n",
              "\n",
              "[261 rows x 6 columns]"
            ]
          },
          "execution_count": 84,
          "metadata": {},
          "output_type": "execute_result"
        }
      ],
      "source": [
        "extended_df = future_dates.copy()\n",
        "\n",
        "for i in aux_var:\n",
        "    train_aux = train[['ds', i]].copy()\n",
        "    train_aux.rename(columns={i:\"y\"}, inplace=True)\n",
        "\n",
        "    m = Prophet()\n",
        "    m.fit(train_aux)\n",
        "    forecast = m.predict(future_dates)\n",
        "    \n",
        "    extended_df[i] = forecast[\"yhat\"]\n",
        "\n",
        "extended_df"
      ]
    },
    {
      "cell_type": "code",
      "execution_count": 85,
      "metadata": {},
      "outputs": [
        {
          "name": "stderr",
          "output_type": "stream",
          "text": [
            "23:20:25 - cmdstanpy - INFO - Chain [1] start processing\n",
            "23:20:25 - cmdstanpy - INFO - Chain [1] done processing\n"
          ]
        },
        {
          "data": {
            "text/plain": [
              "<prophet.forecaster.Prophet at 0x24b20863a40>"
            ]
          },
          "execution_count": 85,
          "metadata": {},
          "output_type": "execute_result"
        }
      ],
      "source": [
        "m = Prophet()\n",
        "m.add_regressor('USD')\n",
        "m.add_regressor('País')\n",
        "m.add_regressor('Último')\n",
        "m.add_regressor('Máxima')\n",
        "m.add_regressor('lag_Estadual')\n",
        "m.fit(train)"
      ]
    },
    {
      "cell_type": "code",
      "execution_count": 86,
      "metadata": {},
      "outputs": [],
      "source": [
        "real_data = df[['ds', 'USD', 'País', 'Último', 'Máxima', 'lag_Estadual']].copy()\n",
        "final_date = df[\"ds\"][-1:]\n",
        "predicted_data = extended_df[['ds', 'USD', 'País', 'Último', 'Máxima', 'lag_Estadual']][len(train)+len(test):]\n",
        "\n",
        "real_data_2 = pd.concat([real_data, predicted_data], ignore_index=True)"
      ]
    },
    {
      "cell_type": "code",
      "execution_count": 87,
      "metadata": {},
      "outputs": [
        {
          "data": {
            "text/html": [
              "<div>\n",
              "<style scoped>\n",
              "    .dataframe tbody tr th:only-of-type {\n",
              "        vertical-align: middle;\n",
              "    }\n",
              "\n",
              "    .dataframe tbody tr th {\n",
              "        vertical-align: top;\n",
              "    }\n",
              "\n",
              "    .dataframe thead th {\n",
              "        text-align: right;\n",
              "    }\n",
              "</style>\n",
              "<table border=\"1\" class=\"dataframe\">\n",
              "  <thead>\n",
              "    <tr style=\"text-align: right;\">\n",
              "      <th></th>\n",
              "      <th>ds</th>\n",
              "      <th>USD</th>\n",
              "      <th>País</th>\n",
              "      <th>Último</th>\n",
              "      <th>Máxima</th>\n",
              "      <th>lag_Estadual</th>\n",
              "    </tr>\n",
              "  </thead>\n",
              "  <tbody>\n",
              "    <tr>\n",
              "      <th>0</th>\n",
              "      <td>2020-10-01</td>\n",
              "      <td>5.625790</td>\n",
              "      <td>112.5502</td>\n",
              "      <td>7058.0</td>\n",
              "      <td>7377.0</td>\n",
              "      <td>100.8865</td>\n",
              "    </tr>\n",
              "    <tr>\n",
              "      <th>1</th>\n",
              "      <td>2020-11-01</td>\n",
              "      <td>5.417835</td>\n",
              "      <td>124.6481</td>\n",
              "      <td>7305.0</td>\n",
              "      <td>7508.0</td>\n",
              "      <td>113.9626</td>\n",
              "    </tr>\n",
              "    <tr>\n",
              "      <th>2</th>\n",
              "      <td>2020-12-01</td>\n",
              "      <td>5.145586</td>\n",
              "      <td>125.1981</td>\n",
              "      <td>7917.0</td>\n",
              "      <td>7946.0</td>\n",
              "      <td>125.4194</td>\n",
              "    </tr>\n",
              "    <tr>\n",
              "      <th>3</th>\n",
              "      <td>2021-01-01</td>\n",
              "      <td>5.356245</td>\n",
              "      <td>134.9602</td>\n",
              "      <td>8278.0</td>\n",
              "      <td>8468.0</td>\n",
              "      <td>122.7905</td>\n",
              "    </tr>\n",
              "    <tr>\n",
              "      <th>4</th>\n",
              "      <td>2021-02-01</td>\n",
              "      <td>5.416494</td>\n",
              "      <td>153.2923</td>\n",
              "      <td>8971.0</td>\n",
              "      <td>9622.0</td>\n",
              "      <td>133.6717</td>\n",
              "    </tr>\n",
              "  </tbody>\n",
              "</table>\n",
              "</div>"
            ],
            "text/plain": [
              "          ds       USD      País  Último  Máxima  lag_Estadual\n",
              "0 2020-10-01  5.625790  112.5502  7058.0  7377.0      100.8865\n",
              "1 2020-11-01  5.417835  124.6481  7305.0  7508.0      113.9626\n",
              "2 2020-12-01  5.145586  125.1981  7917.0  7946.0      125.4194\n",
              "3 2021-01-01  5.356245  134.9602  8278.0  8468.0      122.7905\n",
              "4 2021-02-01  5.416494  153.2923  8971.0  9622.0      133.6717"
            ]
          },
          "execution_count": 87,
          "metadata": {},
          "output_type": "execute_result"
        }
      ],
      "source": [
        "test_2 = real_data_2[['ds', 'USD', 'País', 'Último', 'Máxima', 'lag_Estadual']][train_size:].reset_index(drop=True)\n",
        "test_2.head()"
      ]
    },
    {
      "cell_type": "code",
      "execution_count": 88,
      "metadata": {},
      "outputs": [
        {
          "data": {
            "text/html": [
              "<div>\n",
              "<style scoped>\n",
              "    .dataframe tbody tr th:only-of-type {\n",
              "        vertical-align: middle;\n",
              "    }\n",
              "\n",
              "    .dataframe tbody tr th {\n",
              "        vertical-align: top;\n",
              "    }\n",
              "\n",
              "    .dataframe thead th {\n",
              "        text-align: right;\n",
              "    }\n",
              "</style>\n",
              "<table border=\"1\" class=\"dataframe\">\n",
              "  <thead>\n",
              "    <tr style=\"text-align: right;\">\n",
              "      <th></th>\n",
              "      <th>ds</th>\n",
              "      <th>yhat</th>\n",
              "      <th>yhat_lower</th>\n",
              "      <th>yhat_upper</th>\n",
              "    </tr>\n",
              "  </thead>\n",
              "  <tbody>\n",
              "    <tr>\n",
              "      <th>0</th>\n",
              "      <td>2020-10-01</td>\n",
              "      <td>111.515410</td>\n",
              "      <td>109.938750</td>\n",
              "      <td>113.141782</td>\n",
              "    </tr>\n",
              "    <tr>\n",
              "      <th>1</th>\n",
              "      <td>2020-11-01</td>\n",
              "      <td>123.850341</td>\n",
              "      <td>122.255220</td>\n",
              "      <td>125.469311</td>\n",
              "    </tr>\n",
              "    <tr>\n",
              "      <th>2</th>\n",
              "      <td>2020-12-01</td>\n",
              "      <td>124.077159</td>\n",
              "      <td>122.450204</td>\n",
              "      <td>125.712294</td>\n",
              "    </tr>\n",
              "    <tr>\n",
              "      <th>3</th>\n",
              "      <td>2021-01-01</td>\n",
              "      <td>137.087161</td>\n",
              "      <td>135.471188</td>\n",
              "      <td>138.758147</td>\n",
              "    </tr>\n",
              "    <tr>\n",
              "      <th>4</th>\n",
              "      <td>2021-02-01</td>\n",
              "      <td>155.866101</td>\n",
              "      <td>154.232785</td>\n",
              "      <td>157.265113</td>\n",
              "    </tr>\n",
              "  </tbody>\n",
              "</table>\n",
              "</div>"
            ],
            "text/plain": [
              "          ds        yhat  yhat_lower  yhat_upper\n",
              "0 2020-10-01  111.515410  109.938750  113.141782\n",
              "1 2020-11-01  123.850341  122.255220  125.469311\n",
              "2 2020-12-01  124.077159  122.450204  125.712294\n",
              "3 2021-01-01  137.087161  135.471188  138.758147\n",
              "4 2021-02-01  155.866101  154.232785  157.265113"
            ]
          },
          "execution_count": 88,
          "metadata": {},
          "output_type": "execute_result"
        }
      ],
      "source": [
        "final_forecast = m.predict(test_2)\n",
        "final_forecast[['ds', 'yhat', 'yhat_lower', 'yhat_upper']].head()"
      ]
    },
    {
      "cell_type": "code",
      "execution_count": 89,
      "metadata": {},
      "outputs": [
        {
          "data": {
            "text/html": [
              "<div>\n",
              "<style scoped>\n",
              "    .dataframe tbody tr th:only-of-type {\n",
              "        vertical-align: middle;\n",
              "    }\n",
              "\n",
              "    .dataframe tbody tr th {\n",
              "        vertical-align: top;\n",
              "    }\n",
              "\n",
              "    .dataframe thead th {\n",
              "        text-align: right;\n",
              "    }\n",
              "</style>\n",
              "<table border=\"1\" class=\"dataframe\">\n",
              "  <thead>\n",
              "    <tr style=\"text-align: right;\">\n",
              "      <th></th>\n",
              "      <th>ds</th>\n",
              "      <th>y</th>\n",
              "      <th>País</th>\n",
              "      <th>USD</th>\n",
              "      <th>yhat</th>\n",
              "    </tr>\n",
              "  </thead>\n",
              "  <tbody>\n",
              "    <tr>\n",
              "      <th>0</th>\n",
              "      <td>2020-10-01</td>\n",
              "      <td>113.9626</td>\n",
              "      <td>112.5502</td>\n",
              "      <td>5.625790</td>\n",
              "      <td>111.515410</td>\n",
              "    </tr>\n",
              "    <tr>\n",
              "      <th>1</th>\n",
              "      <td>2020-11-01</td>\n",
              "      <td>125.4194</td>\n",
              "      <td>124.6481</td>\n",
              "      <td>5.417835</td>\n",
              "      <td>123.850341</td>\n",
              "    </tr>\n",
              "    <tr>\n",
              "      <th>2</th>\n",
              "      <td>2020-12-01</td>\n",
              "      <td>122.7905</td>\n",
              "      <td>125.1981</td>\n",
              "      <td>5.145586</td>\n",
              "      <td>124.077159</td>\n",
              "    </tr>\n",
              "    <tr>\n",
              "      <th>3</th>\n",
              "      <td>2021-01-01</td>\n",
              "      <td>133.6717</td>\n",
              "      <td>134.9602</td>\n",
              "      <td>5.356245</td>\n",
              "      <td>137.087161</td>\n",
              "    </tr>\n",
              "    <tr>\n",
              "      <th>4</th>\n",
              "      <td>2021-02-01</td>\n",
              "      <td>152.5190</td>\n",
              "      <td>153.2923</td>\n",
              "      <td>5.416494</td>\n",
              "      <td>155.866101</td>\n",
              "    </tr>\n",
              "  </tbody>\n",
              "</table>\n",
              "</div>"
            ],
            "text/plain": [
              "          ds         y      País       USD        yhat\n",
              "0 2020-10-01  113.9626  112.5502  5.625790  111.515410\n",
              "1 2020-11-01  125.4194  124.6481  5.417835  123.850341\n",
              "2 2020-12-01  122.7905  125.1981  5.145586  124.077159\n",
              "3 2021-01-01  133.6717  134.9602  5.356245  137.087161\n",
              "4 2021-02-01  152.5190  153.2923  5.416494  155.866101"
            ]
          },
          "execution_count": 89,
          "metadata": {},
          "output_type": "execute_result"
        }
      ],
      "source": [
        "test_2.reset_index(inplace=True, drop=True)\n",
        "test_2['y'] = test['y']\n",
        "test_2.fillna(0, inplace=True)\n",
        "final_df = test_2[[\"ds\", \"y\", \"País\", \"USD\"]].copy()\n",
        "final_df['yhat'] = final_forecast['yhat']\n",
        "final_df.head()"
      ]
    },
    {
      "cell_type": "code",
      "execution_count": 90,
      "metadata": {},
      "outputs": [
        {
          "data": {
            "image/png": "[encoded data removed]",
            "text/plain": [
              "<Figure size 1000x500 with 1 Axes>"
            ]
          },
          "metadata": {},
          "output_type": "display_data"
        },
        {
          "name": "stdout",
          "output_type": "stream",
          "text": [
            "MAE: 36.677597255414604\n",
            "RMSE: 61.10736192553815\n",
            "MAPE: 1.5869311372212723e+17\n",
            "R-Squared: 0.4368683196522545\n"
          ]
        }
      ],
      "source": [
        "plot_predictions(test_dates, final_df.y, final_df.yhat)\n",
        "evaluate_model(final_df.y, final_df.yhat)"
      ]
    },
    {
      "cell_type": "code",
      "execution_count": 94,
      "metadata": {},
      "outputs": [],
      "source": [
        "final_df.to_csv('../../Algodâo/Algodao_Resultados.csv', sep=',', index=False)"
      ]
    }
  ],
  "metadata": {
    "colab": {
      "authorship_tag": "ABX9TyMJ63fOvvsRqdMNudenxD8L",
      "include_colab_link": true,
      "provenance": []
    },
    "kernelspec": {
      "display_name": "Python 3",
      "name": "python3"
    },
    "language_info": {
      "codemirror_mode": {
        "name": "ipython",
        "version": 3
      },
      "file_extension": ".py",
      "mimetype": "text/x-python",
      "name": "python",
      "nbconvert_exporter": "python",
      "pygments_lexer": "ipython3",
      "version": "3.12.5"
    }
  },
  "nbformat": 4,
  "nbformat_minor": 0
}
